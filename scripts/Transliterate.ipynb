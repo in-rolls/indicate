{
  "nbformat": 4,
  "nbformat_minor": 0,
  "metadata": {
    "colab": {
      "name": "Transliterate_v2.ipynb",
      "provenance": [],
      "collapsed_sections": [],
      "machine_shape": "hm"
    },
    "kernelspec": {
      "name": "python3",
      "display_name": "Python 3"
    },
    "language_info": {
      "name": "python"
    },
    "accelerator": "GPU"
  },
  "cells": [
    {
      "cell_type": "code",
      "metadata": {
        "id": "1T6_tQRr5LsU"
      },
      "source": [
        "import pandas as pd\n",
        "import numpy as np\n",
        "\n",
        "from keras.models import Model, load_model\n",
        "from keras.layers import Input, LSTM, Dense\n",
        "from keras.callbacks import EarlyStopping, ModelCheckpoint\n",
        "\n",
        "import tensorflow as tf\n",
        "import matplotlib.pyplot as plt"
      ],
      "execution_count": 1,
      "outputs": []
    },
    {
      "cell_type": "code",
      "metadata": {
        "colab": {
          "base_uri": "https://localhost:8080/"
        },
        "id": "Cy-GTRyQdjjj",
        "outputId": "a06ffc0d-731d-4982-ca53-7c22d8a7d707"
      },
      "source": [
        "%cd /content/drive/MyDrive/Colab/Transliterate/"
      ],
      "execution_count": 2,
      "outputs": [
        {
          "output_type": "stream",
          "name": "stdout",
          "text": [
            "/content/drive/MyDrive/Colab/Transliterate\n"
          ]
        }
      ]
    },
    {
      "cell_type": "code",
      "metadata": {
        "colab": {
          "base_uri": "https://localhost:8080/"
        },
        "id": "9SQgkSs5drK0",
        "outputId": "983abe87-4cea-4afd-d279-1e0395c3bb6a"
      },
      "source": [
        "%ls"
      ],
      "execution_count": 3,
      "outputs": [
        {
          "output_type": "stream",
          "name": "stdout",
          "text": [
            "affidavits.csv  model_plot_dec.png  model_v1.h5                    s2s.h5\n",
            "model.h5        model.png           players_with_hindi_names.json\n"
          ]
        }
      ]
    },
    {
      "cell_type": "markdown",
      "metadata": {
        "id": "h87l7bzjN4V0"
      },
      "source": [
        "# Preprocessing Data"
      ]
    },
    {
      "cell_type": "code",
      "metadata": {
        "id": "pAUukayNPVZY"
      },
      "source": [
        "affidavits_df = pd.read_csv('affidavits.csv')"
      ],
      "execution_count": 4,
      "outputs": []
    },
    {
      "cell_type": "code",
      "metadata": {
        "colab": {
          "base_uri": "https://localhost:8080/",
          "height": 615
        },
        "id": "A0ZOV5i6Pe_k",
        "outputId": "83bdfe65-5d69-4ce2-9e25-b0a8019d5f56"
      },
      "source": [
        "affidavits_df.head()"
      ],
      "execution_count": 5,
      "outputs": [
        {
          "output_type": "execute_result",
          "data": {
            "text/html": [
              "<div>\n",
              "<style scoped>\n",
              "    .dataframe tbody tr th:only-of-type {\n",
              "        vertical-align: middle;\n",
              "    }\n",
              "\n",
              "    .dataframe tbody tr th {\n",
              "        vertical-align: top;\n",
              "    }\n",
              "\n",
              "    .dataframe thead th {\n",
              "        text-align: right;\n",
              "    }\n",
              "</style>\n",
              "<table border=\"1\" class=\"dataframe\">\n",
              "  <thead>\n",
              "    <tr style=\"text-align: right;\">\n",
              "      <th></th>\n",
              "      <th>address</th>\n",
              "      <th>affidavit_filename_with_unique_id</th>\n",
              "      <th>age</th>\n",
              "      <th>application_uploaded</th>\n",
              "      <th>assembly_constituency</th>\n",
              "      <th>current_status</th>\n",
              "      <th>dropdown_value</th>\n",
              "      <th>fathers_or_husbands_name_english</th>\n",
              "      <th>fathers_or_husbands_name_hindi</th>\n",
              "      <th>name</th>\n",
              "      <th>name_english</th>\n",
              "      <th>name_hindi</th>\n",
              "      <th>party_name</th>\n",
              "      <th>photo_filename_with_unique_id</th>\n",
              "      <th>photo_url</th>\n",
              "      <th>state</th>\n",
              "      <th>unique_id</th>\n",
              "      <th>url</th>\n",
              "    </tr>\n",
              "  </thead>\n",
              "  <tbody>\n",
              "    <tr>\n",
              "      <th>0</th>\n",
              "      <td>O/5, BANKIM MUKHERJEE SARANI, DURGAPUR COLONY,...</td>\n",
              "      <td>NaN</td>\n",
              "      <td>57</td>\n",
              "      <td>7th April, 2021</td>\n",
              "      <td>Rashbehari</td>\n",
              "      <td>NaN</td>\n",
              "      <td>NaN</td>\n",
              "      <td>LATE SUBODH CHANDRA DAS</td>\n",
              "      <td>प्रयात सुबोध चन्द्र दास</td>\n",
              "      <td>SWAPAN DAS</td>\n",
              "      <td>SWAPAN DAS</td>\n",
              "      <td>स्वपन दास</td>\n",
              "      <td>Bahujan Mukti Party</td>\n",
              "      <td>NaN</td>\n",
              "      <td>NaN</td>\n",
              "      <td>West Bengal</td>\n",
              "      <td>1</td>\n",
              "      <td>NaN</td>\n",
              "    </tr>\n",
              "    <tr>\n",
              "      <th>1</th>\n",
              "      <td>F-301, PRANTIK PALLY, KOLKATA – 700042</td>\n",
              "      <td>NaN</td>\n",
              "      <td>41</td>\n",
              "      <td>7th April, 2021</td>\n",
              "      <td>Rashbehari</td>\n",
              "      <td>NaN</td>\n",
              "      <td>NaN</td>\n",
              "      <td>LATE PINAKI KUNDU</td>\n",
              "      <td>स्वर्गीय पिनाकि कुंडू</td>\n",
              "      <td>PREETAM KUNDU</td>\n",
              "      <td>PREETAM KUNDU</td>\n",
              "      <td>प्रीतम  कुंडू</td>\n",
              "      <td>Independent</td>\n",
              "      <td>NaN</td>\n",
              "      <td>NaN</td>\n",
              "      <td>West Bengal</td>\n",
              "      <td>2</td>\n",
              "      <td>NaN</td>\n",
              "    </tr>\n",
              "    <tr>\n",
              "      <th>2</th>\n",
              "      <td>Vill- Debidaspur, P.O.- Kankuria, P.S.- Samser...</td>\n",
              "      <td>NaN</td>\n",
              "      <td>60</td>\n",
              "      <td>26th April, 2021</td>\n",
              "      <td>Samserganj</td>\n",
              "      <td>NaN</td>\n",
              "      <td>NaN</td>\n",
              "      <td>Late Nur Mohammad Biswas</td>\n",
              "      <td>मृत नूर महम्मद बिश्वास</td>\n",
              "      <td>Zaidur Rahaman</td>\n",
              "      <td>Zaidur Rahaman</td>\n",
              "      <td>जैदुर रहमान</td>\n",
              "      <td>Indian National Congress</td>\n",
              "      <td>NaN</td>\n",
              "      <td>NaN</td>\n",
              "      <td>West Bengal</td>\n",
              "      <td>3</td>\n",
              "      <td>NaN</td>\n",
              "    </tr>\n",
              "    <tr>\n",
              "      <th>3</th>\n",
              "      <td>F-301, PRANTIK PALLY, KOLKATA – 700042</td>\n",
              "      <td>NaN</td>\n",
              "      <td>41</td>\n",
              "      <td>7th April, 2021</td>\n",
              "      <td>Rashbehari</td>\n",
              "      <td>NaN</td>\n",
              "      <td>NaN</td>\n",
              "      <td>LATE PINAKI KUNDU</td>\n",
              "      <td>स्वर्गीय पिनाकि कुंडू</td>\n",
              "      <td>PREETAM KUNDU</td>\n",
              "      <td>PREETAM KUNDU</td>\n",
              "      <td>प्रीतम  कुंडू</td>\n",
              "      <td>Independent</td>\n",
              "      <td>NaN</td>\n",
              "      <td>NaN</td>\n",
              "      <td>West Bengal</td>\n",
              "      <td>4</td>\n",
              "      <td>NaN</td>\n",
              "    </tr>\n",
              "    <tr>\n",
              "      <th>4</th>\n",
              "      <td>VILL-FULBARI, P.O-KAMLABARI, P.S-ENGLISH BAZAR...</td>\n",
              "      <td>NaN</td>\n",
              "      <td>42</td>\n",
              "      <td>6th April, 2021</td>\n",
              "      <td>Manikchak</td>\n",
              "      <td>NaN</td>\n",
              "      <td>NaN</td>\n",
              "      <td>LT. ALI MOHAMMAD</td>\n",
              "      <td>स्वर्गीय आली महममद</td>\n",
              "      <td>ALAM MOTTAKIN</td>\n",
              "      <td>ALAM MOTTAKIN</td>\n",
              "      <td>आलम मोत्ताकिन</td>\n",
              "      <td>Indian National Congress</td>\n",
              "      <td>NaN</td>\n",
              "      <td>NaN</td>\n",
              "      <td>West Bengal</td>\n",
              "      <td>5</td>\n",
              "      <td>NaN</td>\n",
              "    </tr>\n",
              "  </tbody>\n",
              "</table>\n",
              "</div>"
            ],
            "text/plain": [
              "                                             address  ...  url\n",
              "0  O/5, BANKIM MUKHERJEE SARANI, DURGAPUR COLONY,...  ...  NaN\n",
              "1             F-301, PRANTIK PALLY, KOLKATA – 700042  ...  NaN\n",
              "2  Vill- Debidaspur, P.O.- Kankuria, P.S.- Samser...  ...  NaN\n",
              "3             F-301, PRANTIK PALLY, KOLKATA – 700042  ...  NaN\n",
              "4  VILL-FULBARI, P.O-KAMLABARI, P.S-ENGLISH BAZAR...  ...  NaN\n",
              "\n",
              "[5 rows x 18 columns]"
            ]
          },
          "metadata": {},
          "execution_count": 5
        }
      ]
    },
    {
      "cell_type": "code",
      "metadata": {
        "id": "TnwMig87P1yV"
      },
      "source": [
        "af_df = affidavits_df[['fathers_or_husbands_name_hindi', 'fathers_or_husbands_name_english', 'name_hindi', 'name_english']]"
      ],
      "execution_count": 6,
      "outputs": []
    },
    {
      "cell_type": "code",
      "metadata": {
        "id": "XYj3W5R3bdii"
      },
      "source": [
        "# split and merge\n",
        "input_target_df = pd.concat([\n",
        "                    af_df[['fathers_or_husbands_name_hindi','fathers_or_husbands_name_english']].rename(columns={\"fathers_or_husbands_name_hindi\": \"hindi\", \"fathers_or_husbands_name_english\": \"english\"}), \n",
        "                    af_df[['name_hindi','name_english']].rename(columns={\"name_hindi\": \"hindi\", \"name_english\": \"english\"})\n",
        "                  ], ignore_index=True)"
      ],
      "execution_count": 7,
      "outputs": []
    },
    {
      "cell_type": "code",
      "metadata": {
        "colab": {
          "base_uri": "https://localhost:8080/",
          "height": 204
        },
        "id": "q6_4pn8Wbt-A",
        "outputId": "7c98d0dc-5e88-4fa2-89aa-4ec8e4b05aa0"
      },
      "source": [
        "input_target_df.head()"
      ],
      "execution_count": 8,
      "outputs": [
        {
          "output_type": "execute_result",
          "data": {
            "text/html": [
              "<div>\n",
              "<style scoped>\n",
              "    .dataframe tbody tr th:only-of-type {\n",
              "        vertical-align: middle;\n",
              "    }\n",
              "\n",
              "    .dataframe tbody tr th {\n",
              "        vertical-align: top;\n",
              "    }\n",
              "\n",
              "    .dataframe thead th {\n",
              "        text-align: right;\n",
              "    }\n",
              "</style>\n",
              "<table border=\"1\" class=\"dataframe\">\n",
              "  <thead>\n",
              "    <tr style=\"text-align: right;\">\n",
              "      <th></th>\n",
              "      <th>hindi</th>\n",
              "      <th>english</th>\n",
              "    </tr>\n",
              "  </thead>\n",
              "  <tbody>\n",
              "    <tr>\n",
              "      <th>0</th>\n",
              "      <td>प्रयात सुबोध चन्द्र दास</td>\n",
              "      <td>LATE SUBODH CHANDRA DAS</td>\n",
              "    </tr>\n",
              "    <tr>\n",
              "      <th>1</th>\n",
              "      <td>स्वर्गीय पिनाकि कुंडू</td>\n",
              "      <td>LATE PINAKI KUNDU</td>\n",
              "    </tr>\n",
              "    <tr>\n",
              "      <th>2</th>\n",
              "      <td>मृत नूर महम्मद बिश्वास</td>\n",
              "      <td>Late Nur Mohammad Biswas</td>\n",
              "    </tr>\n",
              "    <tr>\n",
              "      <th>3</th>\n",
              "      <td>स्वर्गीय पिनाकि कुंडू</td>\n",
              "      <td>LATE PINAKI KUNDU</td>\n",
              "    </tr>\n",
              "    <tr>\n",
              "      <th>4</th>\n",
              "      <td>स्वर्गीय आली महममद</td>\n",
              "      <td>LT. ALI MOHAMMAD</td>\n",
              "    </tr>\n",
              "  </tbody>\n",
              "</table>\n",
              "</div>"
            ],
            "text/plain": [
              "                     hindi                   english\n",
              "0  प्रयात सुबोध चन्द्र दास   LATE SUBODH CHANDRA DAS\n",
              "1    स्वर्गीय पिनाकि कुंडू         LATE PINAKI KUNDU\n",
              "2   मृत नूर महम्मद बिश्वास  Late Nur Mohammad Biswas\n",
              "3    स्वर्गीय पिनाकि कुंडू         LATE PINAKI KUNDU\n",
              "4       स्वर्गीय आली महममद          LT. ALI MOHAMMAD"
            ]
          },
          "metadata": {},
          "execution_count": 8
        }
      ]
    },
    {
      "cell_type": "code",
      "metadata": {
        "id": "QIlUaSeP54a0"
      },
      "source": [
        "cricket_df = pd.read_json('players_with_hindi_names.json')"
      ],
      "execution_count": 9,
      "outputs": []
    },
    {
      "cell_type": "code",
      "metadata": {
        "colab": {
          "base_uri": "https://localhost:8080/",
          "height": 204
        },
        "id": "-8AW_DdX5934",
        "outputId": "76a9499d-4f9e-4c68-f171-e46bd17a09bd"
      },
      "source": [
        "cricket_df.head()"
      ],
      "execution_count": 10,
      "outputs": [
        {
          "output_type": "execute_result",
          "data": {
            "text/html": [
              "<div>\n",
              "<style scoped>\n",
              "    .dataframe tbody tr th:only-of-type {\n",
              "        vertical-align: middle;\n",
              "    }\n",
              "\n",
              "    .dataframe tbody tr th {\n",
              "        vertical-align: top;\n",
              "    }\n",
              "\n",
              "    .dataframe thead th {\n",
              "        text-align: right;\n",
              "    }\n",
              "</style>\n",
              "<table border=\"1\" class=\"dataframe\">\n",
              "  <thead>\n",
              "    <tr style=\"text-align: right;\">\n",
              "      <th></th>\n",
              "      <th>id</th>\n",
              "      <th>hindi_name</th>\n",
              "      <th>hindi_long_name</th>\n",
              "      <th>english_name</th>\n",
              "      <th>gender</th>\n",
              "      <th>date_of_birth</th>\n",
              "      <th>country_id</th>\n",
              "      <th>slug</th>\n",
              "    </tr>\n",
              "  </thead>\n",
              "  <tbody>\n",
              "    <tr>\n",
              "      <th>0</th>\n",
              "      <td>90143</td>\n",
              "      <td>आर गुरबाज़</td>\n",
              "      <td>रहमानउल्लाह गुरबाज़</td>\n",
              "      <td>Rahmanullah Gurbaz</td>\n",
              "      <td>M</td>\n",
              "      <td>{'year': 2001, 'month': 11, 'date': 28}</td>\n",
              "      <td>40</td>\n",
              "      <td>rahmanullah-gurbaz</td>\n",
              "    </tr>\n",
              "    <tr>\n",
              "      <th>1</th>\n",
              "      <td>54018</td>\n",
              "      <td>एम रिज़वान</td>\n",
              "      <td>मोहम्मद रिज़वान</td>\n",
              "      <td>Mohammad Rizwan</td>\n",
              "      <td>M</td>\n",
              "      <td>{'year': 1992, 'month': 6, 'date': 1}</td>\n",
              "      <td>7</td>\n",
              "      <td>mohammad-rizwan</td>\n",
              "    </tr>\n",
              "    <tr>\n",
              "      <th>2</th>\n",
              "      <td>47686</td>\n",
              "      <td>एस मक़सूद</td>\n",
              "      <td>सोहेब मक़सूद</td>\n",
              "      <td>Sohaib Maqsood</td>\n",
              "      <td>M</td>\n",
              "      <td>{'year': 1987, 'month': 4, 'date': 15}</td>\n",
              "      <td>7</td>\n",
              "      <td>sohaib-maqsood</td>\n",
              "    </tr>\n",
              "    <tr>\n",
              "      <th>3</th>\n",
              "      <td>53649</td>\n",
              "      <td>आर आर रुसो</td>\n",
              "      <td>राइली रुसो</td>\n",
              "      <td>Rossouw, RR</td>\n",
              "      <td>M</td>\n",
              "      <td>{'year': 1989, 'month': 10, 'date': 9}</td>\n",
              "      <td>3</td>\n",
              "      <td>rilee-rossouw</td>\n",
              "    </tr>\n",
              "    <tr>\n",
              "      <th>4</th>\n",
              "      <td>72393</td>\n",
              "      <td>एस हेटमायर</td>\n",
              "      <td>शिमरॉन हेटमायर</td>\n",
              "      <td>Hetmyer, SO</td>\n",
              "      <td>M</td>\n",
              "      <td>{'year': 1996, 'month': 12, 'date': 26}</td>\n",
              "      <td>4</td>\n",
              "      <td>shimron-hetmyer</td>\n",
              "    </tr>\n",
              "  </tbody>\n",
              "</table>\n",
              "</div>"
            ],
            "text/plain": [
              "      id  hindi_name  ... country_id                slug\n",
              "0  90143  आर गुरबाज़  ...         40  rahmanullah-gurbaz\n",
              "1  54018  एम रिज़वान  ...          7     mohammad-rizwan\n",
              "2  47686   एस मक़सूद  ...          7      sohaib-maqsood\n",
              "3  53649  आर आर रुसो  ...          3       rilee-rossouw\n",
              "4  72393  एस हेटमायर  ...          4     shimron-hetmyer\n",
              "\n",
              "[5 rows x 8 columns]"
            ]
          },
          "metadata": {},
          "execution_count": 10
        }
      ]
    },
    {
      "cell_type": "code",
      "metadata": {
        "id": "Zyc762NtcILn"
      },
      "source": [
        "input_target_df = pd.concat([\n",
        "                             input_target_df, \n",
        "                             cricket_df[['hindi_long_name', 'english_name']].rename(columns={\"hindi_long_name\": \"hindi\", \"english_name\": \"english\"}) \n",
        "                             ], ignore_index=True)"
      ],
      "execution_count": 11,
      "outputs": []
    },
    {
      "cell_type": "code",
      "metadata": {
        "colab": {
          "base_uri": "https://localhost:8080/",
          "height": 204
        },
        "id": "c_rJ_vXPcpGE",
        "outputId": "8cb4e970-2f1a-44cc-d3c7-9d707d70645a"
      },
      "source": [
        "input_target_df.head()"
      ],
      "execution_count": 12,
      "outputs": [
        {
          "output_type": "execute_result",
          "data": {
            "text/html": [
              "<div>\n",
              "<style scoped>\n",
              "    .dataframe tbody tr th:only-of-type {\n",
              "        vertical-align: middle;\n",
              "    }\n",
              "\n",
              "    .dataframe tbody tr th {\n",
              "        vertical-align: top;\n",
              "    }\n",
              "\n",
              "    .dataframe thead th {\n",
              "        text-align: right;\n",
              "    }\n",
              "</style>\n",
              "<table border=\"1\" class=\"dataframe\">\n",
              "  <thead>\n",
              "    <tr style=\"text-align: right;\">\n",
              "      <th></th>\n",
              "      <th>hindi</th>\n",
              "      <th>english</th>\n",
              "    </tr>\n",
              "  </thead>\n",
              "  <tbody>\n",
              "    <tr>\n",
              "      <th>0</th>\n",
              "      <td>प्रयात सुबोध चन्द्र दास</td>\n",
              "      <td>LATE SUBODH CHANDRA DAS</td>\n",
              "    </tr>\n",
              "    <tr>\n",
              "      <th>1</th>\n",
              "      <td>स्वर्गीय पिनाकि कुंडू</td>\n",
              "      <td>LATE PINAKI KUNDU</td>\n",
              "    </tr>\n",
              "    <tr>\n",
              "      <th>2</th>\n",
              "      <td>मृत नूर महम्मद बिश्वास</td>\n",
              "      <td>Late Nur Mohammad Biswas</td>\n",
              "    </tr>\n",
              "    <tr>\n",
              "      <th>3</th>\n",
              "      <td>स्वर्गीय पिनाकि कुंडू</td>\n",
              "      <td>LATE PINAKI KUNDU</td>\n",
              "    </tr>\n",
              "    <tr>\n",
              "      <th>4</th>\n",
              "      <td>स्वर्गीय आली महममद</td>\n",
              "      <td>LT. ALI MOHAMMAD</td>\n",
              "    </tr>\n",
              "  </tbody>\n",
              "</table>\n",
              "</div>"
            ],
            "text/plain": [
              "                     hindi                   english\n",
              "0  प्रयात सुबोध चन्द्र दास   LATE SUBODH CHANDRA DAS\n",
              "1    स्वर्गीय पिनाकि कुंडू         LATE PINAKI KUNDU\n",
              "2   मृत नूर महम्मद बिश्वास  Late Nur Mohammad Biswas\n",
              "3    स्वर्गीय पिनाकि कुंडू         LATE PINAKI KUNDU\n",
              "4       स्वर्गीय आली महममद          LT. ALI MOHAMMAD"
            ]
          },
          "metadata": {},
          "execution_count": 12
        }
      ]
    },
    {
      "cell_type": "code",
      "metadata": {
        "colab": {
          "base_uri": "https://localhost:8080/"
        },
        "id": "oxaiXS4yc90U",
        "outputId": "c8480d0c-48ac-40d0-82b6-d22c218cd6b4"
      },
      "source": [
        "input_target_df.info()"
      ],
      "execution_count": 13,
      "outputs": [
        {
          "output_type": "stream",
          "name": "stdout",
          "text": [
            "<class 'pandas.core.frame.DataFrame'>\n",
            "RangeIndex: 33704 entries, 0 to 33703\n",
            "Data columns (total 2 columns):\n",
            " #   Column   Non-Null Count  Dtype \n",
            "---  ------   --------------  ----- \n",
            " 0   hindi    28523 non-null  object\n",
            " 1   english  33704 non-null  object\n",
            "dtypes: object(2)\n",
            "memory usage: 526.8+ KB\n"
          ]
        }
      ]
    },
    {
      "cell_type": "code",
      "metadata": {
        "id": "7WVfnG3RSDz0"
      },
      "source": [
        "input_target_df = input_target_df.dropna()"
      ],
      "execution_count": 14,
      "outputs": []
    },
    {
      "cell_type": "code",
      "metadata": {
        "colab": {
          "base_uri": "https://localhost:8080/"
        },
        "id": "rs0mMz4ndDCG",
        "outputId": "27944c6f-23d3-43fc-df6b-816977a5c2fa"
      },
      "source": [
        "input_target_df.info()"
      ],
      "execution_count": 15,
      "outputs": [
        {
          "output_type": "stream",
          "name": "stdout",
          "text": [
            "<class 'pandas.core.frame.DataFrame'>\n",
            "Int64Index: 28523 entries, 0 to 33703\n",
            "Data columns (total 2 columns):\n",
            " #   Column   Non-Null Count  Dtype \n",
            "---  ------   --------------  ----- \n",
            " 0   hindi    28523 non-null  object\n",
            " 1   english  28523 non-null  object\n",
            "dtypes: object(2)\n",
            "memory usage: 668.5+ KB\n"
          ]
        }
      ]
    },
    {
      "cell_type": "code",
      "metadata": {
        "id": "7gujOMDzS1O_"
      },
      "source": [
        "# strip and make lower case\n",
        "input_target_df['hindi'] = input_target_df['hindi'].str.strip() # hindi has no caps\n",
        "input_target_df['english'] = input_target_df['english'].str.strip().str.lower()"
      ],
      "execution_count": 16,
      "outputs": []
    },
    {
      "cell_type": "code",
      "metadata": {
        "colab": {
          "base_uri": "https://localhost:8080/",
          "height": 204
        },
        "id": "aJDDFPvhTv3e",
        "outputId": "c27bb995-dd71-49ab-a6cb-35e4a6d40fe5"
      },
      "source": [
        "input_target_df.head()"
      ],
      "execution_count": 17,
      "outputs": [
        {
          "output_type": "execute_result",
          "data": {
            "text/html": [
              "<div>\n",
              "<style scoped>\n",
              "    .dataframe tbody tr th:only-of-type {\n",
              "        vertical-align: middle;\n",
              "    }\n",
              "\n",
              "    .dataframe tbody tr th {\n",
              "        vertical-align: top;\n",
              "    }\n",
              "\n",
              "    .dataframe thead th {\n",
              "        text-align: right;\n",
              "    }\n",
              "</style>\n",
              "<table border=\"1\" class=\"dataframe\">\n",
              "  <thead>\n",
              "    <tr style=\"text-align: right;\">\n",
              "      <th></th>\n",
              "      <th>hindi</th>\n",
              "      <th>english</th>\n",
              "    </tr>\n",
              "  </thead>\n",
              "  <tbody>\n",
              "    <tr>\n",
              "      <th>0</th>\n",
              "      <td>प्रयात सुबोध चन्द्र दास</td>\n",
              "      <td>late subodh chandra das</td>\n",
              "    </tr>\n",
              "    <tr>\n",
              "      <th>1</th>\n",
              "      <td>स्वर्गीय पिनाकि कुंडू</td>\n",
              "      <td>late pinaki kundu</td>\n",
              "    </tr>\n",
              "    <tr>\n",
              "      <th>2</th>\n",
              "      <td>मृत नूर महम्मद बिश्वास</td>\n",
              "      <td>late nur mohammad biswas</td>\n",
              "    </tr>\n",
              "    <tr>\n",
              "      <th>3</th>\n",
              "      <td>स्वर्गीय पिनाकि कुंडू</td>\n",
              "      <td>late pinaki kundu</td>\n",
              "    </tr>\n",
              "    <tr>\n",
              "      <th>4</th>\n",
              "      <td>स्वर्गीय आली महममद</td>\n",
              "      <td>lt. ali mohammad</td>\n",
              "    </tr>\n",
              "  </tbody>\n",
              "</table>\n",
              "</div>"
            ],
            "text/plain": [
              "                     hindi                   english\n",
              "0  प्रयात सुबोध चन्द्र दास   late subodh chandra das\n",
              "1    स्वर्गीय पिनाकि कुंडू         late pinaki kundu\n",
              "2   मृत नूर महम्मद बिश्वास  late nur mohammad biswas\n",
              "3    स्वर्गीय पिनाकि कुंडू         late pinaki kundu\n",
              "4       स्वर्गीय आली महममद          lt. ali mohammad"
            ]
          },
          "metadata": {},
          "execution_count": 17
        }
      ]
    },
    {
      "cell_type": "code",
      "metadata": {
        "id": "tUmbiLe8T7rk"
      },
      "source": [
        "# Strip out any abbreviated names\n",
        "input_target_df = input_target_df[~input_target_df['english'].str.contains('\\.')]\n",
        "input_target_df = input_target_df[~input_target_df['english'].str.contains(',')]"
      ],
      "execution_count": 18,
      "outputs": []
    },
    {
      "cell_type": "code",
      "metadata": {
        "colab": {
          "base_uri": "https://localhost:8080/"
        },
        "id": "GRkMX8QcVbKg",
        "outputId": "916ab526-0abf-47b5-c157-aa31f0e08a5b"
      },
      "source": [
        "input_target_df.info()"
      ],
      "execution_count": 19,
      "outputs": [
        {
          "output_type": "stream",
          "name": "stdout",
          "text": [
            "<class 'pandas.core.frame.DataFrame'>\n",
            "Int64Index: 19697 entries, 0 to 33703\n",
            "Data columns (total 2 columns):\n",
            " #   Column   Non-Null Count  Dtype \n",
            "---  ------   --------------  ----- \n",
            " 0   hindi    19697 non-null  object\n",
            " 1   english  19697 non-null  object\n",
            "dtypes: object(2)\n",
            "memory usage: 461.6+ KB\n"
          ]
        }
      ]
    },
    {
      "cell_type": "code",
      "metadata": {
        "id": "dyzG08H1Z3Ch"
      },
      "source": [
        "# drop duplicates\n",
        "input_target_df = input_target_df.drop_duplicates()"
      ],
      "execution_count": 20,
      "outputs": []
    },
    {
      "cell_type": "code",
      "metadata": {
        "colab": {
          "base_uri": "https://localhost:8080/"
        },
        "id": "52H8_u4maYM2",
        "outputId": "6c14caa9-c634-44f5-d3fa-4c8eabf7343b"
      },
      "source": [
        "input_target_df.info()"
      ],
      "execution_count": 21,
      "outputs": [
        {
          "output_type": "stream",
          "name": "stdout",
          "text": [
            "<class 'pandas.core.frame.DataFrame'>\n",
            "Int64Index: 11745 entries, 0 to 33677\n",
            "Data columns (total 2 columns):\n",
            " #   Column   Non-Null Count  Dtype \n",
            "---  ------   --------------  ----- \n",
            " 0   hindi    11745 non-null  object\n",
            " 1   english  11745 non-null  object\n",
            "dtypes: object(2)\n",
            "memory usage: 275.3+ KB\n"
          ]
        }
      ]
    },
    {
      "cell_type": "code",
      "metadata": {
        "id": "DnQHxhVye07D"
      },
      "source": [
        "# Remove if target has non-english \n",
        "def isEnglish(s):\n",
        "  try:\n",
        "      s.encode(encoding='utf-8').decode('ascii')\n",
        "  except UnicodeDecodeError:\n",
        "      return False\n",
        "  else:\n",
        "      return True\n",
        "\n",
        "input_target_df = input_target_df[input_target_df['english'].apply(isEnglish)]"
      ],
      "execution_count": 22,
      "outputs": []
    },
    {
      "cell_type": "code",
      "metadata": {
        "colab": {
          "base_uri": "https://localhost:8080/"
        },
        "id": "sEGVeRyrgJJc",
        "outputId": "93997b1a-0659-4a4e-8952-8d2e169a62ae"
      },
      "source": [
        "input_target_df.info()"
      ],
      "execution_count": 23,
      "outputs": [
        {
          "output_type": "stream",
          "name": "stdout",
          "text": [
            "<class 'pandas.core.frame.DataFrame'>\n",
            "Int64Index: 11692 entries, 0 to 33677\n",
            "Data columns (total 2 columns):\n",
            " #   Column   Non-Null Count  Dtype \n",
            "---  ------   --------------  ----- \n",
            " 0   hindi    11692 non-null  object\n",
            " 1   english  11692 non-null  object\n",
            "dtypes: object(2)\n",
            "memory usage: 274.0+ KB\n"
          ]
        }
      ]
    },
    {
      "cell_type": "code",
      "metadata": {
        "id": "AahQxw3J5_ax"
      },
      "source": [
        "input_words =  input_target_df['hindi'].tolist()\n",
        "target_words =  input_target_df['english'].tolist()"
      ],
      "execution_count": 24,
      "outputs": []
    },
    {
      "cell_type": "code",
      "metadata": {
        "colab": {
          "base_uri": "https://localhost:8080/"
        },
        "id": "lpsCJ3kv7LkA",
        "outputId": "5f2e1c6b-a96c-43e8-e064-42eb183ff623"
      },
      "source": [
        "print(input_words[0])\n",
        "print(target_words[0])"
      ],
      "execution_count": 25,
      "outputs": [
        {
          "output_type": "stream",
          "name": "stdout",
          "text": [
            "प्रयात सुबोध चन्द्र दास\n",
            "late subodh chandra das\n"
          ]
        }
      ]
    },
    {
      "cell_type": "code",
      "metadata": {
        "colab": {
          "base_uri": "https://localhost:8080/"
        },
        "id": "X3pGuZOyQ1D2",
        "outputId": "a6a32bdd-43c0-4efe-eb27-22fc48945a38"
      },
      "source": [
        "print(f\"Total number of input words {len(input_words)}\")\n",
        "print(f\"Total number of target words {len(target_words)}\")"
      ],
      "execution_count": 26,
      "outputs": [
        {
          "output_type": "stream",
          "name": "stdout",
          "text": [
            "Total number of input words 11692\n",
            "Total number of target words 11692\n"
          ]
        }
      ]
    },
    {
      "cell_type": "code",
      "metadata": {
        "id": "U5Trw_fmOLi7"
      },
      "source": [
        "def build_vocab(input_words, target_words):\n",
        "  input_vocab = set()\n",
        "  target_vocab = set()\n",
        "  for input_word, target_word in zip(input_words, target_words):\n",
        "      input_vocab.update(set(input_word))\n",
        "      target_vocab.update(set(target_word))\n",
        "  return input_vocab, target_vocab"
      ],
      "execution_count": 27,
      "outputs": []
    },
    {
      "cell_type": "code",
      "metadata": {
        "id": "RlgD8jM0OsHG"
      },
      "source": [
        "input_vocab, target_vocab = build_vocab(input_words, target_words)"
      ],
      "execution_count": 28,
      "outputs": []
    },
    {
      "cell_type": "code",
      "metadata": {
        "id": "I691nnPlhGDE"
      },
      "source": [
        "# append start of word (^) and end of word tokens ($)\n",
        "target_vocab.add('^')\n",
        "target_vocab.add('$')"
      ],
      "execution_count": 29,
      "outputs": []
    },
    {
      "cell_type": "code",
      "metadata": {
        "colab": {
          "base_uri": "https://localhost:8080/"
        },
        "id": "W_wQMLvrOyu_",
        "outputId": "abdb2eea-3ec4-45b8-ca25-a7e06a9e1694"
      },
      "source": [
        "print(f\"Total hindi characters {len(input_vocab)}\")\n",
        "print(f\"Total english characters {len(target_vocab)}\")"
      ],
      "execution_count": 30,
      "outputs": [
        {
          "output_type": "stream",
          "name": "stdout",
          "text": [
            "Total hindi characters 185\n",
            "Total english characters 35\n"
          ]
        }
      ]
    },
    {
      "cell_type": "code",
      "metadata": {
        "id": "ztVnKKGsYlFK"
      },
      "source": [
        "input_vocab = sorted(list(input_vocab))\n",
        "target_vocab = sorted(list(target_vocab))"
      ],
      "execution_count": 31,
      "outputs": []
    },
    {
      "cell_type": "code",
      "metadata": {
        "id": "fbJSDwkvXvQp"
      },
      "source": [
        "input_token_index = dict([(char, i) for i, char in enumerate(input_vocab)])\n",
        "target_token_index = dict([(char, i) for i, char in enumerate(target_vocab)])"
      ],
      "execution_count": 32,
      "outputs": []
    },
    {
      "cell_type": "code",
      "metadata": {
        "id": "-dxT9ms4YG1y"
      },
      "source": [
        "num_encoder_tokens = len(input_vocab)\n",
        "num_decoder_tokens = len(target_vocab)"
      ],
      "execution_count": 33,
      "outputs": []
    },
    {
      "cell_type": "code",
      "metadata": {
        "id": "DZguL8LRY8Bl"
      },
      "source": [
        "max_encoder_seq_length = max([len(txt) for txt in input_words])\n",
        "max_decoder_seq_length = max([len(txt) for txt in target_words])\n",
        "# for start & end of the word\n",
        "max_decoder_seq_length += 1"
      ],
      "execution_count": 34,
      "outputs": []
    },
    {
      "cell_type": "code",
      "metadata": {
        "colab": {
          "base_uri": "https://localhost:8080/"
        },
        "id": "HZLsjCHrZGuP",
        "outputId": "f859235a-61a6-4f9c-b83d-5041db4edc3e"
      },
      "source": [
        "print('Number of samples:', len(input_words))\n",
        "print('Number of unique input tokens:', num_encoder_tokens)\n",
        "print('Number of unique output tokens:', num_decoder_tokens)\n",
        "print('Max sequence length for inputs:', max_encoder_seq_length)\n",
        "print('Max sequence length for outputs:', max_decoder_seq_length)"
      ],
      "execution_count": 35,
      "outputs": [
        {
          "output_type": "stream",
          "name": "stdout",
          "text": [
            "Number of samples: 11692\n",
            "Number of unique input tokens: 185\n",
            "Number of unique output tokens: 35\n",
            "Max sequence length for inputs: 47\n",
            "Max sequence length for outputs: 48\n"
          ]
        }
      ]
    },
    {
      "cell_type": "code",
      "metadata": {
        "id": "nbXBdUGOZO3_"
      },
      "source": [
        "encoder_input_data = np.zeros((len(input_words), max_encoder_seq_length, num_encoder_tokens), dtype='float32')\n",
        "decoder_input_data = np.zeros((len(input_words), max_decoder_seq_length, num_decoder_tokens), dtype='float32')\n",
        "decoder_target_data = np.zeros( (len(input_words), max_decoder_seq_length, num_decoder_tokens), dtype='float32')"
      ],
      "execution_count": 36,
      "outputs": []
    },
    {
      "cell_type": "code",
      "metadata": {
        "colab": {
          "base_uri": "https://localhost:8080/"
        },
        "id": "HO9DgOJOZgpe",
        "outputId": "ed117730-f8d3-4a04-d36d-0d22085a648a"
      },
      "source": [
        "print(f\"encoder input shape {encoder_input_data.shape}\")\n",
        "print(f\"decoder input shape {decoder_input_data.shape}\")\n",
        "print(f\"decoder target shape {decoder_target_data.shape}\")"
      ],
      "execution_count": 37,
      "outputs": [
        {
          "output_type": "stream",
          "name": "stdout",
          "text": [
            "encoder input shape (11692, 47, 185)\n",
            "decoder input shape (11692, 48, 35)\n",
            "decoder target shape (11692, 48, 35)\n"
          ]
        }
      ]
    },
    {
      "cell_type": "code",
      "metadata": {
        "id": "9KGNey6fZ05q"
      },
      "source": [
        "for i, (input_text, target_text) in enumerate(zip(input_words, target_words)):\n",
        "  for t, char in enumerate(input_text):\n",
        "    encoder_input_data[i, t, input_token_index[char]] = 1.0\n",
        "\n",
        "  target_text_w_sow = '^' + target_text \n",
        "  for t, char in enumerate(target_text_w_sow):\n",
        "    decoder_input_data[i, t, target_token_index[char]] = 1.0\n",
        "\n",
        "  target_text_w_eow = target_text + '$'\n",
        "  for t, char in enumerate(target_text_w_eow):\n",
        "    decoder_target_data[i, t, target_token_index[char]] = 1.0"
      ],
      "execution_count": 38,
      "outputs": []
    },
    {
      "cell_type": "markdown",
      "metadata": {
        "id": "0CZd0uprOC5u"
      },
      "source": [
        "# Define Model"
      ]
    },
    {
      "cell_type": "code",
      "metadata": {
        "id": "0F1B0ezJcehK"
      },
      "source": [
        "latent_dim = 256  # Latent dimensionality of the encoding space.\n",
        "\n",
        "# Define an input sequence and process it.\n",
        "encoder_inputs = Input(shape=(None, num_encoder_tokens))\n",
        "encoder = LSTM(latent_dim, return_state=True)\n",
        "encoder_outputs, state_h, state_c = encoder(encoder_inputs)"
      ],
      "execution_count": 39,
      "outputs": []
    },
    {
      "cell_type": "code",
      "metadata": {
        "id": "5HwwbMh4ePUh"
      },
      "source": [
        "# We discard `encoder_outputs` and only keep the states.\n",
        "encoder_states = [state_h, state_c]"
      ],
      "execution_count": 40,
      "outputs": []
    },
    {
      "cell_type": "code",
      "metadata": {
        "id": "lU1nJGWEeSRT"
      },
      "source": [
        "# Set up the decoder, using `encoder_states` as initial state.\n",
        "decoder_inputs = Input(shape=(None, num_decoder_tokens))"
      ],
      "execution_count": 41,
      "outputs": []
    },
    {
      "cell_type": "code",
      "metadata": {
        "id": "D4g-jGmUeeL4"
      },
      "source": [
        "# We set up our decoder to return full output sequences,\n",
        "# and to return internal states as well. We don't use the\n",
        "# return states in the training model, but we will use them in inference.\n",
        "decoder_lstm = LSTM(latent_dim, return_sequences=True, return_state=True)\n",
        "decoder_outputs, _, _ = decoder_lstm(decoder_inputs, initial_state=encoder_states)\n",
        "decoder_dense = Dense(num_decoder_tokens, activation='softmax')\n",
        "decoder_outputs = decoder_dense(decoder_outputs)"
      ],
      "execution_count": 42,
      "outputs": []
    },
    {
      "cell_type": "code",
      "metadata": {
        "id": "voLTGIiBeyKO"
      },
      "source": [
        "# Define the model that will turn\n",
        "# `encoder_input_data` & `decoder_input_data` into `decoder_target_data`\n",
        "model = Model([encoder_inputs, decoder_inputs], decoder_outputs)"
      ],
      "execution_count": 43,
      "outputs": []
    },
    {
      "cell_type": "code",
      "metadata": {
        "colab": {
          "base_uri": "https://localhost:8080/"
        },
        "id": "iShaSKTZYbxl",
        "outputId": "557cf91c-1f5a-4df2-d132-3a844b345fb9"
      },
      "source": [
        "model.summary()"
      ],
      "execution_count": 44,
      "outputs": [
        {
          "output_type": "stream",
          "name": "stdout",
          "text": [
            "Model: \"model\"\n",
            "__________________________________________________________________________________________________\n",
            "Layer (type)                    Output Shape         Param #     Connected to                     \n",
            "==================================================================================================\n",
            "input_1 (InputLayer)            [(None, None, 185)]  0                                            \n",
            "__________________________________________________________________________________________________\n",
            "input_2 (InputLayer)            [(None, None, 35)]   0                                            \n",
            "__________________________________________________________________________________________________\n",
            "lstm (LSTM)                     [(None, 256), (None, 452608      input_1[0][0]                    \n",
            "__________________________________________________________________________________________________\n",
            "lstm_1 (LSTM)                   [(None, None, 256),  299008      input_2[0][0]                    \n",
            "                                                                 lstm[0][1]                       \n",
            "                                                                 lstm[0][2]                       \n",
            "__________________________________________________________________________________________________\n",
            "dense (Dense)                   (None, None, 35)     8995        lstm_1[0][0]                     \n",
            "==================================================================================================\n",
            "Total params: 760,611\n",
            "Trainable params: 760,611\n",
            "Non-trainable params: 0\n",
            "__________________________________________________________________________________________________\n"
          ]
        }
      ]
    },
    {
      "cell_type": "code",
      "metadata": {
        "colab": {
          "base_uri": "https://localhost:8080/",
          "height": 422
        },
        "id": "mfGcinDOYqKl",
        "outputId": "ee667523-ec43-4a5c-d9fd-f481a8dc9abb"
      },
      "source": [
        "tf.keras.utils.plot_model(model, show_shapes=True, show_layer_names=True)"
      ],
      "execution_count": 45,
      "outputs": [
        {
          "output_type": "execute_result",
          "data": {
            "image/png": "[encoded data removed]",
            "text/plain": [
              "<IPython.core.display.Image object>"
            ]
          },
          "metadata": {},
          "execution_count": 45
        }
      ]
    },
    {
      "cell_type": "markdown",
      "metadata": {
        "id": "eMp54YzsOKwn"
      },
      "source": [
        "# Train"
      ]
    },
    {
      "cell_type": "code",
      "metadata": {
        "colab": {
          "base_uri": "https://localhost:8080/"
        },
        "id": "CbARhubxe2yA",
        "outputId": "c4484fb2-c3e7-4eb9-8ccb-77224fc7d7c5"
      },
      "source": [
        "# Training\n",
        "batch_size = 32  # Batch size for training.\n",
        "epochs = 500  # Number of epochs to train for.\n",
        "initial_learning_rate = 0.001\n",
        "\n",
        "# Add callbacks:\n",
        "# 'EarlyStopping' to stop training when the model is not enhancing anymore\n",
        "# 'ModelCheckPoint' to always keep the model that has the best val_accuracy\n",
        "model_save_filename = \"model.h5\"\n",
        "\n",
        "model.compile(\n",
        "    optimizer=tf.keras.optimizers.RMSprop(learning_rate=initial_learning_rate), \n",
        "    loss='categorical_crossentropy', \n",
        "    metrics=['accuracy'])\n",
        "\n",
        "\n",
        "decay = initial_learning_rate / epochs\n",
        "def lr_time_based_decay(epoch, lr):\n",
        "    return lr * 1 / (1 + decay * epoch)\n",
        "\n",
        "earlystopping_cb = EarlyStopping(\n",
        "    monitor=\"val_accuracy\",\n",
        "    mode=\"max\",\n",
        "    verbose=1,\n",
        "    patience=50, \n",
        "    restore_best_weights=True)\n",
        "\n",
        "mdlcheckpoint_cb = ModelCheckpoint(\n",
        "    model_save_filename, \n",
        "    monitor=\"val_accuracy\", \n",
        "    mode=\"max\",\n",
        "    verbose=1,\n",
        "    save_best_only=True\n",
        ")\n",
        "lrscheduler_cb = tf.keras.callbacks.LearningRateScheduler(lr_time_based_decay)\n",
        "\n",
        "history = model.fit([encoder_input_data, decoder_input_data], decoder_target_data,\n",
        "          batch_size=batch_size, epochs=epochs,  validation_split=0.2, \n",
        "          callbacks=[earlystopping_cb, mdlcheckpoint_cb, lrscheduler_cb])"
      ],
      "execution_count": 46,
      "outputs": [
        {
          "output_type": "stream",
          "name": "stdout",
          "text": [
            "Epoch 1/500\n",
            "293/293 [==============================] - 7s 15ms/step - loss: 0.8852 - accuracy: 0.0588 - val_loss: 0.9014 - val_accuracy: 0.0583\n",
            "\n",
            "Epoch 00001: val_accuracy improved from -inf to 0.05830, saving model to model.h5\n",
            "Epoch 2/500\n",
            "293/293 [==============================] - 3s 12ms/step - loss: 0.8413 - accuracy: 0.0681 - val_loss: 0.8407 - val_accuracy: 0.0702\n",
            "\n",
            "Epoch 00002: val_accuracy improved from 0.05830 to 0.07016, saving model to model.h5\n",
            "Epoch 3/500\n",
            "293/293 [==============================] - 4s 12ms/step - loss: 0.8063 - accuracy: 0.0746 - val_loss: 0.8169 - val_accuracy: 0.0724\n",
            "\n",
            "Epoch 00003: val_accuracy improved from 0.07016 to 0.07239, saving model to model.h5\n",
            "Epoch 4/500\n",
            "293/293 [==============================] - 3s 12ms/step - loss: 0.7837 - accuracy: 0.0789 - val_loss: 0.8001 - val_accuracy: 0.0767\n",
            "\n",
            "Epoch 00004: val_accuracy improved from 0.07239 to 0.07665, saving model to model.h5\n",
            "Epoch 5/500\n",
            "293/293 [==============================] - 3s 12ms/step - loss: 0.7661 - accuracy: 0.0824 - val_loss: 0.7927 - val_accuracy: 0.0773\n",
            "\n",
            "Epoch 00005: val_accuracy improved from 0.07665 to 0.07729, saving model to model.h5\n",
            "Epoch 6/500\n",
            "293/293 [==============================] - 3s 12ms/step - loss: 0.7555 - accuracy: 0.0854 - val_loss: 0.7624 - val_accuracy: 0.0857\n",
            "\n",
            "Epoch 00006: val_accuracy improved from 0.07729 to 0.08573, saving model to model.h5\n",
            "Epoch 7/500\n",
            "293/293 [==============================] - 3s 12ms/step - loss: 0.7402 - accuracy: 0.0890 - val_loss: 0.7806 - val_accuracy: 0.0832\n",
            "\n",
            "Epoch 00007: val_accuracy did not improve from 0.08573\n",
            "Epoch 8/500\n",
            "293/293 [==============================] - 3s 12ms/step - loss: 0.7268 - accuracy: 0.0921 - val_loss: 0.7554 - val_accuracy: 0.0888\n",
            "\n",
            "Epoch 00008: val_accuracy improved from 0.08573 to 0.08885, saving model to model.h5\n",
            "Epoch 9/500\n",
            "293/293 [==============================] - 3s 12ms/step - loss: 0.7151 - accuracy: 0.0956 - val_loss: 0.7971 - val_accuracy: 0.0791\n",
            "\n",
            "Epoch 00009: val_accuracy did not improve from 0.08885\n",
            "Epoch 10/500\n",
            "293/293 [==============================] - 3s 12ms/step - loss: 0.7077 - accuracy: 0.0975 - val_loss: 0.7380 - val_accuracy: 0.0946\n",
            "\n",
            "Epoch 00010: val_accuracy improved from 0.08885 to 0.09463, saving model to model.h5\n",
            "Epoch 11/500\n",
            "293/293 [==============================] - 3s 12ms/step - loss: 0.6963 - accuracy: 0.1005 - val_loss: 0.7482 - val_accuracy: 0.0915\n",
            "\n",
            "Epoch 00011: val_accuracy did not improve from 0.09463\n",
            "Epoch 12/500\n",
            "293/293 [==============================] - 3s 12ms/step - loss: 0.6835 - accuracy: 0.1051 - val_loss: 0.7131 - val_accuracy: 0.0997\n",
            "\n",
            "Epoch 00012: val_accuracy improved from 0.09463 to 0.09970, saving model to model.h5\n",
            "Epoch 13/500\n",
            "293/293 [==============================] - 3s 12ms/step - loss: 0.6659 - accuracy: 0.1101 - val_loss: 0.7284 - val_accuracy: 0.0984\n",
            "\n",
            "Epoch 00013: val_accuracy did not improve from 0.09970\n",
            "Epoch 14/500\n",
            "293/293 [==============================] - 3s 12ms/step - loss: 0.6492 - accuracy: 0.1157 - val_loss: 0.6742 - val_accuracy: 0.1131\n",
            "\n",
            "Epoch 00014: val_accuracy improved from 0.09970 to 0.11314, saving model to model.h5\n",
            "Epoch 15/500\n",
            "293/293 [==============================] - 3s 12ms/step - loss: 0.6346 - accuracy: 0.1205 - val_loss: 0.6887 - val_accuracy: 0.1118\n",
            "\n",
            "Epoch 00015: val_accuracy did not improve from 0.11314\n",
            "Epoch 16/500\n",
            "293/293 [==============================] - 3s 12ms/step - loss: 0.6187 - accuracy: 0.1259 - val_loss: 0.6518 - val_accuracy: 0.1208\n",
            "\n",
            "Epoch 00016: val_accuracy improved from 0.11314 to 0.12075, saving model to model.h5\n",
            "Epoch 17/500\n",
            "293/293 [==============================] - 3s 12ms/step - loss: 0.6021 - accuracy: 0.1311 - val_loss: 0.6380 - val_accuracy: 0.1256\n",
            "\n",
            "Epoch 00017: val_accuracy improved from 0.12075 to 0.12560, saving model to model.h5\n",
            "Epoch 18/500\n",
            "293/293 [==============================] - 3s 12ms/step - loss: 0.5848 - accuracy: 0.1364 - val_loss: 0.6561 - val_accuracy: 0.1211\n",
            "\n",
            "Epoch 00018: val_accuracy did not improve from 0.12560\n",
            "Epoch 19/500\n",
            "293/293 [==============================] - 3s 12ms/step - loss: 0.5689 - accuracy: 0.1419 - val_loss: 0.6199 - val_accuracy: 0.1316\n",
            "\n",
            "Epoch 00019: val_accuracy improved from 0.12560 to 0.13156, saving model to model.h5\n",
            "Epoch 20/500\n",
            "293/293 [==============================] - 3s 12ms/step - loss: 0.5530 - accuracy: 0.1472 - val_loss: 0.6037 - val_accuracy: 0.1351\n",
            "\n",
            "Epoch 00020: val_accuracy improved from 0.13156 to 0.13514, saving model to model.h5\n",
            "Epoch 21/500\n",
            "293/293 [==============================] - 3s 12ms/step - loss: 0.5423 - accuracy: 0.1506 - val_loss: 0.5821 - val_accuracy: 0.1419\n",
            "\n",
            "Epoch 00021: val_accuracy improved from 0.13514 to 0.14190, saving model to model.h5\n",
            "Epoch 22/500\n",
            "293/293 [==============================] - 3s 12ms/step - loss: 0.5283 - accuracy: 0.1550 - val_loss: 0.5831 - val_accuracy: 0.1415\n",
            "\n",
            "Epoch 00022: val_accuracy did not improve from 0.14190\n",
            "Epoch 23/500\n",
            "293/293 [==============================] - 3s 12ms/step - loss: 0.5164 - accuracy: 0.1586 - val_loss: 0.5732 - val_accuracy: 0.1470\n",
            "\n",
            "Epoch 00023: val_accuracy improved from 0.14190 to 0.14700, saving model to model.h5\n",
            "Epoch 24/500\n",
            "293/293 [==============================] - 3s 12ms/step - loss: 0.5030 - accuracy: 0.1632 - val_loss: 0.5580 - val_accuracy: 0.1510\n",
            "\n",
            "Epoch 00024: val_accuracy improved from 0.14700 to 0.15101, saving model to model.h5\n",
            "Epoch 25/500\n",
            "293/293 [==============================] - 3s 12ms/step - loss: 0.4952 - accuracy: 0.1655 - val_loss: 0.5644 - val_accuracy: 0.1474\n",
            "\n",
            "Epoch 00025: val_accuracy did not improve from 0.15101\n",
            "Epoch 26/500\n",
            "293/293 [==============================] - 3s 12ms/step - loss: 0.4813 - accuracy: 0.1701 - val_loss: 0.5456 - val_accuracy: 0.1541\n",
            "\n",
            "Epoch 00026: val_accuracy improved from 0.15101 to 0.15410, saving model to model.h5\n",
            "Epoch 27/500\n",
            "293/293 [==============================] - 3s 12ms/step - loss: 0.4714 - accuracy: 0.1729 - val_loss: 0.5542 - val_accuracy: 0.1543\n",
            "\n",
            "Epoch 00027: val_accuracy improved from 0.15410 to 0.15433, saving model to model.h5\n",
            "Epoch 28/500\n",
            "293/293 [==============================] - 3s 12ms/step - loss: 0.4636 - accuracy: 0.1752 - val_loss: 0.5254 - val_accuracy: 0.1611\n",
            "\n",
            "Epoch 00028: val_accuracy improved from 0.15433 to 0.16110, saving model to model.h5\n",
            "Epoch 29/500\n",
            "293/293 [==============================] - 3s 12ms/step - loss: 0.4527 - accuracy: 0.1790 - val_loss: 0.5997 - val_accuracy: 0.1430\n",
            "\n",
            "Epoch 00029: val_accuracy did not improve from 0.16110\n",
            "Epoch 30/500\n",
            "293/293 [==============================] - 3s 12ms/step - loss: 0.4461 - accuracy: 0.1812 - val_loss: 0.4998 - val_accuracy: 0.1692\n",
            "\n",
            "Epoch 00030: val_accuracy improved from 0.16110 to 0.16918, saving model to model.h5\n",
            "Epoch 31/500\n",
            "293/293 [==============================] - 4s 12ms/step - loss: 0.4349 - accuracy: 0.1845 - val_loss: 0.4886 - val_accuracy: 0.1722\n",
            "\n",
            "Epoch 00031: val_accuracy improved from 0.16918 to 0.17221, saving model to model.h5\n",
            "Epoch 32/500\n",
            "293/293 [==============================] - 3s 12ms/step - loss: 0.4291 - accuracy: 0.1866 - val_loss: 0.5002 - val_accuracy: 0.1694\n",
            "\n",
            "Epoch 00032: val_accuracy did not improve from 0.17221\n",
            "Epoch 33/500\n",
            "293/293 [==============================] - 3s 12ms/step - loss: 0.4194 - accuracy: 0.1893 - val_loss: 0.4903 - val_accuracy: 0.1706\n",
            "\n",
            "Epoch 00033: val_accuracy did not improve from 0.17221\n",
            "Epoch 34/500\n",
            "293/293 [==============================] - 3s 12ms/step - loss: 0.4148 - accuracy: 0.1908 - val_loss: 0.4838 - val_accuracy: 0.1738\n",
            "\n",
            "Epoch 00034: val_accuracy improved from 0.17221 to 0.17379, saving model to model.h5\n",
            "Epoch 35/500\n",
            "293/293 [==============================] - 3s 12ms/step - loss: 0.4074 - accuracy: 0.1933 - val_loss: 0.4698 - val_accuracy: 0.1781\n",
            "\n",
            "Epoch 00035: val_accuracy improved from 0.17379 to 0.17811, saving model to model.h5\n",
            "Epoch 36/500\n",
            "293/293 [==============================] - 3s 12ms/step - loss: 0.4002 - accuracy: 0.1954 - val_loss: 0.4784 - val_accuracy: 0.1762\n",
            "\n",
            "Epoch 00036: val_accuracy did not improve from 0.17811\n",
            "Epoch 37/500\n",
            "293/293 [==============================] - 3s 12ms/step - loss: 0.3942 - accuracy: 0.1976 - val_loss: 0.4737 - val_accuracy: 0.1776\n",
            "\n",
            "Epoch 00037: val_accuracy did not improve from 0.17811\n",
            "Epoch 38/500\n",
            "293/293 [==============================] - 3s 12ms/step - loss: 0.3871 - accuracy: 0.2000 - val_loss: 0.4743 - val_accuracy: 0.1770\n",
            "\n",
            "Epoch 00038: val_accuracy did not improve from 0.17811\n",
            "Epoch 39/500\n",
            "293/293 [==============================] - 3s 12ms/step - loss: 0.3814 - accuracy: 0.2017 - val_loss: 0.4689 - val_accuracy: 0.1788\n",
            "\n",
            "Epoch 00039: val_accuracy improved from 0.17811 to 0.17879, saving model to model.h5\n",
            "Epoch 40/500\n",
            "293/293 [==============================] - 3s 12ms/step - loss: 0.3761 - accuracy: 0.2036 - val_loss: 0.4522 - val_accuracy: 0.1838\n",
            "\n",
            "Epoch 00040: val_accuracy improved from 0.17879 to 0.18376, saving model to model.h5\n",
            "Epoch 41/500\n",
            "293/293 [==============================] - 3s 12ms/step - loss: 0.3705 - accuracy: 0.2054 - val_loss: 0.4586 - val_accuracy: 0.1819\n",
            "\n",
            "Epoch 00041: val_accuracy did not improve from 0.18376\n",
            "Epoch 42/500\n",
            "293/293 [==============================] - 3s 12ms/step - loss: 0.3661 - accuracy: 0.2069 - val_loss: 0.4458 - val_accuracy: 0.1860\n",
            "\n",
            "Epoch 00042: val_accuracy improved from 0.18376 to 0.18597, saving model to model.h5\n",
            "Epoch 43/500\n",
            "293/293 [==============================] - 3s 12ms/step - loss: 0.3612 - accuracy: 0.2082 - val_loss: 0.4415 - val_accuracy: 0.1868\n",
            "\n",
            "Epoch 00043: val_accuracy improved from 0.18597 to 0.18678, saving model to model.h5\n",
            "Epoch 44/500\n",
            "293/293 [==============================] - 3s 12ms/step - loss: 0.3574 - accuracy: 0.2095 - val_loss: 0.4400 - val_accuracy: 0.1875\n",
            "\n",
            "Epoch 00044: val_accuracy improved from 0.18678 to 0.18747, saving model to model.h5\n",
            "Epoch 45/500\n",
            "293/293 [==============================] - 3s 12ms/step - loss: 0.3541 - accuracy: 0.2105 - val_loss: 0.4719 - val_accuracy: 0.1780\n",
            "\n",
            "Epoch 00045: val_accuracy did not improve from 0.18747\n",
            "Epoch 46/500\n",
            "293/293 [==============================] - 3s 12ms/step - loss: 0.3486 - accuracy: 0.2120 - val_loss: 0.4399 - val_accuracy: 0.1877\n",
            "\n",
            "Epoch 00046: val_accuracy improved from 0.18747 to 0.18768, saving model to model.h5\n",
            "Epoch 47/500\n",
            "293/293 [==============================] - 3s 12ms/step - loss: 0.3453 - accuracy: 0.2130 - val_loss: 0.4934 - val_accuracy: 0.1727\n",
            "\n",
            "Epoch 00047: val_accuracy did not improve from 0.18768\n",
            "Epoch 48/500\n",
            "293/293 [==============================] - 3s 12ms/step - loss: 0.3436 - accuracy: 0.2136 - val_loss: 0.4384 - val_accuracy: 0.1871\n",
            "\n",
            "Epoch 00048: val_accuracy did not improve from 0.18768\n",
            "Epoch 49/500\n",
            "293/293 [==============================] - 3s 12ms/step - loss: 0.3383 - accuracy: 0.2146 - val_loss: 0.4394 - val_accuracy: 0.1873\n",
            "\n",
            "Epoch 00049: val_accuracy did not improve from 0.18768\n",
            "Epoch 50/500\n",
            "293/293 [==============================] - 3s 12ms/step - loss: 0.3347 - accuracy: 0.2160 - val_loss: 0.4553 - val_accuracy: 0.1838\n",
            "\n",
            "Epoch 00050: val_accuracy did not improve from 0.18768\n",
            "Epoch 51/500\n",
            "293/293 [==============================] - 3s 12ms/step - loss: 0.3310 - accuracy: 0.2171 - val_loss: 0.4231 - val_accuracy: 0.1919\n",
            "\n",
            "Epoch 00051: val_accuracy improved from 0.18768 to 0.19189, saving model to model.h5\n",
            "Epoch 52/500\n",
            "293/293 [==============================] - 4s 12ms/step - loss: 0.3286 - accuracy: 0.2177 - val_loss: 0.4243 - val_accuracy: 0.1919\n",
            "\n",
            "Epoch 00052: val_accuracy improved from 0.19189 to 0.19192, saving model to model.h5\n",
            "Epoch 53/500\n",
            "293/293 [==============================] - 3s 12ms/step - loss: 0.3255 - accuracy: 0.2186 - val_loss: 0.4256 - val_accuracy: 0.1909\n",
            "\n",
            "Epoch 00053: val_accuracy did not improve from 0.19192\n",
            "Epoch 54/500\n",
            "293/293 [==============================] - 4s 12ms/step - loss: 0.3242 - accuracy: 0.2192 - val_loss: 0.4230 - val_accuracy: 0.1927\n",
            "\n",
            "Epoch 00054: val_accuracy improved from 0.19192 to 0.19267, saving model to model.h5\n",
            "Epoch 55/500\n",
            "293/293 [==============================] - 3s 12ms/step - loss: 0.3198 - accuracy: 0.2204 - val_loss: 0.4186 - val_accuracy: 0.1928\n",
            "\n",
            "Epoch 00055: val_accuracy improved from 0.19267 to 0.19280, saving model to model.h5\n",
            "Epoch 56/500\n",
            "293/293 [==============================] - 4s 12ms/step - loss: 0.3182 - accuracy: 0.2207 - val_loss: 0.4315 - val_accuracy: 0.1900\n",
            "\n",
            "Epoch 00056: val_accuracy did not improve from 0.19280\n",
            "Epoch 57/500\n",
            "293/293 [==============================] - 4s 12ms/step - loss: 0.3160 - accuracy: 0.2212 - val_loss: 0.4213 - val_accuracy: 0.1932\n",
            "\n",
            "Epoch 00057: val_accuracy improved from 0.19280 to 0.19316, saving model to model.h5\n",
            "Epoch 58/500\n",
            "293/293 [==============================] - 3s 12ms/step - loss: 0.3138 - accuracy: 0.2219 - val_loss: 0.4088 - val_accuracy: 0.1956\n",
            "\n",
            "Epoch 00058: val_accuracy improved from 0.19316 to 0.19563, saving model to model.h5\n",
            "Epoch 59/500\n",
            "293/293 [==============================] - 3s 12ms/step - loss: 0.3146 - accuracy: 0.2217 - val_loss: 0.4148 - val_accuracy: 0.1941\n",
            "\n",
            "Epoch 00059: val_accuracy did not improve from 0.19563\n",
            "Epoch 60/500\n",
            "293/293 [==============================] - 4s 12ms/step - loss: 0.3123 - accuracy: 0.2222 - val_loss: 0.4098 - val_accuracy: 0.1953\n",
            "\n",
            "Epoch 00060: val_accuracy did not improve from 0.19563\n",
            "Epoch 61/500\n",
            "293/293 [==============================] - 3s 12ms/step - loss: 0.3104 - accuracy: 0.2228 - val_loss: 0.4490 - val_accuracy: 0.1850\n",
            "\n",
            "Epoch 00061: val_accuracy did not improve from 0.19563\n",
            "Epoch 62/500\n",
            "293/293 [==============================] - 3s 12ms/step - loss: 0.3076 - accuracy: 0.2236 - val_loss: 0.4113 - val_accuracy: 0.1952\n",
            "\n",
            "Epoch 00062: val_accuracy did not improve from 0.19563\n",
            "Epoch 63/500\n",
            "293/293 [==============================] - 3s 12ms/step - loss: 0.3055 - accuracy: 0.2244 - val_loss: 0.4220 - val_accuracy: 0.1925\n",
            "\n",
            "Epoch 00063: val_accuracy did not improve from 0.19563\n",
            "Epoch 64/500\n",
            "293/293 [==============================] - 3s 12ms/step - loss: 0.3036 - accuracy: 0.2248 - val_loss: 0.4202 - val_accuracy: 0.1939\n",
            "\n",
            "Epoch 00064: val_accuracy did not improve from 0.19563\n",
            "Epoch 65/500\n",
            "293/293 [==============================] - 3s 12ms/step - loss: 0.3028 - accuracy: 0.2253 - val_loss: 0.4028 - val_accuracy: 0.1970\n",
            "\n",
            "Epoch 00065: val_accuracy improved from 0.19563 to 0.19698, saving model to model.h5\n",
            "Epoch 66/500\n",
            "293/293 [==============================] - 4s 12ms/step - loss: 0.3018 - accuracy: 0.2253 - val_loss: 0.4044 - val_accuracy: 0.1964\n",
            "\n",
            "Epoch 00066: val_accuracy did not improve from 0.19698\n",
            "Epoch 67/500\n",
            "293/293 [==============================] - 3s 12ms/step - loss: 0.2980 - accuracy: 0.2263 - val_loss: 0.4035 - val_accuracy: 0.1969\n",
            "\n",
            "Epoch 00067: val_accuracy did not improve from 0.19698\n",
            "Epoch 68/500\n",
            "293/293 [==============================] - 4s 12ms/step - loss: 0.2981 - accuracy: 0.2264 - val_loss: 0.4034 - val_accuracy: 0.1974\n",
            "\n",
            "Epoch 00068: val_accuracy improved from 0.19698 to 0.19738, saving model to model.h5\n",
            "Epoch 69/500\n",
            "293/293 [==============================] - 3s 12ms/step - loss: 0.2955 - accuracy: 0.2267 - val_loss: 0.4080 - val_accuracy: 0.1948\n",
            "\n",
            "Epoch 00069: val_accuracy did not improve from 0.19738\n",
            "Epoch 70/500\n",
            "293/293 [==============================] - 3s 12ms/step - loss: 0.2945 - accuracy: 0.2273 - val_loss: 0.4139 - val_accuracy: 0.1951\n",
            "\n",
            "Epoch 00070: val_accuracy did not improve from 0.19738\n",
            "Epoch 71/500\n",
            "293/293 [==============================] - 3s 12ms/step - loss: 0.2945 - accuracy: 0.2273 - val_loss: 0.4089 - val_accuracy: 0.1958\n",
            "\n",
            "Epoch 00071: val_accuracy did not improve from 0.19738\n",
            "Epoch 72/500\n",
            "293/293 [==============================] - 3s 12ms/step - loss: 0.2919 - accuracy: 0.2279 - val_loss: 0.4032 - val_accuracy: 0.1970\n",
            "\n",
            "Epoch 00072: val_accuracy did not improve from 0.19738\n",
            "Epoch 73/500\n",
            "293/293 [==============================] - 3s 12ms/step - loss: 0.2909 - accuracy: 0.2282 - val_loss: 0.4056 - val_accuracy: 0.1963\n",
            "\n",
            "Epoch 00073: val_accuracy did not improve from 0.19738\n",
            "Epoch 74/500\n",
            "293/293 [==============================] - 3s 12ms/step - loss: 0.2889 - accuracy: 0.2287 - val_loss: 0.4047 - val_accuracy: 0.1970\n",
            "\n",
            "Epoch 00074: val_accuracy did not improve from 0.19738\n",
            "Epoch 75/500\n",
            "293/293 [==============================] - 4s 12ms/step - loss: 0.2875 - accuracy: 0.2290 - val_loss: 0.4082 - val_accuracy: 0.1961\n",
            "\n",
            "Epoch 00075: val_accuracy did not improve from 0.19738\n",
            "Epoch 76/500\n",
            "293/293 [==============================] - 4s 12ms/step - loss: 0.2884 - accuracy: 0.2289 - val_loss: 0.4059 - val_accuracy: 0.1967\n",
            "\n",
            "Epoch 00076: val_accuracy did not improve from 0.19738\n",
            "Epoch 77/500\n",
            "293/293 [==============================] - 4s 12ms/step - loss: 0.2817 - accuracy: 0.2305 - val_loss: 0.4143 - val_accuracy: 0.1935\n",
            "\n",
            "Epoch 00077: val_accuracy did not improve from 0.19738\n",
            "Epoch 78/500\n",
            "293/293 [==============================] - 4s 12ms/step - loss: 0.2848 - accuracy: 0.2299 - val_loss: 0.4047 - val_accuracy: 0.1974\n",
            "\n",
            "Epoch 00078: val_accuracy did not improve from 0.19738\n",
            "Epoch 79/500\n",
            "293/293 [==============================] - 4s 12ms/step - loss: 0.2811 - accuracy: 0.2307 - val_loss: 0.3986 - val_accuracy: 0.1988\n",
            "\n",
            "Epoch 00079: val_accuracy improved from 0.19738 to 0.19885, saving model to model.h5\n",
            "Epoch 80/500\n",
            "293/293 [==============================] - 4s 12ms/step - loss: 0.2824 - accuracy: 0.2303 - val_loss: 0.3985 - val_accuracy: 0.1991\n",
            "\n",
            "Epoch 00080: val_accuracy improved from 0.19885 to 0.19910, saving model to model.h5\n",
            "Epoch 81/500\n",
            "293/293 [==============================] - 3s 12ms/step - loss: 0.2839 - accuracy: 0.2300 - val_loss: 0.4153 - val_accuracy: 0.1937\n",
            "\n",
            "Epoch 00081: val_accuracy did not improve from 0.19910\n",
            "Epoch 82/500\n",
            "293/293 [==============================] - 3s 12ms/step - loss: 0.2801 - accuracy: 0.2309 - val_loss: 0.4288 - val_accuracy: 0.1904\n",
            "\n",
            "Epoch 00082: val_accuracy did not improve from 0.19910\n",
            "Epoch 83/500\n",
            "293/293 [==============================] - 4s 12ms/step - loss: 0.2804 - accuracy: 0.2310 - val_loss: 0.3927 - val_accuracy: 0.1986\n",
            "\n",
            "Epoch 00083: val_accuracy did not improve from 0.19910\n",
            "Epoch 84/500\n",
            "293/293 [==============================] - 3s 12ms/step - loss: 0.2758 - accuracy: 0.2321 - val_loss: 0.4108 - val_accuracy: 0.1942\n",
            "\n",
            "Epoch 00084: val_accuracy did not improve from 0.19910\n",
            "Epoch 85/500\n",
            "293/293 [==============================] - 4s 12ms/step - loss: 0.2780 - accuracy: 0.2313 - val_loss: 0.3919 - val_accuracy: 0.1999\n",
            "\n",
            "Epoch 00085: val_accuracy improved from 0.19910 to 0.19988, saving model to model.h5\n",
            "Epoch 86/500\n",
            "293/293 [==============================] - 3s 12ms/step - loss: 0.2784 - accuracy: 0.2313 - val_loss: 0.3988 - val_accuracy: 0.1978\n",
            "\n",
            "Epoch 00086: val_accuracy did not improve from 0.19988\n",
            "Epoch 87/500\n",
            "293/293 [==============================] - 3s 12ms/step - loss: 0.2729 - accuracy: 0.2328 - val_loss: 0.3997 - val_accuracy: 0.1980\n",
            "\n",
            "Epoch 00087: val_accuracy did not improve from 0.19988\n",
            "Epoch 88/500\n",
            "293/293 [==============================] - 3s 12ms/step - loss: 0.2719 - accuracy: 0.2330 - val_loss: 0.4128 - val_accuracy: 0.1948\n",
            "\n",
            "Epoch 00088: val_accuracy did not improve from 0.19988\n",
            "Epoch 89/500\n",
            "293/293 [==============================] - 3s 12ms/step - loss: 0.2712 - accuracy: 0.2328 - val_loss: 0.4198 - val_accuracy: 0.1922\n",
            "\n",
            "Epoch 00089: val_accuracy did not improve from 0.19988\n",
            "Epoch 90/500\n",
            "293/293 [==============================] - 3s 12ms/step - loss: 0.2687 - accuracy: 0.2337 - val_loss: 0.3929 - val_accuracy: 0.1990\n",
            "\n",
            "Epoch 00090: val_accuracy did not improve from 0.19988\n",
            "Epoch 91/500\n",
            "293/293 [==============================] - 3s 12ms/step - loss: 0.2730 - accuracy: 0.2321 - val_loss: 0.3884 - val_accuracy: 0.2001\n",
            "\n",
            "Epoch 00091: val_accuracy improved from 0.19988 to 0.20008, saving model to model.h5\n",
            "Epoch 92/500\n",
            "293/293 [==============================] - 3s 12ms/step - loss: 0.2729 - accuracy: 0.2322 - val_loss: 0.4107 - val_accuracy: 0.1953\n",
            "\n",
            "Epoch 00092: val_accuracy did not improve from 0.20008\n",
            "Epoch 93/500\n",
            "293/293 [==============================] - 3s 12ms/step - loss: 0.2678 - accuracy: 0.2334 - val_loss: 0.3938 - val_accuracy: 0.1988\n",
            "\n",
            "Epoch 00093: val_accuracy did not improve from 0.20008\n",
            "Epoch 94/500\n",
            "293/293 [==============================] - 4s 12ms/step - loss: 0.2650 - accuracy: 0.2345 - val_loss: 0.3900 - val_accuracy: 0.1995\n",
            "\n",
            "Epoch 00094: val_accuracy did not improve from 0.20008\n",
            "Epoch 95/500\n",
            "293/293 [==============================] - 3s 12ms/step - loss: 0.2635 - accuracy: 0.2349 - val_loss: 0.4167 - val_accuracy: 0.1932\n",
            "\n",
            "Epoch 00095: val_accuracy did not improve from 0.20008\n",
            "Epoch 96/500\n",
            "293/293 [==============================] - 3s 12ms/step - loss: 0.2646 - accuracy: 0.2349 - val_loss: 0.3935 - val_accuracy: 0.1993\n",
            "\n",
            "Epoch 00096: val_accuracy did not improve from 0.20008\n",
            "Epoch 97/500\n",
            "293/293 [==============================] - 3s 12ms/step - loss: 0.2641 - accuracy: 0.2357 - val_loss: 0.4045 - val_accuracy: 0.1963\n",
            "\n",
            "Epoch 00097: val_accuracy did not improve from 0.20008\n",
            "Epoch 98/500\n",
            "293/293 [==============================] - 3s 12ms/step - loss: 0.2662 - accuracy: 0.2352 - val_loss: 0.3917 - val_accuracy: 0.2007\n",
            "\n",
            "Epoch 00098: val_accuracy improved from 0.20008 to 0.20074, saving model to model.h5\n",
            "Epoch 99/500\n",
            "293/293 [==============================] - 3s 12ms/step - loss: 0.2633 - accuracy: 0.2381 - val_loss: 0.3906 - val_accuracy: 0.2034\n",
            "\n",
            "Epoch 00099: val_accuracy improved from 0.20074 to 0.20344, saving model to model.h5\n",
            "Epoch 100/500\n",
            "293/293 [==============================] - 4s 12ms/step - loss: 0.2630 - accuracy: 0.2414 - val_loss: 0.3831 - val_accuracy: 0.2056\n",
            "\n",
            "Epoch 00100: val_accuracy improved from 0.20344 to 0.20563, saving model to model.h5\n",
            "Epoch 101/500\n",
            "293/293 [==============================] - 3s 12ms/step - loss: 0.2581 - accuracy: 0.2439 - val_loss: 0.3918 - val_accuracy: 0.2041\n",
            "\n",
            "Epoch 00101: val_accuracy did not improve from 0.20563\n",
            "Epoch 102/500\n",
            "293/293 [==============================] - 3s 12ms/step - loss: 0.2599 - accuracy: 0.2431 - val_loss: 0.3833 - val_accuracy: 0.2056\n",
            "\n",
            "Epoch 00102: val_accuracy did not improve from 0.20563\n",
            "Epoch 103/500\n",
            "293/293 [==============================] - 4s 12ms/step - loss: 0.2599 - accuracy: 0.2433 - val_loss: 0.4052 - val_accuracy: 0.1999\n",
            "\n",
            "Epoch 00103: val_accuracy did not improve from 0.20563\n",
            "Epoch 104/500\n",
            "293/293 [==============================] - 3s 12ms/step - loss: 0.2608 - accuracy: 0.2429 - val_loss: 0.3908 - val_accuracy: 0.2040\n",
            "\n",
            "Epoch 00104: val_accuracy did not improve from 0.20563\n",
            "Epoch 105/500\n",
            "293/293 [==============================] - 4s 12ms/step - loss: 0.2611 - accuracy: 0.2433 - val_loss: 0.3937 - val_accuracy: 0.2034\n",
            "\n",
            "Epoch 00105: val_accuracy did not improve from 0.20563\n",
            "Epoch 106/500\n",
            "293/293 [==============================] - 3s 12ms/step - loss: 0.2580 - accuracy: 0.2442 - val_loss: 0.3898 - val_accuracy: 0.2047\n",
            "\n",
            "Epoch 00106: val_accuracy did not improve from 0.20563\n",
            "Epoch 107/500\n",
            "293/293 [==============================] - 3s 12ms/step - loss: 0.2555 - accuracy: 0.2452 - val_loss: 0.3811 - val_accuracy: 0.2071\n",
            "\n",
            "Epoch 00107: val_accuracy improved from 0.20563 to 0.20711, saving model to model.h5\n",
            "Epoch 108/500\n",
            "293/293 [==============================] - 3s 12ms/step - loss: 0.2568 - accuracy: 0.2445 - val_loss: 0.4124 - val_accuracy: 0.1968\n",
            "\n",
            "Epoch 00108: val_accuracy did not improve from 0.20711\n",
            "Epoch 109/500\n",
            "293/293 [==============================] - 3s 12ms/step - loss: 0.2564 - accuracy: 0.2447 - val_loss: 0.3917 - val_accuracy: 0.2037\n",
            "\n",
            "Epoch 00109: val_accuracy did not improve from 0.20711\n",
            "Epoch 110/500\n",
            "293/293 [==============================] - 3s 12ms/step - loss: 0.2547 - accuracy: 0.2454 - val_loss: 0.3900 - val_accuracy: 0.2042\n",
            "\n",
            "Epoch 00110: val_accuracy did not improve from 0.20711\n",
            "Epoch 111/500\n",
            "293/293 [==============================] - 3s 12ms/step - loss: 0.2531 - accuracy: 0.2456 - val_loss: 0.3831 - val_accuracy: 0.2073\n",
            "\n",
            "Epoch 00111: val_accuracy improved from 0.20711 to 0.20726, saving model to model.h5\n",
            "Epoch 112/500\n",
            "293/293 [==============================] - 3s 12ms/step - loss: 0.2549 - accuracy: 0.2447 - val_loss: 0.3807 - val_accuracy: 0.2075\n",
            "\n",
            "Epoch 00112: val_accuracy improved from 0.20726 to 0.20753, saving model to model.h5\n",
            "Epoch 113/500\n",
            "293/293 [==============================] - 4s 12ms/step - loss: 0.2542 - accuracy: 0.2453 - val_loss: 0.3834 - val_accuracy: 0.2065\n",
            "\n",
            "Epoch 00113: val_accuracy did not improve from 0.20753\n",
            "Epoch 114/500\n",
            "293/293 [==============================] - 4s 12ms/step - loss: 0.2558 - accuracy: 0.2448 - val_loss: 0.3880 - val_accuracy: 0.2049\n",
            "\n",
            "Epoch 00114: val_accuracy did not improve from 0.20753\n",
            "Epoch 115/500\n",
            "293/293 [==============================] - 3s 12ms/step - loss: 0.2566 - accuracy: 0.2445 - val_loss: 0.3851 - val_accuracy: 0.2065\n",
            "\n",
            "Epoch 00115: val_accuracy did not improve from 0.20753\n",
            "Epoch 116/500\n",
            "293/293 [==============================] - 3s 12ms/step - loss: 0.2573 - accuracy: 0.2444 - val_loss: 0.4120 - val_accuracy: 0.1983\n",
            "\n",
            "Epoch 00116: val_accuracy did not improve from 0.20753\n",
            "Epoch 117/500\n",
            "293/293 [==============================] - 4s 12ms/step - loss: 0.2517 - accuracy: 0.2464 - val_loss: 0.3977 - val_accuracy: 0.2020\n",
            "\n",
            "Epoch 00117: val_accuracy did not improve from 0.20753\n",
            "Epoch 118/500\n",
            "293/293 [==============================] - 3s 12ms/step - loss: 0.2510 - accuracy: 0.2465 - val_loss: 0.3834 - val_accuracy: 0.2071\n",
            "\n",
            "Epoch 00118: val_accuracy did not improve from 0.20753\n",
            "Epoch 119/500\n",
            "293/293 [==============================] - 4s 12ms/step - loss: 0.2535 - accuracy: 0.2454 - val_loss: 0.3825 - val_accuracy: 0.2080\n",
            "\n",
            "Epoch 00119: val_accuracy improved from 0.20753 to 0.20795, saving model to model.h5\n",
            "Epoch 120/500\n",
            "293/293 [==============================] - 4s 12ms/step - loss: 0.2546 - accuracy: 0.2453 - val_loss: 0.3826 - val_accuracy: 0.2070\n",
            "\n",
            "Epoch 00120: val_accuracy did not improve from 0.20795\n",
            "Epoch 121/500\n",
            "293/293 [==============================] - 4s 12ms/step - loss: 0.2493 - accuracy: 0.2471 - val_loss: 0.3900 - val_accuracy: 0.2049\n",
            "\n",
            "Epoch 00121: val_accuracy did not improve from 0.20795\n",
            "Epoch 122/500\n",
            "293/293 [==============================] - 4s 12ms/step - loss: 0.2515 - accuracy: 0.2460 - val_loss: 0.4008 - val_accuracy: 0.2014\n",
            "\n",
            "Epoch 00122: val_accuracy did not improve from 0.20795\n",
            "Epoch 123/500\n",
            "293/293 [==============================] - 4s 12ms/step - loss: 0.2496 - accuracy: 0.2465 - val_loss: 0.3938 - val_accuracy: 0.2039\n",
            "\n",
            "Epoch 00123: val_accuracy did not improve from 0.20795\n",
            "Epoch 124/500\n",
            "293/293 [==============================] - 4s 12ms/step - loss: 0.2575 - accuracy: 0.2439 - val_loss: 0.4053 - val_accuracy: 0.2003\n",
            "\n",
            "Epoch 00124: val_accuracy did not improve from 0.20795\n",
            "Epoch 125/500\n",
            "293/293 [==============================] - 3s 12ms/step - loss: 0.2600 - accuracy: 0.2435 - val_loss: 0.3879 - val_accuracy: 0.2068\n",
            "\n",
            "Epoch 00125: val_accuracy did not improve from 0.20795\n",
            "Epoch 126/500\n",
            "293/293 [==============================] - 3s 12ms/step - loss: 0.2489 - accuracy: 0.2476 - val_loss: 0.3914 - val_accuracy: 0.2034\n",
            "\n",
            "Epoch 00126: val_accuracy did not improve from 0.20795\n",
            "Epoch 127/500\n",
            "293/293 [==============================] - 3s 12ms/step - loss: 0.2557 - accuracy: 0.2447 - val_loss: 0.3911 - val_accuracy: 0.2051\n",
            "\n",
            "Epoch 00127: val_accuracy did not improve from 0.20795\n",
            "Epoch 128/500\n",
            "293/293 [==============================] - 4s 12ms/step - loss: 0.2497 - accuracy: 0.2471 - val_loss: 0.3800 - val_accuracy: 0.2083\n",
            "\n",
            "Epoch 00128: val_accuracy improved from 0.20795 to 0.20828, saving model to model.h5\n",
            "Epoch 129/500\n",
            "293/293 [==============================] - 4s 12ms/step - loss: 0.2543 - accuracy: 0.2459 - val_loss: 0.4009 - val_accuracy: 0.2008\n",
            "\n",
            "Epoch 00129: val_accuracy did not improve from 0.20828\n",
            "Epoch 130/500\n",
            "293/293 [==============================] - 3s 12ms/step - loss: 0.2467 - accuracy: 0.2482 - val_loss: 0.3914 - val_accuracy: 0.2042\n",
            "\n",
            "Epoch 00130: val_accuracy did not improve from 0.20828\n",
            "Epoch 131/500\n",
            "293/293 [==============================] - 3s 12ms/step - loss: 0.2458 - accuracy: 0.2487 - val_loss: 0.3801 - val_accuracy: 0.2079\n",
            "\n",
            "Epoch 00131: val_accuracy did not improve from 0.20828\n",
            "Epoch 132/500\n",
            "293/293 [==============================] - 3s 12ms/step - loss: 0.2445 - accuracy: 0.2490 - val_loss: 0.3937 - val_accuracy: 0.2037\n",
            "\n",
            "Epoch 00132: val_accuracy did not improve from 0.20828\n",
            "Epoch 133/500\n",
            "293/293 [==============================] - 4s 12ms/step - loss: 0.2485 - accuracy: 0.2478 - val_loss: 0.4400 - val_accuracy: 0.1883\n",
            "\n",
            "Epoch 00133: val_accuracy did not improve from 0.20828\n",
            "Epoch 134/500\n",
            "293/293 [==============================] - 3s 12ms/step - loss: 0.2473 - accuracy: 0.2487 - val_loss: 0.3776 - val_accuracy: 0.2095\n",
            "\n",
            "Epoch 00134: val_accuracy improved from 0.20828 to 0.20949, saving model to model.h5\n",
            "Epoch 135/500\n",
            "293/293 [==============================] - 3s 12ms/step - loss: 0.2484 - accuracy: 0.2476 - val_loss: 0.3766 - val_accuracy: 0.2090\n",
            "\n",
            "Epoch 00135: val_accuracy did not improve from 0.20949\n",
            "Epoch 136/500\n",
            "293/293 [==============================] - 3s 12ms/step - loss: 0.2464 - accuracy: 0.2484 - val_loss: 0.3804 - val_accuracy: 0.2075\n",
            "\n",
            "Epoch 00136: val_accuracy did not improve from 0.20949\n",
            "Epoch 137/500\n",
            "293/293 [==============================] - 3s 12ms/step - loss: 0.2480 - accuracy: 0.2481 - val_loss: 0.3827 - val_accuracy: 0.2079\n",
            "\n",
            "Epoch 00137: val_accuracy did not improve from 0.20949\n",
            "Epoch 138/500\n",
            "293/293 [==============================] - 3s 12ms/step - loss: 0.2457 - accuracy: 0.2486 - val_loss: 0.3922 - val_accuracy: 0.2044\n",
            "\n",
            "Epoch 00138: val_accuracy did not improve from 0.20949\n",
            "Epoch 139/500\n",
            "293/293 [==============================] - 3s 12ms/step - loss: 0.2455 - accuracy: 0.2487 - val_loss: 0.3894 - val_accuracy: 0.2055\n",
            "\n",
            "Epoch 00139: val_accuracy did not improve from 0.20949\n",
            "Epoch 140/500\n",
            "293/293 [==============================] - 3s 12ms/step - loss: 0.2430 - accuracy: 0.2497 - val_loss: 0.3839 - val_accuracy: 0.2073\n",
            "\n",
            "Epoch 00140: val_accuracy did not improve from 0.20949\n",
            "Epoch 141/500\n",
            "293/293 [==============================] - 4s 12ms/step - loss: 0.2492 - accuracy: 0.2476 - val_loss: 0.3845 - val_accuracy: 0.2075\n",
            "\n",
            "Epoch 00141: val_accuracy did not improve from 0.20949\n",
            "Epoch 142/500\n",
            "293/293 [==============================] - 3s 12ms/step - loss: 0.2457 - accuracy: 0.2489 - val_loss: 0.3811 - val_accuracy: 0.2086\n",
            "\n",
            "Epoch 00142: val_accuracy did not improve from 0.20949\n",
            "Epoch 143/500\n",
            "293/293 [==============================] - 3s 12ms/step - loss: 0.2493 - accuracy: 0.2477 - val_loss: 0.3870 - val_accuracy: 0.2063\n",
            "\n",
            "Epoch 00143: val_accuracy did not improve from 0.20949\n",
            "Epoch 144/500\n",
            "293/293 [==============================] - 3s 12ms/step - loss: 0.2483 - accuracy: 0.2479 - val_loss: 0.3858 - val_accuracy: 0.2063\n",
            "\n",
            "Epoch 00144: val_accuracy did not improve from 0.20949\n",
            "Epoch 145/500\n",
            "293/293 [==============================] - 4s 12ms/step - loss: 0.2453 - accuracy: 0.2490 - val_loss: 0.3922 - val_accuracy: 0.2044\n",
            "\n",
            "Epoch 00145: val_accuracy did not improve from 0.20949\n",
            "Epoch 146/500\n",
            "293/293 [==============================] - 3s 12ms/step - loss: 0.2546 - accuracy: 0.2460 - val_loss: 0.3991 - val_accuracy: 0.2021\n",
            "\n",
            "Epoch 00146: val_accuracy did not improve from 0.20949\n",
            "Epoch 147/500\n",
            "293/293 [==============================] - 3s 12ms/step - loss: 0.2466 - accuracy: 0.2486 - val_loss: 0.3875 - val_accuracy: 0.2061\n",
            "\n",
            "Epoch 00147: val_accuracy did not improve from 0.20949\n",
            "Epoch 148/500\n",
            "293/293 [==============================] - 4s 12ms/step - loss: 0.2540 - accuracy: 0.2458 - val_loss: 0.3818 - val_accuracy: 0.2075\n",
            "\n",
            "Epoch 00148: val_accuracy did not improve from 0.20949\n",
            "Epoch 149/500\n",
            "293/293 [==============================] - 3s 12ms/step - loss: 0.2484 - accuracy: 0.2480 - val_loss: 0.3796 - val_accuracy: 0.2088\n",
            "\n",
            "Epoch 00149: val_accuracy did not improve from 0.20949\n",
            "Epoch 150/500\n",
            "293/293 [==============================] - 4s 12ms/step - loss: 0.2418 - accuracy: 0.2506 - val_loss: 0.3897 - val_accuracy: 0.2049\n",
            "\n",
            "Epoch 00150: val_accuracy did not improve from 0.20949\n",
            "Epoch 151/500\n",
            "293/293 [==============================] - 4s 12ms/step - loss: 0.2474 - accuracy: 0.2487 - val_loss: 0.3897 - val_accuracy: 0.2059\n",
            "\n",
            "Epoch 00151: val_accuracy did not improve from 0.20949\n",
            "Epoch 152/500\n",
            "293/293 [==============================] - 3s 12ms/step - loss: 0.2539 - accuracy: 0.2457 - val_loss: 0.3890 - val_accuracy: 0.2055\n",
            "\n",
            "Epoch 00152: val_accuracy did not improve from 0.20949\n",
            "Epoch 153/500\n",
            "293/293 [==============================] - 3s 12ms/step - loss: 0.2470 - accuracy: 0.2484 - val_loss: 0.3847 - val_accuracy: 0.2072\n",
            "\n",
            "Epoch 00153: val_accuracy did not improve from 0.20949\n",
            "Epoch 154/500\n",
            "293/293 [==============================] - 4s 12ms/step - loss: 0.2476 - accuracy: 0.2483 - val_loss: 0.3792 - val_accuracy: 0.2091\n",
            "\n",
            "Epoch 00154: val_accuracy did not improve from 0.20949\n",
            "Epoch 155/500\n",
            "293/293 [==============================] - 3s 12ms/step - loss: 0.2429 - accuracy: 0.2503 - val_loss: 0.3768 - val_accuracy: 0.2093\n",
            "\n",
            "Epoch 00155: val_accuracy did not improve from 0.20949\n",
            "Epoch 156/500\n",
            "293/293 [==============================] - 4s 12ms/step - loss: 0.2428 - accuracy: 0.2503 - val_loss: 0.3793 - val_accuracy: 0.2095\n",
            "\n",
            "Epoch 00156: val_accuracy did not improve from 0.20949\n",
            "Epoch 157/500\n",
            "293/293 [==============================] - 4s 12ms/step - loss: 0.2452 - accuracy: 0.2496 - val_loss: 0.3996 - val_accuracy: 0.2022\n",
            "\n",
            "Epoch 00157: val_accuracy did not improve from 0.20949\n",
            "Epoch 158/500\n",
            "293/293 [==============================] - 4s 12ms/step - loss: 0.2434 - accuracy: 0.2502 - val_loss: 0.3856 - val_accuracy: 0.2070\n",
            "\n",
            "Epoch 00158: val_accuracy did not improve from 0.20949\n",
            "Epoch 159/500\n",
            "293/293 [==============================] - 4s 12ms/step - loss: 0.2475 - accuracy: 0.2488 - val_loss: 0.3774 - val_accuracy: 0.2098\n",
            "\n",
            "Epoch 00159: val_accuracy improved from 0.20949 to 0.20981, saving model to model.h5\n",
            "Epoch 160/500\n",
            "293/293 [==============================] - 4s 12ms/step - loss: 0.2447 - accuracy: 0.2498 - val_loss: 0.3900 - val_accuracy: 0.2054\n",
            "\n",
            "Epoch 00160: val_accuracy did not improve from 0.20981\n",
            "Epoch 161/500\n",
            "293/293 [==============================] - 4s 12ms/step - loss: 0.2470 - accuracy: 0.2487 - val_loss: 0.4092 - val_accuracy: 0.1985\n",
            "\n",
            "Epoch 00161: val_accuracy did not improve from 0.20981\n",
            "Epoch 162/500\n",
            "293/293 [==============================] - 4s 12ms/step - loss: 0.2486 - accuracy: 0.2482 - val_loss: 0.3824 - val_accuracy: 0.2082\n",
            "\n",
            "Epoch 00162: val_accuracy did not improve from 0.20981\n",
            "Epoch 163/500\n",
            "293/293 [==============================] - 4s 12ms/step - loss: 0.2452 - accuracy: 0.2492 - val_loss: 0.3989 - val_accuracy: 0.2026\n",
            "\n",
            "Epoch 00163: val_accuracy did not improve from 0.20981\n",
            "Epoch 164/500\n",
            "293/293 [==============================] - 4s 12ms/step - loss: 0.2416 - accuracy: 0.2506 - val_loss: 0.3857 - val_accuracy: 0.2067\n",
            "\n",
            "Epoch 00164: val_accuracy did not improve from 0.20981\n",
            "Epoch 165/500\n",
            "293/293 [==============================] - 4s 12ms/step - loss: 0.2439 - accuracy: 0.2498 - val_loss: 0.3849 - val_accuracy: 0.2069\n",
            "\n",
            "Epoch 00165: val_accuracy did not improve from 0.20981\n",
            "Epoch 166/500\n",
            "293/293 [==============================] - 4s 12ms/step - loss: 0.2489 - accuracy: 0.2481 - val_loss: 0.3913 - val_accuracy: 0.2051\n",
            "\n",
            "Epoch 00166: val_accuracy did not improve from 0.20981\n",
            "Epoch 167/500\n",
            "293/293 [==============================] - 4s 12ms/step - loss: 0.2541 - accuracy: 0.2460 - val_loss: 0.3908 - val_accuracy: 0.2048\n",
            "\n",
            "Epoch 00167: val_accuracy did not improve from 0.20981\n",
            "Epoch 168/500\n",
            "293/293 [==============================] - 4s 12ms/step - loss: 0.2438 - accuracy: 0.2497 - val_loss: 0.3847 - val_accuracy: 0.2078\n",
            "\n",
            "Epoch 00168: val_accuracy did not improve from 0.20981\n",
            "Epoch 169/500\n",
            "293/293 [==============================] - 4s 12ms/step - loss: 0.2484 - accuracy: 0.2484 - val_loss: 0.3894 - val_accuracy: 0.2053\n",
            "\n",
            "Epoch 00169: val_accuracy did not improve from 0.20981\n",
            "Epoch 170/500\n",
            "293/293 [==============================] - 4s 12ms/step - loss: 0.2437 - accuracy: 0.2493 - val_loss: 0.3869 - val_accuracy: 0.2062\n",
            "\n",
            "Epoch 00170: val_accuracy did not improve from 0.20981\n",
            "Epoch 171/500\n",
            "293/293 [==============================] - 3s 12ms/step - loss: 0.2440 - accuracy: 0.2499 - val_loss: 0.4026 - val_accuracy: 0.2009\n",
            "\n",
            "Epoch 00171: val_accuracy did not improve from 0.20981\n",
            "Epoch 172/500\n",
            "293/293 [==============================] - 3s 12ms/step - loss: 0.2481 - accuracy: 0.2486 - val_loss: 0.3928 - val_accuracy: 0.2051\n",
            "\n",
            "Epoch 00172: val_accuracy did not improve from 0.20981\n",
            "Epoch 173/500\n",
            "293/293 [==============================] - 4s 12ms/step - loss: 0.2490 - accuracy: 0.2484 - val_loss: 0.3841 - val_accuracy: 0.2080\n",
            "\n",
            "Epoch 00173: val_accuracy did not improve from 0.20981\n",
            "Epoch 174/500\n",
            "293/293 [==============================] - 4s 12ms/step - loss: 0.2445 - accuracy: 0.2495 - val_loss: 0.3894 - val_accuracy: 0.2057\n",
            "\n",
            "Epoch 00174: val_accuracy did not improve from 0.20981\n",
            "Epoch 175/500\n",
            "293/293 [==============================] - 3s 12ms/step - loss: 0.2460 - accuracy: 0.2492 - val_loss: 0.3847 - val_accuracy: 0.2063\n",
            "\n",
            "Epoch 00175: val_accuracy did not improve from 0.20981\n",
            "Epoch 176/500\n",
            "293/293 [==============================] - 4s 12ms/step - loss: 0.2541 - accuracy: 0.2463 - val_loss: 0.4098 - val_accuracy: 0.1982\n",
            "\n",
            "Epoch 00176: val_accuracy did not improve from 0.20981\n",
            "Epoch 177/500\n",
            "293/293 [==============================] - 3s 12ms/step - loss: 0.2556 - accuracy: 0.2457 - val_loss: 0.3863 - val_accuracy: 0.2062\n",
            "\n",
            "Epoch 00177: val_accuracy did not improve from 0.20981\n",
            "Epoch 178/500\n",
            "293/293 [==============================] - 4s 12ms/step - loss: 0.2510 - accuracy: 0.2474 - val_loss: 0.3934 - val_accuracy: 0.2052\n",
            "\n",
            "Epoch 00178: val_accuracy did not improve from 0.20981\n",
            "Epoch 179/500\n",
            "293/293 [==============================] - 4s 12ms/step - loss: 0.2496 - accuracy: 0.2478 - val_loss: 0.3983 - val_accuracy: 0.2028\n",
            "\n",
            "Epoch 00179: val_accuracy did not improve from 0.20981\n",
            "Epoch 180/500\n",
            "293/293 [==============================] - 4s 12ms/step - loss: 0.2587 - accuracy: 0.2449 - val_loss: 0.4109 - val_accuracy: 0.1984\n",
            "\n",
            "Epoch 00180: val_accuracy did not improve from 0.20981\n",
            "Epoch 181/500\n",
            "293/293 [==============================] - 4s 12ms/step - loss: 0.2469 - accuracy: 0.2485 - val_loss: 0.3839 - val_accuracy: 0.2081\n",
            "\n",
            "Epoch 00181: val_accuracy did not improve from 0.20981\n",
            "Epoch 182/500\n",
            "293/293 [==============================] - 3s 12ms/step - loss: 0.2413 - accuracy: 0.2509 - val_loss: 0.3830 - val_accuracy: 0.2079\n",
            "\n",
            "Epoch 00182: val_accuracy did not improve from 0.20981\n",
            "Epoch 183/500\n",
            "293/293 [==============================] - 3s 12ms/step - loss: 0.2475 - accuracy: 0.2487 - val_loss: 0.3905 - val_accuracy: 0.2052\n",
            "\n",
            "Epoch 00183: val_accuracy did not improve from 0.20981\n",
            "Epoch 184/500\n",
            "293/293 [==============================] - 4s 12ms/step - loss: 0.2426 - accuracy: 0.2504 - val_loss: 0.3948 - val_accuracy: 0.2038\n",
            "\n",
            "Epoch 00184: val_accuracy did not improve from 0.20981\n",
            "Epoch 185/500\n",
            "293/293 [==============================] - 4s 12ms/step - loss: 0.2486 - accuracy: 0.2480 - val_loss: 0.3860 - val_accuracy: 0.2068\n",
            "\n",
            "Epoch 00185: val_accuracy did not improve from 0.20981\n",
            "Epoch 186/500\n",
            "293/293 [==============================] - 4s 12ms/step - loss: 0.2419 - accuracy: 0.2508 - val_loss: 0.3874 - val_accuracy: 0.2073\n",
            "\n",
            "Epoch 00186: val_accuracy did not improve from 0.20981\n",
            "Epoch 187/500\n",
            "293/293 [==============================] - 4s 12ms/step - loss: 0.2412 - accuracy: 0.2507 - val_loss: 0.3842 - val_accuracy: 0.2079\n",
            "\n",
            "Epoch 00187: val_accuracy did not improve from 0.20981\n",
            "Epoch 188/500\n",
            "293/293 [==============================] - 4s 12ms/step - loss: 0.2473 - accuracy: 0.2489 - val_loss: 0.3873 - val_accuracy: 0.2066\n",
            "\n",
            "Epoch 00188: val_accuracy did not improve from 0.20981\n",
            "Epoch 189/500\n",
            "293/293 [==============================] - 4s 12ms/step - loss: 0.2390 - accuracy: 0.2518 - val_loss: 0.3927 - val_accuracy: 0.2046\n",
            "\n",
            "Epoch 00189: val_accuracy did not improve from 0.20981\n",
            "Epoch 190/500\n",
            "293/293 [==============================] - 4s 12ms/step - loss: 0.2411 - accuracy: 0.2508 - val_loss: 0.3920 - val_accuracy: 0.2050\n",
            "\n",
            "Epoch 00190: val_accuracy did not improve from 0.20981\n",
            "Epoch 191/500\n",
            "293/293 [==============================] - 3s 12ms/step - loss: 0.2430 - accuracy: 0.2502 - val_loss: 0.3860 - val_accuracy: 0.2066\n",
            "\n",
            "Epoch 00191: val_accuracy did not improve from 0.20981\n",
            "Epoch 192/500\n",
            "293/293 [==============================] - 4s 12ms/step - loss: 0.2403 - accuracy: 0.2508 - val_loss: 0.4020 - val_accuracy: 0.2013\n",
            "\n",
            "Epoch 00192: val_accuracy did not improve from 0.20981\n",
            "Epoch 193/500\n",
            "293/293 [==============================] - 3s 12ms/step - loss: 0.2332 - accuracy: 0.2537 - val_loss: 0.3764 - val_accuracy: 0.2099\n",
            "\n",
            "Epoch 00193: val_accuracy improved from 0.20981 to 0.20993, saving model to model.h5\n",
            "Epoch 194/500\n",
            "293/293 [==============================] - 4s 12ms/step - loss: 0.2398 - accuracy: 0.2513 - val_loss: 0.3822 - val_accuracy: 0.2082\n",
            "\n",
            "Epoch 00194: val_accuracy did not improve from 0.20993\n",
            "Epoch 195/500\n",
            "293/293 [==============================] - 4s 12ms/step - loss: 0.2408 - accuracy: 0.2510 - val_loss: 0.3871 - val_accuracy: 0.2065\n",
            "\n",
            "Epoch 00195: val_accuracy did not improve from 0.20993\n",
            "Epoch 196/500\n",
            "293/293 [==============================] - 4s 12ms/step - loss: 0.2433 - accuracy: 0.2499 - val_loss: 0.3974 - val_accuracy: 0.2033\n",
            "\n",
            "Epoch 00196: val_accuracy did not improve from 0.20993\n",
            "Epoch 197/500\n",
            "293/293 [==============================] - 4s 12ms/step - loss: 0.2438 - accuracy: 0.2496 - val_loss: 0.4076 - val_accuracy: 0.1986\n",
            "\n",
            "Epoch 00197: val_accuracy did not improve from 0.20993\n",
            "Epoch 198/500\n",
            "293/293 [==============================] - 4s 12ms/step - loss: 0.2415 - accuracy: 0.2505 - val_loss: 0.3858 - val_accuracy: 0.2071\n",
            "\n",
            "Epoch 00198: val_accuracy did not improve from 0.20993\n",
            "Epoch 199/500\n",
            "293/293 [==============================] - 4s 12ms/step - loss: 0.2403 - accuracy: 0.2511 - val_loss: 0.3799 - val_accuracy: 0.2095\n",
            "\n",
            "Epoch 00199: val_accuracy did not improve from 0.20993\n",
            "Epoch 200/500\n",
            "293/293 [==============================] - 4s 12ms/step - loss: 0.2482 - accuracy: 0.2482 - val_loss: 0.3967 - val_accuracy: 0.2036\n",
            "\n",
            "Epoch 00200: val_accuracy did not improve from 0.20993\n",
            "Epoch 201/500\n",
            "293/293 [==============================] - 4s 12ms/step - loss: 0.2396 - accuracy: 0.2511 - val_loss: 0.3880 - val_accuracy: 0.2057\n",
            "\n",
            "Epoch 00201: val_accuracy did not improve from 0.20993\n",
            "Epoch 202/500\n",
            "293/293 [==============================] - 3s 12ms/step - loss: 0.2328 - accuracy: 0.2540 - val_loss: 0.3826 - val_accuracy: 0.2082\n",
            "\n",
            "Epoch 00202: val_accuracy did not improve from 0.20993\n",
            "Epoch 203/500\n",
            "293/293 [==============================] - 3s 12ms/step - loss: 0.2528 - accuracy: 0.2466 - val_loss: 0.3887 - val_accuracy: 0.2059\n",
            "\n",
            "Epoch 00203: val_accuracy did not improve from 0.20993\n",
            "Epoch 204/500\n",
            "293/293 [==============================] - 4s 12ms/step - loss: 0.2391 - accuracy: 0.2518 - val_loss: 0.4057 - val_accuracy: 0.2000\n",
            "\n",
            "Epoch 00204: val_accuracy did not improve from 0.20993\n",
            "Epoch 205/500\n",
            "293/293 [==============================] - 4s 12ms/step - loss: 0.2419 - accuracy: 0.2508 - val_loss: 0.3961 - val_accuracy: 0.2036\n",
            "\n",
            "Epoch 00205: val_accuracy did not improve from 0.20993\n",
            "Epoch 206/500\n",
            "293/293 [==============================] - 4s 12ms/step - loss: 0.2472 - accuracy: 0.2485 - val_loss: 0.3844 - val_accuracy: 0.2075\n",
            "\n",
            "Epoch 00206: val_accuracy did not improve from 0.20993\n",
            "Epoch 207/500\n",
            "293/293 [==============================] - 4s 12ms/step - loss: 0.2370 - accuracy: 0.2526 - val_loss: 0.3813 - val_accuracy: 0.2087\n",
            "\n",
            "Epoch 00207: val_accuracy did not improve from 0.20993\n",
            "Epoch 208/500\n",
            "293/293 [==============================] - 4s 12ms/step - loss: 0.2380 - accuracy: 0.2519 - val_loss: 0.3862 - val_accuracy: 0.2074\n",
            "\n",
            "Epoch 00208: val_accuracy did not improve from 0.20993\n",
            "Epoch 209/500\n",
            "293/293 [==============================] - 3s 12ms/step - loss: 0.2448 - accuracy: 0.2500 - val_loss: 0.3864 - val_accuracy: 0.2073\n",
            "\n",
            "Epoch 00209: val_accuracy did not improve from 0.20993\n",
            "Epoch 210/500\n",
            "293/293 [==============================] - 4s 12ms/step - loss: 0.2483 - accuracy: 0.2487 - val_loss: 0.3799 - val_accuracy: 0.2100\n",
            "\n",
            "Epoch 00210: val_accuracy improved from 0.20993 to 0.21001, saving model to model.h5\n",
            "Epoch 211/500\n",
            "293/293 [==============================] - 4s 12ms/step - loss: 0.2483 - accuracy: 0.2482 - val_loss: 0.4212 - val_accuracy: 0.1951\n",
            "\n",
            "Epoch 00211: val_accuracy did not improve from 0.21001\n",
            "Epoch 212/500\n",
            "293/293 [==============================] - 3s 12ms/step - loss: 0.2368 - accuracy: 0.2526 - val_loss: 0.4179 - val_accuracy: 0.1969\n",
            "\n",
            "Epoch 00212: val_accuracy did not improve from 0.21001\n",
            "Epoch 213/500\n",
            "293/293 [==============================] - 4s 12ms/step - loss: 0.2449 - accuracy: 0.2502 - val_loss: 0.3939 - val_accuracy: 0.2045\n",
            "\n",
            "Epoch 00213: val_accuracy did not improve from 0.21001\n",
            "Epoch 214/500\n",
            "293/293 [==============================] - 4s 12ms/step - loss: 0.2421 - accuracy: 0.2508 - val_loss: 0.3959 - val_accuracy: 0.2043\n",
            "\n",
            "Epoch 00214: val_accuracy did not improve from 0.21001\n",
            "Epoch 215/500\n",
            "293/293 [==============================] - 4s 12ms/step - loss: 0.2422 - accuracy: 0.2513 - val_loss: 0.4003 - val_accuracy: 0.2021\n",
            "\n",
            "Epoch 00215: val_accuracy did not improve from 0.21001\n",
            "Epoch 216/500\n",
            "293/293 [==============================] - 4s 12ms/step - loss: 0.2420 - accuracy: 0.2510 - val_loss: 0.3893 - val_accuracy: 0.2062\n",
            "\n",
            "Epoch 00216: val_accuracy did not improve from 0.21001\n",
            "Epoch 217/500\n",
            "293/293 [==============================] - 4s 12ms/step - loss: 0.2456 - accuracy: 0.2496 - val_loss: 0.3842 - val_accuracy: 0.2081\n",
            "\n",
            "Epoch 00217: val_accuracy did not improve from 0.21001\n",
            "Epoch 218/500\n",
            "293/293 [==============================] - 4s 12ms/step - loss: 0.2374 - accuracy: 0.2526 - val_loss: 0.4040 - val_accuracy: 0.2028\n",
            "\n",
            "Epoch 00218: val_accuracy did not improve from 0.21001\n",
            "Epoch 219/500\n",
            "293/293 [==============================] - 3s 12ms/step - loss: 0.2402 - accuracy: 0.2520 - val_loss: 0.3860 - val_accuracy: 0.2079\n",
            "\n",
            "Epoch 00219: val_accuracy did not improve from 0.21001\n",
            "Epoch 220/500\n",
            "293/293 [==============================] - 4s 12ms/step - loss: 0.2466 - accuracy: 0.2494 - val_loss: 0.3920 - val_accuracy: 0.2061\n",
            "\n",
            "Epoch 00220: val_accuracy did not improve from 0.21001\n",
            "Epoch 221/500\n",
            "293/293 [==============================] - 4s 12ms/step - loss: 0.2481 - accuracy: 0.2491 - val_loss: 0.3878 - val_accuracy: 0.2074\n",
            "\n",
            "Epoch 00221: val_accuracy did not improve from 0.21001\n",
            "Epoch 222/500\n",
            "293/293 [==============================] - 4s 12ms/step - loss: 0.2431 - accuracy: 0.2507 - val_loss: 0.4109 - val_accuracy: 0.1988\n",
            "\n",
            "Epoch 00222: val_accuracy did not improve from 0.21001\n",
            "Epoch 223/500\n",
            "293/293 [==============================] - 4s 12ms/step - loss: 0.2493 - accuracy: 0.2484 - val_loss: 0.4081 - val_accuracy: 0.1998\n",
            "\n",
            "Epoch 00223: val_accuracy did not improve from 0.21001\n",
            "Epoch 224/500\n",
            "293/293 [==============================] - 4s 12ms/step - loss: 0.2429 - accuracy: 0.2505 - val_loss: 0.3922 - val_accuracy: 0.2058\n",
            "\n",
            "Epoch 00224: val_accuracy did not improve from 0.21001\n",
            "Epoch 225/500\n",
            "293/293 [==============================] - 4s 12ms/step - loss: 0.2409 - accuracy: 0.2515 - val_loss: 0.3836 - val_accuracy: 0.2079\n",
            "\n",
            "Epoch 00225: val_accuracy did not improve from 0.21001\n",
            "Epoch 226/500\n",
            "293/293 [==============================] - 4s 12ms/step - loss: 0.2396 - accuracy: 0.2517 - val_loss: 0.3796 - val_accuracy: 0.2108\n",
            "\n",
            "Epoch 00226: val_accuracy improved from 0.21001 to 0.21081, saving model to model.h5\n",
            "Epoch 227/500\n",
            "293/293 [==============================] - 4s 12ms/step - loss: 0.2363 - accuracy: 0.2527 - val_loss: 0.3968 - val_accuracy: 0.2034\n",
            "\n",
            "Epoch 00227: val_accuracy did not improve from 0.21081\n",
            "Epoch 228/500\n",
            "293/293 [==============================] - 4s 12ms/step - loss: 0.2385 - accuracy: 0.2523 - val_loss: 0.3821 - val_accuracy: 0.2088\n",
            "\n",
            "Epoch 00228: val_accuracy did not improve from 0.21081\n",
            "Epoch 229/500\n",
            "293/293 [==============================] - 4s 12ms/step - loss: 0.2394 - accuracy: 0.2516 - val_loss: 0.3880 - val_accuracy: 0.2071\n",
            "\n",
            "Epoch 00229: val_accuracy did not improve from 0.21081\n",
            "Epoch 230/500\n",
            "293/293 [==============================] - 4s 12ms/step - loss: 0.2349 - accuracy: 0.2532 - val_loss: 0.3935 - val_accuracy: 0.2039\n",
            "\n",
            "Epoch 00230: val_accuracy did not improve from 0.21081\n",
            "Epoch 231/500\n",
            "293/293 [==============================] - 4s 12ms/step - loss: 0.2351 - accuracy: 0.2529 - val_loss: 0.3875 - val_accuracy: 0.2070\n",
            "\n",
            "Epoch 00231: val_accuracy did not improve from 0.21081\n",
            "Epoch 232/500\n",
            "293/293 [==============================] - 4s 12ms/step - loss: 0.2435 - accuracy: 0.2503 - val_loss: 0.3870 - val_accuracy: 0.2069\n",
            "\n",
            "Epoch 00232: val_accuracy did not improve from 0.21081\n",
            "Epoch 233/500\n",
            "293/293 [==============================] - 4s 12ms/step - loss: 0.2443 - accuracy: 0.2496 - val_loss: 0.3854 - val_accuracy: 0.2075\n",
            "\n",
            "Epoch 00233: val_accuracy did not improve from 0.21081\n",
            "Epoch 234/500\n",
            "293/293 [==============================] - 4s 12ms/step - loss: 0.2411 - accuracy: 0.2510 - val_loss: 0.3908 - val_accuracy: 0.2052\n",
            "\n",
            "Epoch 00234: val_accuracy did not improve from 0.21081\n",
            "Epoch 235/500\n",
            "293/293 [==============================] - 4s 12ms/step - loss: 0.2318 - accuracy: 0.2544 - val_loss: 0.3861 - val_accuracy: 0.2073\n",
            "\n",
            "Epoch 00235: val_accuracy did not improve from 0.21081\n",
            "Epoch 236/500\n",
            "293/293 [==============================] - 4s 12ms/step - loss: 0.2413 - accuracy: 0.2507 - val_loss: 0.4020 - val_accuracy: 0.2025\n",
            "\n",
            "Epoch 00236: val_accuracy did not improve from 0.21081\n",
            "Epoch 237/500\n",
            "293/293 [==============================] - 4s 12ms/step - loss: 0.2578 - accuracy: 0.2450 - val_loss: 0.3845 - val_accuracy: 0.2074\n",
            "\n",
            "Epoch 00237: val_accuracy did not improve from 0.21081\n",
            "Epoch 238/500\n",
            "293/293 [==============================] - 4s 12ms/step - loss: 0.2423 - accuracy: 0.2502 - val_loss: 0.4113 - val_accuracy: 0.1982\n",
            "\n",
            "Epoch 00238: val_accuracy did not improve from 0.21081\n",
            "Epoch 239/500\n",
            "293/293 [==============================] - 4s 12ms/step - loss: 0.2409 - accuracy: 0.2510 - val_loss: 0.3892 - val_accuracy: 0.2066\n",
            "\n",
            "Epoch 00239: val_accuracy did not improve from 0.21081\n",
            "Epoch 240/500\n",
            "293/293 [==============================] - 3s 12ms/step - loss: 0.2458 - accuracy: 0.2492 - val_loss: 0.4128 - val_accuracy: 0.1980\n",
            "\n",
            "Epoch 00240: val_accuracy did not improve from 0.21081\n",
            "Epoch 241/500\n",
            "293/293 [==============================] - 4s 12ms/step - loss: 0.2480 - accuracy: 0.2486 - val_loss: 0.3806 - val_accuracy: 0.2090\n",
            "\n",
            "Epoch 00241: val_accuracy did not improve from 0.21081\n",
            "Epoch 242/500\n",
            "293/293 [==============================] - 4s 12ms/step - loss: 0.2455 - accuracy: 0.2492 - val_loss: 0.3988 - val_accuracy: 0.2025\n",
            "\n",
            "Epoch 00242: val_accuracy did not improve from 0.21081\n",
            "Epoch 243/500\n",
            "293/293 [==============================] - 4s 12ms/step - loss: 0.2450 - accuracy: 0.2494 - val_loss: 0.3869 - val_accuracy: 0.2067\n",
            "\n",
            "Epoch 00243: val_accuracy did not improve from 0.21081\n",
            "Epoch 244/500\n",
            "293/293 [==============================] - 4s 12ms/step - loss: 0.2387 - accuracy: 0.2518 - val_loss: 0.3852 - val_accuracy: 0.2074\n",
            "\n",
            "Epoch 00244: val_accuracy did not improve from 0.21081\n",
            "Epoch 245/500\n",
            "293/293 [==============================] - 4s 12ms/step - loss: 0.2450 - accuracy: 0.2496 - val_loss: 0.4013 - val_accuracy: 0.2012\n",
            "\n",
            "Epoch 00245: val_accuracy did not improve from 0.21081\n",
            "Epoch 246/500\n",
            "293/293 [==============================] - 4s 12ms/step - loss: 0.2468 - accuracy: 0.2487 - val_loss: 0.3869 - val_accuracy: 0.2056\n",
            "\n",
            "Epoch 00246: val_accuracy did not improve from 0.21081\n",
            "Epoch 247/500\n",
            "293/293 [==============================] - 4s 12ms/step - loss: 0.2394 - accuracy: 0.2512 - val_loss: 0.3964 - val_accuracy: 0.2031\n",
            "\n",
            "Epoch 00247: val_accuracy did not improve from 0.21081\n",
            "Epoch 248/500\n",
            "293/293 [==============================] - 4s 12ms/step - loss: 0.2484 - accuracy: 0.2481 - val_loss: 0.4032 - val_accuracy: 0.2022\n",
            "\n",
            "Epoch 00248: val_accuracy did not improve from 0.21081\n",
            "Epoch 249/500\n",
            "293/293 [==============================] - 4s 12ms/step - loss: 0.2433 - accuracy: 0.2502 - val_loss: 0.3867 - val_accuracy: 0.2064\n",
            "\n",
            "Epoch 00249: val_accuracy did not improve from 0.21081\n",
            "Epoch 250/500\n",
            "293/293 [==============================] - 4s 12ms/step - loss: 0.2366 - accuracy: 0.2520 - val_loss: 0.3788 - val_accuracy: 0.2093\n",
            "\n",
            "Epoch 00250: val_accuracy did not improve from 0.21081\n",
            "Epoch 251/500\n",
            "293/293 [==============================] - 4s 12ms/step - loss: 0.2347 - accuracy: 0.2528 - val_loss: 0.3910 - val_accuracy: 0.2057\n",
            "\n",
            "Epoch 00251: val_accuracy did not improve from 0.21081\n",
            "Epoch 252/500\n",
            "293/293 [==============================] - 4s 12ms/step - loss: 0.2442 - accuracy: 0.2497 - val_loss: 0.3784 - val_accuracy: 0.2102\n",
            "\n",
            "Epoch 00252: val_accuracy did not improve from 0.21081\n",
            "Epoch 253/500\n",
            "293/293 [==============================] - 4s 12ms/step - loss: 0.2509 - accuracy: 0.2474 - val_loss: 0.4050 - val_accuracy: 0.2008\n",
            "\n",
            "Epoch 00253: val_accuracy did not improve from 0.21081\n",
            "Epoch 254/500\n",
            "293/293 [==============================] - 4s 12ms/step - loss: 0.2437 - accuracy: 0.2501 - val_loss: 0.3849 - val_accuracy: 0.2083\n",
            "\n",
            "Epoch 00254: val_accuracy did not improve from 0.21081\n",
            "Epoch 255/500\n",
            "293/293 [==============================] - 4s 12ms/step - loss: 0.2387 - accuracy: 0.2515 - val_loss: 0.3772 - val_accuracy: 0.2098\n",
            "\n",
            "Epoch 00255: val_accuracy did not improve from 0.21081\n",
            "Epoch 256/500\n",
            "293/293 [==============================] - 4s 12ms/step - loss: 0.2552 - accuracy: 0.2455 - val_loss: 0.3990 - val_accuracy: 0.2030\n",
            "\n",
            "Epoch 00256: val_accuracy did not improve from 0.21081\n",
            "Epoch 257/500\n",
            "293/293 [==============================] - 4s 12ms/step - loss: 0.2401 - accuracy: 0.2507 - val_loss: 0.3872 - val_accuracy: 0.2074\n",
            "\n",
            "Epoch 00257: val_accuracy did not improve from 0.21081\n",
            "Epoch 258/500\n",
            "293/293 [==============================] - 4s 12ms/step - loss: 0.2352 - accuracy: 0.2526 - val_loss: 0.3966 - val_accuracy: 0.2033\n",
            "\n",
            "Epoch 00258: val_accuracy did not improve from 0.21081\n",
            "Epoch 259/500\n",
            "293/293 [==============================] - 4s 12ms/step - loss: 0.2380 - accuracy: 0.2518 - val_loss: 0.3836 - val_accuracy: 0.2080\n",
            "\n",
            "Epoch 00259: val_accuracy did not improve from 0.21081\n",
            "Epoch 260/500\n",
            "293/293 [==============================] - 4s 12ms/step - loss: 0.2454 - accuracy: 0.2492 - val_loss: 0.4046 - val_accuracy: 0.2012\n",
            "\n",
            "Epoch 00260: val_accuracy did not improve from 0.21081\n",
            "Epoch 261/500\n",
            "293/293 [==============================] - 4s 12ms/step - loss: 0.2393 - accuracy: 0.2514 - val_loss: 0.3841 - val_accuracy: 0.2082\n",
            "\n",
            "Epoch 00261: val_accuracy did not improve from 0.21081\n",
            "Epoch 262/500\n",
            "293/293 [==============================] - 4s 12ms/step - loss: 0.2440 - accuracy: 0.2497 - val_loss: 0.3985 - val_accuracy: 0.2025\n",
            "\n",
            "Epoch 00262: val_accuracy did not improve from 0.21081\n",
            "Epoch 263/500\n",
            "293/293 [==============================] - 4s 12ms/step - loss: 0.2394 - accuracy: 0.2514 - val_loss: 0.3949 - val_accuracy: 0.2044\n",
            "\n",
            "Epoch 00263: val_accuracy did not improve from 0.21081\n",
            "Epoch 264/500\n",
            "293/293 [==============================] - 4s 12ms/step - loss: 0.2413 - accuracy: 0.2504 - val_loss: 0.3919 - val_accuracy: 0.2049\n",
            "\n",
            "Epoch 00264: val_accuracy did not improve from 0.21081\n",
            "Epoch 265/500\n",
            "293/293 [==============================] - 4s 12ms/step - loss: 0.2411 - accuracy: 0.2503 - val_loss: 0.3956 - val_accuracy: 0.2043\n",
            "\n",
            "Epoch 00265: val_accuracy did not improve from 0.21081\n",
            "Epoch 266/500\n",
            "293/293 [==============================] - 4s 12ms/step - loss: 0.2392 - accuracy: 0.2516 - val_loss: 0.3989 - val_accuracy: 0.2035\n",
            "\n",
            "Epoch 00266: val_accuracy did not improve from 0.21081\n",
            "Epoch 267/500\n",
            "293/293 [==============================] - 3s 12ms/step - loss: 0.2357 - accuracy: 0.2522 - val_loss: 0.3839 - val_accuracy: 0.2076\n",
            "\n",
            "Epoch 00267: val_accuracy did not improve from 0.21081\n",
            "Epoch 268/500\n",
            "293/293 [==============================] - 4s 12ms/step - loss: 0.2372 - accuracy: 0.2516 - val_loss: 0.3876 - val_accuracy: 0.2061\n",
            "\n",
            "Epoch 00268: val_accuracy did not improve from 0.21081\n",
            "Epoch 269/500\n",
            "293/293 [==============================] - 3s 12ms/step - loss: 0.2425 - accuracy: 0.2503 - val_loss: 0.4042 - val_accuracy: 0.2016\n",
            "\n",
            "Epoch 00269: val_accuracy did not improve from 0.21081\n",
            "Epoch 270/500\n",
            "293/293 [==============================] - 4s 12ms/step - loss: 0.2321 - accuracy: 0.2541 - val_loss: 0.3824 - val_accuracy: 0.2082\n",
            "\n",
            "Epoch 00270: val_accuracy did not improve from 0.21081\n",
            "Epoch 271/500\n",
            "293/293 [==============================] - 4s 12ms/step - loss: 0.2298 - accuracy: 0.2543 - val_loss: 0.3794 - val_accuracy: 0.2094\n",
            "\n",
            "Epoch 00271: val_accuracy did not improve from 0.21081\n",
            "Epoch 272/500\n",
            "293/293 [==============================] - 4s 12ms/step - loss: 0.2251 - accuracy: 0.2561 - val_loss: 0.4343 - val_accuracy: 0.1910\n",
            "\n",
            "Epoch 00272: val_accuracy did not improve from 0.21081\n",
            "Epoch 273/500\n",
            "293/293 [==============================] - 4s 12ms/step - loss: 0.2264 - accuracy: 0.2561 - val_loss: 0.3759 - val_accuracy: 0.2106\n",
            "\n",
            "Epoch 00273: val_accuracy did not improve from 0.21081\n",
            "Epoch 274/500\n",
            "293/293 [==============================] - 4s 12ms/step - loss: 0.2292 - accuracy: 0.2548 - val_loss: 0.3918 - val_accuracy: 0.2049\n",
            "\n",
            "Epoch 00274: val_accuracy did not improve from 0.21081\n",
            "Epoch 275/500\n",
            "293/293 [==============================] - 4s 12ms/step - loss: 0.2472 - accuracy: 0.2486 - val_loss: 0.3924 - val_accuracy: 0.2059\n",
            "\n",
            "Epoch 00275: val_accuracy did not improve from 0.21081\n",
            "Epoch 276/500\n",
            "293/293 [==============================] - 4s 12ms/step - loss: 0.2338 - accuracy: 0.2533 - val_loss: 0.3902 - val_accuracy: 0.2058\n",
            "Restoring model weights from the end of the best epoch.\n",
            "\n",
            "Epoch 00276: val_accuracy did not improve from 0.21081\n",
            "Epoch 00276: early stopping\n"
          ]
        }
      ]
    },
    {
      "cell_type": "code",
      "metadata": {
        "colab": {
          "base_uri": "https://localhost:8080/"
        },
        "id": "OAvJi9RndsTf",
        "outputId": "11b7e342-8262-413d-ce23-e3e8af31bdca"
      },
      "source": [
        "# list all data in history\n",
        "print(history.history.keys())"
      ],
      "execution_count": 47,
      "outputs": [
        {
          "output_type": "stream",
          "name": "stdout",
          "text": [
            "dict_keys(['loss', 'accuracy', 'val_loss', 'val_accuracy', 'lr'])\n"
          ]
        }
      ]
    },
    {
      "cell_type": "code",
      "metadata": {
        "colab": {
          "base_uri": "https://localhost:8080/",
          "height": 295
        },
        "id": "CRUKMJidtBC2",
        "outputId": "222a0782-c47b-461a-fef4-3a4bd06ac36b"
      },
      "source": [
        "# summarize history for accuracy\n",
        "plt.plot(history.history['accuracy'])\n",
        "plt.plot(history.history['val_accuracy'])\n",
        "plt.title('model accuracy')\n",
        "plt.ylabel('accuracy')\n",
        "plt.xlabel('epoch')\n",
        "plt.legend(['train', 'validation'], loc='upper left')\n",
        "plt.show()"
      ],
      "execution_count": 48,
      "outputs": [
        {
          "output_type": "display_data",
          "data": {
            "image/png": "[encoded data removed]",
            "text/plain": [
              "<Figure size 432x288 with 1 Axes>"
            ]
          },
          "metadata": {
            "needs_background": "light"
          }
        }
      ]
    },
    {
      "cell_type": "code",
      "metadata": {
        "colab": {
          "base_uri": "https://localhost:8080/",
          "height": 295
        },
        "id": "arLbJGpHa-JC",
        "outputId": "918604d6-d369-42a8-bd13-da4d603a4544"
      },
      "source": [
        "# summarize history for loss\n",
        "plt.plot(history.history['loss'])\n",
        "plt.plot(history.history['val_loss'])\n",
        "plt.title('model loss')\n",
        "plt.ylabel('loss')\n",
        "plt.xlabel('epoch')\n",
        "plt.legend(['train', 'validation'], loc='upper left')\n",
        "plt.show()"
      ],
      "execution_count": 49,
      "outputs": [
        {
          "output_type": "display_data",
          "data": {
            "image/png": "[encoded data removed]",
            "text/plain": [
              "<Figure size 432x288 with 1 Axes>"
            ]
          },
          "metadata": {
            "needs_background": "light"
          }
        }
      ]
    },
    {
      "cell_type": "code",
      "metadata": {
        "colab": {
          "base_uri": "https://localhost:8080/"
        },
        "id": "Rmx3_vQbfh7J",
        "outputId": "af1fd6d0-c01a-4dff-dccd-dc7b53aaceac"
      },
      "source": [
        "%ls -ltr"
      ],
      "execution_count": 50,
      "outputs": [
        {
          "output_type": "stream",
          "name": "stdout",
          "text": [
            "total 21532\n",
            "-rw------- 1 root root 3898148 Sep 14 19:57 affidavits.csv\n",
            "-rw------- 1 root root  813709 Sep 14 22:38 players_with_hindi_names.json\n",
            "-rw------- 1 root root 5006688 Sep 17 01:54 s2s.h5\n",
            "-rw------- 1 root root   33396 Sep 19 15:55 model_plot_dec.png\n",
            "-rw------- 1 root root 6128992 Sep 19 21:17 model_v1.h5\n",
            "-rw------- 1 root root   36520 Sep 19 22:03 model.png\n",
            "-rw------- 1 root root 6128992 Sep 19 22:17 model.h5\n"
          ]
        }
      ]
    },
    {
      "cell_type": "code",
      "metadata": {
        "colab": {
          "base_uri": "https://localhost:8080/"
        },
        "id": "vm5myRi5tOKl",
        "outputId": "db5fcde5-ccf5-4fd7-e6d2-0d7aa823c2d5"
      },
      "source": [
        "!du -sh model.h5"
      ],
      "execution_count": 51,
      "outputs": [
        {
          "output_type": "stream",
          "name": "stdout",
          "text": [
            "5.9M\tmodel.h5\n"
          ]
        }
      ]
    },
    {
      "cell_type": "markdown",
      "metadata": {
        "id": "qFGXM_d7OOm-"
      },
      "source": [
        "# Inference"
      ]
    },
    {
      "cell_type": "code",
      "metadata": {
        "id": "ICjit4jSOU4O"
      },
      "source": [
        "# Restore the model and construct the encoder and decoder.\n",
        "model = load_model(model_save_filename)"
      ],
      "execution_count": 52,
      "outputs": []
    },
    {
      "cell_type": "code",
      "metadata": {
        "id": "7ZowNfcXmWlL"
      },
      "source": [
        "# Predictions\n",
        "encoder_inputs = model.input[0]  # input_1\n",
        "encoder_outputs, state_h_enc, state_c_enc = model.layers[2].output  # lstm_1\n",
        "encoder_states = [state_h_enc, state_c_enc]\n",
        "\n",
        "encoder_model = Model(encoder_inputs, encoder_states)\n",
        "\n",
        "decoder_inputs = model.input[1]  # input_2\n",
        "decoder_state_input_h = Input(shape=(latent_dim,))\n",
        "decoder_state_input_c = Input(shape=(latent_dim,))\n",
        "decoder_states_inputs = [decoder_state_input_h, decoder_state_input_c]\n",
        "\n",
        "decoder_lstm = model.layers[3]\n",
        "decoder_outputs, state_h_dec, state_c_dec = decoder_lstm(\n",
        "    decoder_inputs, initial_state=decoder_states_inputs\n",
        ")\n",
        "\n",
        "decoder_states = [state_h_dec, state_c_dec]\n",
        "\n",
        "decoder_dense = model.layers[4]\n",
        "decoder_outputs = decoder_dense(decoder_outputs)\n",
        "\n",
        "decoder_model = Model(\n",
        "    [decoder_inputs] + decoder_states_inputs,\n",
        "    [decoder_outputs] + decoder_states\n",
        ")"
      ],
      "execution_count": 53,
      "outputs": []
    },
    {
      "cell_type": "code",
      "metadata": {
        "id": "P-waZOKNPJaS"
      },
      "source": [
        "# Reverse-lookup token index to decode sequences back to\n",
        "# something readable.\n",
        "reverse_input_char_index = dict((i, char) for char, i in input_token_index.items())\n",
        "reverse_target_char_index = dict((i, char) for char, i in target_token_index.items())"
      ],
      "execution_count": 54,
      "outputs": []
    },
    {
      "cell_type": "code",
      "metadata": {
        "colab": {
          "base_uri": "https://localhost:8080/",
          "height": 312
        },
        "id": "90myy-NNvctl",
        "outputId": "326e40d9-9942-463e-f71d-8ce7053822fd"
      },
      "source": [
        "tf.keras.utils.plot_model(decoder_model, to_file='model_plot_dec.png', show_shapes=True, show_layer_names=True)"
      ],
      "execution_count": 55,
      "outputs": [
        {
          "output_type": "execute_result",
          "data": {
            "image/png": "[encoded data removed]",
            "text/plain": [
              "<IPython.core.display.Image object>"
            ]
          },
          "metadata": {},
          "execution_count": 55
        }
      ]
    },
    {
      "cell_type": "code",
      "metadata": {
        "id": "CP-O29K3zeut"
      },
      "source": [
        "def predict_target(input_string):\n",
        "  # convert for encoding \n",
        "  input_data = np.zeros((1, max_encoder_seq_length, num_encoder_tokens), dtype='float32')\n",
        "  for t, char in enumerate(input_string):\n",
        "    input_data[0, t, input_token_index[char]] = 1.\n",
        "\n",
        "  # Encode the input as state vectors.\n",
        "  states_value = encoder_model(input_data)\n",
        "\n",
        "   # Generate empty target sequence of length 1.\n",
        "  target_seq = np.zeros((1, 1, num_decoder_tokens), dtype='float32')\n",
        "  # Populate the first character of target sequence with the start character.\n",
        "  target_seq[0, 0, target_token_index['^']] = 1.0\n",
        "\n",
        "  stop_condition = False\n",
        "  decoded_sentence = \"\"\n",
        "\n",
        "  while True:\n",
        "    output_tokens, d_h, d_c = decoder_model.predict([target_seq] + states_value)\n",
        "    # Sample a token\n",
        "    sampled_token_index = np.argmax(output_tokens[0, -1, :])\n",
        "    sampled_char = reverse_target_char_index[sampled_token_index]\n",
        "\n",
        "    # Exit condition: either hit max length\n",
        "    # or find stop character.\n",
        "    if sampled_char == \"$\" or len(decoded_sentence) > max_decoder_seq_length:\n",
        "      break\n",
        "      \n",
        "    decoded_sentence += sampled_char\n",
        "\n",
        "    # Update the target sequence (of length 1).\n",
        "    target_seq = np.zeros((1, 1, num_decoder_tokens))\n",
        "    target_seq[0, 0, sampled_token_index] = 1.0\n",
        "\n",
        "    # Update states\n",
        "    states_value = [d_h, d_c]\n",
        "  return decoded_sentence"
      ],
      "execution_count": 56,
      "outputs": []
    },
    {
      "cell_type": "code",
      "metadata": {
        "id": "0O9eWBgtvGeM",
        "colab": {
          "base_uri": "https://localhost:8080/",
          "height": 35
        },
        "outputId": "207999b9-9cd2-4131-c98e-b48506affc9d"
      },
      "source": [
        "test_input = 'राजशेखर'\n",
        "predicted_string = predict_target(test_input)\n",
        "predicted_string"
      ],
      "execution_count": 59,
      "outputs": [
        {
          "output_type": "execute_result",
          "data": {
            "application/vnd.google.colaboratory.intrinsic+json": {
              "type": "string"
            },
            "text/plain": [
              "'rajashkar'"
            ]
          },
          "metadata": {},
          "execution_count": 59
        }
      ]
    },
    {
      "cell_type": "code",
      "metadata": {
        "colab": {
          "base_uri": "https://localhost:8080/",
          "height": 35
        },
        "id": "Uy2yjJXZ0MdK",
        "outputId": "b7e65ce1-ddfb-470e-a9c5-3c66a6e94c0e"
      },
      "source": [
        "test_input = 'शारजील'\n",
        "predicted_string = predict_target(test_input)\n",
        "predicted_string"
      ],
      "execution_count": 58,
      "outputs": [
        {
          "output_type": "execute_result",
          "data": {
            "application/vnd.google.colaboratory.intrinsic+json": {
              "type": "string"
            },
            "text/plain": [
              "'saraver'"
            ]
          },
          "metadata": {},
          "execution_count": 58
        }
      ]
    },
    {
      "cell_type": "code",
      "metadata": {
        "id": "q8W7E0Kzka0e"
      },
      "source": [
        ""
      ],
      "execution_count": null,
      "outputs": []
    }
  ]
}