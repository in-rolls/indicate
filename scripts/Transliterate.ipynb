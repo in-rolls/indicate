{
  "nbformat": 4,
  "nbformat_minor": 0,
  "metadata": {
    "colab": {
      "name": "Transliterate.ipynb",
      "provenance": [],
      "collapsed_sections": []
    },
    "kernelspec": {
      "name": "python3",
      "display_name": "Python 3"
    },
    "language_info": {
      "name": "python"
    }
  },
  "cells": [
    {
      "cell_type": "code",
      "metadata": {
        "id": "1T6_tQRr5LsU"
      },
      "source": [
        "import pandas as pd\n",
        "import numpy as np\n",
        "\n",
        "from keras.models import Model, load_model\n",
        "from keras.layers import Input, LSTM, Dense\n",
        "from keras.callbacks import EarlyStopping, ModelCheckpoint\n",
        "\n",
        "import tensorflow as tf\n",
        "import matplotlib.pyplot as plt"
      ],
      "execution_count": 1,
      "outputs": []
    },
    {
      "cell_type": "code",
      "metadata": {
        "colab": {
          "base_uri": "https://localhost:8080/"
        },
        "id": "Cy-GTRyQdjjj",
        "outputId": "5ab58d58-5d1e-40da-b251-4ddee88a6c68"
      },
      "source": [
        "%cd /content/drive/MyDrive/Colab/Transliterate/"
      ],
      "execution_count": 2,
      "outputs": [
        {
          "output_type": "stream",
          "name": "stdout",
          "text": [
            "/content/drive/MyDrive/Colab/Transliterate\n"
          ]
        }
      ]
    },
    {
      "cell_type": "code",
      "metadata": {
        "colab": {
          "base_uri": "https://localhost:8080/"
        },
        "id": "9SQgkSs5drK0",
        "outputId": "7f5af0f0-cfbb-4660-8a69-48b2f3300982"
      },
      "source": [
        "%ls"
      ],
      "execution_count": 3,
      "outputs": [
        {
          "output_type": "stream",
          "name": "stdout",
          "text": [
            "model.h5  model_plot_dec.png  model.png  players_with_hindi_names.json  s2s.h5\n"
          ]
        }
      ]
    },
    {
      "cell_type": "markdown",
      "metadata": {
        "id": "h87l7bzjN4V0"
      },
      "source": [
        "# Preprocessing Data"
      ]
    },
    {
      "cell_type": "code",
      "metadata": {
        "id": "QIlUaSeP54a0"
      },
      "source": [
        "df = pd.read_json('players_with_hindi_names.json')"
      ],
      "execution_count": 4,
      "outputs": []
    },
    {
      "cell_type": "code",
      "metadata": {
        "colab": {
          "base_uri": "https://localhost:8080/",
          "height": 204
        },
        "id": "-8AW_DdX5934",
        "outputId": "f0ae54dc-c8af-457c-b701-55cfa2d99c15"
      },
      "source": [
        "df.head()"
      ],
      "execution_count": 5,
      "outputs": [
        {
          "output_type": "execute_result",
          "data": {
            "text/html": [
              "<div>\n",
              "<style scoped>\n",
              "    .dataframe tbody tr th:only-of-type {\n",
              "        vertical-align: middle;\n",
              "    }\n",
              "\n",
              "    .dataframe tbody tr th {\n",
              "        vertical-align: top;\n",
              "    }\n",
              "\n",
              "    .dataframe thead th {\n",
              "        text-align: right;\n",
              "    }\n",
              "</style>\n",
              "<table border=\"1\" class=\"dataframe\">\n",
              "  <thead>\n",
              "    <tr style=\"text-align: right;\">\n",
              "      <th></th>\n",
              "      <th>id</th>\n",
              "      <th>hindi_name</th>\n",
              "      <th>hindi_long_name</th>\n",
              "      <th>english_name</th>\n",
              "      <th>gender</th>\n",
              "      <th>date_of_birth</th>\n",
              "      <th>country_id</th>\n",
              "      <th>slug</th>\n",
              "    </tr>\n",
              "  </thead>\n",
              "  <tbody>\n",
              "    <tr>\n",
              "      <th>0</th>\n",
              "      <td>90143</td>\n",
              "      <td>आर गुरबाज़</td>\n",
              "      <td>रहमानउल्लाह गुरबाज़</td>\n",
              "      <td>Rahmanullah Gurbaz</td>\n",
              "      <td>M</td>\n",
              "      <td>{'year': 2001, 'month': 11, 'date': 28}</td>\n",
              "      <td>40</td>\n",
              "      <td>rahmanullah-gurbaz</td>\n",
              "    </tr>\n",
              "    <tr>\n",
              "      <th>1</th>\n",
              "      <td>54018</td>\n",
              "      <td>एम रिज़वान</td>\n",
              "      <td>मोहम्मद रिज़वान</td>\n",
              "      <td>Mohammad Rizwan</td>\n",
              "      <td>M</td>\n",
              "      <td>{'year': 1992, 'month': 6, 'date': 1}</td>\n",
              "      <td>7</td>\n",
              "      <td>mohammad-rizwan</td>\n",
              "    </tr>\n",
              "    <tr>\n",
              "      <th>2</th>\n",
              "      <td>47686</td>\n",
              "      <td>एस मक़सूद</td>\n",
              "      <td>सोहेब मक़सूद</td>\n",
              "      <td>Sohaib Maqsood</td>\n",
              "      <td>M</td>\n",
              "      <td>{'year': 1987, 'month': 4, 'date': 15}</td>\n",
              "      <td>7</td>\n",
              "      <td>sohaib-maqsood</td>\n",
              "    </tr>\n",
              "    <tr>\n",
              "      <th>3</th>\n",
              "      <td>53649</td>\n",
              "      <td>आर आर रुसो</td>\n",
              "      <td>राइली रुसो</td>\n",
              "      <td>Rossouw, RR</td>\n",
              "      <td>M</td>\n",
              "      <td>{'year': 1989, 'month': 10, 'date': 9}</td>\n",
              "      <td>3</td>\n",
              "      <td>rilee-rossouw</td>\n",
              "    </tr>\n",
              "    <tr>\n",
              "      <th>4</th>\n",
              "      <td>72393</td>\n",
              "      <td>एस हेटमायर</td>\n",
              "      <td>शिमरॉन हेटमायर</td>\n",
              "      <td>Hetmyer, SO</td>\n",
              "      <td>M</td>\n",
              "      <td>{'year': 1996, 'month': 12, 'date': 26}</td>\n",
              "      <td>4</td>\n",
              "      <td>shimron-hetmyer</td>\n",
              "    </tr>\n",
              "  </tbody>\n",
              "</table>\n",
              "</div>"
            ],
            "text/plain": [
              "      id  hindi_name  ... country_id                slug\n",
              "0  90143  आर गुरबाज़  ...         40  rahmanullah-gurbaz\n",
              "1  54018  एम रिज़वान  ...          7     mohammad-rizwan\n",
              "2  47686   एस मक़सूद  ...          7      sohaib-maqsood\n",
              "3  53649  आर आर रुसो  ...          3       rilee-rossouw\n",
              "4  72393  एस हेटमायर  ...          4     shimron-hetmyer\n",
              "\n",
              "[5 rows x 8 columns]"
            ]
          },
          "metadata": {},
          "execution_count": 5
        }
      ]
    },
    {
      "cell_type": "code",
      "metadata": {
        "id": "AahQxw3J5_ax"
      },
      "source": [
        "input_list =  df['hindi_long_name'].tolist()\n",
        "target_list =  df['english_name'].tolist()"
      ],
      "execution_count": 6,
      "outputs": []
    },
    {
      "cell_type": "code",
      "metadata": {
        "colab": {
          "base_uri": "https://localhost:8080/"
        },
        "id": "lpsCJ3kv7LkA",
        "outputId": "b2e5b9a9-1c87-43ad-c485-7ffd980f5560"
      },
      "source": [
        "print(input_list[0])\n",
        "print(target_list[0])"
      ],
      "execution_count": 7,
      "outputs": [
        {
          "output_type": "stream",
          "name": "stdout",
          "text": [
            "रहमानउल्लाह गुरबाज़\n",
            "Rahmanullah Gurbaz\n"
          ]
        }
      ]
    },
    {
      "cell_type": "code",
      "metadata": {
        "id": "-lM4uQPyM1wn"
      },
      "source": [
        "def isEnglish(s):\n",
        "  try:\n",
        "      s.encode(encoding='utf-8').decode('ascii')\n",
        "  except UnicodeDecodeError:\n",
        "      return False\n",
        "  else:\n",
        "      return True\n",
        "\n",
        "def get_mapping_words(input_list, target_list):\n",
        "  # Build Vocabulary\n",
        "  input_words = list()\n",
        "  target_words = list()\n",
        "  for input_word, target_word in zip(input_list, target_list):\n",
        "    # there are some target words in hindi\n",
        "    if isEnglish(target_word): \n",
        "      # there are 3 ways names are given\n",
        "      # 1. Firstname lastname  Ex ('रहमानउल्लाह गुरबाज़', 'Rahmanullah Gurbaz')\n",
        "      # 2. Lastname, Firstname Initials  Ex ('राइली रुसो', 'Rossouw, RR')\n",
        "      # 3. Lastname. Firstname Initials  Ex ('राइली रुसो', 'Rossouw.RR')\n",
        "      # if comma exists then discard initials\n",
        "      if \",\" in target_word or \".\" in target_word:\n",
        "        hln = input_word.split()[1]\n",
        "        if \",\" in target_word:\n",
        "          eln = target_word.lower().split(',')[0]\n",
        "        else:\n",
        "          eln = target_word.lower().split('.')[0]\n",
        "        input_words.append(hln)\n",
        "        target_words.append(eln)\n",
        "      else:\n",
        "        input_names = input_word.split()\n",
        "        target_names = target_word.split()\n",
        "        # For example - 'लिटन कुमार दास' != Liton Das, remove middle name\n",
        "        if len(input_names) > len(target_names):\n",
        "          del input_names[1] # delete middle name\n",
        "        for idx in range(len(input_names)):\n",
        "          hn = input_names[idx]\n",
        "          en = target_names[idx].lower()\n",
        "          input_words.append(hn)\n",
        "          target_words.append(en)\n",
        "  return input_words, target_words"
      ],
      "execution_count": 8,
      "outputs": []
    },
    {
      "cell_type": "code",
      "metadata": {
        "id": "EOUHHniqNxOw"
      },
      "source": [
        "input_words, target_words = get_mapping_words(input_list, target_list)"
      ],
      "execution_count": 9,
      "outputs": []
    },
    {
      "cell_type": "code",
      "metadata": {
        "colab": {
          "base_uri": "https://localhost:8080/"
        },
        "id": "Ktv2xTXgOBju",
        "outputId": "eeaac841-b22f-4943-8e20-1e866d5e1eb7"
      },
      "source": [
        "# verifying the data\n",
        "print(input_words[20])\n",
        "print(target_words[20])"
      ],
      "execution_count": 10,
      "outputs": [
        {
          "output_type": "stream",
          "name": "stdout",
          "text": [
            "शारजील\n",
            "sharjeel\n"
          ]
        }
      ]
    },
    {
      "cell_type": "code",
      "metadata": {
        "colab": {
          "base_uri": "https://localhost:8080/"
        },
        "id": "X3pGuZOyQ1D2",
        "outputId": "aa92087e-b7e5-4a89-ee22-669745b4fdd6"
      },
      "source": [
        "print(f\"Total number of input words {len(input_words)}\")\n",
        "print(f\"Total number of target words {len(target_words)}\")"
      ],
      "execution_count": 11,
      "outputs": [
        {
          "output_type": "stream",
          "name": "stdout",
          "text": [
            "Total number of input words 2914\n",
            "Total number of target words 2914\n"
          ]
        }
      ]
    },
    {
      "cell_type": "code",
      "metadata": {
        "id": "U5Trw_fmOLi7"
      },
      "source": [
        "def build_vocab(input_words, target_words):\n",
        "  input_vocab = set()\n",
        "  target_vocab = set()\n",
        "  for input_word, target_word in zip(input_words, target_words):\n",
        "      input_vocab.update(set(input_word))\n",
        "      target_vocab.update(set(target_word))\n",
        "  return input_vocab, target_vocab"
      ],
      "execution_count": 12,
      "outputs": []
    },
    {
      "cell_type": "code",
      "metadata": {
        "id": "RlgD8jM0OsHG"
      },
      "source": [
        "input_vocab, target_vocab = build_vocab(input_words, target_words)"
      ],
      "execution_count": 13,
      "outputs": []
    },
    {
      "cell_type": "code",
      "metadata": {
        "id": "I691nnPlhGDE"
      },
      "source": [
        "# append start of word (^) and end of word tokens ($)\n",
        "target_vocab.add('^')\n",
        "target_vocab.add('$')"
      ],
      "execution_count": 14,
      "outputs": []
    },
    {
      "cell_type": "code",
      "metadata": {
        "colab": {
          "base_uri": "https://localhost:8080/"
        },
        "id": "W_wQMLvrOyu_",
        "outputId": "d1623229-3fc8-4b61-d102-63733777634d"
      },
      "source": [
        "print(f\"Total hindi characters {len(input_vocab)}\")\n",
        "print(f\"Total english characters {len(target_vocab)}\")"
      ],
      "execution_count": 15,
      "outputs": [
        {
          "output_type": "stream",
          "name": "stdout",
          "text": [
            "Total hindi characters 53\n",
            "Total english characters 31\n"
          ]
        }
      ]
    },
    {
      "cell_type": "code",
      "metadata": {
        "id": "ztVnKKGsYlFK"
      },
      "source": [
        "input_vocab = sorted(list(input_vocab))\n",
        "target_vocab = sorted(list(target_vocab))"
      ],
      "execution_count": 16,
      "outputs": []
    },
    {
      "cell_type": "code",
      "metadata": {
        "id": "fbJSDwkvXvQp"
      },
      "source": [
        "input_token_index = dict([(char, i) for i, char in enumerate(input_vocab)])\n",
        "target_token_index = dict([(char, i) for i, char in enumerate(target_vocab)])"
      ],
      "execution_count": 17,
      "outputs": []
    },
    {
      "cell_type": "code",
      "metadata": {
        "id": "-dxT9ms4YG1y"
      },
      "source": [
        "num_encoder_tokens = len(input_vocab)\n",
        "num_decoder_tokens = len(target_vocab)"
      ],
      "execution_count": 18,
      "outputs": []
    },
    {
      "cell_type": "code",
      "metadata": {
        "id": "DZguL8LRY8Bl"
      },
      "source": [
        "max_encoder_seq_length = max([len(txt) for txt in input_words])\n",
        "max_decoder_seq_length = max([len(txt) for txt in target_words])\n",
        "# for start & end of the word\n",
        "max_decoder_seq_length += 1"
      ],
      "execution_count": 19,
      "outputs": []
    },
    {
      "cell_type": "code",
      "metadata": {
        "colab": {
          "base_uri": "https://localhost:8080/"
        },
        "id": "HZLsjCHrZGuP",
        "outputId": "6333cece-74f5-4ad0-d212-46c936e2d643"
      },
      "source": [
        "print('Number of samples:', len(input_words))\n",
        "print('Number of unique input tokens:', num_encoder_tokens)\n",
        "print('Number of unique output tokens:', num_decoder_tokens)\n",
        "print('Max sequence length for inputs:', max_encoder_seq_length)\n",
        "print('Max sequence length for outputs:', max_decoder_seq_length)"
      ],
      "execution_count": 20,
      "outputs": [
        {
          "output_type": "stream",
          "name": "stdout",
          "text": [
            "Number of samples: 2914\n",
            "Number of unique input tokens: 53\n",
            "Number of unique output tokens: 31\n",
            "Max sequence length for inputs: 13\n",
            "Max sequence length for outputs: 16\n"
          ]
        }
      ]
    },
    {
      "cell_type": "code",
      "metadata": {
        "id": "nbXBdUGOZO3_"
      },
      "source": [
        "encoder_input_data = np.zeros((len(input_words), max_encoder_seq_length, num_encoder_tokens), dtype='float32')\n",
        "decoder_input_data = np.zeros((len(input_words), max_decoder_seq_length, num_decoder_tokens), dtype='float32')\n",
        "decoder_target_data = np.zeros( (len(input_words), max_decoder_seq_length, num_decoder_tokens), dtype='float32')"
      ],
      "execution_count": 21,
      "outputs": []
    },
    {
      "cell_type": "code",
      "metadata": {
        "colab": {
          "base_uri": "https://localhost:8080/"
        },
        "id": "HO9DgOJOZgpe",
        "outputId": "8ae01e8a-73b0-448b-ba3e-d12b905760b1"
      },
      "source": [
        "print(f\"encoder input shape {encoder_input_data.shape}\")\n",
        "print(f\"decoder input shape {decoder_input_data.shape}\")\n",
        "print(f\"decoder target shape {decoder_target_data.shape}\")"
      ],
      "execution_count": 22,
      "outputs": [
        {
          "output_type": "stream",
          "name": "stdout",
          "text": [
            "encoder input shape (2914, 13, 53)\n",
            "decoder input shape (2914, 16, 31)\n",
            "decoder target shape (2914, 16, 31)\n"
          ]
        }
      ]
    },
    {
      "cell_type": "code",
      "metadata": {
        "id": "9KGNey6fZ05q"
      },
      "source": [
        "for i, (input_text, target_text) in enumerate(zip(input_words, target_words)):\n",
        "  for t, char in enumerate(input_text):\n",
        "    encoder_input_data[i, t, input_token_index[char]] = 1.0\n",
        "\n",
        "  target_text_w_sow = '^' + target_text \n",
        "  for t, char in enumerate(target_text_w_sow):\n",
        "    decoder_input_data[i, t, target_token_index[char]] = 1.0\n",
        "\n",
        "  target_text_w_eow = target_text + '$'\n",
        "  for t, char in enumerate(target_text_w_eow):\n",
        "    decoder_target_data[i, t, target_token_index[char]] = 1.0"
      ],
      "execution_count": 23,
      "outputs": []
    },
    {
      "cell_type": "markdown",
      "metadata": {
        "id": "0CZd0uprOC5u"
      },
      "source": [
        "# Define Model"
      ]
    },
    {
      "cell_type": "code",
      "metadata": {
        "id": "0F1B0ezJcehK"
      },
      "source": [
        "latent_dim = 256  # Latent dimensionality of the encoding space.\n",
        "\n",
        "# Define an input sequence and process it.\n",
        "encoder_inputs = Input(shape=(None, num_encoder_tokens))\n",
        "encoder = LSTM(latent_dim, return_state=True)\n",
        "encoder_outputs, state_h, state_c = encoder(encoder_inputs)"
      ],
      "execution_count": 24,
      "outputs": []
    },
    {
      "cell_type": "code",
      "metadata": {
        "id": "5HwwbMh4ePUh"
      },
      "source": [
        "# We discard `encoder_outputs` and only keep the states.\n",
        "encoder_states = [state_h, state_c]"
      ],
      "execution_count": 25,
      "outputs": []
    },
    {
      "cell_type": "code",
      "metadata": {
        "id": "lU1nJGWEeSRT"
      },
      "source": [
        "# Set up the decoder, using `encoder_states` as initial state.\n",
        "decoder_inputs = Input(shape=(None, num_decoder_tokens))"
      ],
      "execution_count": 26,
      "outputs": []
    },
    {
      "cell_type": "code",
      "metadata": {
        "id": "D4g-jGmUeeL4"
      },
      "source": [
        "# We set up our decoder to return full output sequences,\n",
        "# and to return internal states as well. We don't use the\n",
        "# return states in the training model, but we will use them in inference.\n",
        "decoder_lstm = LSTM(latent_dim, return_sequences=True, return_state=True)\n",
        "decoder_outputs, _, _ = decoder_lstm(decoder_inputs, initial_state=encoder_states)\n",
        "decoder_dense = Dense(num_decoder_tokens, activation='softmax')\n",
        "decoder_outputs = decoder_dense(decoder_outputs)"
      ],
      "execution_count": 27,
      "outputs": []
    },
    {
      "cell_type": "code",
      "metadata": {
        "id": "voLTGIiBeyKO"
      },
      "source": [
        "# Define the model that will turn\n",
        "# `encoder_input_data` & `decoder_input_data` into `decoder_target_data`\n",
        "model = Model([encoder_inputs, decoder_inputs], decoder_outputs)"
      ],
      "execution_count": 28,
      "outputs": []
    },
    {
      "cell_type": "code",
      "metadata": {
        "colab": {
          "base_uri": "https://localhost:8080/"
        },
        "id": "iShaSKTZYbxl",
        "outputId": "89564c60-09fb-4ddf-92a5-76d3576e0ccd"
      },
      "source": [
        "model.summary()"
      ],
      "execution_count": 29,
      "outputs": [
        {
          "output_type": "stream",
          "name": "stdout",
          "text": [
            "Model: \"model\"\n",
            "__________________________________________________________________________________________________\n",
            "Layer (type)                    Output Shape         Param #     Connected to                     \n",
            "==================================================================================================\n",
            "input_1 (InputLayer)            [(None, None, 53)]   0                                            \n",
            "__________________________________________________________________________________________________\n",
            "input_2 (InputLayer)            [(None, None, 31)]   0                                            \n",
            "__________________________________________________________________________________________________\n",
            "lstm (LSTM)                     [(None, 256), (None, 317440      input_1[0][0]                    \n",
            "__________________________________________________________________________________________________\n",
            "lstm_1 (LSTM)                   [(None, None, 256),  294912      input_2[0][0]                    \n",
            "                                                                 lstm[0][1]                       \n",
            "                                                                 lstm[0][2]                       \n",
            "__________________________________________________________________________________________________\n",
            "dense (Dense)                   (None, None, 31)     7967        lstm_1[0][0]                     \n",
            "==================================================================================================\n",
            "Total params: 620,319\n",
            "Trainable params: 620,319\n",
            "Non-trainable params: 0\n",
            "__________________________________________________________________________________________________\n"
          ]
        }
      ]
    },
    {
      "cell_type": "code",
      "metadata": {
        "colab": {
          "base_uri": "https://localhost:8080/",
          "height": 422
        },
        "id": "mfGcinDOYqKl",
        "outputId": "04a5d06d-0c41-4bac-cfec-fa74aa3ffca3"
      },
      "source": [
        "tf.keras.utils.plot_model(model, show_shapes=True, show_layer_names=True)"
      ],
      "execution_count": 30,
      "outputs": [
        {
          "output_type": "execute_result",
          "data": {
            "image/png": "[encoded data removed]",
            "text/plain": [
              "<IPython.core.display.Image object>"
            ]
          },
          "metadata": {},
          "execution_count": 30
        }
      ]
    },
    {
      "cell_type": "markdown",
      "metadata": {
        "id": "eMp54YzsOKwn"
      },
      "source": [
        "# Train"
      ]
    },
    {
      "cell_type": "code",
      "metadata": {
        "colab": {
          "base_uri": "https://localhost:8080/"
        },
        "id": "CbARhubxe2yA",
        "outputId": "b5741b4d-7638-451a-b51d-0f37535acc50"
      },
      "source": [
        "# Training\n",
        "batch_size = 32  # Batch size for training.\n",
        "epochs = 200  # Number of epochs to train for.\n",
        "\n",
        "# Add callbacks:\n",
        "# 'EarlyStopping' to stop training when the model is not enhancing anymore\n",
        "# 'ModelCheckPoint' to always keep the model that has the best val_accuracy\n",
        "model_save_filename = \"model.h5\"\n",
        "\n",
        "def scheduler(epoch, lr):\n",
        "  if epoch < 10:\n",
        "    return lr\n",
        "  else:\n",
        "    return lr * tf.math.exp(-0.1)\n",
        "\n",
        "earlystopping_cb = EarlyStopping(patience=10, restore_best_weights=True)\n",
        "mdlcheckpoint_cb = ModelCheckpoint(\n",
        "    model_save_filename, monitor=\"val_accuracy\", save_best_only=True\n",
        ")\n",
        "lrscheduler_cb = tf.keras.callbacks.LearningRateScheduler(scheduler)\n",
        "\n",
        "model.compile(\n",
        "    optimizer=tf.keras.optimizers.RMSprop(learning_rate=0.01), \n",
        "    loss='categorical_crossentropy', \n",
        "    metrics=['accuracy'])\n",
        "\n",
        "\n",
        "history = model.fit([encoder_input_data, decoder_input_data], decoder_target_data,\n",
        "          batch_size=batch_size, epochs=epochs,  validation_split=0.2, \n",
        "          callbacks=[earlystopping_cb, mdlcheckpoint_cb, lrscheduler_cb])"
      ],
      "execution_count": 31,
      "outputs": [
        {
          "output_type": "stream",
          "name": "stdout",
          "text": [
            "Epoch 1/200\n",
            "73/73 [==============================] - 13s 130ms/step - loss: 1.2860 - accuracy: 0.0971 - val_loss: 1.1347 - val_accuracy: 0.0803\n",
            "Epoch 2/200\n",
            "73/73 [==============================] - 9s 119ms/step - loss: 1.1368 - accuracy: 0.1314 - val_loss: 1.0209 - val_accuracy: 0.1225\n",
            "Epoch 3/200\n",
            "73/73 [==============================] - 9s 118ms/step - loss: 0.9668 - accuracy: 0.1804 - val_loss: 0.8894 - val_accuracy: 0.1547\n",
            "Epoch 4/200\n",
            "73/73 [==============================] - 9s 121ms/step - loss: 0.8245 - accuracy: 0.2246 - val_loss: 0.7670 - val_accuracy: 0.2296\n",
            "Epoch 5/200\n",
            "73/73 [==============================] - 9s 119ms/step - loss: 0.6834 - accuracy: 0.2682 - val_loss: 0.7266 - val_accuracy: 0.2208\n",
            "Epoch 6/200\n",
            "73/73 [==============================] - 9s 117ms/step - loss: 0.5558 - accuracy: 0.3086 - val_loss: 0.5890 - val_accuracy: 0.2828\n",
            "Epoch 7/200\n",
            "73/73 [==============================] - 9s 118ms/step - loss: 0.4721 - accuracy: 0.3367 - val_loss: 0.5753 - val_accuracy: 0.2872\n",
            "Epoch 8/200\n",
            "73/73 [==============================] - 9s 120ms/step - loss: 0.3977 - accuracy: 0.3574 - val_loss: 0.5394 - val_accuracy: 0.2946\n",
            "Epoch 9/200\n",
            "73/73 [==============================] - 9s 120ms/step - loss: 0.3477 - accuracy: 0.3680 - val_loss: 0.5318 - val_accuracy: 0.3062\n",
            "Epoch 10/200\n",
            "73/73 [==============================] - 9s 119ms/step - loss: 0.3024 - accuracy: 0.3778 - val_loss: 0.5115 - val_accuracy: 0.3131\n",
            "Epoch 11/200\n",
            "73/73 [==============================] - 9s 120ms/step - loss: 0.2586 - accuracy: 0.3963 - val_loss: 0.4978 - val_accuracy: 0.3170\n",
            "Epoch 12/200\n",
            "73/73 [==============================] - 9s 120ms/step - loss: 0.2266 - accuracy: 0.4047 - val_loss: 0.4797 - val_accuracy: 0.3166\n",
            "Epoch 13/200\n",
            "73/73 [==============================] - 9s 118ms/step - loss: 0.2042 - accuracy: 0.4100 - val_loss: 0.4512 - val_accuracy: 0.3257\n",
            "Epoch 14/200\n",
            "73/73 [==============================] - 9s 117ms/step - loss: 0.1792 - accuracy: 0.4181 - val_loss: 0.4310 - val_accuracy: 0.3359\n",
            "Epoch 15/200\n",
            "73/73 [==============================] - 9s 119ms/step - loss: 0.1537 - accuracy: 0.4240 - val_loss: 0.4309 - val_accuracy: 0.3331\n",
            "Epoch 16/200\n",
            "73/73 [==============================] - 9s 117ms/step - loss: 0.1454 - accuracy: 0.4241 - val_loss: 0.4017 - val_accuracy: 0.3441\n",
            "Epoch 17/200\n",
            "73/73 [==============================] - 8s 116ms/step - loss: 0.1297 - accuracy: 0.4283 - val_loss: 0.3936 - val_accuracy: 0.3452\n",
            "Epoch 18/200\n",
            "73/73 [==============================] - 9s 119ms/step - loss: 0.1189 - accuracy: 0.4300 - val_loss: 0.3837 - val_accuracy: 0.3497\n",
            "Epoch 19/200\n",
            "73/73 [==============================] - 9s 118ms/step - loss: 0.1088 - accuracy: 0.4317 - val_loss: 0.3774 - val_accuracy: 0.3522\n",
            "Epoch 20/200\n",
            "73/73 [==============================] - 9s 119ms/step - loss: 0.1052 - accuracy: 0.4335 - val_loss: 0.3682 - val_accuracy: 0.3573\n",
            "Epoch 21/200\n",
            "73/73 [==============================] - 9s 118ms/step - loss: 0.0978 - accuracy: 0.4357 - val_loss: 0.3557 - val_accuracy: 0.3581\n",
            "Epoch 22/200\n",
            "73/73 [==============================] - 9s 118ms/step - loss: 0.0902 - accuracy: 0.4376 - val_loss: 0.3547 - val_accuracy: 0.3607\n",
            "Epoch 23/200\n",
            "73/73 [==============================] - 9s 118ms/step - loss: 0.0845 - accuracy: 0.4390 - val_loss: 0.3523 - val_accuracy: 0.3560\n",
            "Epoch 24/200\n",
            "73/73 [==============================] - 9s 118ms/step - loss: 0.0822 - accuracy: 0.4394 - val_loss: 0.3472 - val_accuracy: 0.3635\n",
            "Epoch 25/200\n",
            "73/73 [==============================] - 9s 119ms/step - loss: 0.0790 - accuracy: 0.4402 - val_loss: 0.3404 - val_accuracy: 0.3603\n",
            "Epoch 26/200\n",
            "73/73 [==============================] - 9s 120ms/step - loss: 0.0751 - accuracy: 0.4408 - val_loss: 0.3400 - val_accuracy: 0.3654\n",
            "Epoch 27/200\n",
            "73/73 [==============================] - 9s 120ms/step - loss: 0.0720 - accuracy: 0.4414 - val_loss: 0.3432 - val_accuracy: 0.3632\n",
            "Epoch 28/200\n",
            "73/73 [==============================] - 9s 121ms/step - loss: 0.0712 - accuracy: 0.4415 - val_loss: 0.3459 - val_accuracy: 0.3643\n",
            "Epoch 29/200\n",
            "73/73 [==============================] - 9s 119ms/step - loss: 0.0683 - accuracy: 0.4420 - val_loss: 0.3421 - val_accuracy: 0.3639\n",
            "Epoch 30/200\n",
            "73/73 [==============================] - 9s 122ms/step - loss: 0.0653 - accuracy: 0.4426 - val_loss: 0.3386 - val_accuracy: 0.3657\n",
            "Epoch 31/200\n",
            "73/73 [==============================] - 9s 121ms/step - loss: 0.0627 - accuracy: 0.4429 - val_loss: 0.3376 - val_accuracy: 0.3665\n",
            "Epoch 32/200\n",
            "73/73 [==============================] - 9s 120ms/step - loss: 0.0605 - accuracy: 0.4433 - val_loss: 0.3348 - val_accuracy: 0.3649\n",
            "Epoch 33/200\n",
            "73/73 [==============================] - 9s 118ms/step - loss: 0.0589 - accuracy: 0.4437 - val_loss: 0.3376 - val_accuracy: 0.3648\n",
            "Epoch 34/200\n",
            "73/73 [==============================] - 9s 118ms/step - loss: 0.0575 - accuracy: 0.4440 - val_loss: 0.3315 - val_accuracy: 0.3672\n",
            "Epoch 35/200\n",
            "73/73 [==============================] - 9s 118ms/step - loss: 0.0562 - accuracy: 0.4444 - val_loss: 0.3377 - val_accuracy: 0.3672\n",
            "Epoch 36/200\n",
            "73/73 [==============================] - 9s 117ms/step - loss: 0.0552 - accuracy: 0.4445 - val_loss: 0.3327 - val_accuracy: 0.3672\n",
            "Epoch 37/200\n",
            "73/73 [==============================] - 9s 117ms/step - loss: 0.0542 - accuracy: 0.4448 - val_loss: 0.3333 - val_accuracy: 0.3676\n",
            "Epoch 38/200\n",
            "73/73 [==============================] - 9s 122ms/step - loss: 0.0532 - accuracy: 0.4450 - val_loss: 0.3309 - val_accuracy: 0.3670\n",
            "Epoch 39/200\n",
            "73/73 [==============================] - 9s 121ms/step - loss: 0.0525 - accuracy: 0.4453 - val_loss: 0.3326 - val_accuracy: 0.3678\n",
            "Epoch 40/200\n",
            "73/73 [==============================] - 9s 120ms/step - loss: 0.0517 - accuracy: 0.4454 - val_loss: 0.3282 - val_accuracy: 0.3679\n",
            "Epoch 41/200\n",
            "73/73 [==============================] - 9s 117ms/step - loss: 0.0514 - accuracy: 0.4454 - val_loss: 0.3293 - val_accuracy: 0.3679\n",
            "Epoch 42/200\n",
            "73/73 [==============================] - 9s 118ms/step - loss: 0.0508 - accuracy: 0.4455 - val_loss: 0.3277 - val_accuracy: 0.3679\n",
            "Epoch 43/200\n",
            "73/73 [==============================] - 9s 117ms/step - loss: 0.0501 - accuracy: 0.4458 - val_loss: 0.3301 - val_accuracy: 0.3672\n",
            "Epoch 44/200\n",
            "73/73 [==============================] - 9s 117ms/step - loss: 0.0492 - accuracy: 0.4460 - val_loss: 0.3289 - val_accuracy: 0.3677\n",
            "Epoch 45/200\n",
            "73/73 [==============================] - 9s 117ms/step - loss: 0.0488 - accuracy: 0.4461 - val_loss: 0.3284 - val_accuracy: 0.3672\n",
            "Epoch 46/200\n",
            "73/73 [==============================] - 9s 119ms/step - loss: 0.0486 - accuracy: 0.4462 - val_loss: 0.3281 - val_accuracy: 0.3680\n",
            "Epoch 47/200\n",
            "73/73 [==============================] - 9s 121ms/step - loss: 0.0482 - accuracy: 0.4465 - val_loss: 0.3298 - val_accuracy: 0.3677\n",
            "Epoch 48/200\n",
            "73/73 [==============================] - 9s 120ms/step - loss: 0.0480 - accuracy: 0.4466 - val_loss: 0.3275 - val_accuracy: 0.3675\n",
            "Epoch 49/200\n",
            "73/73 [==============================] - 9s 120ms/step - loss: 0.0478 - accuracy: 0.4466 - val_loss: 0.3285 - val_accuracy: 0.3670\n",
            "Epoch 50/200\n",
            "73/73 [==============================] - 9s 120ms/step - loss: 0.0475 - accuracy: 0.4466 - val_loss: 0.3282 - val_accuracy: 0.3667\n",
            "Epoch 51/200\n",
            "73/73 [==============================] - 9s 120ms/step - loss: 0.0472 - accuracy: 0.4466 - val_loss: 0.3277 - val_accuracy: 0.3670\n",
            "Epoch 52/200\n",
            "73/73 [==============================] - 9s 121ms/step - loss: 0.0472 - accuracy: 0.4467 - val_loss: 0.3276 - val_accuracy: 0.3670\n",
            "Epoch 53/200\n",
            "73/73 [==============================] - 9s 121ms/step - loss: 0.0468 - accuracy: 0.4466 - val_loss: 0.3285 - val_accuracy: 0.3670\n",
            "Epoch 54/200\n",
            "73/73 [==============================] - 9s 119ms/step - loss: 0.0466 - accuracy: 0.4467 - val_loss: 0.3285 - val_accuracy: 0.3670\n",
            "Epoch 55/200\n",
            "73/73 [==============================] - 9s 119ms/step - loss: 0.0463 - accuracy: 0.4467 - val_loss: 0.3286 - val_accuracy: 0.3667\n",
            "Epoch 56/200\n",
            "73/73 [==============================] - 9s 120ms/step - loss: 0.0460 - accuracy: 0.4467 - val_loss: 0.3286 - val_accuracy: 0.3661\n",
            "Epoch 57/200\n",
            "73/73 [==============================] - 9s 121ms/step - loss: 0.0458 - accuracy: 0.4468 - val_loss: 0.3287 - val_accuracy: 0.3661\n",
            "Epoch 58/200\n",
            "73/73 [==============================] - 9s 120ms/step - loss: 0.0457 - accuracy: 0.4468 - val_loss: 0.3284 - val_accuracy: 0.3662\n"
          ]
        }
      ]
    },
    {
      "cell_type": "code",
      "metadata": {
        "colab": {
          "base_uri": "https://localhost:8080/"
        },
        "id": "OAvJi9RndsTf",
        "outputId": "68eba9a3-2045-4926-a2dd-e70ffc848af2"
      },
      "source": [
        "# list all data in history\n",
        "print(history.history.keys())"
      ],
      "execution_count": 32,
      "outputs": [
        {
          "output_type": "stream",
          "name": "stdout",
          "text": [
            "dict_keys(['loss', 'accuracy', 'val_loss', 'val_accuracy', 'lr'])\n"
          ]
        }
      ]
    },
    {
      "cell_type": "code",
      "metadata": {
        "colab": {
          "base_uri": "https://localhost:8080/",
          "height": 295
        },
        "id": "CRUKMJidtBC2",
        "outputId": "59d88b5d-d725-4452-dce3-63246a2ed91e"
      },
      "source": [
        "# summarize history for accuracy\n",
        "plt.plot(history.history['accuracy'])\n",
        "plt.plot(history.history['val_accuracy'])\n",
        "plt.title('model accuracy')\n",
        "plt.ylabel('accuracy')\n",
        "plt.xlabel('epoch')\n",
        "plt.legend(['train', 'validation'], loc='upper left')\n",
        "plt.show()"
      ],
      "execution_count": 33,
      "outputs": [
        {
          "output_type": "display_data",
          "data": {
            "image/png": "[encoded data removed]",
            "text/plain": [
              "<Figure size 432x288 with 1 Axes>"
            ]
          },
          "metadata": {
            "needs_background": "light"
          }
        }
      ]
    },
    {
      "cell_type": "code",
      "metadata": {
        "colab": {
          "base_uri": "https://localhost:8080/",
          "height": 295
        },
        "id": "arLbJGpHa-JC",
        "outputId": "375d1396-985d-4646-e4be-35811532a3c4"
      },
      "source": [
        "# summarize history for loss\n",
        "plt.plot(history.history['loss'])\n",
        "plt.plot(history.history['val_loss'])\n",
        "plt.title('model loss')\n",
        "plt.ylabel('loss')\n",
        "plt.xlabel('epoch')\n",
        "plt.legend(['train', 'validation'], loc='upper left')\n",
        "plt.show()"
      ],
      "execution_count": 34,
      "outputs": [
        {
          "output_type": "display_data",
          "data": {
            "image/png": "[encoded data removed]",
            "text/plain": [
              "<Figure size 432x288 with 1 Axes>"
            ]
          },
          "metadata": {
            "needs_background": "light"
          }
        }
      ]
    },
    {
      "cell_type": "code",
      "metadata": {
        "colab": {
          "base_uri": "https://localhost:8080/"
        },
        "id": "Rmx3_vQbfh7J",
        "outputId": "6b63f8d0-3781-4272-81e0-3fb7acf82013"
      },
      "source": [
        "%ls -ltr"
      ],
      "execution_count": 35,
      "outputs": [
        {
          "output_type": "stream",
          "name": "stdout",
          "text": [
            "total 10643\n",
            "-rw------- 1 root root  813709 Sep 14 22:38 players_with_hindi_names.json\n",
            "-rw------- 1 root root 5006688 Sep 17 01:54 s2s.h5\n",
            "-rw------- 1 root root   33486 Sep 17 17:16 model_plot_dec.png\n",
            "-rw------- 1 root root   36092 Sep 17 17:20 model.png\n",
            "-rw------- 1 root root 5006688 Sep 17 17:27 model.h5\n"
          ]
        }
      ]
    },
    {
      "cell_type": "code",
      "metadata": {
        "colab": {
          "base_uri": "https://localhost:8080/"
        },
        "id": "vm5myRi5tOKl",
        "outputId": "27f71300-9a72-4d4f-8913-03b40c1442e0"
      },
      "source": [
        "!du -sh model.h5"
      ],
      "execution_count": 36,
      "outputs": [
        {
          "output_type": "stream",
          "name": "stdout",
          "text": [
            "4.8M\tmodel.h5\n"
          ]
        }
      ]
    },
    {
      "cell_type": "markdown",
      "metadata": {
        "id": "qFGXM_d7OOm-"
      },
      "source": [
        "# Inference"
      ]
    },
    {
      "cell_type": "code",
      "metadata": {
        "id": "ICjit4jSOU4O"
      },
      "source": [
        "# Restore the model and construct the encoder and decoder.\n",
        "model = load_model(model_save_filename)"
      ],
      "execution_count": 37,
      "outputs": []
    },
    {
      "cell_type": "code",
      "metadata": {
        "id": "7ZowNfcXmWlL"
      },
      "source": [
        "# Predictions\n",
        "encoder_inputs = model.input[0]  # input_1\n",
        "encoder_outputs, state_h_enc, state_c_enc = model.layers[2].output  # lstm_1\n",
        "encoder_states = [state_h_enc, state_c_enc]\n",
        "\n",
        "encoder_model = Model(encoder_inputs, encoder_states)\n",
        "\n",
        "decoder_inputs = model.input[1]  # input_2\n",
        "decoder_state_input_h = Input(shape=(latent_dim,))\n",
        "decoder_state_input_c = Input(shape=(latent_dim,))\n",
        "decoder_states_inputs = [decoder_state_input_h, decoder_state_input_c]\n",
        "\n",
        "decoder_lstm = model.layers[3]\n",
        "decoder_outputs, state_h_dec, state_c_dec = decoder_lstm(\n",
        "    decoder_inputs, initial_state=decoder_states_inputs\n",
        ")\n",
        "\n",
        "decoder_states = [state_h_dec, state_c_dec]\n",
        "\n",
        "decoder_dense = model.layers[4]\n",
        "decoder_outputs = decoder_dense(decoder_outputs)\n",
        "\n",
        "decoder_model = Model(\n",
        "    [decoder_inputs] + decoder_states_inputs,\n",
        "    [decoder_outputs] + decoder_states\n",
        ")"
      ],
      "execution_count": 38,
      "outputs": []
    },
    {
      "cell_type": "code",
      "metadata": {
        "id": "P-waZOKNPJaS"
      },
      "source": [
        "# Reverse-lookup token index to decode sequences back to\n",
        "# something readable.\n",
        "reverse_input_char_index = dict((i, char) for char, i in input_token_index.items())\n",
        "reverse_target_char_index = dict((i, char) for char, i in target_token_index.items())"
      ],
      "execution_count": 39,
      "outputs": []
    },
    {
      "cell_type": "code",
      "metadata": {
        "colab": {
          "base_uri": "https://localhost:8080/",
          "height": 290
        },
        "id": "90myy-NNvctl",
        "outputId": "5a5cc75b-b14d-4644-b3ef-85a09e1f9a3f"
      },
      "source": [
        "tf.keras.utils.plot_model(decoder_model, to_file='model_plot_dec.png', show_shapes=True, show_layer_names=True)"
      ],
      "execution_count": 40,
      "outputs": [
        {
          "output_type": "execute_result",
          "data": {
            "image/png": "[encoded data removed]",
            "text/plain": [
              "<IPython.core.display.Image object>"
            ]
          },
          "metadata": {},
          "execution_count": 40
        }
      ]
    },
    {
      "cell_type": "code",
      "metadata": {
        "id": "CP-O29K3zeut"
      },
      "source": [
        "def predict_target(input_string):\n",
        "  # convert for encoding \n",
        "  input_data = np.zeros((1, max_encoder_seq_length, num_encoder_tokens), dtype='float32')\n",
        "  for t, char in enumerate(input_string):\n",
        "    input_data[0, t, input_token_index[char]] = 1.\n",
        "\n",
        "  # Encode the input as state vectors.\n",
        "  states_value = encoder_model(input_data)\n",
        "\n",
        "   # Generate empty target sequence of length 1.\n",
        "  target_seq = np.zeros((1, 1, num_decoder_tokens), dtype='float32')\n",
        "  # Populate the first character of target sequence with the start character.\n",
        "  target_seq[0, 0, target_token_index['^']] = 1.0\n",
        "\n",
        "  stop_condition = False\n",
        "  decoded_sentence = \"\"\n",
        "\n",
        "  while True:\n",
        "    output_tokens, d_h, d_c = decoder_model.predict([target_seq] + states_value)\n",
        "    # Sample a token\n",
        "    sampled_token_index = np.argmax(output_tokens[0, -1, :])\n",
        "    sampled_char = reverse_target_char_index[sampled_token_index]\n",
        "\n",
        "    # Exit condition: either hit max length\n",
        "    # or find stop character.\n",
        "    if sampled_char == \"$\" or len(decoded_sentence) > max_decoder_seq_length:\n",
        "      break\n",
        "      \n",
        "    decoded_sentence += sampled_char\n",
        "\n",
        "    # Update the target sequence (of length 1).\n",
        "    target_seq = np.zeros((1, 1, num_decoder_tokens))\n",
        "    target_seq[0, 0, sampled_token_index] = 1.0\n",
        "\n",
        "    # Update states\n",
        "    states_value = [d_h, d_c]\n",
        "  return decoded_sentence"
      ],
      "execution_count": 41,
      "outputs": []
    },
    {
      "cell_type": "code",
      "metadata": {
        "id": "0O9eWBgtvGeM",
        "colab": {
          "base_uri": "https://localhost:8080/",
          "height": 35
        },
        "outputId": "6bd5eaa4-6f8b-4735-9a9f-5bd87d20e681"
      },
      "source": [
        "test_input = 'राजशेखर'\n",
        "predicted_string = predict_target(test_input)\n",
        "predicted_string"
      ],
      "execution_count": 42,
      "outputs": [
        {
          "output_type": "execute_result",
          "data": {
            "application/vnd.google.colaboratory.intrinsic+json": {
              "type": "string"
            },
            "text/plain": [
              "'raj'"
            ]
          },
          "metadata": {},
          "execution_count": 42
        }
      ]
    },
    {
      "cell_type": "code",
      "metadata": {
        "colab": {
          "base_uri": "https://localhost:8080/",
          "height": 35
        },
        "id": "Uy2yjJXZ0MdK",
        "outputId": "7dadd044-054e-4eef-8252-25597989a9b9"
      },
      "source": [
        "test_input = 'शारजील'\n",
        "predicted_string = predict_target(test_input)\n",
        "predicted_string"
      ],
      "execution_count": 43,
      "outputs": [
        {
          "output_type": "execute_result",
          "data": {
            "application/vnd.google.colaboratory.intrinsic+json": {
              "type": "string"
            },
            "text/plain": [
              "'sharjee'"
            ]
          },
          "metadata": {},
          "execution_count": 43
        }
      ]
    }
  ]
}