{
  "nbformat": 4,
  "nbformat_minor": 0,
  "metadata": {
    "colab": {
      "name": "Transliterate_v2.ipynb",
      "provenance": [],
      "collapsed_sections": [],
      "toc_visible": true,
      "machine_shape": "hm"
    },
    "kernelspec": {
      "name": "python3",
      "display_name": "Python 3"
    },
    "language_info": {
      "name": "python"
    },
    "accelerator": "GPU"
  },
  "cells": [
    {
      "cell_type": "code",
      "metadata": {
        "id": "1T6_tQRr5LsU"
      },
      "source": [
        "import pandas as pd\n",
        "import numpy as np\n",
        "\n",
        "from keras.models import Model, load_model\n",
        "from keras.layers import Input, LSTM, Dense, Reshape\n",
        "from keras.callbacks import EarlyStopping, ModelCheckpoint\n",
        "from keras.layers.embeddings import Embedding\n",
        "\n",
        "import tensorflow as tf\n",
        "import tensorflow.keras.backend as K\n",
        "\n",
        "import matplotlib.pyplot as plt"
      ],
      "execution_count": 1,
      "outputs": []
    },
    {
      "cell_type": "code",
      "metadata": {
        "colab": {
          "base_uri": "https://localhost:8080/"
        },
        "id": "Cy-GTRyQdjjj",
        "outputId": "6792acd3-baac-417f-e587-82cdd9304ec1"
      },
      "source": [
        "%cd /content/drive/MyDrive/Colab/Transliterate/"
      ],
      "execution_count": 2,
      "outputs": [
        {
          "output_type": "stream",
          "name": "stdout",
          "text": [
            "/content/drive/MyDrive/Colab/Transliterate\n"
          ]
        }
      ]
    },
    {
      "cell_type": "code",
      "metadata": {
        "colab": {
          "base_uri": "https://localhost:8080/"
        },
        "id": "9SQgkSs5drK0",
        "outputId": "e62497b8-fdc4-415d-f31e-c2eeca1a0d95"
      },
      "source": [
        "%ls"
      ],
      "execution_count": 3,
      "outputs": [
        {
          "output_type": "stream",
          "name": "stdout",
          "text": [
            "affidavits.csv                 model.png\n",
            "hi.translit.sampled.train.tsv  model_v1.h5\n",
            "model.h5                       players_with_hindi_names.json\n",
            "model_plot_dec.png             s2s.h5\n"
          ]
        }
      ]
    },
    {
      "cell_type": "markdown",
      "metadata": {
        "id": "h87l7bzjN4V0"
      },
      "source": [
        "# Preprocessing Data"
      ]
    },
    {
      "cell_type": "markdown",
      "metadata": {
        "id": "Kl9QsQKYac2q"
      },
      "source": [
        "## load affidavits dataset\n"
      ]
    },
    {
      "cell_type": "code",
      "metadata": {
        "id": "pAUukayNPVZY"
      },
      "source": [
        "affidavits_df = pd.read_csv('affidavits.csv')"
      ],
      "execution_count": 4,
      "outputs": []
    },
    {
      "cell_type": "code",
      "metadata": {
        "colab": {
          "base_uri": "https://localhost:8080/",
          "height": 625
        },
        "id": "A0ZOV5i6Pe_k",
        "outputId": "93c55c6f-2046-459a-8b2f-eeac1384d47e"
      },
      "source": [
        "affidavits_df.head()"
      ],
      "execution_count": 5,
      "outputs": [
        {
          "output_type": "execute_result",
          "data": {
            "text/html": [
              "<div>\n",
              "<style scoped>\n",
              "    .dataframe tbody tr th:only-of-type {\n",
              "        vertical-align: middle;\n",
              "    }\n",
              "\n",
              "    .dataframe tbody tr th {\n",
              "        vertical-align: top;\n",
              "    }\n",
              "\n",
              "    .dataframe thead th {\n",
              "        text-align: right;\n",
              "    }\n",
              "</style>\n",
              "<table border=\"1\" class=\"dataframe\">\n",
              "  <thead>\n",
              "    <tr style=\"text-align: right;\">\n",
              "      <th></th>\n",
              "      <th>address</th>\n",
              "      <th>affidavit_filename_with_unique_id</th>\n",
              "      <th>age</th>\n",
              "      <th>application_uploaded</th>\n",
              "      <th>assembly_constituency</th>\n",
              "      <th>current_status</th>\n",
              "      <th>dropdown_value</th>\n",
              "      <th>fathers_or_husbands_name_english</th>\n",
              "      <th>fathers_or_husbands_name_hindi</th>\n",
              "      <th>name</th>\n",
              "      <th>name_english</th>\n",
              "      <th>name_hindi</th>\n",
              "      <th>party_name</th>\n",
              "      <th>photo_filename_with_unique_id</th>\n",
              "      <th>photo_url</th>\n",
              "      <th>state</th>\n",
              "      <th>unique_id</th>\n",
              "      <th>url</th>\n",
              "    </tr>\n",
              "  </thead>\n",
              "  <tbody>\n",
              "    <tr>\n",
              "      <th>0</th>\n",
              "      <td>O/5, BANKIM MUKHERJEE SARANI, DURGAPUR COLONY,...</td>\n",
              "      <td>NaN</td>\n",
              "      <td>57</td>\n",
              "      <td>7th April, 2021</td>\n",
              "      <td>Rashbehari</td>\n",
              "      <td>NaN</td>\n",
              "      <td>NaN</td>\n",
              "      <td>LATE SUBODH CHANDRA DAS</td>\n",
              "      <td>प्रयात सुबोध चन्द्र दास</td>\n",
              "      <td>SWAPAN DAS</td>\n",
              "      <td>SWAPAN DAS</td>\n",
              "      <td>स्वपन दास</td>\n",
              "      <td>Bahujan Mukti Party</td>\n",
              "      <td>NaN</td>\n",
              "      <td>NaN</td>\n",
              "      <td>West Bengal</td>\n",
              "      <td>1</td>\n",
              "      <td>NaN</td>\n",
              "    </tr>\n",
              "    <tr>\n",
              "      <th>1</th>\n",
              "      <td>F-301, PRANTIK PALLY, KOLKATA – 700042</td>\n",
              "      <td>NaN</td>\n",
              "      <td>41</td>\n",
              "      <td>7th April, 2021</td>\n",
              "      <td>Rashbehari</td>\n",
              "      <td>NaN</td>\n",
              "      <td>NaN</td>\n",
              "      <td>LATE PINAKI KUNDU</td>\n",
              "      <td>स्वर्गीय पिनाकि कुंडू</td>\n",
              "      <td>PREETAM KUNDU</td>\n",
              "      <td>PREETAM KUNDU</td>\n",
              "      <td>प्रीतम  कुंडू</td>\n",
              "      <td>Independent</td>\n",
              "      <td>NaN</td>\n",
              "      <td>NaN</td>\n",
              "      <td>West Bengal</td>\n",
              "      <td>2</td>\n",
              "      <td>NaN</td>\n",
              "    </tr>\n",
              "    <tr>\n",
              "      <th>2</th>\n",
              "      <td>Vill- Debidaspur, P.O.- Kankuria, P.S.- Samser...</td>\n",
              "      <td>NaN</td>\n",
              "      <td>60</td>\n",
              "      <td>26th April, 2021</td>\n",
              "      <td>Samserganj</td>\n",
              "      <td>NaN</td>\n",
              "      <td>NaN</td>\n",
              "      <td>Late Nur Mohammad Biswas</td>\n",
              "      <td>मृत नूर महम्मद बिश्वास</td>\n",
              "      <td>Zaidur Rahaman</td>\n",
              "      <td>Zaidur Rahaman</td>\n",
              "      <td>जैदुर रहमान</td>\n",
              "      <td>Indian National Congress</td>\n",
              "      <td>NaN</td>\n",
              "      <td>NaN</td>\n",
              "      <td>West Bengal</td>\n",
              "      <td>3</td>\n",
              "      <td>NaN</td>\n",
              "    </tr>\n",
              "    <tr>\n",
              "      <th>3</th>\n",
              "      <td>F-301, PRANTIK PALLY, KOLKATA – 700042</td>\n",
              "      <td>NaN</td>\n",
              "      <td>41</td>\n",
              "      <td>7th April, 2021</td>\n",
              "      <td>Rashbehari</td>\n",
              "      <td>NaN</td>\n",
              "      <td>NaN</td>\n",
              "      <td>LATE PINAKI KUNDU</td>\n",
              "      <td>स्वर्गीय पिनाकि कुंडू</td>\n",
              "      <td>PREETAM KUNDU</td>\n",
              "      <td>PREETAM KUNDU</td>\n",
              "      <td>प्रीतम  कुंडू</td>\n",
              "      <td>Independent</td>\n",
              "      <td>NaN</td>\n",
              "      <td>NaN</td>\n",
              "      <td>West Bengal</td>\n",
              "      <td>4</td>\n",
              "      <td>NaN</td>\n",
              "    </tr>\n",
              "    <tr>\n",
              "      <th>4</th>\n",
              "      <td>VILL-FULBARI, P.O-KAMLABARI, P.S-ENGLISH BAZAR...</td>\n",
              "      <td>NaN</td>\n",
              "      <td>42</td>\n",
              "      <td>6th April, 2021</td>\n",
              "      <td>Manikchak</td>\n",
              "      <td>NaN</td>\n",
              "      <td>NaN</td>\n",
              "      <td>LT. ALI MOHAMMAD</td>\n",
              "      <td>स्वर्गीय आली महममद</td>\n",
              "      <td>ALAM MOTTAKIN</td>\n",
              "      <td>ALAM MOTTAKIN</td>\n",
              "      <td>आलम मोत्ताकिन</td>\n",
              "      <td>Indian National Congress</td>\n",
              "      <td>NaN</td>\n",
              "      <td>NaN</td>\n",
              "      <td>West Bengal</td>\n",
              "      <td>5</td>\n",
              "      <td>NaN</td>\n",
              "    </tr>\n",
              "  </tbody>\n",
              "</table>\n",
              "</div>"
            ],
            "text/plain": [
              "                                             address  ...  url\n",
              "0  O/5, BANKIM MUKHERJEE SARANI, DURGAPUR COLONY,...  ...  NaN\n",
              "1             F-301, PRANTIK PALLY, KOLKATA – 700042  ...  NaN\n",
              "2  Vill- Debidaspur, P.O.- Kankuria, P.S.- Samser...  ...  NaN\n",
              "3             F-301, PRANTIK PALLY, KOLKATA – 700042  ...  NaN\n",
              "4  VILL-FULBARI, P.O-KAMLABARI, P.S-ENGLISH BAZAR...  ...  NaN\n",
              "\n",
              "[5 rows x 18 columns]"
            ]
          },
          "metadata": {},
          "execution_count": 5
        }
      ]
    },
    {
      "cell_type": "code",
      "metadata": {
        "id": "TnwMig87P1yV"
      },
      "source": [
        "af_df = affidavits_df[['fathers_or_husbands_name_hindi', 'fathers_or_husbands_name_english', 'name_hindi', 'name_english']]"
      ],
      "execution_count": 6,
      "outputs": []
    },
    {
      "cell_type": "code",
      "metadata": {
        "id": "XYj3W5R3bdii"
      },
      "source": [
        "# split and merge\n",
        "input_target_df = pd.concat([\n",
        "                    af_df[['fathers_or_husbands_name_hindi','fathers_or_husbands_name_english']].rename(columns={\"fathers_or_husbands_name_hindi\": \"hindi\", \"fathers_or_husbands_name_english\": \"english\"}), \n",
        "                    af_df[['name_hindi','name_english']].rename(columns={\"name_hindi\": \"hindi\", \"name_english\": \"english\"})\n",
        "                  ], ignore_index=True)"
      ],
      "execution_count": 7,
      "outputs": []
    },
    {
      "cell_type": "code",
      "metadata": {
        "colab": {
          "base_uri": "https://localhost:8080/",
          "height": 206
        },
        "id": "q6_4pn8Wbt-A",
        "outputId": "27873e76-dbe5-4590-ccd5-d432b7035942"
      },
      "source": [
        "input_target_df.head()"
      ],
      "execution_count": 8,
      "outputs": [
        {
          "output_type": "execute_result",
          "data": {
            "text/html": [
              "<div>\n",
              "<style scoped>\n",
              "    .dataframe tbody tr th:only-of-type {\n",
              "        vertical-align: middle;\n",
              "    }\n",
              "\n",
              "    .dataframe tbody tr th {\n",
              "        vertical-align: top;\n",
              "    }\n",
              "\n",
              "    .dataframe thead th {\n",
              "        text-align: right;\n",
              "    }\n",
              "</style>\n",
              "<table border=\"1\" class=\"dataframe\">\n",
              "  <thead>\n",
              "    <tr style=\"text-align: right;\">\n",
              "      <th></th>\n",
              "      <th>hindi</th>\n",
              "      <th>english</th>\n",
              "    </tr>\n",
              "  </thead>\n",
              "  <tbody>\n",
              "    <tr>\n",
              "      <th>0</th>\n",
              "      <td>प्रयात सुबोध चन्द्र दास</td>\n",
              "      <td>LATE SUBODH CHANDRA DAS</td>\n",
              "    </tr>\n",
              "    <tr>\n",
              "      <th>1</th>\n",
              "      <td>स्वर्गीय पिनाकि कुंडू</td>\n",
              "      <td>LATE PINAKI KUNDU</td>\n",
              "    </tr>\n",
              "    <tr>\n",
              "      <th>2</th>\n",
              "      <td>मृत नूर महम्मद बिश्वास</td>\n",
              "      <td>Late Nur Mohammad Biswas</td>\n",
              "    </tr>\n",
              "    <tr>\n",
              "      <th>3</th>\n",
              "      <td>स्वर्गीय पिनाकि कुंडू</td>\n",
              "      <td>LATE PINAKI KUNDU</td>\n",
              "    </tr>\n",
              "    <tr>\n",
              "      <th>4</th>\n",
              "      <td>स्वर्गीय आली महममद</td>\n",
              "      <td>LT. ALI MOHAMMAD</td>\n",
              "    </tr>\n",
              "  </tbody>\n",
              "</table>\n",
              "</div>"
            ],
            "text/plain": [
              "                     hindi                   english\n",
              "0  प्रयात सुबोध चन्द्र दास   LATE SUBODH CHANDRA DAS\n",
              "1    स्वर्गीय पिनाकि कुंडू         LATE PINAKI KUNDU\n",
              "2   मृत नूर महम्मद बिश्वास  Late Nur Mohammad Biswas\n",
              "3    स्वर्गीय पिनाकि कुंडू         LATE PINAKI KUNDU\n",
              "4       स्वर्गीय आली महममद          LT. ALI MOHAMMAD"
            ]
          },
          "metadata": {},
          "execution_count": 8
        }
      ]
    },
    {
      "cell_type": "markdown",
      "metadata": {
        "id": "sRjQYPAjajwg"
      },
      "source": [
        "## load cricket dataset"
      ]
    },
    {
      "cell_type": "code",
      "metadata": {
        "id": "QIlUaSeP54a0"
      },
      "source": [
        "cricket_df = pd.read_json('players_with_hindi_names.json')"
      ],
      "execution_count": 9,
      "outputs": []
    },
    {
      "cell_type": "code",
      "metadata": {
        "colab": {
          "base_uri": "https://localhost:8080/",
          "height": 206
        },
        "id": "-8AW_DdX5934",
        "outputId": "1a6e609a-9479-4194-b3e0-88cb5e4e65d4"
      },
      "source": [
        "cricket_df.head()"
      ],
      "execution_count": 10,
      "outputs": [
        {
          "output_type": "execute_result",
          "data": {
            "text/html": [
              "<div>\n",
              "<style scoped>\n",
              "    .dataframe tbody tr th:only-of-type {\n",
              "        vertical-align: middle;\n",
              "    }\n",
              "\n",
              "    .dataframe tbody tr th {\n",
              "        vertical-align: top;\n",
              "    }\n",
              "\n",
              "    .dataframe thead th {\n",
              "        text-align: right;\n",
              "    }\n",
              "</style>\n",
              "<table border=\"1\" class=\"dataframe\">\n",
              "  <thead>\n",
              "    <tr style=\"text-align: right;\">\n",
              "      <th></th>\n",
              "      <th>id</th>\n",
              "      <th>hindi_name</th>\n",
              "      <th>hindi_long_name</th>\n",
              "      <th>english_name</th>\n",
              "      <th>gender</th>\n",
              "      <th>date_of_birth</th>\n",
              "      <th>country_id</th>\n",
              "      <th>slug</th>\n",
              "    </tr>\n",
              "  </thead>\n",
              "  <tbody>\n",
              "    <tr>\n",
              "      <th>0</th>\n",
              "      <td>90143</td>\n",
              "      <td>आर गुरबाज़</td>\n",
              "      <td>रहमानउल्लाह गुरबाज़</td>\n",
              "      <td>Rahmanullah Gurbaz</td>\n",
              "      <td>M</td>\n",
              "      <td>{'year': 2001, 'month': 11, 'date': 28}</td>\n",
              "      <td>40</td>\n",
              "      <td>rahmanullah-gurbaz</td>\n",
              "    </tr>\n",
              "    <tr>\n",
              "      <th>1</th>\n",
              "      <td>54018</td>\n",
              "      <td>एम रिज़वान</td>\n",
              "      <td>मोहम्मद रिज़वान</td>\n",
              "      <td>Mohammad Rizwan</td>\n",
              "      <td>M</td>\n",
              "      <td>{'year': 1992, 'month': 6, 'date': 1}</td>\n",
              "      <td>7</td>\n",
              "      <td>mohammad-rizwan</td>\n",
              "    </tr>\n",
              "    <tr>\n",
              "      <th>2</th>\n",
              "      <td>47686</td>\n",
              "      <td>एस मक़सूद</td>\n",
              "      <td>सोहेब मक़सूद</td>\n",
              "      <td>Sohaib Maqsood</td>\n",
              "      <td>M</td>\n",
              "      <td>{'year': 1987, 'month': 4, 'date': 15}</td>\n",
              "      <td>7</td>\n",
              "      <td>sohaib-maqsood</td>\n",
              "    </tr>\n",
              "    <tr>\n",
              "      <th>3</th>\n",
              "      <td>53649</td>\n",
              "      <td>आर आर रुसो</td>\n",
              "      <td>राइली रुसो</td>\n",
              "      <td>Rossouw, RR</td>\n",
              "      <td>M</td>\n",
              "      <td>{'year': 1989, 'month': 10, 'date': 9}</td>\n",
              "      <td>3</td>\n",
              "      <td>rilee-rossouw</td>\n",
              "    </tr>\n",
              "    <tr>\n",
              "      <th>4</th>\n",
              "      <td>72393</td>\n",
              "      <td>एस हेटमायर</td>\n",
              "      <td>शिमरॉन हेटमायर</td>\n",
              "      <td>Hetmyer, SO</td>\n",
              "      <td>M</td>\n",
              "      <td>{'year': 1996, 'month': 12, 'date': 26}</td>\n",
              "      <td>4</td>\n",
              "      <td>shimron-hetmyer</td>\n",
              "    </tr>\n",
              "  </tbody>\n",
              "</table>\n",
              "</div>"
            ],
            "text/plain": [
              "      id  hindi_name  ... country_id                slug\n",
              "0  90143  आर गुरबाज़  ...         40  rahmanullah-gurbaz\n",
              "1  54018  एम रिज़वान  ...          7     mohammad-rizwan\n",
              "2  47686   एस मक़सूद  ...          7      sohaib-maqsood\n",
              "3  53649  आर आर रुसो  ...          3       rilee-rossouw\n",
              "4  72393  एस हेटमायर  ...          4     shimron-hetmyer\n",
              "\n",
              "[5 rows x 8 columns]"
            ]
          },
          "metadata": {},
          "execution_count": 10
        }
      ]
    },
    {
      "cell_type": "code",
      "metadata": {
        "id": "Zyc762NtcILn"
      },
      "source": [
        "input_target_df = pd.concat([\n",
        "                             input_target_df, \n",
        "                             cricket_df[['hindi_long_name', 'english_name']].rename(columns={\"hindi_long_name\": \"hindi\", \"english_name\": \"english\"}) \n",
        "                             ], ignore_index=True)"
      ],
      "execution_count": 11,
      "outputs": []
    },
    {
      "cell_type": "markdown",
      "metadata": {
        "id": "iDtsnXBQa7m2"
      },
      "source": [
        "## load Dakshina Dataset"
      ]
    },
    {
      "cell_type": "code",
      "metadata": {
        "id": "YWUoa66ea0xR"
      },
      "source": [
        "\n",
        "dakshina_df = pd.read_csv('hi.translit.sampled.train.tsv', sep='\\t', names=[\"hindi\", \"english\", \"freq\"])"
      ],
      "execution_count": 12,
      "outputs": []
    },
    {
      "cell_type": "code",
      "metadata": {
        "colab": {
          "base_uri": "https://localhost:8080/",
          "height": 206
        },
        "id": "LvzPQO06bONy",
        "outputId": "6cfbd065-1cf0-41ea-943a-ff8da9afe559"
      },
      "source": [
        "dakshina_df.head()"
      ],
      "execution_count": 13,
      "outputs": [
        {
          "output_type": "execute_result",
          "data": {
            "text/html": [
              "<div>\n",
              "<style scoped>\n",
              "    .dataframe tbody tr th:only-of-type {\n",
              "        vertical-align: middle;\n",
              "    }\n",
              "\n",
              "    .dataframe tbody tr th {\n",
              "        vertical-align: top;\n",
              "    }\n",
              "\n",
              "    .dataframe thead th {\n",
              "        text-align: right;\n",
              "    }\n",
              "</style>\n",
              "<table border=\"1\" class=\"dataframe\">\n",
              "  <thead>\n",
              "    <tr style=\"text-align: right;\">\n",
              "      <th></th>\n",
              "      <th>hindi</th>\n",
              "      <th>english</th>\n",
              "      <th>freq</th>\n",
              "    </tr>\n",
              "  </thead>\n",
              "  <tbody>\n",
              "    <tr>\n",
              "      <th>0</th>\n",
              "      <td>अं</td>\n",
              "      <td>an</td>\n",
              "      <td>3</td>\n",
              "    </tr>\n",
              "    <tr>\n",
              "      <th>1</th>\n",
              "      <td>अंकगणित</td>\n",
              "      <td>ankganit</td>\n",
              "      <td>3</td>\n",
              "    </tr>\n",
              "    <tr>\n",
              "      <th>2</th>\n",
              "      <td>अंकल</td>\n",
              "      <td>uncle</td>\n",
              "      <td>4</td>\n",
              "    </tr>\n",
              "    <tr>\n",
              "      <th>3</th>\n",
              "      <td>अंकुर</td>\n",
              "      <td>ankur</td>\n",
              "      <td>4</td>\n",
              "    </tr>\n",
              "    <tr>\n",
              "      <th>4</th>\n",
              "      <td>अंकुरण</td>\n",
              "      <td>ankuran</td>\n",
              "      <td>3</td>\n",
              "    </tr>\n",
              "  </tbody>\n",
              "</table>\n",
              "</div>"
            ],
            "text/plain": [
              "     hindi   english  freq\n",
              "0       अं        an     3\n",
              "1  अंकगणित  ankganit     3\n",
              "2     अंकल     uncle     4\n",
              "3    अंकुर     ankur     4\n",
              "4   अंकुरण   ankuran     3"
            ]
          },
          "metadata": {},
          "execution_count": 13
        }
      ]
    },
    {
      "cell_type": "code",
      "metadata": {
        "id": "X8aCM1ehbqWb"
      },
      "source": [
        "input_target_df = pd.concat([\n",
        "                             input_target_df, \n",
        "                             dakshina_df[['hindi', 'english']]\n",
        "                             ], ignore_index=True)"
      ],
      "execution_count": 14,
      "outputs": []
    },
    {
      "cell_type": "code",
      "metadata": {
        "colab": {
          "base_uri": "https://localhost:8080/",
          "height": 206
        },
        "id": "c_rJ_vXPcpGE",
        "outputId": "77e9dea9-0b39-4c38-833d-b77fa42350e0"
      },
      "source": [
        "input_target_df.head()"
      ],
      "execution_count": 15,
      "outputs": [
        {
          "output_type": "execute_result",
          "data": {
            "text/html": [
              "<div>\n",
              "<style scoped>\n",
              "    .dataframe tbody tr th:only-of-type {\n",
              "        vertical-align: middle;\n",
              "    }\n",
              "\n",
              "    .dataframe tbody tr th {\n",
              "        vertical-align: top;\n",
              "    }\n",
              "\n",
              "    .dataframe thead th {\n",
              "        text-align: right;\n",
              "    }\n",
              "</style>\n",
              "<table border=\"1\" class=\"dataframe\">\n",
              "  <thead>\n",
              "    <tr style=\"text-align: right;\">\n",
              "      <th></th>\n",
              "      <th>hindi</th>\n",
              "      <th>english</th>\n",
              "    </tr>\n",
              "  </thead>\n",
              "  <tbody>\n",
              "    <tr>\n",
              "      <th>0</th>\n",
              "      <td>प्रयात सुबोध चन्द्र दास</td>\n",
              "      <td>LATE SUBODH CHANDRA DAS</td>\n",
              "    </tr>\n",
              "    <tr>\n",
              "      <th>1</th>\n",
              "      <td>स्वर्गीय पिनाकि कुंडू</td>\n",
              "      <td>LATE PINAKI KUNDU</td>\n",
              "    </tr>\n",
              "    <tr>\n",
              "      <th>2</th>\n",
              "      <td>मृत नूर महम्मद बिश्वास</td>\n",
              "      <td>Late Nur Mohammad Biswas</td>\n",
              "    </tr>\n",
              "    <tr>\n",
              "      <th>3</th>\n",
              "      <td>स्वर्गीय पिनाकि कुंडू</td>\n",
              "      <td>LATE PINAKI KUNDU</td>\n",
              "    </tr>\n",
              "    <tr>\n",
              "      <th>4</th>\n",
              "      <td>स्वर्गीय आली महममद</td>\n",
              "      <td>LT. ALI MOHAMMAD</td>\n",
              "    </tr>\n",
              "  </tbody>\n",
              "</table>\n",
              "</div>"
            ],
            "text/plain": [
              "                     hindi                   english\n",
              "0  प्रयात सुबोध चन्द्र दास   LATE SUBODH CHANDRA DAS\n",
              "1    स्वर्गीय पिनाकि कुंडू         LATE PINAKI KUNDU\n",
              "2   मृत नूर महम्मद बिश्वास  Late Nur Mohammad Biswas\n",
              "3    स्वर्गीय पिनाकि कुंडू         LATE PINAKI KUNDU\n",
              "4       स्वर्गीय आली महममद          LT. ALI MOHAMMAD"
            ]
          },
          "metadata": {},
          "execution_count": 15
        }
      ]
    },
    {
      "cell_type": "code",
      "metadata": {
        "colab": {
          "base_uri": "https://localhost:8080/"
        },
        "id": "oxaiXS4yc90U",
        "outputId": "1880929e-35dd-4a3b-84a0-266ae17b200a"
      },
      "source": [
        "input_target_df.info()"
      ],
      "execution_count": 16,
      "outputs": [
        {
          "output_type": "stream",
          "name": "stdout",
          "text": [
            "<class 'pandas.core.frame.DataFrame'>\n",
            "RangeIndex: 77908 entries, 0 to 77907\n",
            "Data columns (total 2 columns):\n",
            " #   Column   Non-Null Count  Dtype \n",
            "---  ------   --------------  ----- \n",
            " 0   hindi    72727 non-null  object\n",
            " 1   english  77906 non-null  object\n",
            "dtypes: object(2)\n",
            "memory usage: 1.2+ MB\n"
          ]
        }
      ]
    },
    {
      "cell_type": "code",
      "metadata": {
        "id": "7WVfnG3RSDz0"
      },
      "source": [
        "input_target_df = input_target_df.dropna()"
      ],
      "execution_count": 17,
      "outputs": []
    },
    {
      "cell_type": "code",
      "metadata": {
        "colab": {
          "base_uri": "https://localhost:8080/"
        },
        "id": "rs0mMz4ndDCG",
        "outputId": "9813a65e-00ce-4e35-b55d-cb8bd9a20dd2"
      },
      "source": [
        "input_target_df.info()"
      ],
      "execution_count": 18,
      "outputs": [
        {
          "output_type": "stream",
          "name": "stdout",
          "text": [
            "<class 'pandas.core.frame.DataFrame'>\n",
            "Int64Index: 72725 entries, 0 to 77907\n",
            "Data columns (total 2 columns):\n",
            " #   Column   Non-Null Count  Dtype \n",
            "---  ------   --------------  ----- \n",
            " 0   hindi    72725 non-null  object\n",
            " 1   english  72725 non-null  object\n",
            "dtypes: object(2)\n",
            "memory usage: 1.7+ MB\n"
          ]
        }
      ]
    },
    {
      "cell_type": "code",
      "metadata": {
        "id": "7gujOMDzS1O_"
      },
      "source": [
        "# strip and make lower case\n",
        "input_target_df['hindi'] = input_target_df['hindi'].str.strip() # hindi has no caps\n",
        "input_target_df['english'] = input_target_df['english'].str.strip().str.lower()"
      ],
      "execution_count": 19,
      "outputs": []
    },
    {
      "cell_type": "code",
      "metadata": {
        "colab": {
          "base_uri": "https://localhost:8080/",
          "height": 206
        },
        "id": "aJDDFPvhTv3e",
        "outputId": "0ff1d8d2-6a9c-4a41-b60b-2c665f628210"
      },
      "source": [
        "input_target_df.head()"
      ],
      "execution_count": 20,
      "outputs": [
        {
          "output_type": "execute_result",
          "data": {
            "text/html": [
              "<div>\n",
              "<style scoped>\n",
              "    .dataframe tbody tr th:only-of-type {\n",
              "        vertical-align: middle;\n",
              "    }\n",
              "\n",
              "    .dataframe tbody tr th {\n",
              "        vertical-align: top;\n",
              "    }\n",
              "\n",
              "    .dataframe thead th {\n",
              "        text-align: right;\n",
              "    }\n",
              "</style>\n",
              "<table border=\"1\" class=\"dataframe\">\n",
              "  <thead>\n",
              "    <tr style=\"text-align: right;\">\n",
              "      <th></th>\n",
              "      <th>hindi</th>\n",
              "      <th>english</th>\n",
              "    </tr>\n",
              "  </thead>\n",
              "  <tbody>\n",
              "    <tr>\n",
              "      <th>0</th>\n",
              "      <td>प्रयात सुबोध चन्द्र दास</td>\n",
              "      <td>late subodh chandra das</td>\n",
              "    </tr>\n",
              "    <tr>\n",
              "      <th>1</th>\n",
              "      <td>स्वर्गीय पिनाकि कुंडू</td>\n",
              "      <td>late pinaki kundu</td>\n",
              "    </tr>\n",
              "    <tr>\n",
              "      <th>2</th>\n",
              "      <td>मृत नूर महम्मद बिश्वास</td>\n",
              "      <td>late nur mohammad biswas</td>\n",
              "    </tr>\n",
              "    <tr>\n",
              "      <th>3</th>\n",
              "      <td>स्वर्गीय पिनाकि कुंडू</td>\n",
              "      <td>late pinaki kundu</td>\n",
              "    </tr>\n",
              "    <tr>\n",
              "      <th>4</th>\n",
              "      <td>स्वर्गीय आली महममद</td>\n",
              "      <td>lt. ali mohammad</td>\n",
              "    </tr>\n",
              "  </tbody>\n",
              "</table>\n",
              "</div>"
            ],
            "text/plain": [
              "                     hindi                   english\n",
              "0  प्रयात सुबोध चन्द्र दास   late subodh chandra das\n",
              "1    स्वर्गीय पिनाकि कुंडू         late pinaki kundu\n",
              "2   मृत नूर महम्मद बिश्वास  late nur mohammad biswas\n",
              "3    स्वर्गीय पिनाकि कुंडू         late pinaki kundu\n",
              "4       स्वर्गीय आली महममद          lt. ali mohammad"
            ]
          },
          "metadata": {},
          "execution_count": 20
        }
      ]
    },
    {
      "cell_type": "code",
      "metadata": {
        "id": "tUmbiLe8T7rk"
      },
      "source": [
        "# Strip out any abbreviated names\n",
        "input_target_df = input_target_df[~input_target_df['english'].str.contains('\\.')]\n",
        "input_target_df = input_target_df[~input_target_df['english'].str.contains(',')]"
      ],
      "execution_count": 21,
      "outputs": []
    },
    {
      "cell_type": "code",
      "metadata": {
        "colab": {
          "base_uri": "https://localhost:8080/"
        },
        "id": "GRkMX8QcVbKg",
        "outputId": "2fbc4648-4a74-4b59-af8c-2340eed53be6"
      },
      "source": [
        "input_target_df.info()"
      ],
      "execution_count": 22,
      "outputs": [
        {
          "output_type": "stream",
          "name": "stdout",
          "text": [
            "<class 'pandas.core.frame.DataFrame'>\n",
            "Int64Index: 63899 entries, 0 to 77907\n",
            "Data columns (total 2 columns):\n",
            " #   Column   Non-Null Count  Dtype \n",
            "---  ------   --------------  ----- \n",
            " 0   hindi    63899 non-null  object\n",
            " 1   english  63899 non-null  object\n",
            "dtypes: object(2)\n",
            "memory usage: 1.5+ MB\n"
          ]
        }
      ]
    },
    {
      "cell_type": "code",
      "metadata": {
        "id": "dyzG08H1Z3Ch"
      },
      "source": [
        "# drop duplicates\n",
        "input_target_df = input_target_df.drop_duplicates()"
      ],
      "execution_count": 23,
      "outputs": []
    },
    {
      "cell_type": "code",
      "metadata": {
        "colab": {
          "base_uri": "https://localhost:8080/"
        },
        "id": "52H8_u4maYM2",
        "outputId": "26cb23ca-2ee1-4a68-bb94-3b14d415f652"
      },
      "source": [
        "input_target_df.info()"
      ],
      "execution_count": 24,
      "outputs": [
        {
          "output_type": "stream",
          "name": "stdout",
          "text": [
            "<class 'pandas.core.frame.DataFrame'>\n",
            "Int64Index: 55821 entries, 0 to 77907\n",
            "Data columns (total 2 columns):\n",
            " #   Column   Non-Null Count  Dtype \n",
            "---  ------   --------------  ----- \n",
            " 0   hindi    55821 non-null  object\n",
            " 1   english  55821 non-null  object\n",
            "dtypes: object(2)\n",
            "memory usage: 1.3+ MB\n"
          ]
        }
      ]
    },
    {
      "cell_type": "code",
      "metadata": {
        "id": "DnQHxhVye07D"
      },
      "source": [
        "# Remove if target has non-english \n",
        "def isEnglish(s):\n",
        "  try:\n",
        "      s.encode(encoding='utf-8').decode('ascii')\n",
        "  except UnicodeDecodeError:\n",
        "      return False\n",
        "  else:\n",
        "      return True\n",
        "\n",
        "input_target_df = input_target_df[input_target_df['english'].apply(isEnglish)]"
      ],
      "execution_count": 25,
      "outputs": []
    },
    {
      "cell_type": "code",
      "metadata": {
        "colab": {
          "base_uri": "https://localhost:8080/"
        },
        "id": "sEGVeRyrgJJc",
        "outputId": "1c0bad41-3570-4283-cc3a-33041f35cab1"
      },
      "source": [
        "input_target_df.info()"
      ],
      "execution_count": 26,
      "outputs": [
        {
          "output_type": "stream",
          "name": "stdout",
          "text": [
            "<class 'pandas.core.frame.DataFrame'>\n",
            "Int64Index: 55768 entries, 0 to 77907\n",
            "Data columns (total 2 columns):\n",
            " #   Column   Non-Null Count  Dtype \n",
            "---  ------   --------------  ----- \n",
            " 0   hindi    55768 non-null  object\n",
            " 1   english  55768 non-null  object\n",
            "dtypes: object(2)\n",
            "memory usage: 1.3+ MB\n"
          ]
        }
      ]
    },
    {
      "cell_type": "code",
      "metadata": {
        "id": "URH4OE1pq4rM"
      },
      "source": [
        "# append start and end of sequence for target\n",
        "sos = '^'\n",
        "eos = '$'\n",
        "\n",
        "input_target_df['english'] = sos + input_target_df['english'].astype(str) + eos"
      ],
      "execution_count": 27,
      "outputs": []
    },
    {
      "cell_type": "code",
      "metadata": {
        "id": "AahQxw3J5_ax"
      },
      "source": [
        "input_words =  input_target_df['hindi'].tolist()\n",
        "target_words =  input_target_df['english'].tolist()"
      ],
      "execution_count": 28,
      "outputs": []
    },
    {
      "cell_type": "code",
      "metadata": {
        "colab": {
          "base_uri": "https://localhost:8080/"
        },
        "id": "lpsCJ3kv7LkA",
        "outputId": "bace413b-6505-4c4e-f4be-ec97964560fa"
      },
      "source": [
        "print(input_words[0])\n",
        "print(target_words[0])"
      ],
      "execution_count": 29,
      "outputs": [
        {
          "output_type": "stream",
          "name": "stdout",
          "text": [
            "प्रयात सुबोध चन्द्र दास\n",
            "^late subodh chandra das$\n"
          ]
        }
      ]
    },
    {
      "cell_type": "code",
      "metadata": {
        "colab": {
          "base_uri": "https://localhost:8080/"
        },
        "id": "X3pGuZOyQ1D2",
        "outputId": "eee96d86-fcfa-4cb2-f588-b8a60ca16037"
      },
      "source": [
        "print(f\"Total number of input words {len(input_words)}\")\n",
        "print(f\"Total number of target words {len(target_words)}\")"
      ],
      "execution_count": 30,
      "outputs": [
        {
          "output_type": "stream",
          "name": "stdout",
          "text": [
            "Total number of input words 55768\n",
            "Total number of target words 55768\n"
          ]
        }
      ]
    },
    {
      "cell_type": "code",
      "metadata": {
        "id": "U5Trw_fmOLi7"
      },
      "source": [
        "def build_vocab(input_words, target_words):\n",
        "  input_vocab = set()\n",
        "  target_vocab = set()\n",
        "  for input_word, target_word in zip(input_words, target_words):\n",
        "      input_vocab.update(set(input_word))\n",
        "      target_vocab.update(set(target_word))\n",
        "  return input_vocab, target_vocab"
      ],
      "execution_count": 31,
      "outputs": []
    },
    {
      "cell_type": "code",
      "metadata": {
        "id": "RlgD8jM0OsHG"
      },
      "source": [
        "input_vocab, target_vocab = build_vocab(input_words, target_words)"
      ],
      "execution_count": 32,
      "outputs": []
    },
    {
      "cell_type": "code",
      "metadata": {
        "colab": {
          "base_uri": "https://localhost:8080/"
        },
        "id": "W_wQMLvrOyu_",
        "outputId": "e75e47d5-a7f4-45d6-80bf-e3212b137f53"
      },
      "source": [
        "print(f\"Total hindi characters {len(input_vocab)}\")\n",
        "print(f\"Total english characters {len(target_vocab)}\")"
      ],
      "execution_count": 33,
      "outputs": [
        {
          "output_type": "stream",
          "name": "stdout",
          "text": [
            "Total hindi characters 186\n",
            "Total english characters 35\n"
          ]
        }
      ]
    },
    {
      "cell_type": "code",
      "metadata": {
        "id": "ztVnKKGsYlFK"
      },
      "source": [
        "input_vocab = sorted(list(input_vocab))\n",
        "target_vocab = sorted(list(target_vocab))"
      ],
      "execution_count": 34,
      "outputs": []
    },
    {
      "cell_type": "code",
      "metadata": {
        "id": "fbJSDwkvXvQp"
      },
      "source": [
        "input_token_index = dict([(char, i) for i, char in enumerate(input_vocab)])\n",
        "target_token_index = dict([(char, i) for i, char in enumerate(target_vocab)])"
      ],
      "execution_count": 35,
      "outputs": []
    },
    {
      "cell_type": "code",
      "metadata": {
        "id": "-dxT9ms4YG1y"
      },
      "source": [
        "num_encoder_tokens = len(input_vocab)\n",
        "num_decoder_tokens = len(target_vocab)"
      ],
      "execution_count": 36,
      "outputs": []
    },
    {
      "cell_type": "code",
      "metadata": {
        "id": "DZguL8LRY8Bl"
      },
      "source": [
        "max_encoder_seq_length = max([len(txt) for txt in input_words])\n",
        "max_decoder_seq_length = max([len(txt) for txt in target_words])"
      ],
      "execution_count": 37,
      "outputs": []
    },
    {
      "cell_type": "code",
      "metadata": {
        "colab": {
          "base_uri": "https://localhost:8080/"
        },
        "id": "HZLsjCHrZGuP",
        "outputId": "05b74353-43dc-4b42-90cb-49244cd84f3c"
      },
      "source": [
        "print('Number of samples:', len(input_words))\n",
        "print('Number of unique input tokens:', num_encoder_tokens)\n",
        "print('Number of unique output tokens:', num_decoder_tokens)\n",
        "print('Max sequence length for inputs:', max_encoder_seq_length)\n",
        "print('Max sequence length for outputs:', max_decoder_seq_length)"
      ],
      "execution_count": 38,
      "outputs": [
        {
          "output_type": "stream",
          "name": "stdout",
          "text": [
            "Number of samples: 55768\n",
            "Number of unique input tokens: 186\n",
            "Number of unique output tokens: 35\n",
            "Max sequence length for inputs: 47\n",
            "Max sequence length for outputs: 49\n"
          ]
        }
      ]
    },
    {
      "cell_type": "code",
      "metadata": {
        "id": "nbXBdUGOZO3_"
      },
      "source": [
        "encoder_input_data = np.zeros((len(input_words), max_encoder_seq_length, num_encoder_tokens), dtype='float32')\n",
        "decoder_input_data = np.zeros((len(input_words), max_decoder_seq_length, num_decoder_tokens), dtype='float32')\n",
        "decoder_target_data = np.zeros( (len(input_words), max_decoder_seq_length, num_decoder_tokens), dtype='float32')"
      ],
      "execution_count": 39,
      "outputs": []
    },
    {
      "cell_type": "code",
      "metadata": {
        "colab": {
          "base_uri": "https://localhost:8080/"
        },
        "id": "HO9DgOJOZgpe",
        "outputId": "4f0769a0-7cc7-4977-d9db-013c6073dede"
      },
      "source": [
        "print(f\"encoder input shape {encoder_input_data.shape}\")\n",
        "print(f\"decoder input shape {decoder_input_data.shape}\")\n",
        "print(f\"decoder target shape {decoder_target_data.shape}\")"
      ],
      "execution_count": 40,
      "outputs": [
        {
          "output_type": "stream",
          "name": "stdout",
          "text": [
            "encoder input shape (55768, 47, 186)\n",
            "decoder input shape (55768, 49, 35)\n",
            "decoder target shape (55768, 49, 35)\n"
          ]
        }
      ]
    },
    {
      "cell_type": "code",
      "metadata": {
        "id": "9KGNey6fZ05q"
      },
      "source": [
        "for i, (input_text, target_text) in enumerate(zip(input_words, target_words)):\n",
        "  for t, char in enumerate(input_text):\n",
        "    encoder_input_data[i, t, input_token_index[char]] = 1.0\n",
        "  # for the rest of sentence, mark it as space\n",
        "  #encoder_input_data[i, t + 1 :, input_token_index[\" \"]] = 1.0\n",
        "\n",
        "  for t, char in enumerate(target_text):\n",
        "    # decoder_target_data is ahead of decoder_input_data by one timestep\n",
        "    decoder_input_data[i, t, target_token_index[char]] = 1.0\n",
        "    if t > 0:\n",
        "      # decoder_target_data will be ahead by one timestep\n",
        "      # and will not include the start character.\n",
        "      decoder_target_data[i, t-1, target_token_index[char]] = 1.0\n",
        "      # for the rest of sentence, mark it as space\n",
        "      #decoder_input_data[i, t + 1 :, target_token_index[\" \"]] = 1.0"
      ],
      "execution_count": 41,
      "outputs": []
    },
    {
      "cell_type": "markdown",
      "metadata": {
        "id": "0CZd0uprOC5u"
      },
      "source": [
        "# Define Model"
      ]
    },
    {
      "cell_type": "code",
      "metadata": {
        "id": "0F1B0ezJcehK",
        "colab": {
          "base_uri": "https://localhost:8080/"
        },
        "outputId": "b3df9826-5bc7-4061-e777-bb38dbbe546f"
      },
      "source": [
        "latent_dim = 256  # Latent dimensionality of the encoding space.\n",
        "EMBEDDING_SIZE = 100\n",
        "\n",
        "# Define an input sequence and process it.\n",
        "encoder_inputs = Input(shape=(None, num_encoder_tokens))\n",
        "print(encoder_inputs.shape)\n",
        "\n",
        "# Define embedding layer\n",
        "encoder_embedding = Embedding(num_encoder_tokens, EMBEDDING_SIZE, input_length=max_encoder_seq_length)\n",
        "encoder_inputs_em = encoder_embedding(encoder_inputs)\n",
        "print(encoder_inputs_em.shape)\n",
        "\n",
        "# since embedding layer will add one more dim, we need to flatten last 2 dims\n",
        "encoder_reshape = Reshape((-1, encoder_inputs_em.shape[2] * encoder_inputs_em.shape[3]))\n",
        "encoder_inputs_re = encoder_reshape(encoder_inputs_em)\n",
        "print(encoder_inputs_re.shape)\n",
        "\n",
        "# Note that LSTM takes only 3 dims, (samples, timesteps, features)\n",
        "encoder = LSTM(latent_dim, return_state=True)\n",
        "\n",
        "encoder_outputs, state_h, state_c = encoder(encoder_inputs_re)\n",
        "# We discard `encoder_outputs` and only keep the states.\n",
        "encoder_states = [state_h, state_c]"
      ],
      "execution_count": 43,
      "outputs": [
        {
          "output_type": "stream",
          "name": "stdout",
          "text": [
            "(None, None, 186)\n",
            "(None, None, 186, 100)\n",
            "(None, None, 18600)\n"
          ]
        }
      ]
    },
    {
      "cell_type": "code",
      "metadata": {
        "id": "D4g-jGmUeeL4",
        "colab": {
          "base_uri": "https://localhost:8080/"
        },
        "outputId": "e4791789-9d0d-437f-8233-f9471b909846"
      },
      "source": [
        "# Set up the decoder, using `encoder_states` as initial state.\n",
        "decoder_inputs = Input(shape=(None, num_decoder_tokens))\n",
        "print(decoder_inputs.shape)\n",
        "\n",
        "# Define embeddling layer\n",
        "decoder_embedding = Embedding(num_decoder_tokens, latent_dim)\n",
        "decoder_inputs_em = decoder_embedding(decoder_inputs)\n",
        "print(decoder_inputs_em.shape)\n",
        "\n",
        "# since embedding layer will add one more dim, we need to flatten last 2 dims\n",
        "decoder_reshape = Reshape((-1, decoder_inputs_em.shape[2] * decoder_inputs_em.shape[3]))\n",
        "decoder_inputs_re = decoder_reshape(decoder_inputs_em)\n",
        "print(decoder_inputs_re.shape)\n",
        "\n",
        "# We set up our decoder to return full output sequences,\n",
        "# and to return internal states as well. We don't use the\n",
        "# return states in the training model, but we will use them in inference.\n",
        "decoder = LSTM(latent_dim, return_sequences=True, return_state=True)\n",
        "\n",
        "decoder_outputs, _, _ = decoder(decoder_inputs_re, initial_state=encoder_states)\n",
        "print(decoder_outputs.shape)\n",
        "\n",
        "decoder_dense = Dense(num_decoder_tokens, activation='softmax')\n",
        "decoder_outputs = decoder_dense(decoder_outputs)\n",
        "print(decoder_outputs.shape)"
      ],
      "execution_count": 44,
      "outputs": [
        {
          "output_type": "stream",
          "name": "stdout",
          "text": [
            "(None, None, 35)\n",
            "(None, None, 35, 256)\n",
            "(None, None, 8960)\n",
            "(None, None, 256)\n",
            "(None, None, 35)\n"
          ]
        }
      ]
    },
    {
      "cell_type": "code",
      "metadata": {
        "id": "voLTGIiBeyKO"
      },
      "source": [
        "# Define the model that will turn\n",
        "# `encoder_input_data` & `decoder_input_data` into `decoder_target_data`\n",
        "model = Model([encoder_inputs, decoder_inputs], decoder_outputs)"
      ],
      "execution_count": 45,
      "outputs": []
    },
    {
      "cell_type": "code",
      "metadata": {
        "colab": {
          "base_uri": "https://localhost:8080/"
        },
        "id": "iShaSKTZYbxl",
        "outputId": "170b8551-2874-490a-9cfb-e64600d19314"
      },
      "source": [
        "model.summary()"
      ],
      "execution_count": 46,
      "outputs": [
        {
          "output_type": "stream",
          "name": "stdout",
          "text": [
            "Model: \"model\"\n",
            "__________________________________________________________________________________________________\n",
            "Layer (type)                    Output Shape         Param #     Connected to                     \n",
            "==================================================================================================\n",
            "input_2 (InputLayer)            [(None, None, 186)]  0                                            \n",
            "__________________________________________________________________________________________________\n",
            "input_3 (InputLayer)            [(None, None, 35)]   0                                            \n",
            "__________________________________________________________________________________________________\n",
            "embedding_1 (Embedding)         (None, None, 186, 10 18600       input_2[0][0]                    \n",
            "__________________________________________________________________________________________________\n",
            "embedding_2 (Embedding)         (None, None, 35, 256 8960        input_3[0][0]                    \n",
            "__________________________________________________________________________________________________\n",
            "reshape_1 (Reshape)             (None, None, 18600)  0           embedding_1[0][0]                \n",
            "__________________________________________________________________________________________________\n",
            "reshape_2 (Reshape)             (None, None, 8960)   0           embedding_2[0][0]                \n",
            "__________________________________________________________________________________________________\n",
            "lstm (LSTM)                     [(None, 256), (None, 19309568    reshape_1[0][0]                  \n",
            "__________________________________________________________________________________________________\n",
            "lstm_1 (LSTM)                   [(None, None, 256),  9438208     reshape_2[0][0]                  \n",
            "                                                                 lstm[0][1]                       \n",
            "                                                                 lstm[0][2]                       \n",
            "__________________________________________________________________________________________________\n",
            "dense (Dense)                   (None, None, 35)     8995        lstm_1[0][0]                     \n",
            "==================================================================================================\n",
            "Total params: 28,784,331\n",
            "Trainable params: 28,784,331\n",
            "Non-trainable params: 0\n",
            "__________________________________________________________________________________________________\n"
          ]
        }
      ]
    },
    {
      "cell_type": "code",
      "metadata": {
        "colab": {
          "base_uri": "https://localhost:8080/",
          "height": 644
        },
        "id": "mfGcinDOYqKl",
        "outputId": "4cedc360-47bc-4cef-db62-de7e94c3bb05"
      },
      "source": [
        "tf.keras.utils.plot_model(model, show_shapes=True, show_layer_names=True)"
      ],
      "execution_count": 47,
      "outputs": [
        {
          "output_type": "execute_result",
          "data": {
            "image/png": "[encoded data removed]",
            "text/plain": [
              "<IPython.core.display.Image object>"
            ]
          },
          "metadata": {},
          "execution_count": 47
        }
      ]
    },
    {
      "cell_type": "markdown",
      "metadata": {
        "id": "eMp54YzsOKwn"
      },
      "source": [
        "# Train"
      ]
    },
    {
      "cell_type": "code",
      "metadata": {
        "colab": {
          "base_uri": "https://localhost:8080/"
        },
        "id": "CbARhubxe2yA",
        "outputId": "65d91e9f-0758-4ff3-ca38-18f3133bee25"
      },
      "source": [
        "# Training\n",
        "batch_size = 64  # Batch size for training.\n",
        "epochs = 500  # Number of epochs to train for.\n",
        "initial_learning_rate = 0.001\n",
        "\n",
        "# Add callbacks:\n",
        "# 'EarlyStopping' to stop training when the model is not enhancing anymore\n",
        "# 'ModelCheckPoint' to always keep the model that has the best val_accuracy\n",
        "model_save_filename = \"model.h5\"\n",
        "\n",
        "model.compile(\n",
        "    optimizer=tf.keras.optimizers.RMSprop(learning_rate=initial_learning_rate), \n",
        "    loss='categorical_crossentropy', \n",
        "    metrics=['accuracy'])\n",
        "\n",
        "earlystopping_cb = EarlyStopping(\n",
        "    monitor=\"val_accuracy\",\n",
        "    mode=\"max\",\n",
        "    verbose=1,\n",
        "    patience=20, \n",
        "    restore_best_weights=True)\n",
        "\n",
        "mdlcheckpoint_cb = ModelCheckpoint(\n",
        "    model_save_filename, \n",
        "    monitor=\"val_accuracy\", \n",
        "    mode=\"max\",\n",
        "    verbose=1,\n",
        "    save_best_only=True\n",
        ")\n",
        "\n",
        "decay = initial_learning_rate / epochs\n",
        "def lr_time_based_decay(epoch, lr):\n",
        "    return lr * 1 / (1 + decay * epoch)\n",
        "lrscheduler_cb = tf.keras.callbacks.LearningRateScheduler(lr_time_based_decay)\n",
        "\n",
        "history = model.fit([encoder_input_data, decoder_input_data], decoder_target_data,\n",
        "          batch_size=batch_size, epochs=epochs,  validation_split=0.2, \n",
        "          callbacks=[earlystopping_cb, mdlcheckpoint_cb, lrscheduler_cb])"
      ],
      "execution_count": 48,
      "outputs": [
        {
          "output_type": "stream",
          "name": "stdout",
          "text": [
            "Epoch 1/500\n",
            "698/698 [==============================] - 112s 151ms/step - loss: 0.5528 - accuracy: 0.0503 - val_loss: 0.4742 - val_accuracy: 0.0383\n",
            "\n",
            "Epoch 00001: val_accuracy improved from -inf to 0.03834, saving model to model.h5\n",
            "Epoch 2/500\n",
            "698/698 [==============================] - 104s 149ms/step - loss: 0.5296 - accuracy: 0.0506 - val_loss: 0.4772 - val_accuracy: 0.0388\n",
            "\n",
            "Epoch 00002: val_accuracy improved from 0.03834 to 0.03882, saving model to model.h5\n",
            "Epoch 3/500\n",
            "698/698 [==============================] - 104s 149ms/step - loss: 0.5269 - accuracy: 0.0544 - val_loss: 0.4726 - val_accuracy: 0.0393\n",
            "\n",
            "Epoch 00003: val_accuracy improved from 0.03882 to 0.03933, saving model to model.h5\n",
            "Epoch 4/500\n",
            "698/698 [==============================] - 104s 149ms/step - loss: 0.5231 - accuracy: 0.0554 - val_loss: 0.4740 - val_accuracy: 0.0387\n",
            "\n",
            "Epoch 00004: val_accuracy did not improve from 0.03933\n",
            "Epoch 5/500\n",
            "698/698 [==============================] - 104s 149ms/step - loss: 0.5187 - accuracy: 0.0555 - val_loss: 0.4720 - val_accuracy: 0.0400\n",
            "\n",
            "Epoch 00005: val_accuracy improved from 0.03933 to 0.04004, saving model to model.h5\n",
            "Epoch 6/500\n",
            "698/698 [==============================] - 104s 149ms/step - loss: 0.5158 - accuracy: 0.0563 - val_loss: 0.4652 - val_accuracy: 0.0427\n",
            "\n",
            "Epoch 00006: val_accuracy improved from 0.04004 to 0.04271, saving model to model.h5\n",
            "Epoch 7/500\n",
            "698/698 [==============================] - 104s 149ms/step - loss: 0.5121 - accuracy: 0.0575 - val_loss: 0.4594 - val_accuracy: 0.0435\n",
            "\n",
            "Epoch 00007: val_accuracy improved from 0.04271 to 0.04351, saving model to model.h5\n",
            "Epoch 8/500\n",
            "698/698 [==============================] - 104s 149ms/step - loss: 0.4899 - accuracy: 0.0638 - val_loss: 0.4458 - val_accuracy: 0.0448\n",
            "\n",
            "Epoch 00008: val_accuracy improved from 0.04351 to 0.04482, saving model to model.h5\n",
            "Epoch 9/500\n",
            "698/698 [==============================] - 104s 149ms/step - loss: 0.4486 - accuracy: 0.0774 - val_loss: 0.3842 - val_accuracy: 0.0653\n",
            "\n",
            "Epoch 00009: val_accuracy improved from 0.04482 to 0.06533, saving model to model.h5\n",
            "Epoch 10/500\n",
            "698/698 [==============================] - 104s 149ms/step - loss: 0.4037 - accuracy: 0.0917 - val_loss: 0.3360 - val_accuracy: 0.0776\n",
            "\n",
            "Epoch 00010: val_accuracy improved from 0.06533 to 0.07759, saving model to model.h5\n",
            "Epoch 11/500\n",
            "698/698 [==============================] - 104s 149ms/step - loss: 0.3503 - accuracy: 0.1079 - val_loss: 0.2920 - val_accuracy: 0.0918\n",
            "\n",
            "Epoch 00011: val_accuracy improved from 0.07759 to 0.09178, saving model to model.h5\n",
            "Epoch 12/500\n",
            "698/698 [==============================] - 104s 149ms/step - loss: 0.3051 - accuracy: 0.1204 - val_loss: 0.2577 - val_accuracy: 0.1013\n",
            "\n",
            "Epoch 00012: val_accuracy improved from 0.09178 to 0.10131, saving model to model.h5\n",
            "Epoch 13/500\n",
            "698/698 [==============================] - 103s 148ms/step - loss: 0.2781 - accuracy: 0.1285 - val_loss: 0.2570 - val_accuracy: 0.0996\n",
            "\n",
            "Epoch 00013: val_accuracy did not improve from 0.10131\n",
            "Epoch 14/500\n",
            "698/698 [==============================] - 104s 150ms/step - loss: 0.2578 - accuracy: 0.1343 - val_loss: 0.2221 - val_accuracy: 0.1080\n",
            "\n",
            "Epoch 00014: val_accuracy improved from 0.10131 to 0.10803, saving model to model.h5\n",
            "Epoch 15/500\n",
            "698/698 [==============================] - 104s 149ms/step - loss: 0.2386 - accuracy: 0.1393 - val_loss: 0.2121 - val_accuracy: 0.1132\n",
            "\n",
            "Epoch 00015: val_accuracy improved from 0.10803 to 0.11317, saving model to model.h5\n",
            "Epoch 16/500\n",
            "698/698 [==============================] - 104s 149ms/step - loss: 0.2245 - accuracy: 0.1433 - val_loss: 0.2205 - val_accuracy: 0.1077\n",
            "\n",
            "Epoch 00016: val_accuracy did not improve from 0.11317\n",
            "Epoch 17/500\n",
            "698/698 [==============================] - 104s 149ms/step - loss: 0.2133 - accuracy: 0.1464 - val_loss: 0.2158 - val_accuracy: 0.1094\n",
            "\n",
            "Epoch 00017: val_accuracy did not improve from 0.11317\n",
            "Epoch 18/500\n",
            "698/698 [==============================] - 104s 149ms/step - loss: 0.2029 - accuracy: 0.1496 - val_loss: 0.2012 - val_accuracy: 0.1142\n",
            "\n",
            "Epoch 00018: val_accuracy improved from 0.11317 to 0.11417, saving model to model.h5\n",
            "Epoch 19/500\n",
            "698/698 [==============================] - 104s 149ms/step - loss: 0.1946 - accuracy: 0.1520 - val_loss: 0.2027 - val_accuracy: 0.1130\n",
            "\n",
            "Epoch 00019: val_accuracy did not improve from 0.11417\n",
            "Epoch 20/500\n",
            "698/698 [==============================] - 104s 149ms/step - loss: 0.1872 - accuracy: 0.1543 - val_loss: 0.1851 - val_accuracy: 0.1192\n",
            "\n",
            "Epoch 00020: val_accuracy improved from 0.11417 to 0.11919, saving model to model.h5\n",
            "Epoch 21/500\n",
            "698/698 [==============================] - 103s 148ms/step - loss: 0.1810 - accuracy: 0.1564 - val_loss: 0.1800 - val_accuracy: 0.1229\n",
            "\n",
            "Epoch 00021: val_accuracy improved from 0.11919 to 0.12286, saving model to model.h5\n",
            "Epoch 22/500\n",
            "698/698 [==============================] - 104s 148ms/step - loss: 0.1749 - accuracy: 0.1582 - val_loss: 0.1837 - val_accuracy: 0.1213\n",
            "\n",
            "Epoch 00022: val_accuracy did not improve from 0.12286\n",
            "Epoch 23/500\n",
            "698/698 [==============================] - 104s 149ms/step - loss: 0.1698 - accuracy: 0.1597 - val_loss: 0.1796 - val_accuracy: 0.1203\n",
            "\n",
            "Epoch 00023: val_accuracy did not improve from 0.12286\n",
            "Epoch 24/500\n",
            "698/698 [==============================] - 104s 149ms/step - loss: 0.1651 - accuracy: 0.1610 - val_loss: 0.1762 - val_accuracy: 0.1236\n",
            "\n",
            "Epoch 00024: val_accuracy improved from 0.12286 to 0.12357, saving model to model.h5\n",
            "Epoch 25/500\n",
            "698/698 [==============================] - 104s 149ms/step - loss: 0.1605 - accuracy: 0.1625 - val_loss: 0.1763 - val_accuracy: 0.1241\n",
            "\n",
            "Epoch 00025: val_accuracy improved from 0.12357 to 0.12410, saving model to model.h5\n",
            "Epoch 26/500\n",
            "698/698 [==============================] - 104s 149ms/step - loss: 0.1565 - accuracy: 0.1637 - val_loss: 0.1813 - val_accuracy: 0.1211\n",
            "\n",
            "Epoch 00026: val_accuracy did not improve from 0.12410\n",
            "Epoch 27/500\n",
            "698/698 [==============================] - 104s 149ms/step - loss: 0.1528 - accuracy: 0.1647 - val_loss: 0.1682 - val_accuracy: 0.1241\n",
            "\n",
            "Epoch 00027: val_accuracy improved from 0.12410 to 0.12411, saving model to model.h5\n",
            "Epoch 28/500\n",
            "698/698 [==============================] - 104s 149ms/step - loss: 0.1493 - accuracy: 0.1656 - val_loss: 0.1759 - val_accuracy: 0.1218\n",
            "\n",
            "Epoch 00028: val_accuracy did not improve from 0.12411\n",
            "Epoch 29/500\n",
            "698/698 [==============================] - 104s 148ms/step - loss: 0.1458 - accuracy: 0.1665 - val_loss: 0.1710 - val_accuracy: 0.1240\n",
            "\n",
            "Epoch 00029: val_accuracy did not improve from 0.12411\n",
            "Epoch 30/500\n",
            "698/698 [==============================] - 104s 149ms/step - loss: 0.1428 - accuracy: 0.1673 - val_loss: 0.1634 - val_accuracy: 0.1271\n",
            "\n",
            "Epoch 00030: val_accuracy improved from 0.12411 to 0.12710, saving model to model.h5\n",
            "Epoch 31/500\n",
            "698/698 [==============================] - 104s 149ms/step - loss: 0.1402 - accuracy: 0.1680 - val_loss: 0.1666 - val_accuracy: 0.1249\n",
            "\n",
            "Epoch 00031: val_accuracy did not improve from 0.12710\n",
            "Epoch 32/500\n",
            "698/698 [==============================] - 104s 149ms/step - loss: 0.1380 - accuracy: 0.1686 - val_loss: 0.1708 - val_accuracy: 0.1232\n",
            "\n",
            "Epoch 00032: val_accuracy did not improve from 0.12710\n",
            "Epoch 33/500\n",
            "698/698 [==============================] - 104s 149ms/step - loss: 0.1356 - accuracy: 0.1693 - val_loss: 0.1754 - val_accuracy: 0.1232\n",
            "\n",
            "Epoch 00033: val_accuracy did not improve from 0.12710\n",
            "Epoch 34/500\n",
            "698/698 [==============================] - 104s 149ms/step - loss: 0.1335 - accuracy: 0.1698 - val_loss: 0.1660 - val_accuracy: 0.1259\n",
            "\n",
            "Epoch 00034: val_accuracy did not improve from 0.12710\n",
            "Epoch 35/500\n",
            "698/698 [==============================] - 104s 149ms/step - loss: 0.1314 - accuracy: 0.1704 - val_loss: 0.1600 - val_accuracy: 0.1276\n",
            "\n",
            "Epoch 00035: val_accuracy improved from 0.12710 to 0.12761, saving model to model.h5\n",
            "Epoch 36/500\n",
            "698/698 [==============================] - 104s 149ms/step - loss: 0.1295 - accuracy: 0.1710 - val_loss: 0.1655 - val_accuracy: 0.1261\n",
            "\n",
            "Epoch 00036: val_accuracy did not improve from 0.12761\n",
            "Epoch 37/500\n",
            "698/698 [==============================] - 104s 149ms/step - loss: 0.1278 - accuracy: 0.1714 - val_loss: 0.1650 - val_accuracy: 0.1257\n",
            "\n",
            "Epoch 00037: val_accuracy did not improve from 0.12761\n",
            "Epoch 38/500\n",
            "698/698 [==============================] - 104s 149ms/step - loss: 0.1259 - accuracy: 0.1719 - val_loss: 0.1673 - val_accuracy: 0.1227\n",
            "\n",
            "Epoch 00038: val_accuracy did not improve from 0.12761\n",
            "Epoch 39/500\n",
            "698/698 [==============================] - 104s 149ms/step - loss: 0.1245 - accuracy: 0.1722 - val_loss: 0.1651 - val_accuracy: 0.1258\n",
            "\n",
            "Epoch 00039: val_accuracy did not improve from 0.12761\n",
            "Epoch 40/500\n",
            "698/698 [==============================] - 104s 149ms/step - loss: 0.1231 - accuracy: 0.1727 - val_loss: 0.1601 - val_accuracy: 0.1265\n",
            "\n",
            "Epoch 00040: val_accuracy did not improve from 0.12761\n",
            "Epoch 41/500\n",
            "698/698 [==============================] - 104s 150ms/step - loss: 0.1214 - accuracy: 0.1730 - val_loss: 0.1636 - val_accuracy: 0.1250\n",
            "\n",
            "Epoch 00041: val_accuracy did not improve from 0.12761\n",
            "Epoch 42/500\n",
            "698/698 [==============================] - 104s 149ms/step - loss: 0.1200 - accuracy: 0.1733 - val_loss: 0.1848 - val_accuracy: 0.1195\n",
            "\n",
            "Epoch 00042: val_accuracy did not improve from 0.12761\n",
            "Epoch 43/500\n",
            "698/698 [==============================] - 104s 149ms/step - loss: 0.1187 - accuracy: 0.1736 - val_loss: 0.1658 - val_accuracy: 0.1245\n",
            "\n",
            "Epoch 00043: val_accuracy did not improve from 0.12761\n",
            "Epoch 44/500\n",
            "698/698 [==============================] - 104s 149ms/step - loss: 0.1175 - accuracy: 0.1739 - val_loss: 0.1616 - val_accuracy: 0.1258\n",
            "\n",
            "Epoch 00044: val_accuracy did not improve from 0.12761\n",
            "Epoch 45/500\n",
            "698/698 [==============================] - 104s 149ms/step - loss: 0.1164 - accuracy: 0.1743 - val_loss: 0.1597 - val_accuracy: 0.1269\n",
            "\n",
            "Epoch 00045: val_accuracy did not improve from 0.12761\n",
            "Epoch 46/500\n",
            "698/698 [==============================] - 103s 148ms/step - loss: 0.1152 - accuracy: 0.1745 - val_loss: 0.1629 - val_accuracy: 0.1261\n",
            "\n",
            "Epoch 00046: val_accuracy did not improve from 0.12761\n",
            "Epoch 47/500\n",
            "698/698 [==============================] - 104s 148ms/step - loss: 0.1141 - accuracy: 0.1748 - val_loss: 0.1691 - val_accuracy: 0.1223\n",
            "\n",
            "Epoch 00047: val_accuracy did not improve from 0.12761\n",
            "Epoch 48/500\n",
            "698/698 [==============================] - 104s 148ms/step - loss: 0.1131 - accuracy: 0.1751 - val_loss: 0.1628 - val_accuracy: 0.1260\n",
            "\n",
            "Epoch 00048: val_accuracy did not improve from 0.12761\n",
            "Epoch 49/500\n",
            "698/698 [==============================] - 104s 148ms/step - loss: 0.1123 - accuracy: 0.1752 - val_loss: 0.1636 - val_accuracy: 0.1246\n",
            "\n",
            "Epoch 00049: val_accuracy did not improve from 0.12761\n",
            "Epoch 50/500\n",
            "698/698 [==============================] - 103s 148ms/step - loss: 0.1112 - accuracy: 0.1755 - val_loss: 0.1594 - val_accuracy: 0.1263\n",
            "\n",
            "Epoch 00050: val_accuracy did not improve from 0.12761\n",
            "Epoch 51/500\n",
            "698/698 [==============================] - 104s 149ms/step - loss: 0.1104 - accuracy: 0.1757 - val_loss: 0.1639 - val_accuracy: 0.1249\n",
            "\n",
            "Epoch 00051: val_accuracy did not improve from 0.12761\n",
            "Epoch 52/500\n",
            "698/698 [==============================] - 104s 149ms/step - loss: 0.1096 - accuracy: 0.1758 - val_loss: 0.1611 - val_accuracy: 0.1256\n",
            "\n",
            "Epoch 00052: val_accuracy did not improve from 0.12761\n",
            "Epoch 53/500\n",
            "698/698 [==============================] - 103s 148ms/step - loss: 0.1088 - accuracy: 0.1761 - val_loss: 0.1641 - val_accuracy: 0.1244\n",
            "\n",
            "Epoch 00053: val_accuracy did not improve from 0.12761\n",
            "Epoch 54/500\n",
            "698/698 [==============================] - 103s 148ms/step - loss: 0.1082 - accuracy: 0.1762 - val_loss: 0.1556 - val_accuracy: 0.1278\n",
            "\n",
            "Epoch 00054: val_accuracy improved from 0.12761 to 0.12782, saving model to model.h5\n",
            "Epoch 55/500\n",
            "698/698 [==============================] - 103s 148ms/step - loss: 0.1076 - accuracy: 0.1764 - val_loss: 0.1636 - val_accuracy: 0.1247\n",
            "\n",
            "Epoch 00055: val_accuracy did not improve from 0.12782\n",
            "Epoch 56/500\n",
            "698/698 [==============================] - 104s 148ms/step - loss: 0.1068 - accuracy: 0.1766 - val_loss: 0.1670 - val_accuracy: 0.1245\n",
            "\n",
            "Epoch 00056: val_accuracy did not improve from 0.12782\n",
            "Epoch 57/500\n",
            "698/698 [==============================] - 103s 148ms/step - loss: 0.1060 - accuracy: 0.1768 - val_loss: 0.1624 - val_accuracy: 0.1252\n",
            "\n",
            "Epoch 00057: val_accuracy did not improve from 0.12782\n",
            "Epoch 58/500\n",
            "698/698 [==============================] - 103s 148ms/step - loss: 0.1051 - accuracy: 0.1771 - val_loss: 0.1649 - val_accuracy: 0.1245\n",
            "\n",
            "Epoch 00058: val_accuracy did not improve from 0.12782\n",
            "Epoch 59/500\n",
            "698/698 [==============================] - 104s 148ms/step - loss: 0.1046 - accuracy: 0.1771 - val_loss: 0.1627 - val_accuracy: 0.1260\n",
            "\n",
            "Epoch 00059: val_accuracy did not improve from 0.12782\n",
            "Epoch 60/500\n",
            "698/698 [==============================] - 103s 148ms/step - loss: 0.1039 - accuracy: 0.1772 - val_loss: 0.1600 - val_accuracy: 0.1260\n",
            "\n",
            "Epoch 00060: val_accuracy did not improve from 0.12782\n",
            "Epoch 61/500\n",
            "698/698 [==============================] - 103s 148ms/step - loss: 0.1032 - accuracy: 0.1774 - val_loss: 0.1726 - val_accuracy: 0.1223\n",
            "\n",
            "Epoch 00061: val_accuracy did not improve from 0.12782\n",
            "Epoch 62/500\n",
            "698/698 [==============================] - 103s 148ms/step - loss: 0.1027 - accuracy: 0.1776 - val_loss: 0.1647 - val_accuracy: 0.1238\n",
            "\n",
            "Epoch 00062: val_accuracy did not improve from 0.12782\n",
            "Epoch 63/500\n",
            "698/698 [==============================] - 104s 149ms/step - loss: 0.1023 - accuracy: 0.1776 - val_loss: 0.1633 - val_accuracy: 0.1238\n",
            "\n",
            "Epoch 00063: val_accuracy did not improve from 0.12782\n",
            "Epoch 64/500\n",
            "698/698 [==============================] - 104s 148ms/step - loss: 0.1017 - accuracy: 0.1777 - val_loss: 0.1598 - val_accuracy: 0.1265\n",
            "\n",
            "Epoch 00064: val_accuracy did not improve from 0.12782\n",
            "Epoch 65/500\n",
            "698/698 [==============================] - 103s 148ms/step - loss: 0.1013 - accuracy: 0.1777 - val_loss: 0.1743 - val_accuracy: 0.1207\n",
            "\n",
            "Epoch 00065: val_accuracy did not improve from 0.12782\n",
            "Epoch 66/500\n",
            "698/698 [==============================] - 103s 148ms/step - loss: 0.1007 - accuracy: 0.1780 - val_loss: 0.1598 - val_accuracy: 0.1268\n",
            "\n",
            "Epoch 00066: val_accuracy did not improve from 0.12782\n",
            "Epoch 67/500\n",
            "698/698 [==============================] - 104s 148ms/step - loss: 0.1003 - accuracy: 0.1780 - val_loss: 0.1585 - val_accuracy: 0.1263\n",
            "\n",
            "Epoch 00067: val_accuracy did not improve from 0.12782\n",
            "Epoch 68/500\n",
            "698/698 [==============================] - 104s 149ms/step - loss: 0.0997 - accuracy: 0.1782 - val_loss: 0.1587 - val_accuracy: 0.1270\n",
            "\n",
            "Epoch 00068: val_accuracy did not improve from 0.12782\n",
            "Epoch 69/500\n",
            "698/698 [==============================] - 103s 148ms/step - loss: 0.0991 - accuracy: 0.1783 - val_loss: 0.1621 - val_accuracy: 0.1252\n",
            "\n",
            "Epoch 00069: val_accuracy did not improve from 0.12782\n",
            "Epoch 70/500\n",
            "698/698 [==============================] - 103s 148ms/step - loss: 0.0986 - accuracy: 0.1784 - val_loss: 0.1614 - val_accuracy: 0.1257\n",
            "\n",
            "Epoch 00070: val_accuracy did not improve from 0.12782\n",
            "Epoch 71/500\n",
            "698/698 [==============================] - 103s 148ms/step - loss: 0.0982 - accuracy: 0.1784 - val_loss: 0.1631 - val_accuracy: 0.1246\n",
            "\n",
            "Epoch 00071: val_accuracy did not improve from 0.12782\n",
            "Epoch 72/500\n",
            "698/698 [==============================] - 103s 148ms/step - loss: 0.0978 - accuracy: 0.1785 - val_loss: 0.1637 - val_accuracy: 0.1242\n",
            "\n",
            "Epoch 00072: val_accuracy did not improve from 0.12782\n",
            "Epoch 73/500\n",
            "698/698 [==============================] - 103s 148ms/step - loss: 0.0975 - accuracy: 0.1786 - val_loss: 0.1627 - val_accuracy: 0.1245\n",
            "\n",
            "Epoch 00073: val_accuracy did not improve from 0.12782\n",
            "Epoch 74/500\n",
            "698/698 [==============================] - 103s 148ms/step - loss: 0.0972 - accuracy: 0.1787 - val_loss: 0.1609 - val_accuracy: 0.1252\n",
            "\n",
            "Epoch 00074: val_accuracy did not improve from 0.12782\n",
            "Epoch 75/500\n",
            "698/698 [==============================] - 103s 148ms/step - loss: 0.0967 - accuracy: 0.1788 - val_loss: 0.1619 - val_accuracy: 0.1248\n",
            "\n",
            "Epoch 00075: val_accuracy did not improve from 0.12782\n",
            "Epoch 76/500\n",
            "698/698 [==============================] - 103s 148ms/step - loss: 0.0963 - accuracy: 0.1790 - val_loss: 0.1590 - val_accuracy: 0.1254\n",
            "\n",
            "Epoch 00076: val_accuracy did not improve from 0.12782\n",
            "Epoch 77/500\n",
            "698/698 [==============================] - 104s 148ms/step - loss: 0.0961 - accuracy: 0.1790 - val_loss: 0.1611 - val_accuracy: 0.1258\n",
            "\n",
            "Epoch 00077: val_accuracy did not improve from 0.12782\n",
            "Epoch 78/500\n",
            "698/698 [==============================] - 104s 148ms/step - loss: 0.0957 - accuracy: 0.1790 - val_loss: 0.1630 - val_accuracy: 0.1245\n",
            "\n",
            "Epoch 00078: val_accuracy did not improve from 0.12782\n",
            "Epoch 79/500\n",
            "698/698 [==============================] - 103s 148ms/step - loss: 0.0954 - accuracy: 0.1791 - val_loss: 0.1645 - val_accuracy: 0.1242\n",
            "\n",
            "Epoch 00079: val_accuracy did not improve from 0.12782\n",
            "Epoch 80/500\n",
            "698/698 [==============================] - 104s 148ms/step - loss: 0.0949 - accuracy: 0.1793 - val_loss: 0.1671 - val_accuracy: 0.1222\n",
            "\n",
            "Epoch 00080: val_accuracy did not improve from 0.12782\n",
            "Epoch 81/500\n",
            "698/698 [==============================] - 104s 148ms/step - loss: 0.0946 - accuracy: 0.1793 - val_loss: 0.1626 - val_accuracy: 0.1245\n",
            "\n",
            "Epoch 00081: val_accuracy did not improve from 0.12782\n",
            "Epoch 82/500\n",
            "698/698 [==============================] - 103s 148ms/step - loss: 0.0944 - accuracy: 0.1793 - val_loss: 0.1606 - val_accuracy: 0.1250\n",
            "\n",
            "Epoch 00082: val_accuracy did not improve from 0.12782\n",
            "Epoch 83/500\n",
            "698/698 [==============================] - 103s 148ms/step - loss: 0.0942 - accuracy: 0.1794 - val_loss: 0.1610 - val_accuracy: 0.1249\n",
            "\n",
            "Epoch 00083: val_accuracy did not improve from 0.12782\n",
            "Epoch 84/500\n",
            "698/698 [==============================] - 103s 148ms/step - loss: 0.0937 - accuracy: 0.1795 - val_loss: 0.1732 - val_accuracy: 0.1209\n",
            "\n",
            "Epoch 00084: val_accuracy did not improve from 0.12782\n",
            "Epoch 85/500\n",
            "698/698 [==============================] - 103s 148ms/step - loss: 0.0934 - accuracy: 0.1797 - val_loss: 0.1616 - val_accuracy: 0.1245\n",
            "\n",
            "Epoch 00085: val_accuracy did not improve from 0.12782\n",
            "Epoch 86/500\n",
            "698/698 [==============================] - 104s 149ms/step - loss: 0.0932 - accuracy: 0.1796 - val_loss: 0.1639 - val_accuracy: 0.1234\n",
            "\n",
            "Epoch 00086: val_accuracy did not improve from 0.12782\n",
            "Epoch 87/500\n",
            "698/698 [==============================] - 104s 148ms/step - loss: 0.0930 - accuracy: 0.1797 - val_loss: 0.1618 - val_accuracy: 0.1251\n",
            "\n",
            "Epoch 00087: val_accuracy did not improve from 0.12782\n",
            "Epoch 88/500\n",
            "698/698 [==============================] - 103s 148ms/step - loss: 0.0926 - accuracy: 0.1797 - val_loss: 0.1649 - val_accuracy: 0.1239\n",
            "\n",
            "Epoch 00088: val_accuracy did not improve from 0.12782\n",
            "Epoch 89/500\n",
            "698/698 [==============================] - 103s 148ms/step - loss: 0.0924 - accuracy: 0.1798 - val_loss: 0.1641 - val_accuracy: 0.1244\n",
            "\n",
            "Epoch 00089: val_accuracy did not improve from 0.12782\n",
            "Epoch 90/500\n",
            "698/698 [==============================] - 104s 148ms/step - loss: 0.0922 - accuracy: 0.1799 - val_loss: 0.1616 - val_accuracy: 0.1254\n",
            "\n",
            "Epoch 00090: val_accuracy did not improve from 0.12782\n",
            "Epoch 91/500\n",
            "698/698 [==============================] - 104s 149ms/step - loss: 0.0918 - accuracy: 0.1799 - val_loss: 0.1640 - val_accuracy: 0.1245\n",
            "\n",
            "Epoch 00091: val_accuracy did not improve from 0.12782\n",
            "Epoch 92/500\n",
            "698/698 [==============================] - 104s 148ms/step - loss: 0.0917 - accuracy: 0.1799 - val_loss: 0.1653 - val_accuracy: 0.1239\n",
            "\n",
            "Epoch 00092: val_accuracy did not improve from 0.12782\n",
            "Epoch 93/500\n",
            "698/698 [==============================] - 104s 149ms/step - loss: 0.0916 - accuracy: 0.1799 - val_loss: 0.1638 - val_accuracy: 0.1241\n",
            "\n",
            "Epoch 00093: val_accuracy did not improve from 0.12782\n",
            "Epoch 94/500\n",
            "698/698 [==============================] - 103s 148ms/step - loss: 0.0912 - accuracy: 0.1800 - val_loss: 0.1629 - val_accuracy: 0.1249\n",
            "\n",
            "Epoch 00094: val_accuracy did not improve from 0.12782\n",
            "Epoch 95/500\n",
            "698/698 [==============================] - 104s 149ms/step - loss: 0.0909 - accuracy: 0.1801 - val_loss: 0.1698 - val_accuracy: 0.1230\n",
            "\n",
            "Epoch 00095: val_accuracy did not improve from 0.12782\n",
            "Epoch 96/500\n",
            "698/698 [==============================] - 104s 148ms/step - loss: 0.0909 - accuracy: 0.1800 - val_loss: 0.1704 - val_accuracy: 0.1211\n",
            "\n",
            "Epoch 00096: val_accuracy did not improve from 0.12782\n",
            "Epoch 97/500\n",
            "698/698 [==============================] - 104s 148ms/step - loss: 0.0904 - accuracy: 0.1802 - val_loss: 0.1674 - val_accuracy: 0.1228\n",
            "\n",
            "Epoch 00097: val_accuracy did not improve from 0.12782\n",
            "Epoch 98/500\n",
            "698/698 [==============================] - 104s 149ms/step - loss: 0.0904 - accuracy: 0.1801 - val_loss: 0.1652 - val_accuracy: 0.1236\n",
            "\n",
            "Epoch 00098: val_accuracy did not improve from 0.12782\n",
            "Epoch 99/500\n",
            "698/698 [==============================] - 104s 149ms/step - loss: 0.0901 - accuracy: 0.1802 - val_loss: 0.1666 - val_accuracy: 0.1233\n",
            "\n",
            "Epoch 00099: val_accuracy did not improve from 0.12782\n",
            "Epoch 100/500\n",
            "698/698 [==============================] - 104s 149ms/step - loss: 0.0897 - accuracy: 0.1803 - val_loss: 0.1600 - val_accuracy: 0.1250\n",
            "\n",
            "Epoch 00100: val_accuracy did not improve from 0.12782\n",
            "Epoch 101/500\n",
            "698/698 [==============================] - 104s 149ms/step - loss: 0.0895 - accuracy: 0.1803 - val_loss: 0.1690 - val_accuracy: 0.1231\n",
            "\n",
            "Epoch 00101: val_accuracy did not improve from 0.12782\n",
            "Epoch 102/500\n",
            "698/698 [==============================] - 104s 149ms/step - loss: 0.0895 - accuracy: 0.1803 - val_loss: 0.1609 - val_accuracy: 0.1252\n",
            "\n",
            "Epoch 00102: val_accuracy did not improve from 0.12782\n",
            "Epoch 103/500\n",
            "698/698 [==============================] - 104s 149ms/step - loss: 0.0891 - accuracy: 0.1804 - val_loss: 0.1627 - val_accuracy: 0.1246\n",
            "\n",
            "Epoch 00103: val_accuracy did not improve from 0.12782\n",
            "Epoch 104/500\n",
            "698/698 [==============================] - 104s 149ms/step - loss: 0.0891 - accuracy: 0.1805 - val_loss: 0.1614 - val_accuracy: 0.1253\n",
            "Restoring model weights from the end of the best epoch.\n",
            "\n",
            "Epoch 00104: val_accuracy did not improve from 0.12782\n",
            "Epoch 00104: early stopping\n"
          ]
        }
      ]
    },
    {
      "cell_type": "code",
      "metadata": {
        "colab": {
          "base_uri": "https://localhost:8080/"
        },
        "id": "OAvJi9RndsTf",
        "outputId": "8c8d6633-a8d0-4a04-d354-fd9ada0fa750"
      },
      "source": [
        "# list all data in history\n",
        "print(history.history.keys())"
      ],
      "execution_count": 49,
      "outputs": [
        {
          "output_type": "stream",
          "name": "stdout",
          "text": [
            "dict_keys(['loss', 'accuracy', 'val_loss', 'val_accuracy', 'lr'])\n"
          ]
        }
      ]
    },
    {
      "cell_type": "code",
      "metadata": {
        "colab": {
          "base_uri": "https://localhost:8080/",
          "height": 295
        },
        "id": "CRUKMJidtBC2",
        "outputId": "fd24b2da-b6b3-40f5-b9f3-cb91eefb725a"
      },
      "source": [
        "# summarize history for accuracy\n",
        "plt.plot(history.history['accuracy'])\n",
        "plt.plot(history.history['val_accuracy'])\n",
        "plt.title('model accuracy')\n",
        "plt.ylabel('accuracy')\n",
        "plt.xlabel('epoch')\n",
        "plt.legend(['train', 'validation'], loc='upper left')\n",
        "plt.show()"
      ],
      "execution_count": 50,
      "outputs": [
        {
          "output_type": "display_data",
          "data": {
            "image/png": "[encoded data removed]",
            "text/plain": [
              "<Figure size 432x288 with 1 Axes>"
            ]
          },
          "metadata": {
            "needs_background": "light"
          }
        }
      ]
    },
    {
      "cell_type": "code",
      "metadata": {
        "colab": {
          "base_uri": "https://localhost:8080/",
          "height": 295
        },
        "id": "arLbJGpHa-JC",
        "outputId": "6f1117f7-01e7-4859-b8ba-04eece73ce32"
      },
      "source": [
        "# summarize history for loss\n",
        "plt.plot(history.history['loss'])\n",
        "plt.plot(history.history['val_loss'])\n",
        "plt.title('model loss')\n",
        "plt.ylabel('loss')\n",
        "plt.xlabel('epoch')\n",
        "plt.legend(['train', 'validation'], loc='upper left')\n",
        "plt.show()"
      ],
      "execution_count": 51,
      "outputs": [
        {
          "output_type": "display_data",
          "data": {
            "image/png": "[encoded data removed]",
            "text/plain": [
              "<Figure size 432x288 with 1 Axes>"
            ]
          },
          "metadata": {
            "needs_background": "light"
          }
        }
      ]
    },
    {
      "cell_type": "code",
      "metadata": {
        "colab": {
          "base_uri": "https://localhost:8080/"
        },
        "id": "Rmx3_vQbfh7J",
        "outputId": "1b6ddd66-d7dc-4b4c-9adc-1159b31fc2c8"
      },
      "source": [
        "%ls -ltr"
      ],
      "execution_count": 52,
      "outputs": [
        {
          "output_type": "stream",
          "name": "stdout",
          "text": [
            "total 241808\n",
            "-rw------- 1 root root   3898148 Sep 14 19:57 affidavits.csv\n",
            "-rw------- 1 root root    813709 Sep 14 22:38 players_with_hindi_names.json\n",
            "-rw------- 1 root root   5006688 Sep 17 01:54 s2s.h5\n",
            "-rw------- 1 root root   6128992 Sep 19 21:17 model_v1.h5\n",
            "-rw------- 1 root root   1326377 Sep 20 22:52 hi.translit.sampled.train.tsv\n",
            "-rw------- 1 root root     33396 Sep 21 19:15 model_plot_dec.png\n",
            "-rw------- 1 root root     71081 Sep 24 15:05 model.png\n",
            "-rw------- 1 root root 230330576 Sep 24 16:42 model.h5\n"
          ]
        }
      ]
    },
    {
      "cell_type": "code",
      "metadata": {
        "colab": {
          "base_uri": "https://localhost:8080/"
        },
        "id": "vm5myRi5tOKl",
        "outputId": "460a12c2-77c7-412d-d4b0-595189c5c835"
      },
      "source": [
        "!du -sh model.h5"
      ],
      "execution_count": 53,
      "outputs": [
        {
          "output_type": "stream",
          "name": "stdout",
          "text": [
            "220M\tmodel.h5\n"
          ]
        }
      ]
    },
    {
      "cell_type": "markdown",
      "metadata": {
        "id": "qFGXM_d7OOm-"
      },
      "source": [
        "# Inference"
      ]
    },
    {
      "cell_type": "code",
      "metadata": {
        "id": "ICjit4jSOU4O"
      },
      "source": [
        "# Restore the model and construct the encoder and decoder.\n",
        "model = load_model(model_save_filename)\n",
        "# model = load_model(\"model_v1.h5\")"
      ],
      "execution_count": 54,
      "outputs": []
    },
    {
      "cell_type": "code",
      "metadata": {
        "colab": {
          "base_uri": "https://localhost:8080/"
        },
        "id": "sZ0dTUtE_3_y",
        "outputId": "fda6ac12-6a87-4bb7-b83e-6cfe676e7055"
      },
      "source": [
        "model.layers[-1]"
      ],
      "execution_count": 71,
      "outputs": [
        {
          "output_type": "execute_result",
          "data": {
            "text/plain": [
              "<keras.layers.core.Dense at 0x7f3166067990>"
            ]
          },
          "metadata": {},
          "execution_count": 71
        }
      ]
    },
    {
      "cell_type": "code",
      "metadata": {
        "id": "7ZowNfcXmWlL",
        "colab": {
          "base_uri": "https://localhost:8080/"
        },
        "outputId": "23a5df65-a4f5-4383-f920-41ef8bb011d3"
      },
      "source": [
        "# Predictions\n",
        "encoder_inputs = model.input[0]  # input_1\n",
        "encoder_outputs, state_h_enc, state_c_enc = model.layers[6].output  # lstm_1\n",
        "encoder_states = [state_h_enc, state_c_enc]\n",
        "\n",
        "encoder_model = Model(encoder_inputs, encoder_states)\n",
        "\n",
        "decoder_inputs = model.input[1]  # input_2\n",
        "decoder_inputs_em = decoder_embedding(decoder_inputs)\n",
        "\n",
        "# since embedding layer will add one more dim, we need to flatten last 2 dims\n",
        "decoder_reshape = Reshape((-1, decoder_inputs_em.shape[2] * decoder_inputs_em.shape[3]))\n",
        "decoder_inputs_re = decoder_reshape(decoder_inputs_em)\n",
        "print(decoder_inputs_re.shape)\n",
        "\n",
        "decoder_state_input_h = Input(shape=(latent_dim,))\n",
        "decoder_state_input_c = Input(shape=(latent_dim,))\n",
        "decoder_states_inputs = [decoder_state_input_h, decoder_state_input_c]\n",
        "\n",
        "decoder_lstm = model.layers[7] # lstm_2\n",
        "decoder_outputs, state_h_dec, state_c_dec = decoder_lstm(\n",
        "    decoder_inputs_re, initial_state=decoder_states_inputs\n",
        ")\n",
        "\n",
        "decoder_states = [state_h_dec, state_c_dec]\n",
        "\n",
        "decoder_dense = model.layers[-1]\n",
        "decoder_outputs = decoder_dense(decoder_outputs)\n",
        "\n",
        "decoder_model = Model(\n",
        "    [decoder_inputs] + decoder_states_inputs,\n",
        "    [decoder_outputs] + decoder_states\n",
        ")"
      ],
      "execution_count": 72,
      "outputs": [
        {
          "output_type": "stream",
          "name": "stdout",
          "text": [
            "(None, None, 8960)\n"
          ]
        }
      ]
    },
    {
      "cell_type": "code",
      "metadata": {
        "id": "P-waZOKNPJaS"
      },
      "source": [
        "# Reverse-lookup token index to decode sequences back to\n",
        "# something readable.\n",
        "reverse_input_char_index = dict((i, char) for char, i in input_token_index.items())\n",
        "reverse_target_char_index = dict((i, char) for char, i in target_token_index.items())"
      ],
      "execution_count": 73,
      "outputs": []
    },
    {
      "cell_type": "code",
      "metadata": {
        "colab": {
          "base_uri": "https://localhost:8080/",
          "height": 470
        },
        "id": "90myy-NNvctl",
        "outputId": "38356718-4222-4a5c-c61d-fa21a4c56562"
      },
      "source": [
        "tf.keras.utils.plot_model(decoder_model, to_file='model_plot_dec.png', show_shapes=True, show_layer_names=True)"
      ],
      "execution_count": 74,
      "outputs": [
        {
          "output_type": "execute_result",
          "data": {
            "image/png": "[encoded data removed]",
            "text/plain": [
              "<IPython.core.display.Image object>"
            ]
          },
          "metadata": {},
          "execution_count": 74
        }
      ]
    },
    {
      "cell_type": "code",
      "metadata": {
        "id": "CP-O29K3zeut"
      },
      "source": [
        "def predict_target(input_string):\n",
        "  # convert for encoding \n",
        "  input_data = np.zeros((1, max_encoder_seq_length, num_encoder_tokens), dtype='float32')\n",
        "  for t, char in enumerate(input_string):\n",
        "    input_data[0, t, input_token_index[char]] = 1.\n",
        "\n",
        "  # Encode the input as state vectors.\n",
        "  states_value = encoder_model(input_data)\n",
        "\n",
        "   # Generate empty target sequence of length 1.\n",
        "  target_seq = np.zeros((1, 1, num_decoder_tokens), dtype='float32')\n",
        "  # Populate the first character of target sequence with the start character.\n",
        "  target_seq[0, 0, target_token_index['^']] = 1.0\n",
        "\n",
        "  stop_condition = False\n",
        "  decoded_sentence = \"\"\n",
        "\n",
        "  while True:\n",
        "    output_tokens, d_h, d_c = decoder_model.predict([target_seq] + states_value)\n",
        "    # Sample a token\n",
        "    sampled_token_index = np.argmax(output_tokens[0, -1, :])\n",
        "    sampled_char = reverse_target_char_index[sampled_token_index]\n",
        "\n",
        "    # Exit condition: either hit max length\n",
        "    # or find stop character.\n",
        "    if sampled_char == \"$\" or len(decoded_sentence) > max_decoder_seq_length:\n",
        "      break\n",
        "      \n",
        "    decoded_sentence += sampled_char\n",
        "\n",
        "    # Update the target sequence (of length 1).\n",
        "    target_seq = np.zeros((1, 1, num_decoder_tokens))\n",
        "    target_seq[0, 0, sampled_token_index] = 1.0\n",
        "\n",
        "    # Update states\n",
        "    states_value = [d_h, d_c]\n",
        "  return decoded_sentence"
      ],
      "execution_count": 75,
      "outputs": []
    },
    {
      "cell_type": "code",
      "metadata": {
        "id": "0O9eWBgtvGeM",
        "colab": {
          "base_uri": "https://localhost:8080/",
          "height": 35
        },
        "outputId": "1d910d26-b1d5-42ec-9821-315303fa19fc"
      },
      "source": [
        "test_input = 'राजशेखर'\n",
        "predicted_string = predict_target(test_input)\n",
        "predicted_string"
      ],
      "execution_count": 76,
      "outputs": [
        {
          "output_type": "execute_result",
          "data": {
            "application/vnd.google.colaboratory.intrinsic+json": {
              "type": "string"
            },
            "text/plain": [
              "'rajasekhar'"
            ]
          },
          "metadata": {},
          "execution_count": 76
        }
      ]
    },
    {
      "cell_type": "code",
      "metadata": {
        "colab": {
          "base_uri": "https://localhost:8080/",
          "height": 35
        },
        "id": "Uy2yjJXZ0MdK",
        "outputId": "0e9bedd2-7365-4d6c-9c67-eab5d0d4e56f"
      },
      "source": [
        "test_input = 'गौरव'\n",
        "predicted_string = predict_target(test_input)\n",
        "predicted_string"
      ],
      "execution_count": 79,
      "outputs": [
        {
          "output_type": "execute_result",
          "data": {
            "application/vnd.google.colaboratory.intrinsic+json": {
              "type": "string"
            },
            "text/plain": [
              "'gaurav'"
            ]
          },
          "metadata": {},
          "execution_count": 79
        }
      ]
    },
    {
      "cell_type": "code",
      "metadata": {
        "colab": {
          "base_uri": "https://localhost:8080/",
          "height": 35
        },
        "id": "q8W7E0Kzka0e",
        "outputId": "bacc696d-b934-46ea-d7f4-74e063c07836"
      },
      "source": [
        "test_input = 'सूद'\n",
        "predicted_string = predict_target(test_input)\n",
        "predicted_string"
      ],
      "execution_count": 78,
      "outputs": [
        {
          "output_type": "execute_result",
          "data": {
            "application/vnd.google.colaboratory.intrinsic+json": {
              "type": "string"
            },
            "text/plain": [
              "'sod'"
            ]
          },
          "metadata": {},
          "execution_count": 78
        }
      ]
    },
    {
      "cell_type": "code",
      "metadata": {
        "id": "NeUfRfSlyGX4"
      },
      "source": [
        ""
      ],
      "execution_count": null,
      "outputs": []
    }
  ]
}