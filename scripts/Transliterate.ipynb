{
  "nbformat": 4,
  "nbformat_minor": 0,
  "metadata": {
    "colab": {
      "name": "Transliterate.ipynb",
      "provenance": [],
      "collapsed_sections": []
    },
    "kernelspec": {
      "name": "python3",
      "display_name": "Python 3"
    },
    "language_info": {
      "name": "python"
    }
  },
  "cells": [
    {
      "cell_type": "code",
      "metadata": {
        "id": "1T6_tQRr5LsU"
      },
      "source": [
        "import pandas as pd\n",
        "import numpy as np\n",
        "\n",
        "from keras.models import Model\n",
        "from keras.layers import Input, LSTM, Dense\n",
        "\n",
        "import tensorflow as tf\n",
        "import matplotlib.pyplot as plt"
      ],
      "execution_count": 1,
      "outputs": []
    },
    {
      "cell_type": "code",
      "metadata": {
        "colab": {
          "base_uri": "https://localhost:8080/"
        },
        "id": "Cy-GTRyQdjjj",
        "outputId": "3a2c70fe-7acc-49b6-edae-a3ef29bda151"
      },
      "source": [
        "%cd /content/drive/MyDrive/Colab/Transliterate/"
      ],
      "execution_count": 2,
      "outputs": [
        {
          "output_type": "stream",
          "name": "stdout",
          "text": [
            "/content/drive/MyDrive/Colab/Transliterate\n"
          ]
        }
      ]
    },
    {
      "cell_type": "code",
      "metadata": {
        "colab": {
          "base_uri": "https://localhost:8080/"
        },
        "id": "9SQgkSs5drK0",
        "outputId": "01653c62-1b0b-4df2-fc95-643d1f6f07cb"
      },
      "source": [
        "%ls"
      ],
      "execution_count": 3,
      "outputs": [
        {
          "output_type": "stream",
          "name": "stdout",
          "text": [
            "model_plot_dec.png  model.png  players_with_hindi_names.json  s2s.h5\n"
          ]
        }
      ]
    },
    {
      "cell_type": "code",
      "metadata": {
        "id": "QIlUaSeP54a0"
      },
      "source": [
        "df = pd.read_json('players_with_hindi_names.json')"
      ],
      "execution_count": 4,
      "outputs": []
    },
    {
      "cell_type": "code",
      "metadata": {
        "colab": {
          "base_uri": "https://localhost:8080/",
          "height": 204
        },
        "id": "-8AW_DdX5934",
        "outputId": "17aa7021-6bde-4600-c43d-1dd1c7437b4a"
      },
      "source": [
        "df.head()"
      ],
      "execution_count": 5,
      "outputs": [
        {
          "output_type": "execute_result",
          "data": {
            "text/html": [
              "<div>\n",
              "<style scoped>\n",
              "    .dataframe tbody tr th:only-of-type {\n",
              "        vertical-align: middle;\n",
              "    }\n",
              "\n",
              "    .dataframe tbody tr th {\n",
              "        vertical-align: top;\n",
              "    }\n",
              "\n",
              "    .dataframe thead th {\n",
              "        text-align: right;\n",
              "    }\n",
              "</style>\n",
              "<table border=\"1\" class=\"dataframe\">\n",
              "  <thead>\n",
              "    <tr style=\"text-align: right;\">\n",
              "      <th></th>\n",
              "      <th>id</th>\n",
              "      <th>hindi_name</th>\n",
              "      <th>hindi_long_name</th>\n",
              "      <th>english_name</th>\n",
              "      <th>gender</th>\n",
              "      <th>date_of_birth</th>\n",
              "      <th>country_id</th>\n",
              "      <th>slug</th>\n",
              "    </tr>\n",
              "  </thead>\n",
              "  <tbody>\n",
              "    <tr>\n",
              "      <th>0</th>\n",
              "      <td>90143</td>\n",
              "      <td>आर गुरबाज़</td>\n",
              "      <td>रहमानउल्लाह गुरबाज़</td>\n",
              "      <td>Rahmanullah Gurbaz</td>\n",
              "      <td>M</td>\n",
              "      <td>{'year': 2001, 'month': 11, 'date': 28}</td>\n",
              "      <td>40</td>\n",
              "      <td>rahmanullah-gurbaz</td>\n",
              "    </tr>\n",
              "    <tr>\n",
              "      <th>1</th>\n",
              "      <td>54018</td>\n",
              "      <td>एम रिज़वान</td>\n",
              "      <td>मोहम्मद रिज़वान</td>\n",
              "      <td>Mohammad Rizwan</td>\n",
              "      <td>M</td>\n",
              "      <td>{'year': 1992, 'month': 6, 'date': 1}</td>\n",
              "      <td>7</td>\n",
              "      <td>mohammad-rizwan</td>\n",
              "    </tr>\n",
              "    <tr>\n",
              "      <th>2</th>\n",
              "      <td>47686</td>\n",
              "      <td>एस मक़सूद</td>\n",
              "      <td>सोहेब मक़सूद</td>\n",
              "      <td>Sohaib Maqsood</td>\n",
              "      <td>M</td>\n",
              "      <td>{'year': 1987, 'month': 4, 'date': 15}</td>\n",
              "      <td>7</td>\n",
              "      <td>sohaib-maqsood</td>\n",
              "    </tr>\n",
              "    <tr>\n",
              "      <th>3</th>\n",
              "      <td>53649</td>\n",
              "      <td>आर आर रुसो</td>\n",
              "      <td>राइली रुसो</td>\n",
              "      <td>Rossouw, RR</td>\n",
              "      <td>M</td>\n",
              "      <td>{'year': 1989, 'month': 10, 'date': 9}</td>\n",
              "      <td>3</td>\n",
              "      <td>rilee-rossouw</td>\n",
              "    </tr>\n",
              "    <tr>\n",
              "      <th>4</th>\n",
              "      <td>72393</td>\n",
              "      <td>एस हेटमायर</td>\n",
              "      <td>शिमरॉन हेटमायर</td>\n",
              "      <td>Hetmyer, SO</td>\n",
              "      <td>M</td>\n",
              "      <td>{'year': 1996, 'month': 12, 'date': 26}</td>\n",
              "      <td>4</td>\n",
              "      <td>shimron-hetmyer</td>\n",
              "    </tr>\n",
              "  </tbody>\n",
              "</table>\n",
              "</div>"
            ],
            "text/plain": [
              "      id  hindi_name  ... country_id                slug\n",
              "0  90143  आर गुरबाज़  ...         40  rahmanullah-gurbaz\n",
              "1  54018  एम रिज़वान  ...          7     mohammad-rizwan\n",
              "2  47686   एस मक़सूद  ...          7      sohaib-maqsood\n",
              "3  53649  आर आर रुसो  ...          3       rilee-rossouw\n",
              "4  72393  एस हेटमायर  ...          4     shimron-hetmyer\n",
              "\n",
              "[5 rows x 8 columns]"
            ]
          },
          "metadata": {},
          "execution_count": 5
        }
      ]
    },
    {
      "cell_type": "code",
      "metadata": {
        "id": "AahQxw3J5_ax"
      },
      "source": [
        "input_list =  df['hindi_long_name'].tolist()\n",
        "target_list =  df['english_name'].tolist()"
      ],
      "execution_count": 6,
      "outputs": []
    },
    {
      "cell_type": "code",
      "metadata": {
        "colab": {
          "base_uri": "https://localhost:8080/"
        },
        "id": "lpsCJ3kv7LkA",
        "outputId": "f6f45fee-cb42-4910-d816-f54fc236682b"
      },
      "source": [
        "print(input_list[0])\n",
        "print(target_list[0])"
      ],
      "execution_count": 7,
      "outputs": [
        {
          "output_type": "stream",
          "name": "stdout",
          "text": [
            "रहमानउल्लाह गुरबाज़\n",
            "Rahmanullah Gurbaz\n"
          ]
        }
      ]
    },
    {
      "cell_type": "code",
      "metadata": {
        "id": "-lM4uQPyM1wn"
      },
      "source": [
        "def isEnglish(s):\n",
        "  try:\n",
        "      s.encode(encoding='utf-8').decode('ascii')\n",
        "  except UnicodeDecodeError:\n",
        "      return False\n",
        "  else:\n",
        "      return True\n",
        "\n",
        "def get_mapping_words(input_list, target_list):\n",
        "  # Build Vocabulary\n",
        "  input_words = list()\n",
        "  target_words = list()\n",
        "  for input_word, target_word in zip(input_list, target_list):\n",
        "    # there are some target words in hindi\n",
        "    if isEnglish(target_word): \n",
        "      # there are 3 ways names are given\n",
        "      # 1. Firstname lastname  Ex ('रहमानउल्लाह गुरबाज़', 'Rahmanullah Gurbaz')\n",
        "      # 2. Lastname, Firstname Initials  Ex ('राइली रुसो', 'Rossouw, RR')\n",
        "      # 3. Lastname. Firstname Initials  Ex ('राइली रुसो', 'Rossouw.RR')\n",
        "      # if comma exists then discard initials\n",
        "      if \",\" in target_word or \".\" in target_word:\n",
        "        hln = input_word.split()[1]\n",
        "        if \",\" in target_word:\n",
        "          eln = target_word.lower().split(',')[0]\n",
        "        else:\n",
        "          eln = target_word.lower().split('.')[0]\n",
        "        input_words.append(hln)\n",
        "        target_words.append(eln)\n",
        "      else:\n",
        "        input_names = input_word.split()\n",
        "        target_names = target_word.split()\n",
        "        # For example - 'लिटन कुमार दास' != Liton Das, remove middle name\n",
        "        if len(input_names) > len(target_names):\n",
        "          del input_names[1] # delete middle name\n",
        "        for idx in range(len(input_names)):\n",
        "          hn = input_names[idx]\n",
        "          en = target_names[idx].lower()\n",
        "          input_words.append(hn)\n",
        "          target_words.append(en)\n",
        "  return input_words, target_words"
      ],
      "execution_count": 8,
      "outputs": []
    },
    {
      "cell_type": "code",
      "metadata": {
        "id": "EOUHHniqNxOw"
      },
      "source": [
        "input_words, target_words = get_mapping_words(input_list, target_list)"
      ],
      "execution_count": 9,
      "outputs": []
    },
    {
      "cell_type": "code",
      "metadata": {
        "colab": {
          "base_uri": "https://localhost:8080/"
        },
        "id": "Ktv2xTXgOBju",
        "outputId": "3d27e2d8-50d8-4e8f-f988-751b3af5b1b5"
      },
      "source": [
        "# verifying the data\n",
        "print(input_words[20])\n",
        "print(target_words[20])"
      ],
      "execution_count": 10,
      "outputs": [
        {
          "output_type": "stream",
          "name": "stdout",
          "text": [
            "शारजील\n",
            "sharjeel\n"
          ]
        }
      ]
    },
    {
      "cell_type": "code",
      "metadata": {
        "colab": {
          "base_uri": "https://localhost:8080/"
        },
        "id": "X3pGuZOyQ1D2",
        "outputId": "1800aa1c-8b9c-47c6-96e8-1d71b251930a"
      },
      "source": [
        "print(f\"Total number of input words {len(input_words)}\")\n",
        "print(f\"Total number of target words {len(target_words)}\")"
      ],
      "execution_count": 11,
      "outputs": [
        {
          "output_type": "stream",
          "name": "stdout",
          "text": [
            "Total number of input words 2914\n",
            "Total number of target words 2914\n"
          ]
        }
      ]
    },
    {
      "cell_type": "code",
      "metadata": {
        "id": "U5Trw_fmOLi7"
      },
      "source": [
        "def build_vocab(input_words, target_words):\n",
        "  input_vocab = set()\n",
        "  target_vocab = set()\n",
        "  for input_word, target_word in zip(input_words, target_words):\n",
        "      input_vocab.update(set(input_word))\n",
        "      target_vocab.update(set(target_word))\n",
        "  return input_vocab, target_vocab"
      ],
      "execution_count": 12,
      "outputs": []
    },
    {
      "cell_type": "code",
      "metadata": {
        "id": "RlgD8jM0OsHG"
      },
      "source": [
        "input_vocab, target_vocab = build_vocab(input_words, target_words)"
      ],
      "execution_count": 13,
      "outputs": []
    },
    {
      "cell_type": "code",
      "metadata": {
        "id": "I691nnPlhGDE"
      },
      "source": [
        "# append start of word (^) and end of word tokens ($)\n",
        "target_vocab.add('^')\n",
        "target_vocab.add('$')"
      ],
      "execution_count": 14,
      "outputs": []
    },
    {
      "cell_type": "code",
      "metadata": {
        "colab": {
          "base_uri": "https://localhost:8080/"
        },
        "id": "W_wQMLvrOyu_",
        "outputId": "2f83d301-f2a4-4219-8c27-3885fa03f0a4"
      },
      "source": [
        "print(f\"Total hindi characters {len(input_vocab)}\")\n",
        "print(f\"Total english characters {len(target_vocab)}\")"
      ],
      "execution_count": 15,
      "outputs": [
        {
          "output_type": "stream",
          "name": "stdout",
          "text": [
            "Total hindi characters 53\n",
            "Total english characters 31\n"
          ]
        }
      ]
    },
    {
      "cell_type": "code",
      "metadata": {
        "id": "ztVnKKGsYlFK"
      },
      "source": [
        "input_vocab = sorted(list(input_vocab))\n",
        "target_vocab = sorted(list(target_vocab))"
      ],
      "execution_count": 16,
      "outputs": []
    },
    {
      "cell_type": "code",
      "metadata": {
        "id": "fbJSDwkvXvQp"
      },
      "source": [
        "input_token_index = dict([(char, i) for i, char in enumerate(input_vocab)])\n",
        "target_token_index = dict([(char, i) for i, char in enumerate(target_vocab)])"
      ],
      "execution_count": 17,
      "outputs": []
    },
    {
      "cell_type": "code",
      "metadata": {
        "id": "-dxT9ms4YG1y"
      },
      "source": [
        "num_encoder_tokens = len(input_vocab)\n",
        "num_decoder_tokens = len(target_vocab)"
      ],
      "execution_count": 18,
      "outputs": []
    },
    {
      "cell_type": "code",
      "metadata": {
        "id": "DZguL8LRY8Bl"
      },
      "source": [
        "max_encoder_seq_length = max([len(txt) for txt in input_words])\n",
        "max_decoder_seq_length = max([len(txt) for txt in target_words])\n",
        "# for start & end of the word\n",
        "max_decoder_seq_length += 1"
      ],
      "execution_count": 19,
      "outputs": []
    },
    {
      "cell_type": "code",
      "metadata": {
        "colab": {
          "base_uri": "https://localhost:8080/"
        },
        "id": "HZLsjCHrZGuP",
        "outputId": "86b75ca0-5deb-4c86-95da-6daf6c3cf5e6"
      },
      "source": [
        "print('Number of samples:', len(input_words))\n",
        "print('Number of unique input tokens:', num_encoder_tokens)\n",
        "print('Number of unique output tokens:', num_decoder_tokens)\n",
        "print('Max sequence length for inputs:', max_encoder_seq_length)\n",
        "print('Max sequence length for outputs:', max_decoder_seq_length)"
      ],
      "execution_count": 20,
      "outputs": [
        {
          "output_type": "stream",
          "name": "stdout",
          "text": [
            "Number of samples: 2914\n",
            "Number of unique input tokens: 53\n",
            "Number of unique output tokens: 31\n",
            "Max sequence length for inputs: 13\n",
            "Max sequence length for outputs: 16\n"
          ]
        }
      ]
    },
    {
      "cell_type": "code",
      "metadata": {
        "id": "nbXBdUGOZO3_"
      },
      "source": [
        "encoder_input_data = np.zeros((len(input_words), max_encoder_seq_length, num_encoder_tokens), dtype='float32')\n",
        "decoder_input_data = np.zeros((len(input_words), max_decoder_seq_length, num_decoder_tokens), dtype='float32')\n",
        "decoder_target_data = np.zeros( (len(input_words), max_decoder_seq_length, num_decoder_tokens), dtype='float32')"
      ],
      "execution_count": 21,
      "outputs": []
    },
    {
      "cell_type": "code",
      "metadata": {
        "colab": {
          "base_uri": "https://localhost:8080/"
        },
        "id": "HO9DgOJOZgpe",
        "outputId": "85d165ac-3d66-43f8-b1f8-e29302d1373e"
      },
      "source": [
        "print(f\"encoder input shape {encoder_input_data.shape}\")\n",
        "print(f\"decoder input shape {decoder_input_data.shape}\")\n",
        "print(f\"decoder target shape {decoder_target_data.shape}\")"
      ],
      "execution_count": 22,
      "outputs": [
        {
          "output_type": "stream",
          "name": "stdout",
          "text": [
            "encoder input shape (2914, 13, 53)\n",
            "decoder input shape (2914, 16, 31)\n",
            "decoder target shape (2914, 16, 31)\n"
          ]
        }
      ]
    },
    {
      "cell_type": "code",
      "metadata": {
        "id": "9KGNey6fZ05q"
      },
      "source": [
        "for i, (input_text, target_text) in enumerate(zip(input_words, target_words)):\n",
        "  for t, char in enumerate(input_text):\n",
        "    encoder_input_data[i, t, input_token_index[char]] = 1.\n",
        "  target_text_w_sow = '^' + target_text \n",
        "  target_text_w_eow = target_text + '$'\n",
        "  for t, char in enumerate(target_text_w_sow):\n",
        "    decoder_input_data[i, t, target_token_index[char]] = 1.\n",
        "  for t, char in enumerate(target_text_w_eow):\n",
        "    decoder_target_data[i, t, target_token_index[char]] = 1."
      ],
      "execution_count": 23,
      "outputs": []
    },
    {
      "cell_type": "code",
      "metadata": {
        "id": "0F1B0ezJcehK"
      },
      "source": [
        "# Define an input sequence and process it.\n",
        "encoder_inputs = Input(shape=(None, num_encoder_tokens))"
      ],
      "execution_count": 24,
      "outputs": []
    },
    {
      "cell_type": "code",
      "metadata": {
        "id": "kRpc5udld4P4"
      },
      "source": [
        "latent_dim = 256  # Latent dimensionality of the encoding space.\n",
        "\n",
        "encoder = LSTM(latent_dim, return_state=True)"
      ],
      "execution_count": 25,
      "outputs": []
    },
    {
      "cell_type": "code",
      "metadata": {
        "id": "zJm8IKbDeIDv"
      },
      "source": [
        "encoder_outputs, state_h, state_c = encoder(encoder_inputs)"
      ],
      "execution_count": 26,
      "outputs": []
    },
    {
      "cell_type": "code",
      "metadata": {
        "id": "5HwwbMh4ePUh"
      },
      "source": [
        "# We discard `encoder_outputs` and only keep the states.\n",
        "encoder_states = [state_h, state_c]"
      ],
      "execution_count": 27,
      "outputs": []
    },
    {
      "cell_type": "code",
      "metadata": {
        "id": "lU1nJGWEeSRT"
      },
      "source": [
        "# Set up the decoder, using `encoder_states` as initial state.\n",
        "decoder_inputs = Input(shape=(None, num_decoder_tokens))"
      ],
      "execution_count": 28,
      "outputs": []
    },
    {
      "cell_type": "code",
      "metadata": {
        "id": "D4g-jGmUeeL4"
      },
      "source": [
        "# We set up our decoder to return full output sequences,\n",
        "# and to return internal states as well. We don't use the\n",
        "# return states in the training model, but we will use them in inference.\n",
        "decoder_lstm = LSTM(latent_dim, return_sequences=True, return_state=True)"
      ],
      "execution_count": 29,
      "outputs": []
    },
    {
      "cell_type": "code",
      "metadata": {
        "id": "c1ux5gG5eliP"
      },
      "source": [
        "decoder_outputs, _, _ = decoder_lstm(decoder_inputs, initial_state=encoder_states)"
      ],
      "execution_count": 30,
      "outputs": []
    },
    {
      "cell_type": "code",
      "metadata": {
        "id": "vzWkB8OCeqLg"
      },
      "source": [
        "decoder_dense = Dense(num_decoder_tokens, activation='softmax')\n",
        "decoder_outputs = decoder_dense(decoder_outputs)"
      ],
      "execution_count": 31,
      "outputs": []
    },
    {
      "cell_type": "code",
      "metadata": {
        "id": "voLTGIiBeyKO"
      },
      "source": [
        "# Define the model that will turn\n",
        "# `encoder_input_data` & `decoder_input_data` into `decoder_target_data`\n",
        "model = Model([encoder_inputs, decoder_inputs], decoder_outputs)"
      ],
      "execution_count": 32,
      "outputs": []
    },
    {
      "cell_type": "code",
      "metadata": {
        "colab": {
          "base_uri": "https://localhost:8080/"
        },
        "id": "iShaSKTZYbxl",
        "outputId": "0c4af823-6eca-4c9f-d6d8-13767aa116c1"
      },
      "source": [
        "model.summary()"
      ],
      "execution_count": 33,
      "outputs": [
        {
          "output_type": "stream",
          "name": "stdout",
          "text": [
            "Model: \"model\"\n",
            "__________________________________________________________________________________________________\n",
            "Layer (type)                    Output Shape         Param #     Connected to                     \n",
            "==================================================================================================\n",
            "input_1 (InputLayer)            [(None, None, 53)]   0                                            \n",
            "__________________________________________________________________________________________________\n",
            "input_2 (InputLayer)            [(None, None, 31)]   0                                            \n",
            "__________________________________________________________________________________________________\n",
            "lstm (LSTM)                     [(None, 256), (None, 317440      input_1[0][0]                    \n",
            "__________________________________________________________________________________________________\n",
            "lstm_1 (LSTM)                   [(None, None, 256),  294912      input_2[0][0]                    \n",
            "                                                                 lstm[0][1]                       \n",
            "                                                                 lstm[0][2]                       \n",
            "__________________________________________________________________________________________________\n",
            "dense (Dense)                   (None, None, 31)     7967        lstm_1[0][0]                     \n",
            "==================================================================================================\n",
            "Total params: 620,319\n",
            "Trainable params: 620,319\n",
            "Non-trainable params: 0\n",
            "__________________________________________________________________________________________________\n"
          ]
        }
      ]
    },
    {
      "cell_type": "code",
      "metadata": {
        "colab": {
          "base_uri": "https://localhost:8080/",
          "height": 422
        },
        "id": "mfGcinDOYqKl",
        "outputId": "6ab223cf-0097-4797-910a-c35547468cc2"
      },
      "source": [
        "tf.keras.utils.plot_model(model, show_shapes=True, show_layer_names=True)"
      ],
      "execution_count": 34,
      "outputs": [
        {
          "output_type": "execute_result",
          "data": {
            "image/png": "[encoded data removed]",
            "text/plain": [
              "<IPython.core.display.Image object>"
            ]
          },
          "metadata": {},
          "execution_count": 34
        }
      ]
    },
    {
      "cell_type": "code",
      "metadata": {
        "colab": {
          "base_uri": "https://localhost:8080/"
        },
        "id": "CbARhubxe2yA",
        "outputId": "a5a1174a-9e93-4cc4-ee9c-11b2f004751e"
      },
      "source": [
        "# Training\n",
        "batch_size = 64  # Batch size for training.\n",
        "epochs = 100  # Number of epochs to train for.\n",
        "\n",
        "model.compile(optimizer='rmsprop', loss='categorical_crossentropy')\n",
        "history = model.fit([encoder_input_data, decoder_input_data], decoder_target_data,\n",
        "          batch_size=batch_size, epochs=epochs, validation_split=0.2)\n",
        "# Save model\n",
        "model.save('s2s.h5')"
      ],
      "execution_count": 35,
      "outputs": [
        {
          "output_type": "stream",
          "name": "stdout",
          "text": [
            "Epoch 1/100\n",
            "37/37 [==============================] - 10s 172ms/step - loss: 1.3424 - val_loss: 1.1413\n",
            "Epoch 2/100\n",
            "37/37 [==============================] - 6s 152ms/step - loss: 1.2499 - val_loss: 1.0936\n",
            "Epoch 3/100\n",
            "37/37 [==============================] - 5s 147ms/step - loss: 1.1921 - val_loss: 1.0411\n",
            "Epoch 4/100\n",
            "37/37 [==============================] - 6s 150ms/step - loss: 1.1364 - val_loss: 0.9809\n",
            "Epoch 5/100\n",
            "37/37 [==============================] - 6s 152ms/step - loss: 1.0934 - val_loss: 0.9610\n",
            "Epoch 6/100\n",
            "37/37 [==============================] - 5s 148ms/step - loss: 1.0511 - val_loss: 0.9181\n",
            "Epoch 7/100\n",
            "37/37 [==============================] - 5s 149ms/step - loss: 1.0028 - val_loss: 0.8975\n",
            "Epoch 8/100\n",
            "37/37 [==============================] - 6s 151ms/step - loss: 0.9583 - val_loss: 0.9276\n",
            "Epoch 9/100\n",
            "37/37 [==============================] - 6s 149ms/step - loss: 0.9202 - val_loss: 0.8569\n",
            "Epoch 10/100\n",
            "37/37 [==============================] - 5s 148ms/step - loss: 0.8888 - val_loss: 0.8409\n",
            "Epoch 11/100\n",
            "37/37 [==============================] - 5s 146ms/step - loss: 0.8532 - val_loss: 0.7972\n",
            "Epoch 12/100\n",
            "37/37 [==============================] - 5s 147ms/step - loss: 0.8191 - val_loss: 0.8117\n",
            "Epoch 13/100\n",
            "37/37 [==============================] - 5s 148ms/step - loss: 0.7932 - val_loss: 0.7968\n",
            "Epoch 14/100\n",
            "37/37 [==============================] - 5s 145ms/step - loss: 0.7641 - val_loss: 0.7649\n",
            "Epoch 15/100\n",
            "37/37 [==============================] - 5s 147ms/step - loss: 0.7373 - val_loss: 0.7599\n",
            "Epoch 16/100\n",
            "37/37 [==============================] - 6s 151ms/step - loss: 0.7127 - val_loss: 0.7457\n",
            "Epoch 17/100\n",
            "37/37 [==============================] - 5s 148ms/step - loss: 0.6889 - val_loss: 0.7417\n",
            "Epoch 18/100\n",
            "37/37 [==============================] - 6s 149ms/step - loss: 0.6676 - val_loss: 0.7379\n",
            "Epoch 19/100\n",
            "37/37 [==============================] - 6s 149ms/step - loss: 0.6509 - val_loss: 0.7035\n",
            "Epoch 20/100\n",
            "37/37 [==============================] - 5s 146ms/step - loss: 0.6321 - val_loss: 0.7019\n",
            "Epoch 21/100\n",
            "37/37 [==============================] - 5s 145ms/step - loss: 0.6110 - val_loss: 0.7053\n",
            "Epoch 22/100\n",
            "37/37 [==============================] - 6s 149ms/step - loss: 0.5953 - val_loss: 0.6876\n",
            "Epoch 23/100\n",
            "37/37 [==============================] - 5s 146ms/step - loss: 0.5802 - val_loss: 0.6978\n",
            "Epoch 24/100\n",
            "37/37 [==============================] - 5s 143ms/step - loss: 0.5647 - val_loss: 0.6620\n",
            "Epoch 25/100\n",
            "37/37 [==============================] - 5s 146ms/step - loss: 0.5512 - val_loss: 0.6671\n",
            "Epoch 26/100\n",
            "37/37 [==============================] - 5s 145ms/step - loss: 0.5410 - val_loss: 0.6640\n",
            "Epoch 27/100\n",
            "37/37 [==============================] - 5s 146ms/step - loss: 0.5240 - val_loss: 0.7151\n",
            "Epoch 28/100\n",
            "37/37 [==============================] - 5s 147ms/step - loss: 0.5149 - val_loss: 0.6435\n",
            "Epoch 29/100\n",
            "37/37 [==============================] - 5s 147ms/step - loss: 0.5027 - val_loss: 0.6631\n",
            "Epoch 30/100\n",
            "37/37 [==============================] - 5s 146ms/step - loss: 0.4897 - val_loss: 0.6292\n",
            "Epoch 31/100\n",
            "37/37 [==============================] - 5s 148ms/step - loss: 0.4834 - val_loss: 0.6228\n",
            "Epoch 32/100\n",
            "37/37 [==============================] - 5s 146ms/step - loss: 0.4691 - val_loss: 0.6185\n",
            "Epoch 33/100\n",
            "37/37 [==============================] - 5s 149ms/step - loss: 0.4598 - val_loss: 0.6220\n",
            "Epoch 34/100\n",
            "37/37 [==============================] - 5s 146ms/step - loss: 0.4519 - val_loss: 0.6434\n",
            "Epoch 35/100\n",
            "37/37 [==============================] - 5s 147ms/step - loss: 0.4463 - val_loss: 0.6225\n",
            "Epoch 36/100\n",
            "37/37 [==============================] - 5s 145ms/step - loss: 0.4372 - val_loss: 0.6086\n",
            "Epoch 37/100\n",
            "37/37 [==============================] - 5s 148ms/step - loss: 0.4297 - val_loss: 0.5902\n",
            "Epoch 38/100\n",
            "37/37 [==============================] - 5s 148ms/step - loss: 0.4182 - val_loss: 0.5838\n",
            "Epoch 39/100\n",
            "37/37 [==============================] - 5s 145ms/step - loss: 0.4111 - val_loss: 0.5904\n",
            "Epoch 40/100\n",
            "37/37 [==============================] - 5s 144ms/step - loss: 0.4026 - val_loss: 0.5814\n",
            "Epoch 41/100\n",
            "37/37 [==============================] - 5s 148ms/step - loss: 0.4030 - val_loss: 0.5733\n",
            "Epoch 42/100\n",
            "37/37 [==============================] - 5s 147ms/step - loss: 0.3900 - val_loss: 0.5615\n",
            "Epoch 43/100\n",
            "37/37 [==============================] - 5s 142ms/step - loss: 0.3871 - val_loss: 0.5612\n",
            "Epoch 44/100\n",
            "37/37 [==============================] - 5s 146ms/step - loss: 0.3813 - val_loss: 0.5468\n",
            "Epoch 45/100\n",
            "37/37 [==============================] - 5s 144ms/step - loss: 0.3747 - val_loss: 0.5609\n",
            "Epoch 46/100\n",
            "37/37 [==============================] - 5s 147ms/step - loss: 0.3683 - val_loss: 0.5374\n",
            "Epoch 47/100\n",
            "37/37 [==============================] - 5s 145ms/step - loss: 0.3630 - val_loss: 0.5421\n",
            "Epoch 48/100\n",
            "37/37 [==============================] - 5s 149ms/step - loss: 0.3614 - val_loss: 0.5468\n",
            "Epoch 49/100\n",
            "37/37 [==============================] - 5s 148ms/step - loss: 0.3539 - val_loss: 0.5284\n",
            "Epoch 50/100\n",
            "37/37 [==============================] - 5s 147ms/step - loss: 0.3456 - val_loss: 0.5247\n",
            "Epoch 51/100\n",
            "37/37 [==============================] - 5s 147ms/step - loss: 0.3445 - val_loss: 0.5276\n",
            "Epoch 52/100\n",
            "37/37 [==============================] - 5s 148ms/step - loss: 0.3401 - val_loss: 0.5243\n",
            "Epoch 53/100\n",
            "37/37 [==============================] - 6s 150ms/step - loss: 0.3395 - val_loss: 0.5492\n",
            "Epoch 54/100\n",
            "37/37 [==============================] - 5s 147ms/step - loss: 0.3398 - val_loss: 0.5079\n",
            "Epoch 55/100\n",
            "37/37 [==============================] - 5s 146ms/step - loss: 0.3377 - val_loss: 0.5224\n",
            "Epoch 56/100\n",
            "37/37 [==============================] - 5s 146ms/step - loss: 0.3235 - val_loss: 0.5104\n",
            "Epoch 57/100\n",
            "37/37 [==============================] - 5s 146ms/step - loss: 0.3219 - val_loss: 0.5259\n",
            "Epoch 58/100\n",
            "37/37 [==============================] - 5s 146ms/step - loss: 0.3175 - val_loss: 0.5027\n",
            "Epoch 59/100\n",
            "37/37 [==============================] - 5s 148ms/step - loss: 0.3157 - val_loss: 0.4892\n",
            "Epoch 60/100\n",
            "37/37 [==============================] - 5s 147ms/step - loss: 0.3077 - val_loss: 0.4981\n",
            "Epoch 61/100\n",
            "37/37 [==============================] - 5s 148ms/step - loss: 0.3041 - val_loss: 0.5016\n",
            "Epoch 62/100\n",
            "37/37 [==============================] - 5s 149ms/step - loss: 0.2993 - val_loss: 0.4940\n",
            "Epoch 63/100\n",
            "37/37 [==============================] - 5s 146ms/step - loss: 0.3034 - val_loss: 0.4840\n",
            "Epoch 64/100\n",
            "37/37 [==============================] - 5s 147ms/step - loss: 0.2947 - val_loss: 0.4853\n",
            "Epoch 65/100\n",
            "37/37 [==============================] - 6s 149ms/step - loss: 0.2916 - val_loss: 0.4839\n",
            "Epoch 66/100\n",
            "37/37 [==============================] - 5s 145ms/step - loss: 0.2813 - val_loss: 0.4700\n",
            "Epoch 67/100\n",
            "37/37 [==============================] - 5s 148ms/step - loss: 0.2858 - val_loss: 0.4756\n",
            "Epoch 68/100\n",
            "37/37 [==============================] - 6s 149ms/step - loss: 0.2735 - val_loss: 0.4937\n",
            "Epoch 69/100\n",
            "37/37 [==============================] - 5s 146ms/step - loss: 0.2826 - val_loss: 0.4603\n",
            "Epoch 70/100\n",
            "37/37 [==============================] - 5s 145ms/step - loss: 0.2750 - val_loss: 0.4621\n",
            "Epoch 71/100\n",
            "37/37 [==============================] - 6s 151ms/step - loss: 0.2704 - val_loss: 0.4832\n",
            "Epoch 72/100\n",
            "37/37 [==============================] - 5s 145ms/step - loss: 0.2635 - val_loss: 0.4571\n",
            "Epoch 73/100\n",
            "37/37 [==============================] - 5s 146ms/step - loss: 0.2632 - val_loss: 0.4603\n",
            "Epoch 74/100\n",
            "37/37 [==============================] - 5s 147ms/step - loss: 0.2772 - val_loss: 0.4491\n",
            "Epoch 75/100\n",
            "37/37 [==============================] - 5s 148ms/step - loss: 0.2594 - val_loss: 0.4582\n",
            "Epoch 76/100\n",
            "37/37 [==============================] - 5s 145ms/step - loss: 0.2691 - val_loss: 0.4520\n",
            "Epoch 77/100\n",
            "37/37 [==============================] - 5s 148ms/step - loss: 0.2664 - val_loss: 0.4473\n",
            "Epoch 78/100\n",
            "37/37 [==============================] - 5s 147ms/step - loss: 0.2527 - val_loss: 0.4460\n",
            "Epoch 79/100\n",
            "37/37 [==============================] - 6s 150ms/step - loss: 0.2499 - val_loss: 0.4687\n",
            "Epoch 80/100\n",
            "37/37 [==============================] - 5s 146ms/step - loss: 0.2459 - val_loss: 0.4510\n",
            "Epoch 81/100\n",
            "37/37 [==============================] - 5s 146ms/step - loss: 0.2504 - val_loss: 0.4350\n",
            "Epoch 82/100\n",
            "37/37 [==============================] - 6s 150ms/step - loss: 0.2417 - val_loss: 0.4485\n",
            "Epoch 83/100\n",
            "37/37 [==============================] - 5s 146ms/step - loss: 0.2545 - val_loss: 0.4319\n",
            "Epoch 84/100\n",
            "37/37 [==============================] - 5s 149ms/step - loss: 0.2374 - val_loss: 0.4416\n",
            "Epoch 85/100\n",
            "37/37 [==============================] - 5s 147ms/step - loss: 0.2388 - val_loss: 0.4391\n",
            "Epoch 86/100\n",
            "37/37 [==============================] - 5s 149ms/step - loss: 0.2301 - val_loss: 0.4272\n",
            "Epoch 87/100\n",
            "37/37 [==============================] - 5s 148ms/step - loss: 0.2318 - val_loss: 0.4302\n",
            "Epoch 88/100\n",
            "37/37 [==============================] - 5s 147ms/step - loss: 0.2313 - val_loss: 0.4211\n",
            "Epoch 89/100\n",
            "37/37 [==============================] - 5s 146ms/step - loss: 0.2203 - val_loss: 0.4605\n",
            "Epoch 90/100\n",
            "37/37 [==============================] - 5s 149ms/step - loss: 0.2273 - val_loss: 0.4133\n",
            "Epoch 91/100\n",
            "37/37 [==============================] - 5s 146ms/step - loss: 0.2249 - val_loss: 0.4473\n",
            "Epoch 92/100\n",
            "37/37 [==============================] - 6s 149ms/step - loss: 0.2134 - val_loss: 0.4213\n",
            "Epoch 93/100\n",
            "37/37 [==============================] - 6s 150ms/step - loss: 0.2227 - val_loss: 0.4200\n",
            "Epoch 94/100\n",
            "37/37 [==============================] - 5s 148ms/step - loss: 0.2081 - val_loss: 0.4558\n",
            "Epoch 95/100\n",
            "37/37 [==============================] - 5s 147ms/step - loss: 0.2065 - val_loss: 0.4057\n",
            "Epoch 96/100\n",
            "37/37 [==============================] - 5s 147ms/step - loss: 0.1993 - val_loss: 0.3926\n",
            "Epoch 97/100\n",
            "37/37 [==============================] - 5s 149ms/step - loss: 0.1945 - val_loss: 0.3886\n",
            "Epoch 98/100\n",
            "37/37 [==============================] - 5s 146ms/step - loss: 0.1942 - val_loss: 0.3981\n",
            "Epoch 99/100\n",
            "37/37 [==============================] - 5s 147ms/step - loss: 0.2041 - val_loss: 0.4253\n",
            "Epoch 100/100\n",
            "37/37 [==============================] - 5s 144ms/step - loss: 0.1869 - val_loss: 0.3925\n"
          ]
        }
      ]
    },
    {
      "cell_type": "code",
      "metadata": {
        "colab": {
          "base_uri": "https://localhost:8080/"
        },
        "id": "OAvJi9RndsTf",
        "outputId": "35f4980c-ee8e-43b8-b47d-edf049f847e1"
      },
      "source": [
        "# list all data in history\n",
        "print(history.history.keys())"
      ],
      "execution_count": 36,
      "outputs": [
        {
          "output_type": "stream",
          "name": "stdout",
          "text": [
            "dict_keys(['loss', 'val_loss'])\n"
          ]
        }
      ]
    },
    {
      "cell_type": "code",
      "metadata": {
        "colab": {
          "base_uri": "https://localhost:8080/",
          "height": 295
        },
        "id": "arLbJGpHa-JC",
        "outputId": "cecfaf91-be72-4522-e48f-91f7ad02285a"
      },
      "source": [
        "# summarize history for loss\n",
        "plt.plot(history.history['loss'])\n",
        "plt.plot(history.history['val_loss'])\n",
        "plt.title('model loss')\n",
        "plt.ylabel('loss')\n",
        "plt.xlabel('epoch')\n",
        "plt.legend(['train', 'validation'], loc='upper left')\n",
        "plt.show()"
      ],
      "execution_count": 38,
      "outputs": [
        {
          "output_type": "display_data",
          "data": {
            "image/png": "[encoded data removed]",
            "text/plain": [
              "<Figure size 432x288 with 1 Axes>"
            ]
          },
          "metadata": {
            "needs_background": "light"
          }
        }
      ]
    },
    {
      "cell_type": "code",
      "metadata": {
        "colab": {
          "base_uri": "https://localhost:8080/"
        },
        "id": "Rmx3_vQbfh7J",
        "outputId": "52fc8c1a-37a0-4192-e5a1-7cef4969eb59"
      },
      "source": [
        "%ls -ltr"
      ],
      "execution_count": 39,
      "outputs": [
        {
          "output_type": "stream",
          "name": "stdout",
          "text": [
            "total 5753\n",
            "-rw------- 1 root root  813709 Sep 14 22:38 players_with_hindi_names.json\n",
            "-rw------- 1 root root   33437 Sep 17 01:43 model_plot_dec.png\n",
            "-rw------- 1 root root   36092 Sep 17 01:44 model.png\n",
            "-rw------- 1 root root 5006688 Sep 17 01:54 s2s.h5\n"
          ]
        }
      ]
    },
    {
      "cell_type": "code",
      "metadata": {
        "colab": {
          "base_uri": "https://localhost:8080/"
        },
        "id": "GbQZBOBjflnl",
        "outputId": "fda860a5-0d67-43db-f1a3-702520ae552d"
      },
      "source": [
        "!du -sh s2s.h5"
      ],
      "execution_count": 40,
      "outputs": [
        {
          "output_type": "stream",
          "name": "stdout",
          "text": [
            "4.8M\ts2s.h5\n"
          ]
        }
      ]
    },
    {
      "cell_type": "code",
      "metadata": {
        "id": "7ZowNfcXmWlL"
      },
      "source": [
        "# Predictions\n",
        "encoder_model = Model(encoder_inputs, encoder_states)\n",
        "\n",
        "decoder_state_input_h = Input(shape=(latent_dim,))\n",
        "decoder_state_input_c = Input(shape=(latent_dim,))\n",
        "decoder_states_inputs = [decoder_state_input_h, decoder_state_input_c]\n",
        "\n",
        "decoder_inputs_single = Input(shape=(None, num_decoder_tokens))\n",
        "decoder_outputs, h, c = decoder_lstm(decoder_inputs_single, initial_state=decoder_states_inputs)\n",
        "\n",
        "decoder_states = [h, c]\n",
        "decoder_outputs = decoder_dense(decoder_outputs)\n",
        "\n",
        "decoder_model = Model(\n",
        "    [decoder_inputs_single] + decoder_states_inputs,\n",
        "    [decoder_outputs] + decoder_states\n",
        ")"
      ],
      "execution_count": 41,
      "outputs": []
    },
    {
      "cell_type": "code",
      "metadata": {
        "colab": {
          "base_uri": "https://localhost:8080/",
          "height": 312
        },
        "id": "90myy-NNvctl",
        "outputId": "f364cbb8-85ec-4798-e1f1-f19fda3d3ff5"
      },
      "source": [
        "tf.keras.utils.plot_model(decoder_model, to_file='model_plot_dec.png', show_shapes=True, show_layer_names=True)"
      ],
      "execution_count": 42,
      "outputs": [
        {
          "output_type": "execute_result",
          "data": {
            "image/png": "[encoded data removed]",
            "text/plain": [
              "<IPython.core.display.Image object>"
            ]
          },
          "metadata": {},
          "execution_count": 42
        }
      ]
    },
    {
      "cell_type": "code",
      "metadata": {
        "id": "0O9eWBgtvGeM"
      },
      "source": [
        "input_data = np.zeros((1, max_encoder_seq_length, num_encoder_tokens), dtype='float32')\n",
        "decoder_data = np.zeros((1, 1, num_decoder_tokens), dtype='float32')\n",
        "test_input = 'राजशेखर'\n",
        "for t, char in enumerate(test_input):\n",
        "  input_data[0, t, input_token_index[char]] = 1."
      ],
      "execution_count": 43,
      "outputs": []
    },
    {
      "cell_type": "code",
      "metadata": {
        "id": "u1tf7MGTzPb7"
      },
      "source": [
        "states_values = encoder_model(input_data)\n",
        "target_token_index_rev = {target_token_index[k]: k for k in target_token_index}"
      ],
      "execution_count": 44,
      "outputs": []
    },
    {
      "cell_type": "code",
      "metadata": {
        "id": "CP-O29K3zeut"
      },
      "source": [
        "def predict_target(decoder_data, states_values):\n",
        "  decoder_data[0, 0, 0] = target_token_index['^']\n",
        "  eos = target_token_index['$']\n",
        "  output_word = []\n",
        "\n",
        "  for _ in range(max_decoder_seq_length):\n",
        "    output_tokens, h, c = decoder_model.predict([decoder_data, states_values[0], states_values[1]])\n",
        "    idx = np.argmax(output_tokens[0, 0, :])\n",
        "    if eos == idx:\n",
        "      break\n",
        "    char = ''\n",
        "    if idx > 0:\n",
        "      char = target_token_index_rev[idx]\n",
        "      output_word.append(char)\n",
        "    decoder_data[0, 0, 0] = idx\n",
        "    states_values = [h, c]\n",
        "  return ''.join(output_word)"
      ],
      "execution_count": 45,
      "outputs": []
    },
    {
      "cell_type": "code",
      "metadata": {
        "colab": {
          "base_uri": "https://localhost:8080/",
          "height": 35
        },
        "id": "kg7r2Er9WDJl",
        "outputId": "be5144f2-7972-4f36-8f0d-9382ba4f5e94"
      },
      "source": [
        "predicted_string = predict_target(decoder_data, states_values)\n",
        "predicted_string"
      ],
      "execution_count": 46,
      "outputs": [
        {
          "output_type": "execute_result",
          "data": {
            "application/vnd.google.colaboratory.intrinsic+json": {
              "type": "string"
            },
            "text/plain": [
              "'rsssssssssssssss'"
            ]
          },
          "metadata": {},
          "execution_count": 46
        }
      ]
    },
    {
      "cell_type": "code",
      "metadata": {
        "id": "wz8kzqOwbJBT"
      },
      "source": [
        ""
      ],
      "execution_count": 43,
      "outputs": []
    }
  ]
}