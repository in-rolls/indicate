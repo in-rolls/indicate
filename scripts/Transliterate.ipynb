{
  "nbformat": 4,
  "nbformat_minor": 0,
  "metadata": {
    "colab": {
      "name": "Transliterate_v2.ipynb",
      "provenance": [],
      "collapsed_sections": [],
      "machine_shape": "hm"
    },
    "kernelspec": {
      "name": "python3",
      "display_name": "Python 3"
    },
    "language_info": {
      "name": "python"
    },
    "accelerator": "GPU"
  },
  "cells": [
    {
      "cell_type": "code",
      "metadata": {
        "id": "1T6_tQRr5LsU"
      },
      "source": [
        "import pandas as pd\n",
        "import numpy as np\n",
        "\n",
        "from keras.models import Model, load_model\n",
        "from keras.layers import Input, LSTM, Dense\n",
        "from keras.callbacks import EarlyStopping, ModelCheckpoint\n",
        "\n",
        "import tensorflow as tf\n",
        "import tensorflow.keras.backend as K\n",
        "\n",
        "import matplotlib.pyplot as plt"
      ],
      "execution_count": 1,
      "outputs": []
    },
    {
      "cell_type": "code",
      "metadata": {
        "colab": {
          "base_uri": "https://localhost:8080/"
        },
        "id": "Cy-GTRyQdjjj",
        "outputId": "d00ed112-f8ce-47e8-964f-902fad600f7c"
      },
      "source": [
        "%cd /content/drive/MyDrive/Colab/Transliterate/"
      ],
      "execution_count": 2,
      "outputs": [
        {
          "output_type": "stream",
          "name": "stdout",
          "text": [
            "/content/drive/MyDrive/Colab/Transliterate\n"
          ]
        }
      ]
    },
    {
      "cell_type": "code",
      "metadata": {
        "colab": {
          "base_uri": "https://localhost:8080/"
        },
        "id": "9SQgkSs5drK0",
        "outputId": "e9fd47c0-d3b9-4aa7-e9db-7f3822eb0ffa"
      },
      "source": [
        "%ls"
      ],
      "execution_count": 3,
      "outputs": [
        {
          "output_type": "stream",
          "name": "stdout",
          "text": [
            "affidavits.csv                 model.png\n",
            "hi.translit.sampled.train.tsv  model_v1.h5\n",
            "model.h5                       players_with_hindi_names.json\n",
            "model_plot_dec.png             s2s.h5\n"
          ]
        }
      ]
    },
    {
      "cell_type": "markdown",
      "metadata": {
        "id": "h87l7bzjN4V0"
      },
      "source": [
        "# Preprocessing Data"
      ]
    },
    {
      "cell_type": "markdown",
      "metadata": {
        "id": "Kl9QsQKYac2q"
      },
      "source": [
        "## load affidavits dataset\n"
      ]
    },
    {
      "cell_type": "code",
      "metadata": {
        "id": "pAUukayNPVZY"
      },
      "source": [
        "affidavits_df = pd.read_csv('affidavits.csv')"
      ],
      "execution_count": 4,
      "outputs": []
    },
    {
      "cell_type": "code",
      "metadata": {
        "colab": {
          "base_uri": "https://localhost:8080/",
          "height": 615
        },
        "id": "A0ZOV5i6Pe_k",
        "outputId": "e435b41a-48f9-4b2a-9979-1eb6e960ec8f"
      },
      "source": [
        "affidavits_df.head()"
      ],
      "execution_count": 5,
      "outputs": [
        {
          "output_type": "execute_result",
          "data": {
            "text/html": [
              "<div>\n",
              "<style scoped>\n",
              "    .dataframe tbody tr th:only-of-type {\n",
              "        vertical-align: middle;\n",
              "    }\n",
              "\n",
              "    .dataframe tbody tr th {\n",
              "        vertical-align: top;\n",
              "    }\n",
              "\n",
              "    .dataframe thead th {\n",
              "        text-align: right;\n",
              "    }\n",
              "</style>\n",
              "<table border=\"1\" class=\"dataframe\">\n",
              "  <thead>\n",
              "    <tr style=\"text-align: right;\">\n",
              "      <th></th>\n",
              "      <th>address</th>\n",
              "      <th>affidavit_filename_with_unique_id</th>\n",
              "      <th>age</th>\n",
              "      <th>application_uploaded</th>\n",
              "      <th>assembly_constituency</th>\n",
              "      <th>current_status</th>\n",
              "      <th>dropdown_value</th>\n",
              "      <th>fathers_or_husbands_name_english</th>\n",
              "      <th>fathers_or_husbands_name_hindi</th>\n",
              "      <th>name</th>\n",
              "      <th>name_english</th>\n",
              "      <th>name_hindi</th>\n",
              "      <th>party_name</th>\n",
              "      <th>photo_filename_with_unique_id</th>\n",
              "      <th>photo_url</th>\n",
              "      <th>state</th>\n",
              "      <th>unique_id</th>\n",
              "      <th>url</th>\n",
              "    </tr>\n",
              "  </thead>\n",
              "  <tbody>\n",
              "    <tr>\n",
              "      <th>0</th>\n",
              "      <td>O/5, BANKIM MUKHERJEE SARANI, DURGAPUR COLONY,...</td>\n",
              "      <td>NaN</td>\n",
              "      <td>57</td>\n",
              "      <td>7th April, 2021</td>\n",
              "      <td>Rashbehari</td>\n",
              "      <td>NaN</td>\n",
              "      <td>NaN</td>\n",
              "      <td>LATE SUBODH CHANDRA DAS</td>\n",
              "      <td>प्रयात सुबोध चन्द्र दास</td>\n",
              "      <td>SWAPAN DAS</td>\n",
              "      <td>SWAPAN DAS</td>\n",
              "      <td>स्वपन दास</td>\n",
              "      <td>Bahujan Mukti Party</td>\n",
              "      <td>NaN</td>\n",
              "      <td>NaN</td>\n",
              "      <td>West Bengal</td>\n",
              "      <td>1</td>\n",
              "      <td>NaN</td>\n",
              "    </tr>\n",
              "    <tr>\n",
              "      <th>1</th>\n",
              "      <td>F-301, PRANTIK PALLY, KOLKATA – 700042</td>\n",
              "      <td>NaN</td>\n",
              "      <td>41</td>\n",
              "      <td>7th April, 2021</td>\n",
              "      <td>Rashbehari</td>\n",
              "      <td>NaN</td>\n",
              "      <td>NaN</td>\n",
              "      <td>LATE PINAKI KUNDU</td>\n",
              "      <td>स्वर्गीय पिनाकि कुंडू</td>\n",
              "      <td>PREETAM KUNDU</td>\n",
              "      <td>PREETAM KUNDU</td>\n",
              "      <td>प्रीतम  कुंडू</td>\n",
              "      <td>Independent</td>\n",
              "      <td>NaN</td>\n",
              "      <td>NaN</td>\n",
              "      <td>West Bengal</td>\n",
              "      <td>2</td>\n",
              "      <td>NaN</td>\n",
              "    </tr>\n",
              "    <tr>\n",
              "      <th>2</th>\n",
              "      <td>Vill- Debidaspur, P.O.- Kankuria, P.S.- Samser...</td>\n",
              "      <td>NaN</td>\n",
              "      <td>60</td>\n",
              "      <td>26th April, 2021</td>\n",
              "      <td>Samserganj</td>\n",
              "      <td>NaN</td>\n",
              "      <td>NaN</td>\n",
              "      <td>Late Nur Mohammad Biswas</td>\n",
              "      <td>मृत नूर महम्मद बिश्वास</td>\n",
              "      <td>Zaidur Rahaman</td>\n",
              "      <td>Zaidur Rahaman</td>\n",
              "      <td>जैदुर रहमान</td>\n",
              "      <td>Indian National Congress</td>\n",
              "      <td>NaN</td>\n",
              "      <td>NaN</td>\n",
              "      <td>West Bengal</td>\n",
              "      <td>3</td>\n",
              "      <td>NaN</td>\n",
              "    </tr>\n",
              "    <tr>\n",
              "      <th>3</th>\n",
              "      <td>F-301, PRANTIK PALLY, KOLKATA – 700042</td>\n",
              "      <td>NaN</td>\n",
              "      <td>41</td>\n",
              "      <td>7th April, 2021</td>\n",
              "      <td>Rashbehari</td>\n",
              "      <td>NaN</td>\n",
              "      <td>NaN</td>\n",
              "      <td>LATE PINAKI KUNDU</td>\n",
              "      <td>स्वर्गीय पिनाकि कुंडू</td>\n",
              "      <td>PREETAM KUNDU</td>\n",
              "      <td>PREETAM KUNDU</td>\n",
              "      <td>प्रीतम  कुंडू</td>\n",
              "      <td>Independent</td>\n",
              "      <td>NaN</td>\n",
              "      <td>NaN</td>\n",
              "      <td>West Bengal</td>\n",
              "      <td>4</td>\n",
              "      <td>NaN</td>\n",
              "    </tr>\n",
              "    <tr>\n",
              "      <th>4</th>\n",
              "      <td>VILL-FULBARI, P.O-KAMLABARI, P.S-ENGLISH BAZAR...</td>\n",
              "      <td>NaN</td>\n",
              "      <td>42</td>\n",
              "      <td>6th April, 2021</td>\n",
              "      <td>Manikchak</td>\n",
              "      <td>NaN</td>\n",
              "      <td>NaN</td>\n",
              "      <td>LT. ALI MOHAMMAD</td>\n",
              "      <td>स्वर्गीय आली महममद</td>\n",
              "      <td>ALAM MOTTAKIN</td>\n",
              "      <td>ALAM MOTTAKIN</td>\n",
              "      <td>आलम मोत्ताकिन</td>\n",
              "      <td>Indian National Congress</td>\n",
              "      <td>NaN</td>\n",
              "      <td>NaN</td>\n",
              "      <td>West Bengal</td>\n",
              "      <td>5</td>\n",
              "      <td>NaN</td>\n",
              "    </tr>\n",
              "  </tbody>\n",
              "</table>\n",
              "</div>"
            ],
            "text/plain": [
              "                                             address  ...  url\n",
              "0  O/5, BANKIM MUKHERJEE SARANI, DURGAPUR COLONY,...  ...  NaN\n",
              "1             F-301, PRANTIK PALLY, KOLKATA – 700042  ...  NaN\n",
              "2  Vill- Debidaspur, P.O.- Kankuria, P.S.- Samser...  ...  NaN\n",
              "3             F-301, PRANTIK PALLY, KOLKATA – 700042  ...  NaN\n",
              "4  VILL-FULBARI, P.O-KAMLABARI, P.S-ENGLISH BAZAR...  ...  NaN\n",
              "\n",
              "[5 rows x 18 columns]"
            ]
          },
          "metadata": {},
          "execution_count": 5
        }
      ]
    },
    {
      "cell_type": "code",
      "metadata": {
        "id": "TnwMig87P1yV"
      },
      "source": [
        "af_df = affidavits_df[['fathers_or_husbands_name_hindi', 'fathers_or_husbands_name_english', 'name_hindi', 'name_english']]"
      ],
      "execution_count": 6,
      "outputs": []
    },
    {
      "cell_type": "code",
      "metadata": {
        "id": "XYj3W5R3bdii"
      },
      "source": [
        "# split and merge\n",
        "input_target_df = pd.concat([\n",
        "                    af_df[['fathers_or_husbands_name_hindi','fathers_or_husbands_name_english']].rename(columns={\"fathers_or_husbands_name_hindi\": \"hindi\", \"fathers_or_husbands_name_english\": \"english\"}), \n",
        "                    af_df[['name_hindi','name_english']].rename(columns={\"name_hindi\": \"hindi\", \"name_english\": \"english\"})\n",
        "                  ], ignore_index=True)"
      ],
      "execution_count": 7,
      "outputs": []
    },
    {
      "cell_type": "code",
      "metadata": {
        "colab": {
          "base_uri": "https://localhost:8080/",
          "height": 204
        },
        "id": "q6_4pn8Wbt-A",
        "outputId": "e20c85f8-d791-4bab-e536-f1caee7353ce"
      },
      "source": [
        "input_target_df.head()"
      ],
      "execution_count": 8,
      "outputs": [
        {
          "output_type": "execute_result",
          "data": {
            "text/html": [
              "<div>\n",
              "<style scoped>\n",
              "    .dataframe tbody tr th:only-of-type {\n",
              "        vertical-align: middle;\n",
              "    }\n",
              "\n",
              "    .dataframe tbody tr th {\n",
              "        vertical-align: top;\n",
              "    }\n",
              "\n",
              "    .dataframe thead th {\n",
              "        text-align: right;\n",
              "    }\n",
              "</style>\n",
              "<table border=\"1\" class=\"dataframe\">\n",
              "  <thead>\n",
              "    <tr style=\"text-align: right;\">\n",
              "      <th></th>\n",
              "      <th>hindi</th>\n",
              "      <th>english</th>\n",
              "    </tr>\n",
              "  </thead>\n",
              "  <tbody>\n",
              "    <tr>\n",
              "      <th>0</th>\n",
              "      <td>प्रयात सुबोध चन्द्र दास</td>\n",
              "      <td>LATE SUBODH CHANDRA DAS</td>\n",
              "    </tr>\n",
              "    <tr>\n",
              "      <th>1</th>\n",
              "      <td>स्वर्गीय पिनाकि कुंडू</td>\n",
              "      <td>LATE PINAKI KUNDU</td>\n",
              "    </tr>\n",
              "    <tr>\n",
              "      <th>2</th>\n",
              "      <td>मृत नूर महम्मद बिश्वास</td>\n",
              "      <td>Late Nur Mohammad Biswas</td>\n",
              "    </tr>\n",
              "    <tr>\n",
              "      <th>3</th>\n",
              "      <td>स्वर्गीय पिनाकि कुंडू</td>\n",
              "      <td>LATE PINAKI KUNDU</td>\n",
              "    </tr>\n",
              "    <tr>\n",
              "      <th>4</th>\n",
              "      <td>स्वर्गीय आली महममद</td>\n",
              "      <td>LT. ALI MOHAMMAD</td>\n",
              "    </tr>\n",
              "  </tbody>\n",
              "</table>\n",
              "</div>"
            ],
            "text/plain": [
              "                     hindi                   english\n",
              "0  प्रयात सुबोध चन्द्र दास   LATE SUBODH CHANDRA DAS\n",
              "1    स्वर्गीय पिनाकि कुंडू         LATE PINAKI KUNDU\n",
              "2   मृत नूर महम्मद बिश्वास  Late Nur Mohammad Biswas\n",
              "3    स्वर्गीय पिनाकि कुंडू         LATE PINAKI KUNDU\n",
              "4       स्वर्गीय आली महममद          LT. ALI MOHAMMAD"
            ]
          },
          "metadata": {},
          "execution_count": 8
        }
      ]
    },
    {
      "cell_type": "markdown",
      "metadata": {
        "id": "sRjQYPAjajwg"
      },
      "source": [
        "## load cricket dataset"
      ]
    },
    {
      "cell_type": "code",
      "metadata": {
        "id": "QIlUaSeP54a0"
      },
      "source": [
        "cricket_df = pd.read_json('players_with_hindi_names.json')"
      ],
      "execution_count": 9,
      "outputs": []
    },
    {
      "cell_type": "code",
      "metadata": {
        "colab": {
          "base_uri": "https://localhost:8080/",
          "height": 204
        },
        "id": "-8AW_DdX5934",
        "outputId": "d70698af-685c-47f3-a0d8-ae9515f54c73"
      },
      "source": [
        "cricket_df.head()"
      ],
      "execution_count": 10,
      "outputs": [
        {
          "output_type": "execute_result",
          "data": {
            "text/html": [
              "<div>\n",
              "<style scoped>\n",
              "    .dataframe tbody tr th:only-of-type {\n",
              "        vertical-align: middle;\n",
              "    }\n",
              "\n",
              "    .dataframe tbody tr th {\n",
              "        vertical-align: top;\n",
              "    }\n",
              "\n",
              "    .dataframe thead th {\n",
              "        text-align: right;\n",
              "    }\n",
              "</style>\n",
              "<table border=\"1\" class=\"dataframe\">\n",
              "  <thead>\n",
              "    <tr style=\"text-align: right;\">\n",
              "      <th></th>\n",
              "      <th>id</th>\n",
              "      <th>hindi_name</th>\n",
              "      <th>hindi_long_name</th>\n",
              "      <th>english_name</th>\n",
              "      <th>gender</th>\n",
              "      <th>date_of_birth</th>\n",
              "      <th>country_id</th>\n",
              "      <th>slug</th>\n",
              "    </tr>\n",
              "  </thead>\n",
              "  <tbody>\n",
              "    <tr>\n",
              "      <th>0</th>\n",
              "      <td>90143</td>\n",
              "      <td>आर गुरबाज़</td>\n",
              "      <td>रहमानउल्लाह गुरबाज़</td>\n",
              "      <td>Rahmanullah Gurbaz</td>\n",
              "      <td>M</td>\n",
              "      <td>{'year': 2001, 'month': 11, 'date': 28}</td>\n",
              "      <td>40</td>\n",
              "      <td>rahmanullah-gurbaz</td>\n",
              "    </tr>\n",
              "    <tr>\n",
              "      <th>1</th>\n",
              "      <td>54018</td>\n",
              "      <td>एम रिज़वान</td>\n",
              "      <td>मोहम्मद रिज़वान</td>\n",
              "      <td>Mohammad Rizwan</td>\n",
              "      <td>M</td>\n",
              "      <td>{'year': 1992, 'month': 6, 'date': 1}</td>\n",
              "      <td>7</td>\n",
              "      <td>mohammad-rizwan</td>\n",
              "    </tr>\n",
              "    <tr>\n",
              "      <th>2</th>\n",
              "      <td>47686</td>\n",
              "      <td>एस मक़सूद</td>\n",
              "      <td>सोहेब मक़सूद</td>\n",
              "      <td>Sohaib Maqsood</td>\n",
              "      <td>M</td>\n",
              "      <td>{'year': 1987, 'month': 4, 'date': 15}</td>\n",
              "      <td>7</td>\n",
              "      <td>sohaib-maqsood</td>\n",
              "    </tr>\n",
              "    <tr>\n",
              "      <th>3</th>\n",
              "      <td>53649</td>\n",
              "      <td>आर आर रुसो</td>\n",
              "      <td>राइली रुसो</td>\n",
              "      <td>Rossouw, RR</td>\n",
              "      <td>M</td>\n",
              "      <td>{'year': 1989, 'month': 10, 'date': 9}</td>\n",
              "      <td>3</td>\n",
              "      <td>rilee-rossouw</td>\n",
              "    </tr>\n",
              "    <tr>\n",
              "      <th>4</th>\n",
              "      <td>72393</td>\n",
              "      <td>एस हेटमायर</td>\n",
              "      <td>शिमरॉन हेटमायर</td>\n",
              "      <td>Hetmyer, SO</td>\n",
              "      <td>M</td>\n",
              "      <td>{'year': 1996, 'month': 12, 'date': 26}</td>\n",
              "      <td>4</td>\n",
              "      <td>shimron-hetmyer</td>\n",
              "    </tr>\n",
              "  </tbody>\n",
              "</table>\n",
              "</div>"
            ],
            "text/plain": [
              "      id  hindi_name  ... country_id                slug\n",
              "0  90143  आर गुरबाज़  ...         40  rahmanullah-gurbaz\n",
              "1  54018  एम रिज़वान  ...          7     mohammad-rizwan\n",
              "2  47686   एस मक़सूद  ...          7      sohaib-maqsood\n",
              "3  53649  आर आर रुसो  ...          3       rilee-rossouw\n",
              "4  72393  एस हेटमायर  ...          4     shimron-hetmyer\n",
              "\n",
              "[5 rows x 8 columns]"
            ]
          },
          "metadata": {},
          "execution_count": 10
        }
      ]
    },
    {
      "cell_type": "code",
      "metadata": {
        "id": "Zyc762NtcILn"
      },
      "source": [
        "input_target_df = pd.concat([\n",
        "                             input_target_df, \n",
        "                             cricket_df[['hindi_long_name', 'english_name']].rename(columns={\"hindi_long_name\": \"hindi\", \"english_name\": \"english\"}) \n",
        "                             ], ignore_index=True)"
      ],
      "execution_count": 11,
      "outputs": []
    },
    {
      "cell_type": "markdown",
      "metadata": {
        "id": "iDtsnXBQa7m2"
      },
      "source": [
        "## load Dakshina Dataset"
      ]
    },
    {
      "cell_type": "code",
      "metadata": {
        "id": "YWUoa66ea0xR"
      },
      "source": [
        "\n",
        "dakshina_df = pd.read_csv('hi.translit.sampled.train.tsv', sep='\\t', names=[\"hindi\", \"english\", \"freq\"])"
      ],
      "execution_count": 12,
      "outputs": []
    },
    {
      "cell_type": "code",
      "metadata": {
        "colab": {
          "base_uri": "https://localhost:8080/",
          "height": 204
        },
        "id": "LvzPQO06bONy",
        "outputId": "7778ac7e-3325-4bf1-aa16-6615640b58da"
      },
      "source": [
        "dakshina_df.head()"
      ],
      "execution_count": 13,
      "outputs": [
        {
          "output_type": "execute_result",
          "data": {
            "text/html": [
              "<div>\n",
              "<style scoped>\n",
              "    .dataframe tbody tr th:only-of-type {\n",
              "        vertical-align: middle;\n",
              "    }\n",
              "\n",
              "    .dataframe tbody tr th {\n",
              "        vertical-align: top;\n",
              "    }\n",
              "\n",
              "    .dataframe thead th {\n",
              "        text-align: right;\n",
              "    }\n",
              "</style>\n",
              "<table border=\"1\" class=\"dataframe\">\n",
              "  <thead>\n",
              "    <tr style=\"text-align: right;\">\n",
              "      <th></th>\n",
              "      <th>hindi</th>\n",
              "      <th>english</th>\n",
              "      <th>freq</th>\n",
              "    </tr>\n",
              "  </thead>\n",
              "  <tbody>\n",
              "    <tr>\n",
              "      <th>0</th>\n",
              "      <td>अं</td>\n",
              "      <td>an</td>\n",
              "      <td>3</td>\n",
              "    </tr>\n",
              "    <tr>\n",
              "      <th>1</th>\n",
              "      <td>अंकगणित</td>\n",
              "      <td>ankganit</td>\n",
              "      <td>3</td>\n",
              "    </tr>\n",
              "    <tr>\n",
              "      <th>2</th>\n",
              "      <td>अंकल</td>\n",
              "      <td>uncle</td>\n",
              "      <td>4</td>\n",
              "    </tr>\n",
              "    <tr>\n",
              "      <th>3</th>\n",
              "      <td>अंकुर</td>\n",
              "      <td>ankur</td>\n",
              "      <td>4</td>\n",
              "    </tr>\n",
              "    <tr>\n",
              "      <th>4</th>\n",
              "      <td>अंकुरण</td>\n",
              "      <td>ankuran</td>\n",
              "      <td>3</td>\n",
              "    </tr>\n",
              "  </tbody>\n",
              "</table>\n",
              "</div>"
            ],
            "text/plain": [
              "     hindi   english  freq\n",
              "0       अं        an     3\n",
              "1  अंकगणित  ankganit     3\n",
              "2     अंकल     uncle     4\n",
              "3    अंकुर     ankur     4\n",
              "4   अंकुरण   ankuran     3"
            ]
          },
          "metadata": {},
          "execution_count": 13
        }
      ]
    },
    {
      "cell_type": "code",
      "metadata": {
        "id": "X8aCM1ehbqWb"
      },
      "source": [
        "input_target_df = pd.concat([\n",
        "                             input_target_df, \n",
        "                             dakshina_df[['hindi', 'english']]\n",
        "                             ], ignore_index=True)"
      ],
      "execution_count": 14,
      "outputs": []
    },
    {
      "cell_type": "code",
      "metadata": {
        "colab": {
          "base_uri": "https://localhost:8080/",
          "height": 204
        },
        "id": "c_rJ_vXPcpGE",
        "outputId": "c32291c1-8230-4d48-b8d5-e64f94a96f7c"
      },
      "source": [
        "input_target_df.head()"
      ],
      "execution_count": 15,
      "outputs": [
        {
          "output_type": "execute_result",
          "data": {
            "text/html": [
              "<div>\n",
              "<style scoped>\n",
              "    .dataframe tbody tr th:only-of-type {\n",
              "        vertical-align: middle;\n",
              "    }\n",
              "\n",
              "    .dataframe tbody tr th {\n",
              "        vertical-align: top;\n",
              "    }\n",
              "\n",
              "    .dataframe thead th {\n",
              "        text-align: right;\n",
              "    }\n",
              "</style>\n",
              "<table border=\"1\" class=\"dataframe\">\n",
              "  <thead>\n",
              "    <tr style=\"text-align: right;\">\n",
              "      <th></th>\n",
              "      <th>hindi</th>\n",
              "      <th>english</th>\n",
              "    </tr>\n",
              "  </thead>\n",
              "  <tbody>\n",
              "    <tr>\n",
              "      <th>0</th>\n",
              "      <td>प्रयात सुबोध चन्द्र दास</td>\n",
              "      <td>LATE SUBODH CHANDRA DAS</td>\n",
              "    </tr>\n",
              "    <tr>\n",
              "      <th>1</th>\n",
              "      <td>स्वर्गीय पिनाकि कुंडू</td>\n",
              "      <td>LATE PINAKI KUNDU</td>\n",
              "    </tr>\n",
              "    <tr>\n",
              "      <th>2</th>\n",
              "      <td>मृत नूर महम्मद बिश्वास</td>\n",
              "      <td>Late Nur Mohammad Biswas</td>\n",
              "    </tr>\n",
              "    <tr>\n",
              "      <th>3</th>\n",
              "      <td>स्वर्गीय पिनाकि कुंडू</td>\n",
              "      <td>LATE PINAKI KUNDU</td>\n",
              "    </tr>\n",
              "    <tr>\n",
              "      <th>4</th>\n",
              "      <td>स्वर्गीय आली महममद</td>\n",
              "      <td>LT. ALI MOHAMMAD</td>\n",
              "    </tr>\n",
              "  </tbody>\n",
              "</table>\n",
              "</div>"
            ],
            "text/plain": [
              "                     hindi                   english\n",
              "0  प्रयात सुबोध चन्द्र दास   LATE SUBODH CHANDRA DAS\n",
              "1    स्वर्गीय पिनाकि कुंडू         LATE PINAKI KUNDU\n",
              "2   मृत नूर महम्मद बिश्वास  Late Nur Mohammad Biswas\n",
              "3    स्वर्गीय पिनाकि कुंडू         LATE PINAKI KUNDU\n",
              "4       स्वर्गीय आली महममद          LT. ALI MOHAMMAD"
            ]
          },
          "metadata": {},
          "execution_count": 15
        }
      ]
    },
    {
      "cell_type": "code",
      "metadata": {
        "colab": {
          "base_uri": "https://localhost:8080/"
        },
        "id": "oxaiXS4yc90U",
        "outputId": "ee4506a7-780e-4a3a-98f6-8e219e250799"
      },
      "source": [
        "input_target_df.info()"
      ],
      "execution_count": 16,
      "outputs": [
        {
          "output_type": "stream",
          "name": "stdout",
          "text": [
            "<class 'pandas.core.frame.DataFrame'>\n",
            "RangeIndex: 77908 entries, 0 to 77907\n",
            "Data columns (total 2 columns):\n",
            " #   Column   Non-Null Count  Dtype \n",
            "---  ------   --------------  ----- \n",
            " 0   hindi    72727 non-null  object\n",
            " 1   english  77906 non-null  object\n",
            "dtypes: object(2)\n",
            "memory usage: 1.2+ MB\n"
          ]
        }
      ]
    },
    {
      "cell_type": "code",
      "metadata": {
        "id": "7WVfnG3RSDz0"
      },
      "source": [
        "input_target_df = input_target_df.dropna()"
      ],
      "execution_count": 17,
      "outputs": []
    },
    {
      "cell_type": "code",
      "metadata": {
        "colab": {
          "base_uri": "https://localhost:8080/"
        },
        "id": "rs0mMz4ndDCG",
        "outputId": "0e6b02fe-515a-4d19-b34f-97b40d4cc066"
      },
      "source": [
        "input_target_df.info()"
      ],
      "execution_count": 18,
      "outputs": [
        {
          "output_type": "stream",
          "name": "stdout",
          "text": [
            "<class 'pandas.core.frame.DataFrame'>\n",
            "Int64Index: 72725 entries, 0 to 77907\n",
            "Data columns (total 2 columns):\n",
            " #   Column   Non-Null Count  Dtype \n",
            "---  ------   --------------  ----- \n",
            " 0   hindi    72725 non-null  object\n",
            " 1   english  72725 non-null  object\n",
            "dtypes: object(2)\n",
            "memory usage: 1.7+ MB\n"
          ]
        }
      ]
    },
    {
      "cell_type": "code",
      "metadata": {
        "id": "7gujOMDzS1O_"
      },
      "source": [
        "# strip and make lower case\n",
        "input_target_df['hindi'] = input_target_df['hindi'].str.strip() # hindi has no caps\n",
        "input_target_df['english'] = input_target_df['english'].str.strip().str.lower()"
      ],
      "execution_count": 19,
      "outputs": []
    },
    {
      "cell_type": "code",
      "metadata": {
        "colab": {
          "base_uri": "https://localhost:8080/",
          "height": 204
        },
        "id": "aJDDFPvhTv3e",
        "outputId": "694ef333-1da8-4628-b589-e894138528da"
      },
      "source": [
        "input_target_df.head()"
      ],
      "execution_count": 20,
      "outputs": [
        {
          "output_type": "execute_result",
          "data": {
            "text/html": [
              "<div>\n",
              "<style scoped>\n",
              "    .dataframe tbody tr th:only-of-type {\n",
              "        vertical-align: middle;\n",
              "    }\n",
              "\n",
              "    .dataframe tbody tr th {\n",
              "        vertical-align: top;\n",
              "    }\n",
              "\n",
              "    .dataframe thead th {\n",
              "        text-align: right;\n",
              "    }\n",
              "</style>\n",
              "<table border=\"1\" class=\"dataframe\">\n",
              "  <thead>\n",
              "    <tr style=\"text-align: right;\">\n",
              "      <th></th>\n",
              "      <th>hindi</th>\n",
              "      <th>english</th>\n",
              "    </tr>\n",
              "  </thead>\n",
              "  <tbody>\n",
              "    <tr>\n",
              "      <th>0</th>\n",
              "      <td>प्रयात सुबोध चन्द्र दास</td>\n",
              "      <td>late subodh chandra das</td>\n",
              "    </tr>\n",
              "    <tr>\n",
              "      <th>1</th>\n",
              "      <td>स्वर्गीय पिनाकि कुंडू</td>\n",
              "      <td>late pinaki kundu</td>\n",
              "    </tr>\n",
              "    <tr>\n",
              "      <th>2</th>\n",
              "      <td>मृत नूर महम्मद बिश्वास</td>\n",
              "      <td>late nur mohammad biswas</td>\n",
              "    </tr>\n",
              "    <tr>\n",
              "      <th>3</th>\n",
              "      <td>स्वर्गीय पिनाकि कुंडू</td>\n",
              "      <td>late pinaki kundu</td>\n",
              "    </tr>\n",
              "    <tr>\n",
              "      <th>4</th>\n",
              "      <td>स्वर्गीय आली महममद</td>\n",
              "      <td>lt. ali mohammad</td>\n",
              "    </tr>\n",
              "  </tbody>\n",
              "</table>\n",
              "</div>"
            ],
            "text/plain": [
              "                     hindi                   english\n",
              "0  प्रयात सुबोध चन्द्र दास   late subodh chandra das\n",
              "1    स्वर्गीय पिनाकि कुंडू         late pinaki kundu\n",
              "2   मृत नूर महम्मद बिश्वास  late nur mohammad biswas\n",
              "3    स्वर्गीय पिनाकि कुंडू         late pinaki kundu\n",
              "4       स्वर्गीय आली महममद          lt. ali mohammad"
            ]
          },
          "metadata": {},
          "execution_count": 20
        }
      ]
    },
    {
      "cell_type": "code",
      "metadata": {
        "id": "tUmbiLe8T7rk"
      },
      "source": [
        "# Strip out any abbreviated names\n",
        "input_target_df = input_target_df[~input_target_df['english'].str.contains('\\.')]\n",
        "input_target_df = input_target_df[~input_target_df['english'].str.contains(',')]"
      ],
      "execution_count": 21,
      "outputs": []
    },
    {
      "cell_type": "code",
      "metadata": {
        "colab": {
          "base_uri": "https://localhost:8080/"
        },
        "id": "GRkMX8QcVbKg",
        "outputId": "37d0f45c-46b4-4e22-9372-0d9b5ca6e188"
      },
      "source": [
        "input_target_df.info()"
      ],
      "execution_count": 22,
      "outputs": [
        {
          "output_type": "stream",
          "name": "stdout",
          "text": [
            "<class 'pandas.core.frame.DataFrame'>\n",
            "Int64Index: 63899 entries, 0 to 77907\n",
            "Data columns (total 2 columns):\n",
            " #   Column   Non-Null Count  Dtype \n",
            "---  ------   --------------  ----- \n",
            " 0   hindi    63899 non-null  object\n",
            " 1   english  63899 non-null  object\n",
            "dtypes: object(2)\n",
            "memory usage: 1.5+ MB\n"
          ]
        }
      ]
    },
    {
      "cell_type": "code",
      "metadata": {
        "id": "dyzG08H1Z3Ch"
      },
      "source": [
        "# drop duplicates\n",
        "input_target_df = input_target_df.drop_duplicates()"
      ],
      "execution_count": 23,
      "outputs": []
    },
    {
      "cell_type": "code",
      "metadata": {
        "colab": {
          "base_uri": "https://localhost:8080/"
        },
        "id": "52H8_u4maYM2",
        "outputId": "5701ba74-3380-402b-c347-0feca8a74a35"
      },
      "source": [
        "input_target_df.info()"
      ],
      "execution_count": 24,
      "outputs": [
        {
          "output_type": "stream",
          "name": "stdout",
          "text": [
            "<class 'pandas.core.frame.DataFrame'>\n",
            "Int64Index: 55821 entries, 0 to 77907\n",
            "Data columns (total 2 columns):\n",
            " #   Column   Non-Null Count  Dtype \n",
            "---  ------   --------------  ----- \n",
            " 0   hindi    55821 non-null  object\n",
            " 1   english  55821 non-null  object\n",
            "dtypes: object(2)\n",
            "memory usage: 1.3+ MB\n"
          ]
        }
      ]
    },
    {
      "cell_type": "code",
      "metadata": {
        "id": "DnQHxhVye07D"
      },
      "source": [
        "# Remove if target has non-english \n",
        "def isEnglish(s):\n",
        "  try:\n",
        "      s.encode(encoding='utf-8').decode('ascii')\n",
        "  except UnicodeDecodeError:\n",
        "      return False\n",
        "  else:\n",
        "      return True\n",
        "\n",
        "input_target_df = input_target_df[input_target_df['english'].apply(isEnglish)]"
      ],
      "execution_count": 25,
      "outputs": []
    },
    {
      "cell_type": "code",
      "metadata": {
        "colab": {
          "base_uri": "https://localhost:8080/"
        },
        "id": "sEGVeRyrgJJc",
        "outputId": "8e50d496-aeab-40a2-aacd-1795f80f4a02"
      },
      "source": [
        "input_target_df.info()"
      ],
      "execution_count": 26,
      "outputs": [
        {
          "output_type": "stream",
          "name": "stdout",
          "text": [
            "<class 'pandas.core.frame.DataFrame'>\n",
            "Int64Index: 55768 entries, 0 to 77907\n",
            "Data columns (total 2 columns):\n",
            " #   Column   Non-Null Count  Dtype \n",
            "---  ------   --------------  ----- \n",
            " 0   hindi    55768 non-null  object\n",
            " 1   english  55768 non-null  object\n",
            "dtypes: object(2)\n",
            "memory usage: 1.3+ MB\n"
          ]
        }
      ]
    },
    {
      "cell_type": "code",
      "metadata": {
        "id": "URH4OE1pq4rM"
      },
      "source": [
        "# append start and end of sequence for target\n",
        "sos = '^'\n",
        "eos = '$'\n",
        "\n",
        "input_target_df['english'] = sos + input_target_df['english'].astype(str) + eos"
      ],
      "execution_count": 27,
      "outputs": []
    },
    {
      "cell_type": "code",
      "metadata": {
        "id": "AahQxw3J5_ax"
      },
      "source": [
        "input_words =  input_target_df['hindi'].tolist()\n",
        "target_words =  input_target_df['english'].tolist()"
      ],
      "execution_count": 28,
      "outputs": []
    },
    {
      "cell_type": "code",
      "metadata": {
        "colab": {
          "base_uri": "https://localhost:8080/"
        },
        "id": "lpsCJ3kv7LkA",
        "outputId": "d434e36f-39f4-441c-c4cc-99ff7461c155"
      },
      "source": [
        "print(input_words[0])\n",
        "print(target_words[0])"
      ],
      "execution_count": 29,
      "outputs": [
        {
          "output_type": "stream",
          "name": "stdout",
          "text": [
            "प्रयात सुबोध चन्द्र दास\n",
            "^late subodh chandra das$\n"
          ]
        }
      ]
    },
    {
      "cell_type": "code",
      "metadata": {
        "colab": {
          "base_uri": "https://localhost:8080/"
        },
        "id": "X3pGuZOyQ1D2",
        "outputId": "c95390ff-fff8-448b-a6c7-d293ffdc0ac6"
      },
      "source": [
        "print(f\"Total number of input words {len(input_words)}\")\n",
        "print(f\"Total number of target words {len(target_words)}\")"
      ],
      "execution_count": 30,
      "outputs": [
        {
          "output_type": "stream",
          "name": "stdout",
          "text": [
            "Total number of input words 55768\n",
            "Total number of target words 55768\n"
          ]
        }
      ]
    },
    {
      "cell_type": "code",
      "metadata": {
        "id": "U5Trw_fmOLi7"
      },
      "source": [
        "def build_vocab(input_words, target_words):\n",
        "  input_vocab = set()\n",
        "  target_vocab = set()\n",
        "  for input_word, target_word in zip(input_words, target_words):\n",
        "      input_vocab.update(set(input_word))\n",
        "      target_vocab.update(set(target_word))\n",
        "  return input_vocab, target_vocab"
      ],
      "execution_count": 31,
      "outputs": []
    },
    {
      "cell_type": "code",
      "metadata": {
        "id": "RlgD8jM0OsHG"
      },
      "source": [
        "input_vocab, target_vocab = build_vocab(input_words, target_words)"
      ],
      "execution_count": 32,
      "outputs": []
    },
    {
      "cell_type": "code",
      "metadata": {
        "colab": {
          "base_uri": "https://localhost:8080/"
        },
        "id": "W_wQMLvrOyu_",
        "outputId": "ec5e5d38-bfdd-42b4-c690-73fba06000e0"
      },
      "source": [
        "print(f\"Total hindi characters {len(input_vocab)}\")\n",
        "print(f\"Total english characters {len(target_vocab)}\")"
      ],
      "execution_count": 33,
      "outputs": [
        {
          "output_type": "stream",
          "name": "stdout",
          "text": [
            "Total hindi characters 186\n",
            "Total english characters 35\n"
          ]
        }
      ]
    },
    {
      "cell_type": "code",
      "metadata": {
        "id": "ztVnKKGsYlFK"
      },
      "source": [
        "input_vocab = sorted(list(input_vocab))\n",
        "target_vocab = sorted(list(target_vocab))"
      ],
      "execution_count": 34,
      "outputs": []
    },
    {
      "cell_type": "code",
      "metadata": {
        "id": "fbJSDwkvXvQp"
      },
      "source": [
        "input_token_index = dict([(char, i) for i, char in enumerate(input_vocab)])\n",
        "target_token_index = dict([(char, i) for i, char in enumerate(target_vocab)])"
      ],
      "execution_count": 35,
      "outputs": []
    },
    {
      "cell_type": "code",
      "metadata": {
        "id": "-dxT9ms4YG1y"
      },
      "source": [
        "num_encoder_tokens = len(input_vocab)\n",
        "num_decoder_tokens = len(target_vocab)"
      ],
      "execution_count": 36,
      "outputs": []
    },
    {
      "cell_type": "code",
      "metadata": {
        "id": "DZguL8LRY8Bl"
      },
      "source": [
        "max_encoder_seq_length = max([len(txt) for txt in input_words])\n",
        "max_decoder_seq_length = max([len(txt) for txt in target_words])"
      ],
      "execution_count": 37,
      "outputs": []
    },
    {
      "cell_type": "code",
      "metadata": {
        "colab": {
          "base_uri": "https://localhost:8080/"
        },
        "id": "HZLsjCHrZGuP",
        "outputId": "300c5585-8655-4c53-928b-78a5d8d13a7e"
      },
      "source": [
        "print('Number of samples:', len(input_words))\n",
        "print('Number of unique input tokens:', num_encoder_tokens)\n",
        "print('Number of unique output tokens:', num_decoder_tokens)\n",
        "print('Max sequence length for inputs:', max_encoder_seq_length)\n",
        "print('Max sequence length for outputs:', max_decoder_seq_length)"
      ],
      "execution_count": 38,
      "outputs": [
        {
          "output_type": "stream",
          "name": "stdout",
          "text": [
            "Number of samples: 55768\n",
            "Number of unique input tokens: 186\n",
            "Number of unique output tokens: 35\n",
            "Max sequence length for inputs: 47\n",
            "Max sequence length for outputs: 49\n"
          ]
        }
      ]
    },
    {
      "cell_type": "code",
      "metadata": {
        "id": "nbXBdUGOZO3_"
      },
      "source": [
        "encoder_input_data = np.zeros((len(input_words), max_encoder_seq_length, num_encoder_tokens), dtype='float32')\n",
        "decoder_input_data = np.zeros((len(input_words), max_decoder_seq_length, num_decoder_tokens), dtype='float32')\n",
        "decoder_target_data = np.zeros( (len(input_words), max_decoder_seq_length, num_decoder_tokens), dtype='float32')"
      ],
      "execution_count": 39,
      "outputs": []
    },
    {
      "cell_type": "code",
      "metadata": {
        "colab": {
          "base_uri": "https://localhost:8080/"
        },
        "id": "HO9DgOJOZgpe",
        "outputId": "e3a098cc-4f1b-4994-d1a1-50498aa6f063"
      },
      "source": [
        "print(f\"encoder input shape {encoder_input_data.shape}\")\n",
        "print(f\"decoder input shape {decoder_input_data.shape}\")\n",
        "print(f\"decoder target shape {decoder_target_data.shape}\")"
      ],
      "execution_count": 40,
      "outputs": [
        {
          "output_type": "stream",
          "name": "stdout",
          "text": [
            "encoder input shape (55768, 47, 186)\n",
            "decoder input shape (55768, 49, 35)\n",
            "decoder target shape (55768, 49, 35)\n"
          ]
        }
      ]
    },
    {
      "cell_type": "code",
      "metadata": {
        "id": "9KGNey6fZ05q"
      },
      "source": [
        "for i, (input_text, target_text) in enumerate(zip(input_words, target_words)):\n",
        "  for t, char in enumerate(input_text):\n",
        "    encoder_input_data[i, t, input_token_index[char]] = 1.0\n",
        "  # for the rest of sentence, mark it as space\n",
        "  #encoder_input_data[i, t + 1 :, input_token_index[\" \"]] = 1.0\n",
        "\n",
        "  for t, char in enumerate(target_text):\n",
        "    # decoder_target_data is ahead of decoder_input_data by one timestep\n",
        "    decoder_input_data[i, t, target_token_index[char]] = 1.0\n",
        "    if t > 0:\n",
        "      # decoder_target_data will be ahead by one timestep\n",
        "      # and will not include the start character.\n",
        "      decoder_target_data[i, t-1, target_token_index[char]] = 1.0\n",
        "      # for the rest of sentence, mark it as space\n",
        "      #decoder_input_data[i, t + 1 :, target_token_index[\" \"]] = 1.0"
      ],
      "execution_count": 41,
      "outputs": []
    },
    {
      "cell_type": "markdown",
      "metadata": {
        "id": "0CZd0uprOC5u"
      },
      "source": [
        "# Define Model"
      ]
    },
    {
      "cell_type": "code",
      "metadata": {
        "id": "0F1B0ezJcehK"
      },
      "source": [
        "latent_dim = 256  # Latent dimensionality of the encoding space.\n",
        "\n",
        "# Define an input sequence and process it.\n",
        "encoder_inputs = Input(shape=(None, num_encoder_tokens))\n",
        "encoder = LSTM(latent_dim, return_state=True)\n",
        "encoder_outputs, state_h, state_c = encoder(encoder_inputs)\n",
        "# We discard `encoder_outputs` and only keep the states.\n",
        "encoder_states = [state_h, state_c]"
      ],
      "execution_count": 42,
      "outputs": []
    },
    {
      "cell_type": "code",
      "metadata": {
        "id": "D4g-jGmUeeL4"
      },
      "source": [
        "# Set up the decoder, using `encoder_states` as initial state.\n",
        "decoder_inputs = Input(shape=(None, num_decoder_tokens))\n",
        "# We set up our decoder to return full output sequences,\n",
        "# and to return internal states as well. We don't use the\n",
        "# return states in the training model, but we will use them in inference.\n",
        "decoder_lstm = LSTM(latent_dim, return_sequences=True, return_state=True)\n",
        "decoder_outputs, _, _ = decoder_lstm(decoder_inputs, initial_state=encoder_states)\n",
        "decoder_dense = Dense(num_decoder_tokens, activation='softmax')\n",
        "decoder_outputs = decoder_dense(decoder_outputs)"
      ],
      "execution_count": 43,
      "outputs": []
    },
    {
      "cell_type": "code",
      "metadata": {
        "id": "voLTGIiBeyKO"
      },
      "source": [
        "# Define the model that will turn\n",
        "# `encoder_input_data` & `decoder_input_data` into `decoder_target_data`\n",
        "model = Model([encoder_inputs, decoder_inputs], decoder_outputs)"
      ],
      "execution_count": 44,
      "outputs": []
    },
    {
      "cell_type": "code",
      "metadata": {
        "colab": {
          "base_uri": "https://localhost:8080/"
        },
        "id": "iShaSKTZYbxl",
        "outputId": "cec87cbe-5ce3-4033-b0a1-6f6e23fae3c5"
      },
      "source": [
        "model.summary()"
      ],
      "execution_count": 45,
      "outputs": [
        {
          "output_type": "stream",
          "name": "stdout",
          "text": [
            "Model: \"model\"\n",
            "__________________________________________________________________________________________________\n",
            "Layer (type)                    Output Shape         Param #     Connected to                     \n",
            "==================================================================================================\n",
            "input_1 (InputLayer)            [(None, None, 186)]  0                                            \n",
            "__________________________________________________________________________________________________\n",
            "input_2 (InputLayer)            [(None, None, 35)]   0                                            \n",
            "__________________________________________________________________________________________________\n",
            "lstm (LSTM)                     [(None, 256), (None, 453632      input_1[0][0]                    \n",
            "__________________________________________________________________________________________________\n",
            "lstm_1 (LSTM)                   [(None, None, 256),  299008      input_2[0][0]                    \n",
            "                                                                 lstm[0][1]                       \n",
            "                                                                 lstm[0][2]                       \n",
            "__________________________________________________________________________________________________\n",
            "dense (Dense)                   (None, None, 35)     8995        lstm_1[0][0]                     \n",
            "==================================================================================================\n",
            "Total params: 761,635\n",
            "Trainable params: 761,635\n",
            "Non-trainable params: 0\n",
            "__________________________________________________________________________________________________\n"
          ]
        }
      ]
    },
    {
      "cell_type": "code",
      "metadata": {
        "colab": {
          "base_uri": "https://localhost:8080/",
          "height": 422
        },
        "id": "mfGcinDOYqKl",
        "outputId": "e9ffd585-a0dc-4589-d900-7f55ed42e45c"
      },
      "source": [
        "tf.keras.utils.plot_model(model, show_shapes=True, show_layer_names=True)"
      ],
      "execution_count": 46,
      "outputs": [
        {
          "output_type": "execute_result",
          "data": {
            "image/png": "[encoded data removed]",
            "text/plain": [
              "<IPython.core.display.Image object>"
            ]
          },
          "metadata": {},
          "execution_count": 46
        }
      ]
    },
    {
      "cell_type": "markdown",
      "metadata": {
        "id": "eMp54YzsOKwn"
      },
      "source": [
        "# Train"
      ]
    },
    {
      "cell_type": "code",
      "metadata": {
        "colab": {
          "base_uri": "https://localhost:8080/"
        },
        "id": "CbARhubxe2yA",
        "outputId": "908d673f-50c0-4b41-eafb-463b6bbe39c3"
      },
      "source": [
        "# Training\n",
        "batch_size = 64  # Batch size for training.\n",
        "epochs = 500  # Number of epochs to train for.\n",
        "initial_learning_rate = 0.001\n",
        "\n",
        "# Add callbacks:\n",
        "# 'EarlyStopping' to stop training when the model is not enhancing anymore\n",
        "# 'ModelCheckPoint' to always keep the model that has the best val_accuracy\n",
        "model_save_filename = \"model.h5\"\n",
        "\n",
        "model.compile(\n",
        "    optimizer=tf.keras.optimizers.RMSprop(learning_rate=initial_learning_rate), \n",
        "    loss='categorical_crossentropy', \n",
        "    metrics=['accuracy'])\n",
        "\n",
        "earlystopping_cb = EarlyStopping(\n",
        "    monitor=\"val_accuracy\",\n",
        "    mode=\"max\",\n",
        "    verbose=1,\n",
        "    patience=50, \n",
        "    restore_best_weights=True)\n",
        "\n",
        "mdlcheckpoint_cb = ModelCheckpoint(\n",
        "    model_save_filename, \n",
        "    monitor=\"val_accuracy\", \n",
        "    mode=\"max\",\n",
        "    verbose=1,\n",
        "    save_best_only=True\n",
        ")\n",
        "\n",
        "decay = initial_learning_rate / epochs\n",
        "def lr_time_based_decay(epoch, lr):\n",
        "    return lr * 1 / (1 + decay * epoch)\n",
        "lrscheduler_cb = tf.keras.callbacks.LearningRateScheduler(lr_time_based_decay)\n",
        "\n",
        "history = model.fit([encoder_input_data, decoder_input_data], decoder_target_data,\n",
        "          batch_size=batch_size, epochs=epochs,  validation_split=0.2, \n",
        "          callbacks=[earlystopping_cb, mdlcheckpoint_cb, lrscheduler_cb])"
      ],
      "execution_count": 47,
      "outputs": [
        {
          "output_type": "stream",
          "name": "stdout",
          "text": [
            "Epoch 1/500\n",
            "698/698 [==============================] - 19s 18ms/step - loss: 0.6020 - accuracy: 0.0405 - val_loss: 0.5021 - val_accuracy: 0.0317\n",
            "\n",
            "Epoch 00001: val_accuracy improved from -inf to 0.03171, saving model to model.h5\n",
            "Epoch 2/500\n",
            "698/698 [==============================] - 11s 16ms/step - loss: 0.5652 - accuracy: 0.0461 - val_loss: 0.5274 - val_accuracy: 0.0324\n",
            "\n",
            "Epoch 00002: val_accuracy improved from 0.03171 to 0.03239, saving model to model.h5\n",
            "Epoch 3/500\n",
            "698/698 [==============================] - 11s 16ms/step - loss: 0.5366 - accuracy: 0.0521 - val_loss: 0.4937 - val_accuracy: 0.0360\n",
            "\n",
            "Epoch 00003: val_accuracy improved from 0.03239 to 0.03596, saving model to model.h5\n",
            "Epoch 4/500\n",
            "698/698 [==============================] - 11s 16ms/step - loss: 0.5139 - accuracy: 0.0580 - val_loss: 0.5070 - val_accuracy: 0.0351\n",
            "\n",
            "Epoch 00004: val_accuracy did not improve from 0.03596\n",
            "Epoch 5/500\n",
            "698/698 [==============================] - 11s 16ms/step - loss: 0.4919 - accuracy: 0.0638 - val_loss: 0.4781 - val_accuracy: 0.0387\n",
            "\n",
            "Epoch 00005: val_accuracy improved from 0.03596 to 0.03868, saving model to model.h5\n",
            "Epoch 6/500\n",
            "698/698 [==============================] - 11s 16ms/step - loss: 0.4726 - accuracy: 0.0690 - val_loss: 0.4481 - val_accuracy: 0.0422\n",
            "\n",
            "Epoch 00006: val_accuracy improved from 0.03868 to 0.04220, saving model to model.h5\n",
            "Epoch 7/500\n",
            "698/698 [==============================] - 11s 16ms/step - loss: 0.4513 - accuracy: 0.0750 - val_loss: 0.4341 - val_accuracy: 0.0473\n",
            "\n",
            "Epoch 00007: val_accuracy improved from 0.04220 to 0.04730, saving model to model.h5\n",
            "Epoch 8/500\n",
            "698/698 [==============================] - 11s 16ms/step - loss: 0.4324 - accuracy: 0.0806 - val_loss: 0.4172 - val_accuracy: 0.0512\n",
            "\n",
            "Epoch 00008: val_accuracy improved from 0.04730 to 0.05116, saving model to model.h5\n",
            "Epoch 9/500\n",
            "698/698 [==============================] - 11s 16ms/step - loss: 0.4188 - accuracy: 0.0847 - val_loss: 0.4037 - val_accuracy: 0.0569\n",
            "\n",
            "Epoch 00009: val_accuracy improved from 0.05116 to 0.05690, saving model to model.h5\n",
            "Epoch 10/500\n",
            "698/698 [==============================] - 11s 16ms/step - loss: 0.4055 - accuracy: 0.0887 - val_loss: 0.3807 - val_accuracy: 0.0615\n",
            "\n",
            "Epoch 00010: val_accuracy improved from 0.05690 to 0.06152, saving model to model.h5\n",
            "Epoch 11/500\n",
            "698/698 [==============================] - 11s 16ms/step - loss: 0.3908 - accuracy: 0.0933 - val_loss: 0.3689 - val_accuracy: 0.0642\n",
            "\n",
            "Epoch 00011: val_accuracy improved from 0.06152 to 0.06419, saving model to model.h5\n",
            "Epoch 12/500\n",
            "698/698 [==============================] - 11s 16ms/step - loss: 0.3776 - accuracy: 0.0975 - val_loss: 0.3828 - val_accuracy: 0.0612\n",
            "\n",
            "Epoch 00012: val_accuracy did not improve from 0.06419\n",
            "Epoch 13/500\n",
            "698/698 [==============================] - 11s 16ms/step - loss: 0.3640 - accuracy: 0.1018 - val_loss: 0.3465 - val_accuracy: 0.0711\n",
            "\n",
            "Epoch 00013: val_accuracy improved from 0.06419 to 0.07110, saving model to model.h5\n",
            "Epoch 14/500\n",
            "698/698 [==============================] - 11s 16ms/step - loss: 0.3528 - accuracy: 0.1051 - val_loss: 0.3327 - val_accuracy: 0.0762\n",
            "\n",
            "Epoch 00014: val_accuracy improved from 0.07110 to 0.07617, saving model to model.h5\n",
            "Epoch 15/500\n",
            "698/698 [==============================] - 11s 16ms/step - loss: 0.3415 - accuracy: 0.1083 - val_loss: 0.3155 - val_accuracy: 0.0816\n",
            "\n",
            "Epoch 00015: val_accuracy improved from 0.07617 to 0.08163, saving model to model.h5\n",
            "Epoch 16/500\n",
            "698/698 [==============================] - 11s 16ms/step - loss: 0.3313 - accuracy: 0.1113 - val_loss: 0.3217 - val_accuracy: 0.0799\n",
            "\n",
            "Epoch 00016: val_accuracy did not improve from 0.08163\n",
            "Epoch 17/500\n",
            "698/698 [==============================] - 11s 16ms/step - loss: 0.3221 - accuracy: 0.1140 - val_loss: 0.3310 - val_accuracy: 0.0778\n",
            "\n",
            "Epoch 00017: val_accuracy did not improve from 0.08163\n",
            "Epoch 18/500\n",
            "698/698 [==============================] - 11s 16ms/step - loss: 0.3139 - accuracy: 0.1164 - val_loss: 0.3016 - val_accuracy: 0.0852\n",
            "\n",
            "Epoch 00018: val_accuracy improved from 0.08163 to 0.08519, saving model to model.h5\n",
            "Epoch 19/500\n",
            "698/698 [==============================] - 11s 16ms/step - loss: 0.3065 - accuracy: 0.1187 - val_loss: 0.2802 - val_accuracy: 0.0913\n",
            "\n",
            "Epoch 00019: val_accuracy improved from 0.08519 to 0.09126, saving model to model.h5\n",
            "Epoch 20/500\n",
            "698/698 [==============================] - 11s 16ms/step - loss: 0.2986 - accuracy: 0.1215 - val_loss: 0.2820 - val_accuracy: 0.0936\n",
            "\n",
            "Epoch 00020: val_accuracy improved from 0.09126 to 0.09357, saving model to model.h5\n",
            "Epoch 21/500\n",
            "698/698 [==============================] - 11s 16ms/step - loss: 0.2916 - accuracy: 0.1242 - val_loss: 0.2936 - val_accuracy: 0.0877\n",
            "\n",
            "Epoch 00021: val_accuracy did not improve from 0.09357\n",
            "Epoch 22/500\n",
            "698/698 [==============================] - 11s 16ms/step - loss: 0.2842 - accuracy: 0.1270 - val_loss: 0.2681 - val_accuracy: 0.0974\n",
            "\n",
            "Epoch 00022: val_accuracy improved from 0.09357 to 0.09739, saving model to model.h5\n",
            "Epoch 23/500\n",
            "698/698 [==============================] - 11s 16ms/step - loss: 0.2769 - accuracy: 0.1297 - val_loss: 0.2724 - val_accuracy: 0.0947\n",
            "\n",
            "Epoch 00023: val_accuracy did not improve from 0.09739\n",
            "Epoch 24/500\n",
            "698/698 [==============================] - 11s 16ms/step - loss: 0.2699 - accuracy: 0.1324 - val_loss: 0.2622 - val_accuracy: 0.1001\n",
            "\n",
            "Epoch 00024: val_accuracy improved from 0.09739 to 0.10006, saving model to model.h5\n",
            "Epoch 25/500\n",
            "698/698 [==============================] - 11s 16ms/step - loss: 0.2634 - accuracy: 0.1351 - val_loss: 0.2484 - val_accuracy: 0.1078\n",
            "\n",
            "Epoch 00025: val_accuracy improved from 0.10006 to 0.10778, saving model to model.h5\n",
            "Epoch 26/500\n",
            "698/698 [==============================] - 11s 16ms/step - loss: 0.2563 - accuracy: 0.1377 - val_loss: 0.2477 - val_accuracy: 0.1065\n",
            "\n",
            "Epoch 00026: val_accuracy did not improve from 0.10778\n",
            "Epoch 27/500\n",
            "698/698 [==============================] - 11s 16ms/step - loss: 0.2502 - accuracy: 0.1399 - val_loss: 0.2398 - val_accuracy: 0.1095\n",
            "\n",
            "Epoch 00027: val_accuracy improved from 0.10778 to 0.10949, saving model to model.h5\n",
            "Epoch 28/500\n",
            "698/698 [==============================] - 11s 16ms/step - loss: 0.2434 - accuracy: 0.1422 - val_loss: 0.2526 - val_accuracy: 0.1053\n",
            "\n",
            "Epoch 00028: val_accuracy did not improve from 0.10949\n",
            "Epoch 29/500\n",
            "698/698 [==============================] - 11s 16ms/step - loss: 0.2369 - accuracy: 0.1446 - val_loss: 0.2366 - val_accuracy: 0.1090\n",
            "\n",
            "Epoch 00029: val_accuracy did not improve from 0.10949\n",
            "Epoch 30/500\n",
            "698/698 [==============================] - 11s 16ms/step - loss: 0.2304 - accuracy: 0.1466 - val_loss: 0.2277 - val_accuracy: 0.1138\n",
            "\n",
            "Epoch 00030: val_accuracy improved from 0.10949 to 0.11377, saving model to model.h5\n",
            "Epoch 31/500\n",
            "698/698 [==============================] - 11s 16ms/step - loss: 0.2241 - accuracy: 0.1485 - val_loss: 0.2247 - val_accuracy: 0.1141\n",
            "\n",
            "Epoch 00031: val_accuracy improved from 0.11377 to 0.11406, saving model to model.h5\n",
            "Epoch 32/500\n",
            "698/698 [==============================] - 11s 16ms/step - loss: 0.2177 - accuracy: 0.1502 - val_loss: 0.2319 - val_accuracy: 0.1113\n",
            "\n",
            "Epoch 00032: val_accuracy did not improve from 0.11406\n",
            "Epoch 33/500\n",
            "698/698 [==============================] - 11s 16ms/step - loss: 0.2120 - accuracy: 0.1518 - val_loss: 0.2144 - val_accuracy: 0.1158\n",
            "\n",
            "Epoch 00033: val_accuracy improved from 0.11406 to 0.11577, saving model to model.h5\n",
            "Epoch 34/500\n",
            "698/698 [==============================] - 11s 16ms/step - loss: 0.2066 - accuracy: 0.1532 - val_loss: 0.2176 - val_accuracy: 0.1158\n",
            "\n",
            "Epoch 00034: val_accuracy improved from 0.11577 to 0.11581, saving model to model.h5\n",
            "Epoch 35/500\n",
            "698/698 [==============================] - 11s 16ms/step - loss: 0.2013 - accuracy: 0.1545 - val_loss: 0.2235 - val_accuracy: 0.1119\n",
            "\n",
            "Epoch 00035: val_accuracy did not improve from 0.11581\n",
            "Epoch 36/500\n",
            "698/698 [==============================] - 11s 16ms/step - loss: 0.1962 - accuracy: 0.1556 - val_loss: 0.2159 - val_accuracy: 0.1153\n",
            "\n",
            "Epoch 00036: val_accuracy did not improve from 0.11581\n",
            "Epoch 37/500\n",
            "698/698 [==============================] - 11s 16ms/step - loss: 0.1909 - accuracy: 0.1568 - val_loss: 0.2120 - val_accuracy: 0.1152\n",
            "\n",
            "Epoch 00037: val_accuracy did not improve from 0.11581\n",
            "Epoch 38/500\n",
            "698/698 [==============================] - 11s 16ms/step - loss: 0.1865 - accuracy: 0.1578 - val_loss: 0.2006 - val_accuracy: 0.1189\n",
            "\n",
            "Epoch 00038: val_accuracy improved from 0.11581 to 0.11894, saving model to model.h5\n",
            "Epoch 39/500\n",
            "698/698 [==============================] - 11s 16ms/step - loss: 0.1821 - accuracy: 0.1587 - val_loss: 0.2045 - val_accuracy: 0.1170\n",
            "\n",
            "Epoch 00039: val_accuracy did not improve from 0.11894\n",
            "Epoch 40/500\n",
            "698/698 [==============================] - 11s 16ms/step - loss: 0.1784 - accuracy: 0.1596 - val_loss: 0.2076 - val_accuracy: 0.1173\n",
            "\n",
            "Epoch 00040: val_accuracy did not improve from 0.11894\n",
            "Epoch 41/500\n",
            "698/698 [==============================] - 11s 16ms/step - loss: 0.1747 - accuracy: 0.1605 - val_loss: 0.2012 - val_accuracy: 0.1176\n",
            "\n",
            "Epoch 00041: val_accuracy did not improve from 0.11894\n",
            "Epoch 42/500\n",
            "698/698 [==============================] - 11s 16ms/step - loss: 0.1712 - accuracy: 0.1613 - val_loss: 0.1988 - val_accuracy: 0.1188\n",
            "\n",
            "Epoch 00042: val_accuracy did not improve from 0.11894\n",
            "Epoch 43/500\n",
            "698/698 [==============================] - 11s 16ms/step - loss: 0.1683 - accuracy: 0.1619 - val_loss: 0.1968 - val_accuracy: 0.1196\n",
            "\n",
            "Epoch 00043: val_accuracy improved from 0.11894 to 0.11957, saving model to model.h5\n",
            "Epoch 44/500\n",
            "698/698 [==============================] - 11s 16ms/step - loss: 0.1652 - accuracy: 0.1626 - val_loss: 0.1949 - val_accuracy: 0.1195\n",
            "\n",
            "Epoch 00044: val_accuracy did not improve from 0.11957\n",
            "Epoch 45/500\n",
            "698/698 [==============================] - 11s 16ms/step - loss: 0.1624 - accuracy: 0.1634 - val_loss: 0.1888 - val_accuracy: 0.1204\n",
            "\n",
            "Epoch 00045: val_accuracy improved from 0.11957 to 0.12037, saving model to model.h5\n",
            "Epoch 46/500\n",
            "698/698 [==============================] - 11s 16ms/step - loss: 0.1599 - accuracy: 0.1640 - val_loss: 0.1913 - val_accuracy: 0.1206\n",
            "\n",
            "Epoch 00046: val_accuracy improved from 0.12037 to 0.12059, saving model to model.h5\n",
            "Epoch 47/500\n",
            "698/698 [==============================] - 11s 16ms/step - loss: 0.1574 - accuracy: 0.1647 - val_loss: 0.1842 - val_accuracy: 0.1222\n",
            "\n",
            "Epoch 00047: val_accuracy improved from 0.12059 to 0.12219, saving model to model.h5\n",
            "Epoch 48/500\n",
            "698/698 [==============================] - 11s 16ms/step - loss: 0.1554 - accuracy: 0.1652 - val_loss: 0.1905 - val_accuracy: 0.1201\n",
            "\n",
            "Epoch 00048: val_accuracy did not improve from 0.12219\n",
            "Epoch 49/500\n",
            "698/698 [==============================] - 11s 16ms/step - loss: 0.1530 - accuracy: 0.1658 - val_loss: 0.1825 - val_accuracy: 0.1228\n",
            "\n",
            "Epoch 00049: val_accuracy improved from 0.12219 to 0.12276, saving model to model.h5\n",
            "Epoch 50/500\n",
            "698/698 [==============================] - 11s 16ms/step - loss: 0.1508 - accuracy: 0.1663 - val_loss: 0.1796 - val_accuracy: 0.1236\n",
            "\n",
            "Epoch 00050: val_accuracy improved from 0.12276 to 0.12364, saving model to model.h5\n",
            "Epoch 51/500\n",
            "698/698 [==============================] - 11s 16ms/step - loss: 0.1488 - accuracy: 0.1668 - val_loss: 0.1841 - val_accuracy: 0.1217\n",
            "\n",
            "Epoch 00051: val_accuracy did not improve from 0.12364\n",
            "Epoch 52/500\n",
            "698/698 [==============================] - 11s 16ms/step - loss: 0.1467 - accuracy: 0.1673 - val_loss: 0.1812 - val_accuracy: 0.1234\n",
            "\n",
            "Epoch 00052: val_accuracy did not improve from 0.12364\n",
            "Epoch 53/500\n",
            "698/698 [==============================] - 11s 16ms/step - loss: 0.1450 - accuracy: 0.1677 - val_loss: 0.1928 - val_accuracy: 0.1188\n",
            "\n",
            "Epoch 00053: val_accuracy did not improve from 0.12364\n",
            "Epoch 54/500\n",
            "698/698 [==============================] - 11s 16ms/step - loss: 0.1431 - accuracy: 0.1681 - val_loss: 0.1794 - val_accuracy: 0.1238\n",
            "\n",
            "Epoch 00054: val_accuracy improved from 0.12364 to 0.12379, saving model to model.h5\n",
            "Epoch 55/500\n",
            "698/698 [==============================] - 11s 16ms/step - loss: 0.1411 - accuracy: 0.1687 - val_loss: 0.1835 - val_accuracy: 0.1222\n",
            "\n",
            "Epoch 00055: val_accuracy did not improve from 0.12379\n",
            "Epoch 56/500\n",
            "698/698 [==============================] - 11s 16ms/step - loss: 0.1394 - accuracy: 0.1690 - val_loss: 0.1773 - val_accuracy: 0.1233\n",
            "\n",
            "Epoch 00056: val_accuracy did not improve from 0.12379\n",
            "Epoch 57/500\n",
            "698/698 [==============================] - 11s 16ms/step - loss: 0.1379 - accuracy: 0.1694 - val_loss: 0.1809 - val_accuracy: 0.1211\n",
            "\n",
            "Epoch 00057: val_accuracy did not improve from 0.12379\n",
            "Epoch 58/500\n",
            "698/698 [==============================] - 11s 16ms/step - loss: 0.1365 - accuracy: 0.1698 - val_loss: 0.1789 - val_accuracy: 0.1221\n",
            "\n",
            "Epoch 00058: val_accuracy did not improve from 0.12379\n",
            "Epoch 59/500\n",
            "698/698 [==============================] - 11s 16ms/step - loss: 0.1350 - accuracy: 0.1703 - val_loss: 0.1797 - val_accuracy: 0.1225\n",
            "\n",
            "Epoch 00059: val_accuracy did not improve from 0.12379\n",
            "Epoch 60/500\n",
            "698/698 [==============================] - 11s 16ms/step - loss: 0.1338 - accuracy: 0.1705 - val_loss: 0.1716 - val_accuracy: 0.1251\n",
            "\n",
            "Epoch 00060: val_accuracy improved from 0.12379 to 0.12506, saving model to model.h5\n",
            "Epoch 61/500\n",
            "698/698 [==============================] - 11s 16ms/step - loss: 0.1321 - accuracy: 0.1710 - val_loss: 0.1730 - val_accuracy: 0.1241\n",
            "\n",
            "Epoch 00061: val_accuracy did not improve from 0.12506\n",
            "Epoch 62/500\n",
            "698/698 [==============================] - 11s 16ms/step - loss: 0.1309 - accuracy: 0.1713 - val_loss: 0.1789 - val_accuracy: 0.1229\n",
            "\n",
            "Epoch 00062: val_accuracy did not improve from 0.12506\n",
            "Epoch 63/500\n",
            "698/698 [==============================] - 11s 16ms/step - loss: 0.1295 - accuracy: 0.1716 - val_loss: 0.1727 - val_accuracy: 0.1231\n",
            "\n",
            "Epoch 00063: val_accuracy did not improve from 0.12506\n",
            "Epoch 64/500\n",
            "698/698 [==============================] - 11s 16ms/step - loss: 0.1284 - accuracy: 0.1718 - val_loss: 0.1751 - val_accuracy: 0.1241\n",
            "\n",
            "Epoch 00064: val_accuracy did not improve from 0.12506\n",
            "Epoch 65/500\n",
            "698/698 [==============================] - 11s 16ms/step - loss: 0.1273 - accuracy: 0.1721 - val_loss: 0.1745 - val_accuracy: 0.1237\n",
            "\n",
            "Epoch 00065: val_accuracy did not improve from 0.12506\n",
            "Epoch 66/500\n",
            "698/698 [==============================] - 11s 16ms/step - loss: 0.1263 - accuracy: 0.1724 - val_loss: 0.1746 - val_accuracy: 0.1248\n",
            "\n",
            "Epoch 00066: val_accuracy did not improve from 0.12506\n",
            "Epoch 67/500\n",
            "698/698 [==============================] - 11s 16ms/step - loss: 0.1252 - accuracy: 0.1726 - val_loss: 0.1718 - val_accuracy: 0.1242\n",
            "\n",
            "Epoch 00067: val_accuracy did not improve from 0.12506\n",
            "Epoch 68/500\n",
            "698/698 [==============================] - 11s 16ms/step - loss: 0.1241 - accuracy: 0.1728 - val_loss: 0.1736 - val_accuracy: 0.1243\n",
            "\n",
            "Epoch 00068: val_accuracy did not improve from 0.12506\n",
            "Epoch 69/500\n",
            "698/698 [==============================] - 11s 16ms/step - loss: 0.1230 - accuracy: 0.1732 - val_loss: 0.1760 - val_accuracy: 0.1232\n",
            "\n",
            "Epoch 00069: val_accuracy did not improve from 0.12506\n",
            "Epoch 70/500\n",
            "698/698 [==============================] - 11s 16ms/step - loss: 0.1219 - accuracy: 0.1734 - val_loss: 0.1762 - val_accuracy: 0.1234\n",
            "\n",
            "Epoch 00070: val_accuracy did not improve from 0.12506\n",
            "Epoch 71/500\n",
            "698/698 [==============================] - 11s 16ms/step - loss: 0.1211 - accuracy: 0.1736 - val_loss: 0.1710 - val_accuracy: 0.1256\n",
            "\n",
            "Epoch 00071: val_accuracy improved from 0.12506 to 0.12556, saving model to model.h5\n",
            "Epoch 72/500\n",
            "698/698 [==============================] - 11s 16ms/step - loss: 0.1202 - accuracy: 0.1739 - val_loss: 0.1750 - val_accuracy: 0.1240\n",
            "\n",
            "Epoch 00072: val_accuracy did not improve from 0.12556\n",
            "Epoch 73/500\n",
            "698/698 [==============================] - 11s 16ms/step - loss: 0.1193 - accuracy: 0.1741 - val_loss: 0.1736 - val_accuracy: 0.1239\n",
            "\n",
            "Epoch 00073: val_accuracy did not improve from 0.12556\n",
            "Epoch 74/500\n",
            "698/698 [==============================] - 11s 16ms/step - loss: 0.1184 - accuracy: 0.1743 - val_loss: 0.1725 - val_accuracy: 0.1234\n",
            "\n",
            "Epoch 00074: val_accuracy did not improve from 0.12556\n",
            "Epoch 75/500\n",
            "698/698 [==============================] - 11s 16ms/step - loss: 0.1174 - accuracy: 0.1745 - val_loss: 0.1758 - val_accuracy: 0.1229\n",
            "\n",
            "Epoch 00075: val_accuracy did not improve from 0.12556\n",
            "Epoch 76/500\n",
            "698/698 [==============================] - 11s 16ms/step - loss: 0.1167 - accuracy: 0.1747 - val_loss: 0.1760 - val_accuracy: 0.1226\n",
            "\n",
            "Epoch 00076: val_accuracy did not improve from 0.12556\n",
            "Epoch 77/500\n",
            "698/698 [==============================] - 11s 16ms/step - loss: 0.1159 - accuracy: 0.1749 - val_loss: 0.1746 - val_accuracy: 0.1235\n",
            "\n",
            "Epoch 00077: val_accuracy did not improve from 0.12556\n",
            "Epoch 78/500\n",
            "698/698 [==============================] - 11s 16ms/step - loss: 0.1150 - accuracy: 0.1750 - val_loss: 0.1733 - val_accuracy: 0.1241\n",
            "\n",
            "Epoch 00078: val_accuracy did not improve from 0.12556\n",
            "Epoch 79/500\n",
            "698/698 [==============================] - 11s 16ms/step - loss: 0.1142 - accuracy: 0.1754 - val_loss: 0.1704 - val_accuracy: 0.1245\n",
            "\n",
            "Epoch 00079: val_accuracy did not improve from 0.12556\n",
            "Epoch 80/500\n",
            "698/698 [==============================] - 11s 16ms/step - loss: 0.1134 - accuracy: 0.1755 - val_loss: 0.1763 - val_accuracy: 0.1223\n",
            "\n",
            "Epoch 00080: val_accuracy did not improve from 0.12556\n",
            "Epoch 81/500\n",
            "698/698 [==============================] - 11s 16ms/step - loss: 0.1129 - accuracy: 0.1756 - val_loss: 0.1703 - val_accuracy: 0.1244\n",
            "\n",
            "Epoch 00081: val_accuracy did not improve from 0.12556\n",
            "Epoch 82/500\n",
            "698/698 [==============================] - 11s 16ms/step - loss: 0.1123 - accuracy: 0.1757 - val_loss: 0.1726 - val_accuracy: 0.1239\n",
            "\n",
            "Epoch 00082: val_accuracy did not improve from 0.12556\n",
            "Epoch 83/500\n",
            "698/698 [==============================] - 11s 16ms/step - loss: 0.1115 - accuracy: 0.1759 - val_loss: 0.1765 - val_accuracy: 0.1229\n",
            "\n",
            "Epoch 00083: val_accuracy did not improve from 0.12556\n",
            "Epoch 84/500\n",
            "698/698 [==============================] - 11s 16ms/step - loss: 0.1109 - accuracy: 0.1760 - val_loss: 0.1733 - val_accuracy: 0.1233\n",
            "\n",
            "Epoch 00084: val_accuracy did not improve from 0.12556\n",
            "Epoch 85/500\n",
            "698/698 [==============================] - 11s 16ms/step - loss: 0.1102 - accuracy: 0.1762 - val_loss: 0.1699 - val_accuracy: 0.1238\n",
            "\n",
            "Epoch 00085: val_accuracy did not improve from 0.12556\n",
            "Epoch 86/500\n",
            "698/698 [==============================] - 11s 16ms/step - loss: 0.1097 - accuracy: 0.1763 - val_loss: 0.1734 - val_accuracy: 0.1229\n",
            "\n",
            "Epoch 00086: val_accuracy did not improve from 0.12556\n",
            "Epoch 87/500\n",
            "698/698 [==============================] - 11s 16ms/step - loss: 0.1089 - accuracy: 0.1765 - val_loss: 0.1776 - val_accuracy: 0.1223\n",
            "\n",
            "Epoch 00087: val_accuracy did not improve from 0.12556\n",
            "Epoch 88/500\n",
            "698/698 [==============================] - 11s 16ms/step - loss: 0.1084 - accuracy: 0.1766 - val_loss: 0.1770 - val_accuracy: 0.1223\n",
            "\n",
            "Epoch 00088: val_accuracy did not improve from 0.12556\n",
            "Epoch 89/500\n",
            "698/698 [==============================] - 11s 16ms/step - loss: 0.1079 - accuracy: 0.1767 - val_loss: 0.1733 - val_accuracy: 0.1228\n",
            "\n",
            "Epoch 00089: val_accuracy did not improve from 0.12556\n",
            "Epoch 90/500\n",
            "698/698 [==============================] - 11s 16ms/step - loss: 0.1070 - accuracy: 0.1770 - val_loss: 0.1733 - val_accuracy: 0.1235\n",
            "\n",
            "Epoch 00090: val_accuracy did not improve from 0.12556\n",
            "Epoch 91/500\n",
            "698/698 [==============================] - 11s 16ms/step - loss: 0.1066 - accuracy: 0.1771 - val_loss: 0.1722 - val_accuracy: 0.1232\n",
            "\n",
            "Epoch 00091: val_accuracy did not improve from 0.12556\n",
            "Epoch 92/500\n",
            "698/698 [==============================] - 11s 16ms/step - loss: 0.1060 - accuracy: 0.1772 - val_loss: 0.1700 - val_accuracy: 0.1248\n",
            "\n",
            "Epoch 00092: val_accuracy did not improve from 0.12556\n",
            "Epoch 93/500\n",
            "698/698 [==============================] - 11s 16ms/step - loss: 0.1056 - accuracy: 0.1772 - val_loss: 0.1718 - val_accuracy: 0.1239\n",
            "\n",
            "Epoch 00093: val_accuracy did not improve from 0.12556\n",
            "Epoch 94/500\n",
            "698/698 [==============================] - 11s 16ms/step - loss: 0.1049 - accuracy: 0.1775 - val_loss: 0.1736 - val_accuracy: 0.1229\n",
            "\n",
            "Epoch 00094: val_accuracy did not improve from 0.12556\n",
            "Epoch 95/500\n",
            "698/698 [==============================] - 11s 16ms/step - loss: 0.1048 - accuracy: 0.1774 - val_loss: 0.1782 - val_accuracy: 0.1224\n",
            "\n",
            "Epoch 00095: val_accuracy did not improve from 0.12556\n",
            "Epoch 96/500\n",
            "698/698 [==============================] - 11s 16ms/step - loss: 0.1043 - accuracy: 0.1775 - val_loss: 0.1707 - val_accuracy: 0.1244\n",
            "\n",
            "Epoch 00096: val_accuracy did not improve from 0.12556\n",
            "Epoch 97/500\n",
            "698/698 [==============================] - 11s 16ms/step - loss: 0.1036 - accuracy: 0.1777 - val_loss: 0.1740 - val_accuracy: 0.1238\n",
            "\n",
            "Epoch 00097: val_accuracy did not improve from 0.12556\n",
            "Epoch 98/500\n",
            "698/698 [==============================] - 11s 16ms/step - loss: 0.1034 - accuracy: 0.1778 - val_loss: 0.1753 - val_accuracy: 0.1230\n",
            "\n",
            "Epoch 00098: val_accuracy did not improve from 0.12556\n",
            "Epoch 99/500\n",
            "698/698 [==============================] - 11s 16ms/step - loss: 0.1028 - accuracy: 0.1780 - val_loss: 0.1700 - val_accuracy: 0.1242\n",
            "\n",
            "Epoch 00099: val_accuracy did not improve from 0.12556\n",
            "Epoch 100/500\n",
            "698/698 [==============================] - 11s 16ms/step - loss: 0.1024 - accuracy: 0.1781 - val_loss: 0.1708 - val_accuracy: 0.1239\n",
            "\n",
            "Epoch 00100: val_accuracy did not improve from 0.12556\n",
            "Epoch 101/500\n",
            "698/698 [==============================] - 11s 16ms/step - loss: 0.1018 - accuracy: 0.1782 - val_loss: 0.1744 - val_accuracy: 0.1224\n",
            "\n",
            "Epoch 00101: val_accuracy did not improve from 0.12556\n",
            "Epoch 102/500\n",
            "698/698 [==============================] - 11s 16ms/step - loss: 0.1016 - accuracy: 0.1783 - val_loss: 0.1706 - val_accuracy: 0.1242\n",
            "\n",
            "Epoch 00102: val_accuracy did not improve from 0.12556\n",
            "Epoch 103/500\n",
            "698/698 [==============================] - 11s 16ms/step - loss: 0.1012 - accuracy: 0.1783 - val_loss: 0.1729 - val_accuracy: 0.1220\n",
            "\n",
            "Epoch 00103: val_accuracy did not improve from 0.12556\n",
            "Epoch 104/500\n",
            "698/698 [==============================] - 11s 16ms/step - loss: 0.1006 - accuracy: 0.1785 - val_loss: 0.1716 - val_accuracy: 0.1236\n",
            "\n",
            "Epoch 00104: val_accuracy did not improve from 0.12556\n",
            "Epoch 105/500\n",
            "698/698 [==============================] - 11s 16ms/step - loss: 0.1004 - accuracy: 0.1786 - val_loss: 0.1704 - val_accuracy: 0.1234\n",
            "\n",
            "Epoch 00105: val_accuracy did not improve from 0.12556\n",
            "Epoch 106/500\n",
            "698/698 [==============================] - 11s 16ms/step - loss: 0.0999 - accuracy: 0.1786 - val_loss: 0.1720 - val_accuracy: 0.1237\n",
            "\n",
            "Epoch 00106: val_accuracy did not improve from 0.12556\n",
            "Epoch 107/500\n",
            "698/698 [==============================] - 11s 16ms/step - loss: 0.0996 - accuracy: 0.1786 - val_loss: 0.1725 - val_accuracy: 0.1229\n",
            "\n",
            "Epoch 00107: val_accuracy did not improve from 0.12556\n",
            "Epoch 108/500\n",
            "698/698 [==============================] - 11s 16ms/step - loss: 0.0992 - accuracy: 0.1788 - val_loss: 0.1679 - val_accuracy: 0.1244\n",
            "\n",
            "Epoch 00108: val_accuracy did not improve from 0.12556\n",
            "Epoch 109/500\n",
            "698/698 [==============================] - 11s 16ms/step - loss: 0.0988 - accuracy: 0.1789 - val_loss: 0.1764 - val_accuracy: 0.1217\n",
            "\n",
            "Epoch 00109: val_accuracy did not improve from 0.12556\n",
            "Epoch 110/500\n",
            "698/698 [==============================] - 11s 16ms/step - loss: 0.0985 - accuracy: 0.1788 - val_loss: 0.1772 - val_accuracy: 0.1210\n",
            "\n",
            "Epoch 00110: val_accuracy did not improve from 0.12556\n",
            "Epoch 111/500\n",
            "698/698 [==============================] - 11s 16ms/step - loss: 0.0982 - accuracy: 0.1790 - val_loss: 0.1710 - val_accuracy: 0.1240\n",
            "\n",
            "Epoch 00111: val_accuracy did not improve from 0.12556\n",
            "Epoch 112/500\n",
            "698/698 [==============================] - 11s 16ms/step - loss: 0.0976 - accuracy: 0.1791 - val_loss: 0.1689 - val_accuracy: 0.1248\n",
            "\n",
            "Epoch 00112: val_accuracy did not improve from 0.12556\n",
            "Epoch 113/500\n",
            "698/698 [==============================] - 11s 16ms/step - loss: 0.0972 - accuracy: 0.1792 - val_loss: 0.1754 - val_accuracy: 0.1229\n",
            "\n",
            "Epoch 00113: val_accuracy did not improve from 0.12556\n",
            "Epoch 114/500\n",
            "698/698 [==============================] - 11s 16ms/step - loss: 0.0971 - accuracy: 0.1792 - val_loss: 0.1743 - val_accuracy: 0.1222\n",
            "\n",
            "Epoch 00114: val_accuracy did not improve from 0.12556\n",
            "Epoch 115/500\n",
            "698/698 [==============================] - 11s 16ms/step - loss: 0.0967 - accuracy: 0.1793 - val_loss: 0.1694 - val_accuracy: 0.1242\n",
            "\n",
            "Epoch 00115: val_accuracy did not improve from 0.12556\n",
            "Epoch 116/500\n",
            "698/698 [==============================] - 11s 16ms/step - loss: 0.0965 - accuracy: 0.1793 - val_loss: 0.1734 - val_accuracy: 0.1237\n",
            "\n",
            "Epoch 00116: val_accuracy did not improve from 0.12556\n",
            "Epoch 117/500\n",
            "698/698 [==============================] - 11s 16ms/step - loss: 0.0960 - accuracy: 0.1794 - val_loss: 0.1738 - val_accuracy: 0.1231\n",
            "\n",
            "Epoch 00117: val_accuracy did not improve from 0.12556\n",
            "Epoch 118/500\n",
            "698/698 [==============================] - 11s 16ms/step - loss: 0.0957 - accuracy: 0.1795 - val_loss: 0.1693 - val_accuracy: 0.1246\n",
            "\n",
            "Epoch 00118: val_accuracy did not improve from 0.12556\n",
            "Epoch 119/500\n",
            "698/698 [==============================] - 11s 16ms/step - loss: 0.0951 - accuracy: 0.1797 - val_loss: 0.1719 - val_accuracy: 0.1231\n",
            "\n",
            "Epoch 00119: val_accuracy did not improve from 0.12556\n",
            "Epoch 120/500\n",
            "698/698 [==============================] - 12s 17ms/step - loss: 0.0949 - accuracy: 0.1797 - val_loss: 0.1718 - val_accuracy: 0.1238\n",
            "\n",
            "Epoch 00120: val_accuracy did not improve from 0.12556\n",
            "Epoch 121/500\n",
            "698/698 [==============================] - 11s 16ms/step - loss: 0.0947 - accuracy: 0.1797 - val_loss: 0.1742 - val_accuracy: 0.1227\n",
            "Restoring model weights from the end of the best epoch.\n",
            "\n",
            "Epoch 00121: val_accuracy did not improve from 0.12556\n",
            "Epoch 00121: early stopping\n"
          ]
        }
      ]
    },
    {
      "cell_type": "code",
      "metadata": {
        "colab": {
          "base_uri": "https://localhost:8080/"
        },
        "id": "OAvJi9RndsTf",
        "outputId": "58f86a4a-5706-491f-f2ed-c8b5f3de0a9a"
      },
      "source": [
        "# list all data in history\n",
        "print(history.history.keys())"
      ],
      "execution_count": 48,
      "outputs": [
        {
          "output_type": "stream",
          "name": "stdout",
          "text": [
            "dict_keys(['loss', 'accuracy', 'val_loss', 'val_accuracy', 'lr'])\n"
          ]
        }
      ]
    },
    {
      "cell_type": "code",
      "metadata": {
        "colab": {
          "base_uri": "https://localhost:8080/",
          "height": 295
        },
        "id": "CRUKMJidtBC2",
        "outputId": "55a49e5f-9fd1-474c-8936-7d56a3a0e3d0"
      },
      "source": [
        "# summarize history for accuracy\n",
        "plt.plot(history.history['accuracy'])\n",
        "plt.plot(history.history['val_accuracy'])\n",
        "plt.title('model accuracy')\n",
        "plt.ylabel('accuracy')\n",
        "plt.xlabel('epoch')\n",
        "plt.legend(['train', 'validation'], loc='upper left')\n",
        "plt.show()"
      ],
      "execution_count": 49,
      "outputs": [
        {
          "output_type": "display_data",
          "data": {
            "image/png": "[encoded data removed]",
            "text/plain": [
              "<Figure size 432x288 with 1 Axes>"
            ]
          },
          "metadata": {
            "needs_background": "light"
          }
        }
      ]
    },
    {
      "cell_type": "code",
      "metadata": {
        "colab": {
          "base_uri": "https://localhost:8080/",
          "height": 295
        },
        "id": "arLbJGpHa-JC",
        "outputId": "0967cda6-ad15-412a-ab43-14ef4df0db7f"
      },
      "source": [
        "# summarize history for loss\n",
        "plt.plot(history.history['loss'])\n",
        "plt.plot(history.history['val_loss'])\n",
        "plt.title('model loss')\n",
        "plt.ylabel('loss')\n",
        "plt.xlabel('epoch')\n",
        "plt.legend(['train', 'validation'], loc='upper left')\n",
        "plt.show()"
      ],
      "execution_count": 50,
      "outputs": [
        {
          "output_type": "display_data",
          "data": {
            "image/png": "[encoded data removed]",
            "text/plain": [
              "<Figure size 432x288 with 1 Axes>"
            ]
          },
          "metadata": {
            "needs_background": "light"
          }
        }
      ]
    },
    {
      "cell_type": "code",
      "metadata": {
        "colab": {
          "base_uri": "https://localhost:8080/"
        },
        "id": "Rmx3_vQbfh7J",
        "outputId": "fbcaae1f-6ba5-4e7d-e620-7ac6e18d43c2"
      },
      "source": [
        "%ls -ltr"
      ],
      "execution_count": 51,
      "outputs": [
        {
          "output_type": "stream",
          "name": "stdout",
          "text": [
            "total 22836\n",
            "-rw------- 1 root root 3898148 Sep 14 19:57 affidavits.csv\n",
            "-rw------- 1 root root  813709 Sep 14 22:38 players_with_hindi_names.json\n",
            "-rw------- 1 root root 5006688 Sep 17 01:54 s2s.h5\n",
            "-rw------- 1 root root 6128992 Sep 19 21:17 model_v1.h5\n",
            "-rw------- 1 root root 1326377 Sep 20 22:52 hi.translit.sampled.train.tsv\n",
            "-rw------- 1 root root   34049 Sep 20 23:28 model_plot_dec.png\n",
            "-rw------- 1 root root   36980 Sep 21 18:50 model.png\n",
            "-rw------- 1 root root 6137184 Sep 21 19:04 model.h5\n"
          ]
        }
      ]
    },
    {
      "cell_type": "code",
      "metadata": {
        "colab": {
          "base_uri": "https://localhost:8080/"
        },
        "id": "vm5myRi5tOKl",
        "outputId": "bdeae80e-3831-4abd-8785-3acd535690f8"
      },
      "source": [
        "!du -sh model.h5"
      ],
      "execution_count": 52,
      "outputs": [
        {
          "output_type": "stream",
          "name": "stdout",
          "text": [
            "5.9M\tmodel.h5\n"
          ]
        }
      ]
    },
    {
      "cell_type": "markdown",
      "metadata": {
        "id": "qFGXM_d7OOm-"
      },
      "source": [
        "# Inference"
      ]
    },
    {
      "cell_type": "code",
      "metadata": {
        "id": "ICjit4jSOU4O"
      },
      "source": [
        "# Restore the model and construct the encoder and decoder.\n",
        "model = load_model(model_save_filename)\n",
        "# model = load_model(\"model_v1.h5\")"
      ],
      "execution_count": 53,
      "outputs": []
    },
    {
      "cell_type": "code",
      "metadata": {
        "id": "7ZowNfcXmWlL"
      },
      "source": [
        "# Predictions\n",
        "encoder_inputs = model.input[0]  # input_1\n",
        "encoder_outputs, state_h_enc, state_c_enc = model.layers[2].output  # lstm_1\n",
        "encoder_states = [state_h_enc, state_c_enc]\n",
        "\n",
        "encoder_model = Model(encoder_inputs, encoder_states)\n",
        "\n",
        "decoder_inputs = model.input[1]  # input_2\n",
        "decoder_state_input_h = Input(shape=(latent_dim,))\n",
        "decoder_state_input_c = Input(shape=(latent_dim,))\n",
        "decoder_states_inputs = [decoder_state_input_h, decoder_state_input_c]\n",
        "\n",
        "decoder_lstm = model.layers[3]\n",
        "decoder_outputs, state_h_dec, state_c_dec = decoder_lstm(\n",
        "    decoder_inputs, initial_state=decoder_states_inputs\n",
        ")\n",
        "\n",
        "decoder_states = [state_h_dec, state_c_dec]\n",
        "\n",
        "decoder_dense = model.layers[4]\n",
        "decoder_outputs = decoder_dense(decoder_outputs)\n",
        "\n",
        "decoder_model = Model(\n",
        "    [decoder_inputs] + decoder_states_inputs,\n",
        "    [decoder_outputs] + decoder_states\n",
        ")"
      ],
      "execution_count": 54,
      "outputs": []
    },
    {
      "cell_type": "code",
      "metadata": {
        "id": "P-waZOKNPJaS"
      },
      "source": [
        "# Reverse-lookup token index to decode sequences back to\n",
        "# something readable.\n",
        "reverse_input_char_index = dict((i, char) for char, i in input_token_index.items())\n",
        "reverse_target_char_index = dict((i, char) for char, i in target_token_index.items())"
      ],
      "execution_count": 55,
      "outputs": []
    },
    {
      "cell_type": "code",
      "metadata": {
        "colab": {
          "base_uri": "https://localhost:8080/",
          "height": 312
        },
        "id": "90myy-NNvctl",
        "outputId": "cbcab1aa-d946-46c3-abdc-90a4b72e7b21"
      },
      "source": [
        "tf.keras.utils.plot_model(decoder_model, to_file='model_plot_dec.png', show_shapes=True, show_layer_names=True)"
      ],
      "execution_count": 56,
      "outputs": [
        {
          "output_type": "execute_result",
          "data": {
            "image/png": "[encoded data removed]",
            "text/plain": [
              "<IPython.core.display.Image object>"
            ]
          },
          "metadata": {},
          "execution_count": 56
        }
      ]
    },
    {
      "cell_type": "code",
      "metadata": {
        "id": "CP-O29K3zeut"
      },
      "source": [
        "def predict_target(input_string):\n",
        "  # convert for encoding \n",
        "  input_data = np.zeros((1, max_encoder_seq_length, num_encoder_tokens), dtype='float32')\n",
        "  for t, char in enumerate(input_string):\n",
        "    input_data[0, t, input_token_index[char]] = 1.\n",
        "\n",
        "  # Encode the input as state vectors.\n",
        "  states_value = encoder_model(input_data)\n",
        "\n",
        "   # Generate empty target sequence of length 1.\n",
        "  target_seq = np.zeros((1, 1, num_decoder_tokens), dtype='float32')\n",
        "  # Populate the first character of target sequence with the start character.\n",
        "  target_seq[0, 0, target_token_index['^']] = 1.0\n",
        "\n",
        "  stop_condition = False\n",
        "  decoded_sentence = \"\"\n",
        "\n",
        "  while True:\n",
        "    output_tokens, d_h, d_c = decoder_model.predict([target_seq] + states_value)\n",
        "    # Sample a token\n",
        "    sampled_token_index = np.argmax(output_tokens[0, -1, :])\n",
        "    sampled_char = reverse_target_char_index[sampled_token_index]\n",
        "\n",
        "    # Exit condition: either hit max length\n",
        "    # or find stop character.\n",
        "    if sampled_char == \"$\" or len(decoded_sentence) > max_decoder_seq_length:\n",
        "      break\n",
        "      \n",
        "    decoded_sentence += sampled_char\n",
        "\n",
        "    # Update the target sequence (of length 1).\n",
        "    target_seq = np.zeros((1, 1, num_decoder_tokens))\n",
        "    target_seq[0, 0, sampled_token_index] = 1.0\n",
        "\n",
        "    # Update states\n",
        "    states_value = [d_h, d_c]\n",
        "  return decoded_sentence"
      ],
      "execution_count": 57,
      "outputs": []
    },
    {
      "cell_type": "code",
      "metadata": {
        "id": "0O9eWBgtvGeM",
        "colab": {
          "base_uri": "https://localhost:8080/",
          "height": 35
        },
        "outputId": "4666210f-c9a2-4da2-ff45-3d543fd863b1"
      },
      "source": [
        "test_input = 'राजशेखर'\n",
        "predicted_string = predict_target(test_input)\n",
        "predicted_string"
      ],
      "execution_count": 58,
      "outputs": [
        {
          "output_type": "execute_result",
          "data": {
            "application/vnd.google.colaboratory.intrinsic+json": {
              "type": "string"
            },
            "text/plain": [
              "'rajasekhar'"
            ]
          },
          "metadata": {},
          "execution_count": 58
        }
      ]
    },
    {
      "cell_type": "code",
      "metadata": {
        "colab": {
          "base_uri": "https://localhost:8080/",
          "height": 35
        },
        "id": "Uy2yjJXZ0MdK",
        "outputId": "c05781db-9ccd-47a5-9c60-cdfbc22ded8b"
      },
      "source": [
        "test_input = 'गौरव सूद'\n",
        "predicted_string = predict_target(test_input)\n",
        "predicted_string"
      ],
      "execution_count": 59,
      "outputs": [
        {
          "output_type": "execute_result",
          "data": {
            "application/vnd.google.colaboratory.intrinsic+json": {
              "type": "string"
            },
            "text/plain": [
              "'goura batho'"
            ]
          },
          "metadata": {},
          "execution_count": 59
        }
      ]
    },
    {
      "cell_type": "code",
      "metadata": {
        "colab": {
          "base_uri": "https://localhost:8080/",
          "height": 35
        },
        "id": "q8W7E0Kzka0e",
        "outputId": "0fd5852b-839d-49d3-893b-f6d83cd37524"
      },
      "source": [
        "test_input = 'सूद'\n",
        "predicted_string = predict_target(test_input)\n",
        "predicted_string"
      ],
      "execution_count": 60,
      "outputs": [
        {
          "output_type": "execute_result",
          "data": {
            "application/vnd.google.colaboratory.intrinsic+json": {
              "type": "string"
            },
            "text/plain": [
              "'sodh'"
            ]
          },
          "metadata": {},
          "execution_count": 60
        }
      ]
    },
    {
      "cell_type": "code",
      "metadata": {
        "id": "NeUfRfSlyGX4"
      },
      "source": [
        ""
      ],
      "execution_count": null,
      "outputs": []
    }
  ]
}